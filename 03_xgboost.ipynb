{
 "cells": [
  {
   "cell_type": "code",
   "execution_count": 1,
   "metadata": {},
   "outputs": [],
   "source": [
    "import numpy as np"
   ]
  },
  {
   "cell_type": "code",
   "execution_count": 2,
   "metadata": {},
   "outputs": [],
   "source": [
    "from sklearn.metrics import make_scorer"
   ]
  },
  {
   "cell_type": "code",
   "execution_count": 3,
   "metadata": {},
   "outputs": [],
   "source": [
    "from sklearn.ensemble import RandomForestClassifier\n",
    "import xgboost as xgb"
   ]
  },
  {
   "cell_type": "code",
   "execution_count": 4,
   "metadata": {},
   "outputs": [],
   "source": [
    "import pandas as pd\n",
    "from sklearn.model_selection import train_test_split\n",
    "from sklearn.metrics import roc_auc_score\n",
    "import category_encoders"
   ]
  },
  {
   "cell_type": "code",
   "execution_count": 5,
   "metadata": {},
   "outputs": [],
   "source": [
    "import xgboost as xgb"
   ]
  },
  {
   "cell_type": "code",
   "execution_count": 6,
   "metadata": {},
   "outputs": [],
   "source": [
    "from sklearn.model_selection import GridSearchCV"
   ]
  },
  {
   "cell_type": "code",
   "execution_count": 7,
   "metadata": {},
   "outputs": [],
   "source": [
    "import pandas as pd"
   ]
  },
  {
   "cell_type": "code",
   "execution_count": 8,
   "metadata": {},
   "outputs": [],
   "source": [
    "predict = pd.read_csv('trocafone_kaggle_test.csv')"
   ]
  },
  {
   "cell_type": "code",
   "execution_count": 9,
   "metadata": {},
   "outputs": [],
   "source": [
    "a_predecir = pd.read_csv('labels_training_set.csv')"
   ]
  },
  {
   "cell_type": "code",
   "execution_count": 38,
   "metadata": {},
   "outputs": [],
   "source": [
    "processed = pd.read_csv('features_01.csv')"
   ]
  },
  {
   "cell_type": "code",
   "execution_count": 39,
   "metadata": {},
   "outputs": [
    {
     "data": {
      "text/html": [
       "<div>\n",
       "<style scoped>\n",
       "    .dataframe tbody tr th:only-of-type {\n",
       "        vertical-align: middle;\n",
       "    }\n",
       "\n",
       "    .dataframe tbody tr th {\n",
       "        vertical-align: top;\n",
       "    }\n",
       "\n",
       "    .dataframe thead th {\n",
       "        text-align: right;\n",
       "    }\n",
       "</style>\n",
       "<table border=\"1\" class=\"dataframe\">\n",
       "  <thead>\n",
       "    <tr style=\"text-align: right;\">\n",
       "      <th></th>\n",
       "      <th>mayor_evento</th>\n",
       "      <th>prod_visto</th>\n",
       "      <th>dispos</th>\n",
       "      <th>compras</th>\n",
       "      <th>visitas</th>\n",
       "      <th>cant_prod_vistos</th>\n",
       "      <th>primer_visita</th>\n",
       "      <th>ultima_visita</th>\n",
       "      <th>cant_eventos</th>\n",
       "      <th>permanencia</th>\n",
       "      <th>hace_cuanto_visito</th>\n",
       "      <th>eventos_por_dia</th>\n",
       "      <th>channel</th>\n",
       "      <th>visitas_por_dia</th>\n",
       "    </tr>\n",
       "    <tr>\n",
       "      <th>person</th>\n",
       "      <th></th>\n",
       "      <th></th>\n",
       "      <th></th>\n",
       "      <th></th>\n",
       "      <th></th>\n",
       "      <th></th>\n",
       "      <th></th>\n",
       "      <th></th>\n",
       "      <th></th>\n",
       "      <th></th>\n",
       "      <th></th>\n",
       "      <th></th>\n",
       "      <th></th>\n",
       "      <th></th>\n",
       "    </tr>\n",
       "  </thead>\n",
       "  <tbody>\n",
       "    <tr>\n",
       "      <th>0008ed71</th>\n",
       "      <td>checkout</td>\n",
       "      <td>Ninguno</td>\n",
       "      <td>Computer</td>\n",
       "      <td>0</td>\n",
       "      <td>2</td>\n",
       "      <td>0</td>\n",
       "      <td>2018-05-17 12:27:47</td>\n",
       "      <td>2018-05-17 16:28:37</td>\n",
       "      <td>6</td>\n",
       "      <td>1</td>\n",
       "      <td>14</td>\n",
       "      <td>6.0</td>\n",
       "      <td>Referral</td>\n",
       "      <td>2.000000</td>\n",
       "    </tr>\n",
       "    <tr>\n",
       "      <th>00091926</th>\n",
       "      <td>viewed product</td>\n",
       "      <td>iPhone 6S</td>\n",
       "      <td>Computer</td>\n",
       "      <td>0</td>\n",
       "      <td>34</td>\n",
       "      <td>372</td>\n",
       "      <td>2018-05-03 22:08:29</td>\n",
       "      <td>2018-05-31 19:52:03</td>\n",
       "      <td>448</td>\n",
       "      <td>28</td>\n",
       "      <td>0</td>\n",
       "      <td>16.0</td>\n",
       "      <td>Direct</td>\n",
       "      <td>1.214286</td>\n",
       "    </tr>\n",
       "    <tr>\n",
       "      <th>00091a7a</th>\n",
       "      <td>brand listing</td>\n",
       "      <td>iPhone 6S</td>\n",
       "      <td>Smartphone</td>\n",
       "      <td>0</td>\n",
       "      <td>1</td>\n",
       "      <td>3</td>\n",
       "      <td>2018-03-26 14:51:11</td>\n",
       "      <td>2018-03-26 14:56:58</td>\n",
       "      <td>10</td>\n",
       "      <td>1</td>\n",
       "      <td>66</td>\n",
       "      <td>10.0</td>\n",
       "      <td>Paid</td>\n",
       "      <td>1.000000</td>\n",
       "    </tr>\n",
       "    <tr>\n",
       "      <th>000ba417</th>\n",
       "      <td>viewed product</td>\n",
       "      <td>Samsung Galaxy A3 Duos</td>\n",
       "      <td>Computer</td>\n",
       "      <td>1</td>\n",
       "      <td>6</td>\n",
       "      <td>153</td>\n",
       "      <td>2018-05-17 11:11:45</td>\n",
       "      <td>2018-05-26 13:09:22</td>\n",
       "      <td>206</td>\n",
       "      <td>10</td>\n",
       "      <td>5</td>\n",
       "      <td>20.6</td>\n",
       "      <td>Direct</td>\n",
       "      <td>0.600000</td>\n",
       "    </tr>\n",
       "    <tr>\n",
       "      <th>000c79fe</th>\n",
       "      <td>searched products</td>\n",
       "      <td>iPhone 7</td>\n",
       "      <td>Smartphone</td>\n",
       "      <td>0</td>\n",
       "      <td>1</td>\n",
       "      <td>3</td>\n",
       "      <td>2018-05-29 00:27:47</td>\n",
       "      <td>2018-05-29 00:38:07</td>\n",
       "      <td>17</td>\n",
       "      <td>1</td>\n",
       "      <td>2</td>\n",
       "      <td>17.0</td>\n",
       "      <td>Paid</td>\n",
       "      <td>1.000000</td>\n",
       "    </tr>\n",
       "  </tbody>\n",
       "</table>\n",
       "</div>"
      ],
      "text/plain": [
       "               mayor_evento              prod_visto      dispos  compras  \\\n",
       "person                                                                     \n",
       "0008ed71           checkout                 Ninguno    Computer        0   \n",
       "00091926     viewed product               iPhone 6S    Computer        0   \n",
       "00091a7a      brand listing               iPhone 6S  Smartphone        0   \n",
       "000ba417     viewed product  Samsung Galaxy A3 Duos    Computer        1   \n",
       "000c79fe  searched products                iPhone 7  Smartphone        0   \n",
       "\n",
       "          visitas  cant_prod_vistos        primer_visita        ultima_visita  \\\n",
       "person                                                                          \n",
       "0008ed71        2                 0  2018-05-17 12:27:47  2018-05-17 16:28:37   \n",
       "00091926       34               372  2018-05-03 22:08:29  2018-05-31 19:52:03   \n",
       "00091a7a        1                 3  2018-03-26 14:51:11  2018-03-26 14:56:58   \n",
       "000ba417        6               153  2018-05-17 11:11:45  2018-05-26 13:09:22   \n",
       "000c79fe        1                 3  2018-05-29 00:27:47  2018-05-29 00:38:07   \n",
       "\n",
       "          cant_eventos  permanencia  hace_cuanto_visito  eventos_por_dia  \\\n",
       "person                                                                     \n",
       "0008ed71             6            1                  14              6.0   \n",
       "00091926           448           28                   0             16.0   \n",
       "00091a7a            10            1                  66             10.0   \n",
       "000ba417           206           10                   5             20.6   \n",
       "000c79fe            17            1                   2             17.0   \n",
       "\n",
       "           channel  visitas_por_dia  \n",
       "person                               \n",
       "0008ed71  Referral         2.000000  \n",
       "00091926    Direct         1.214286  \n",
       "00091a7a      Paid         1.000000  \n",
       "000ba417    Direct         0.600000  \n",
       "000c79fe      Paid         1.000000  "
      ]
     },
     "execution_count": 39,
     "metadata": {},
     "output_type": "execute_result"
    }
   ],
   "source": [
    "processed = processed.set_index('person')\n",
    "processed.head()"
   ]
  },
  {
   "cell_type": "code",
   "execution_count": 41,
   "metadata": {},
   "outputs": [],
   "source": [
    "predict_features = processed.loc[processed.index.isin(predict['person'])].drop(['primer_visita','ultima_visita'],axis=1)"
   ]
  },
  {
   "cell_type": "code",
   "execution_count": 42,
   "metadata": {},
   "outputs": [
    {
     "name": "stderr",
     "output_type": "stream",
     "text": [
      "/home/javier/.local/lib/python3.6/site-packages/ipykernel_launcher.py:2: SettingWithCopyWarning: \n",
      "A value is trying to be set on a copy of a slice from a DataFrame.\n",
      "Try using .loc[row_indexer,col_indexer] = value instead\n",
      "\n",
      "See the caveats in the documentation: http://pandas.pydata.org/pandas-docs/stable/indexing.html#indexing-view-versus-copy\n",
      "  \n"
     ]
    }
   ],
   "source": [
    "training_features = processed.loc[processed.index.isin(a_predecir['person'])]\n",
    "training_features['label'] = a_predecir.set_index('person')['label']\n",
    "\n",
    "\n",
    "training_labels = training_features['label']\n",
    "training_features = training_features.drop(['primer_visita','ultima_visita','label'],axis=1)"
   ]
  },
  {
   "cell_type": "code",
   "execution_count": 43,
   "metadata": {},
   "outputs": [
    {
     "data": {
      "text/html": [
       "<div>\n",
       "<style scoped>\n",
       "    .dataframe tbody tr th:only-of-type {\n",
       "        vertical-align: middle;\n",
       "    }\n",
       "\n",
       "    .dataframe tbody tr th {\n",
       "        vertical-align: top;\n",
       "    }\n",
       "\n",
       "    .dataframe thead th {\n",
       "        text-align: right;\n",
       "    }\n",
       "</style>\n",
       "<table border=\"1\" class=\"dataframe\">\n",
       "  <thead>\n",
       "    <tr style=\"text-align: right;\">\n",
       "      <th></th>\n",
       "      <th>mayor_evento</th>\n",
       "      <th>prod_visto</th>\n",
       "      <th>dispos</th>\n",
       "      <th>compras</th>\n",
       "      <th>visitas</th>\n",
       "      <th>cant_prod_vistos</th>\n",
       "      <th>cant_eventos</th>\n",
       "      <th>permanencia</th>\n",
       "      <th>hace_cuanto_visito</th>\n",
       "      <th>eventos_por_dia</th>\n",
       "      <th>channel</th>\n",
       "      <th>visitas_por_dia</th>\n",
       "    </tr>\n",
       "    <tr>\n",
       "      <th>person</th>\n",
       "      <th></th>\n",
       "      <th></th>\n",
       "      <th></th>\n",
       "      <th></th>\n",
       "      <th></th>\n",
       "      <th></th>\n",
       "      <th></th>\n",
       "      <th></th>\n",
       "      <th></th>\n",
       "      <th></th>\n",
       "      <th></th>\n",
       "      <th></th>\n",
       "    </tr>\n",
       "  </thead>\n",
       "  <tbody>\n",
       "    <tr>\n",
       "      <th>0008ed71</th>\n",
       "      <td>checkout</td>\n",
       "      <td>Ninguno</td>\n",
       "      <td>Computer</td>\n",
       "      <td>0</td>\n",
       "      <td>2</td>\n",
       "      <td>0</td>\n",
       "      <td>6</td>\n",
       "      <td>1</td>\n",
       "      <td>14</td>\n",
       "      <td>6.000000</td>\n",
       "      <td>Referral</td>\n",
       "      <td>2.000000</td>\n",
       "    </tr>\n",
       "    <tr>\n",
       "      <th>000c79fe</th>\n",
       "      <td>searched products</td>\n",
       "      <td>iPhone 7</td>\n",
       "      <td>Smartphone</td>\n",
       "      <td>0</td>\n",
       "      <td>1</td>\n",
       "      <td>3</td>\n",
       "      <td>17</td>\n",
       "      <td>1</td>\n",
       "      <td>2</td>\n",
       "      <td>17.000000</td>\n",
       "      <td>Paid</td>\n",
       "      <td>1.000000</td>\n",
       "    </tr>\n",
       "    <tr>\n",
       "      <th>001802e4</th>\n",
       "      <td>ad campaign hit</td>\n",
       "      <td>iPhone 6S</td>\n",
       "      <td>Smartphone</td>\n",
       "      <td>0</td>\n",
       "      <td>1</td>\n",
       "      <td>4</td>\n",
       "      <td>19</td>\n",
       "      <td>1</td>\n",
       "      <td>0</td>\n",
       "      <td>19.000000</td>\n",
       "      <td>Paid</td>\n",
       "      <td>1.000000</td>\n",
       "    </tr>\n",
       "    <tr>\n",
       "      <th>0019e639</th>\n",
       "      <td>viewed product</td>\n",
       "      <td>Motorola Moto G2 3G Dual</td>\n",
       "      <td>Computer</td>\n",
       "      <td>2</td>\n",
       "      <td>19</td>\n",
       "      <td>189</td>\n",
       "      <td>471</td>\n",
       "      <td>115</td>\n",
       "      <td>9</td>\n",
       "      <td>4.095652</td>\n",
       "      <td>Paid</td>\n",
       "      <td>0.165217</td>\n",
       "    </tr>\n",
       "    <tr>\n",
       "      <th>001b0bf9</th>\n",
       "      <td>checkout</td>\n",
       "      <td>Samsung Galaxy S8 Plus</td>\n",
       "      <td>Ninguno</td>\n",
       "      <td>1</td>\n",
       "      <td>0</td>\n",
       "      <td>2</td>\n",
       "      <td>7</td>\n",
       "      <td>1</td>\n",
       "      <td>9</td>\n",
       "      <td>7.000000</td>\n",
       "      <td>Ninguno</td>\n",
       "      <td>0.000000</td>\n",
       "    </tr>\n",
       "  </tbody>\n",
       "</table>\n",
       "</div>"
      ],
      "text/plain": [
       "               mayor_evento                prod_visto      dispos  compras  \\\n",
       "person                                                                       \n",
       "0008ed71           checkout                   Ninguno    Computer        0   \n",
       "000c79fe  searched products                  iPhone 7  Smartphone        0   \n",
       "001802e4    ad campaign hit                 iPhone 6S  Smartphone        0   \n",
       "0019e639     viewed product  Motorola Moto G2 3G Dual    Computer        2   \n",
       "001b0bf9           checkout    Samsung Galaxy S8 Plus     Ninguno        1   \n",
       "\n",
       "          visitas  cant_prod_vistos  cant_eventos  permanencia  \\\n",
       "person                                                           \n",
       "0008ed71        2                 0             6            1   \n",
       "000c79fe        1                 3            17            1   \n",
       "001802e4        1                 4            19            1   \n",
       "0019e639       19               189           471          115   \n",
       "001b0bf9        0                 2             7            1   \n",
       "\n",
       "          hace_cuanto_visito  eventos_por_dia   channel  visitas_por_dia  \n",
       "person                                                                    \n",
       "0008ed71                  14         6.000000  Referral         2.000000  \n",
       "000c79fe                   2        17.000000      Paid         1.000000  \n",
       "001802e4                   0        19.000000      Paid         1.000000  \n",
       "0019e639                   9         4.095652      Paid         0.165217  \n",
       "001b0bf9                   9         7.000000   Ninguno         0.000000  "
      ]
     },
     "execution_count": 43,
     "metadata": {},
     "output_type": "execute_result"
    }
   ],
   "source": [
    "training_features.head()"
   ]
  },
  {
   "cell_type": "code",
   "execution_count": 44,
   "metadata": {},
   "outputs": [],
   "source": [
    "tg = category_encoders.TargetEncoder(smoothing=True)\n",
    "encoded_training = tg.fit_transform(np.array(training_features),np.array(training_labels))\n",
    "encoded_predict = tg.transform(np.array(predict_features))"
   ]
  },
  {
   "cell_type": "code",
   "execution_count": 45,
   "metadata": {},
   "outputs": [
    {
     "data": {
      "text/html": [
       "<div>\n",
       "<style scoped>\n",
       "    .dataframe tbody tr th:only-of-type {\n",
       "        vertical-align: middle;\n",
       "    }\n",
       "\n",
       "    .dataframe tbody tr th {\n",
       "        vertical-align: top;\n",
       "    }\n",
       "\n",
       "    .dataframe thead th {\n",
       "        text-align: right;\n",
       "    }\n",
       "</style>\n",
       "<table border=\"1\" class=\"dataframe\">\n",
       "  <thead>\n",
       "    <tr style=\"text-align: right;\">\n",
       "      <th></th>\n",
       "      <th>0</th>\n",
       "      <th>1</th>\n",
       "      <th>2</th>\n",
       "      <th>3</th>\n",
       "      <th>4</th>\n",
       "      <th>5</th>\n",
       "      <th>6</th>\n",
       "      <th>7</th>\n",
       "      <th>8</th>\n",
       "      <th>9</th>\n",
       "      <th>10</th>\n",
       "      <th>11</th>\n",
       "    </tr>\n",
       "  </thead>\n",
       "  <tbody>\n",
       "    <tr>\n",
       "      <th>0</th>\n",
       "      <td>0.007335</td>\n",
       "      <td>0.042654</td>\n",
       "      <td>0.069914</td>\n",
       "      <td>0</td>\n",
       "      <td>2</td>\n",
       "      <td>0</td>\n",
       "      <td>6</td>\n",
       "      <td>1</td>\n",
       "      <td>14</td>\n",
       "      <td>6.000000</td>\n",
       "      <td>0.065251</td>\n",
       "      <td>2.000000</td>\n",
       "    </tr>\n",
       "    <tr>\n",
       "      <th>1</th>\n",
       "      <td>0.053592</td>\n",
       "      <td>0.049793</td>\n",
       "      <td>0.034791</td>\n",
       "      <td>0</td>\n",
       "      <td>1</td>\n",
       "      <td>3</td>\n",
       "      <td>17</td>\n",
       "      <td>1</td>\n",
       "      <td>2</td>\n",
       "      <td>17.000000</td>\n",
       "      <td>0.042291</td>\n",
       "      <td>1.000000</td>\n",
       "    </tr>\n",
       "    <tr>\n",
       "      <th>2</th>\n",
       "      <td>0.018508</td>\n",
       "      <td>0.034037</td>\n",
       "      <td>0.034791</td>\n",
       "      <td>0</td>\n",
       "      <td>1</td>\n",
       "      <td>4</td>\n",
       "      <td>19</td>\n",
       "      <td>1</td>\n",
       "      <td>0</td>\n",
       "      <td>19.000000</td>\n",
       "      <td>0.042291</td>\n",
       "      <td>1.000000</td>\n",
       "    </tr>\n",
       "    <tr>\n",
       "      <th>3</th>\n",
       "      <td>0.055779</td>\n",
       "      <td>0.026954</td>\n",
       "      <td>0.069914</td>\n",
       "      <td>2</td>\n",
       "      <td>19</td>\n",
       "      <td>189</td>\n",
       "      <td>471</td>\n",
       "      <td>115</td>\n",
       "      <td>9</td>\n",
       "      <td>4.095652</td>\n",
       "      <td>0.042291</td>\n",
       "      <td>0.165217</td>\n",
       "    </tr>\n",
       "    <tr>\n",
       "      <th>4</th>\n",
       "      <td>0.007335</td>\n",
       "      <td>0.054054</td>\n",
       "      <td>0.017361</td>\n",
       "      <td>1</td>\n",
       "      <td>0</td>\n",
       "      <td>2</td>\n",
       "      <td>7</td>\n",
       "      <td>1</td>\n",
       "      <td>9</td>\n",
       "      <td>7.000000</td>\n",
       "      <td>0.017361</td>\n",
       "      <td>0.000000</td>\n",
       "    </tr>\n",
       "  </tbody>\n",
       "</table>\n",
       "</div>"
      ],
      "text/plain": [
       "         0         1         2   3   4    5    6    7   8          9   \\\n",
       "0  0.007335  0.042654  0.069914   0   2    0    6    1  14   6.000000   \n",
       "1  0.053592  0.049793  0.034791   0   1    3   17    1   2  17.000000   \n",
       "2  0.018508  0.034037  0.034791   0   1    4   19    1   0  19.000000   \n",
       "3  0.055779  0.026954  0.069914   2  19  189  471  115   9   4.095652   \n",
       "4  0.007335  0.054054  0.017361   1   0    2    7    1   9   7.000000   \n",
       "\n",
       "         10        11  \n",
       "0  0.065251  2.000000  \n",
       "1  0.042291  1.000000  \n",
       "2  0.042291  1.000000  \n",
       "3  0.042291  0.165217  \n",
       "4  0.017361  0.000000  "
      ]
     },
     "execution_count": 45,
     "metadata": {},
     "output_type": "execute_result"
    }
   ],
   "source": [
    "encoded_training.head()"
   ]
  },
  {
   "cell_type": "code",
   "execution_count": 46,
   "metadata": {
    "scrolled": true
   },
   "outputs": [],
   "source": [
    "params={\n",
    "    'n_estimators':[1,2,3,4,5,6,7,8,9,10]\n",
    "}\n",
    "grid = GridSearchCV(xgb.XGBRegressor(),params,scoring=make_scorer(roc_auc_score),cv=2,verbose=0)"
   ]
  },
  {
   "cell_type": "code",
   "execution_count": 47,
   "metadata": {},
   "outputs": [],
   "source": [
    "xtr,xte,ytr,yte=train_test_split(encoded_training,training_labels)"
   ]
  },
  {
   "cell_type": "code",
   "execution_count": 48,
   "metadata": {
    "scrolled": true
   },
   "outputs": [
    {
     "data": {
      "text/plain": [
       "GridSearchCV(cv=2, error_score='raise',\n",
       "       estimator=XGBRegressor(base_score=0.5, booster='gbtree', colsample_bylevel=1,\n",
       "       colsample_bytree=1, gamma=0, learning_rate=0.1, max_delta_step=0,\n",
       "       max_depth=3, min_child_weight=1, missing=None, n_estimators=100,\n",
       "       n_jobs=1, nthread=None, objective='reg:linear', random_state=0,\n",
       "       reg_alpha=0, reg_lambda=1, scale_pos_weight=1, seed=None,\n",
       "       silent=True, subsample=1),\n",
       "       fit_params=None, iid=True, n_jobs=1,\n",
       "       param_grid={'n_estimators': [1, 2, 3, 4, 5, 6, 7, 8, 9, 10]},\n",
       "       pre_dispatch='2*n_jobs', refit=True, return_train_score='warn',\n",
       "       scoring=make_scorer(roc_auc_score), verbose=0)"
      ]
     },
     "execution_count": 48,
     "metadata": {},
     "output_type": "execute_result"
    }
   ],
   "source": [
    "grid.fit(xtr,ytr)"
   ]
  },
  {
   "cell_type": "code",
   "execution_count": 49,
   "metadata": {},
   "outputs": [
    {
     "data": {
      "text/plain": [
       "0.7628988082019396"
      ]
     },
     "execution_count": 49,
     "metadata": {},
     "output_type": "execute_result"
    }
   ],
   "source": [
    "grid.score(X=xte,y=yte)"
   ]
  },
  {
   "cell_type": "code",
   "execution_count": 50,
   "metadata": {},
   "outputs": [],
   "source": [
    "xgbc= grid.best_estimator_"
   ]
  },
  {
   "cell_type": "code",
   "execution_count": 51,
   "metadata": {},
   "outputs": [
    {
     "data": {
      "text/plain": [
       "0.7628988082019396"
      ]
     },
     "execution_count": 51,
     "metadata": {},
     "output_type": "execute_result"
    }
   ],
   "source": [
    "xgbc.fit(xtr,ytr)\n",
    "p=xgbc.predict(xte)\n",
    "roc_auc_score(y_score=p,y_true=yte)"
   ]
  },
  {
   "cell_type": "code",
   "execution_count": 52,
   "metadata": {},
   "outputs": [
    {
     "data": {
      "text/plain": [
       "XGBRegressor(base_score=0.5, booster='gbtree', colsample_bylevel=1,\n",
       "       colsample_bytree=1, gamma=0, learning_rate=0.1, max_delta_step=0,\n",
       "       max_depth=3, min_child_weight=1, missing=None, n_estimators=10,\n",
       "       n_jobs=1, nthread=None, objective='reg:linear', random_state=0,\n",
       "       reg_alpha=0, reg_lambda=1, scale_pos_weight=1, seed=None,\n",
       "       silent=True, subsample=1)"
      ]
     },
     "execution_count": 52,
     "metadata": {},
     "output_type": "execute_result"
    }
   ],
   "source": [
    "xgbc.fit(encoded_training,training_labels)"
   ]
  },
  {
   "cell_type": "code",
   "execution_count": 53,
   "metadata": {},
   "outputs": [],
   "source": [
    "prediction_submit = xgbc.predict(encoded_predict)"
   ]
  },
  {
   "cell_type": "code",
   "execution_count": 54,
   "metadata": {},
   "outputs": [],
   "source": [
    "predict_features['label'] = prediction_submit"
   ]
  },
  {
   "cell_type": "code",
   "execution_count": 55,
   "metadata": {},
   "outputs": [
    {
     "data": {
      "text/plain": [
       "0.186529    4887\n",
       "0.191011    3290\n",
       "0.203393    1272\n",
       "0.207874     830\n",
       "0.208100     546\n",
       "0.199288     320\n",
       "0.236024     268\n",
       "0.217443     224\n",
       "0.195618     224\n",
       "0.204273     219\n",
       "0.229057     217\n",
       "0.191137     212\n",
       "0.212581     165\n",
       "0.194807     156\n",
       "0.188635     146\n",
       "0.205390     142\n",
       "0.200909     127\n",
       "0.216152     126\n",
       "0.187311     113\n",
       "0.216377     111\n",
       "0.231162     107\n",
       "0.206798     106\n",
       "0.204805     106\n",
       "0.225721     106\n",
       "0.233179      97\n",
       "0.232198      96\n",
       "0.205045      95\n",
       "0.191792      85\n",
       "0.302150      80\n",
       "0.238937      77\n",
       "            ... \n",
       "0.430509       1\n",
       "0.228858       1\n",
       "0.254590       1\n",
       "0.207465       1\n",
       "0.246551       1\n",
       "0.399437       1\n",
       "0.244406       1\n",
       "0.270044       1\n",
       "0.285656       1\n",
       "0.383923       1\n",
       "0.231090       1\n",
       "0.508632       1\n",
       "0.228720       1\n",
       "0.301182       1\n",
       "0.477900       1\n",
       "0.231148       1\n",
       "0.274862       1\n",
       "0.394887       1\n",
       "0.254257       1\n",
       "0.363592       1\n",
       "0.254172       1\n",
       "0.274969       1\n",
       "0.379060       1\n",
       "0.212938       1\n",
       "0.493832       1\n",
       "0.285179       1\n",
       "0.410166       1\n",
       "0.347616       1\n",
       "0.478237       1\n",
       "0.214639       1\n",
       "Name: label, Length: 651, dtype: int64"
      ]
     },
     "execution_count": 55,
     "metadata": {},
     "output_type": "execute_result"
    }
   ],
   "source": [
    "predict_features['label'].value_counts()"
   ]
  },
  {
   "cell_type": "code",
   "execution_count": 56,
   "metadata": {},
   "outputs": [],
   "source": [
    "subm = predict.merge(predict_features['label'].reset_index(),how='left',on='person')"
   ]
  },
  {
   "cell_type": "code",
   "execution_count": 57,
   "metadata": {},
   "outputs": [],
   "source": [
    "subm = subm.set_index('person')"
   ]
  },
  {
   "cell_type": "code",
   "execution_count": 58,
   "metadata": {},
   "outputs": [],
   "source": [
    "subm.to_csv('submit.csv')"
   ]
  },
  {
   "cell_type": "code",
   "execution_count": null,
   "metadata": {},
   "outputs": [],
   "source": []
  }
 ],
 "metadata": {
  "kernelspec": {
   "display_name": "Python 3",
   "language": "python",
   "name": "python3"
  },
  "language_info": {
   "codemirror_mode": {
    "name": "ipython",
    "version": 3
   },
   "file_extension": ".py",
   "mimetype": "text/x-python",
   "name": "python",
   "nbconvert_exporter": "python",
   "pygments_lexer": "ipython3",
   "version": "3.6.5"
  }
 },
 "nbformat": 4,
 "nbformat_minor": 2
}
