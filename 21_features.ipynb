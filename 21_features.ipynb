{
 "cells": [
  {
   "cell_type": "code",
   "execution_count": 3,
   "metadata": {},
   "outputs": [],
   "source": [
    "import pandas as pd"
   ]
  },
  {
   "cell_type": "code",
   "execution_count": 4,
   "metadata": {},
   "outputs": [],
   "source": [
    "import gc"
   ]
  },
  {
   "cell_type": "code",
   "execution_count": 5,
   "metadata": {},
   "outputs": [],
   "source": [
    "file = pd.read_csv('events_up_to_01062018.csv',low_memory=False)"
   ]
  },
  {
   "cell_type": "code",
   "execution_count": 6,
   "metadata": {},
   "outputs": [],
   "source": [
    "gbp = file.groupby('person')"
   ]
  },
  {
   "cell_type": "code",
   "execution_count": 7,
   "metadata": {},
   "outputs": [
    {
     "name": "stdout",
     "output_type": "stream",
     "text": [
      "<class 'pandas.core.frame.DataFrame'>\n",
      "RangeIndex: 2341681 entries, 0 to 2341680\n",
      "Data columns (total 23 columns):\n",
      "timestamp                   object\n",
      "event                       object\n",
      "person                      object\n",
      "url                         object\n",
      "sku                         float64\n",
      "model                       object\n",
      "condition                   object\n",
      "storage                     object\n",
      "color                       object\n",
      "skus                        object\n",
      "search_term                 object\n",
      "staticpage                  object\n",
      "campaign_source             object\n",
      "search_engine               object\n",
      "channel                     object\n",
      "new_vs_returning            object\n",
      "city                        object\n",
      "region                      object\n",
      "country                     object\n",
      "device_type                 object\n",
      "screen_resolution           object\n",
      "operating_system_version    object\n",
      "browser_version             object\n",
      "dtypes: float64(1), object(22)\n",
      "memory usage: 410.9+ MB\n"
     ]
    }
   ],
   "source": [
    "file.info()"
   ]
  },
  {
   "cell_type": "code",
   "execution_count": 19,
   "metadata": {},
   "outputs": [
    {
     "data": {
      "text/plain": [
       "timestamp                   1490912\n",
       "event                            11\n",
       "person                        38829\n",
       "url                             248\n",
       "sku                            2328\n",
       "model                           208\n",
       "condition                         5\n",
       "storage                           8\n",
       "color                            63\n",
       "skus                          52267\n",
       "search_term                   10964\n",
       "staticpage                       14\n",
       "campaign_source                  23\n",
       "search_engine                     4\n",
       "channel                           7\n",
       "new_vs_returning                  2\n",
       "city                           2206\n",
       "region                          122\n",
       "country                          51\n",
       "device_type                       4\n",
       "screen_resolution               393\n",
       "operating_system_version        131\n",
       "browser_version                 366\n",
       "dtype: int64"
      ]
     },
     "execution_count": 19,
     "metadata": {},
     "output_type": "execute_result"
    }
   ],
   "source": [
    "file.nunique()"
   ]
  },
  {
   "cell_type": "code",
   "execution_count": 1,
   "metadata": {},
   "outputs": [],
   "source": [
    "cols = ['event','condition','storage','staticpage','search_engine','device_type','channel']"
   ]
  },
  {
   "cell_type": "code",
   "execution_count": 8,
   "metadata": {},
   "outputs": [],
   "source": [
    "colnames =[]\n",
    "for i in cols:\n",
    "    values = file[i].dropna().unique()\n",
    "    colnames.extend(values)"
   ]
  },
  {
   "cell_type": "code",
   "execution_count": 15,
   "metadata": {},
   "outputs": [],
   "source": [
    "csrcs = list(file[col].dropna().unique() for col in cols)"
   ]
  },
  {
   "cell_type": "code",
   "execution_count": 19,
   "metadata": {},
   "outputs": [],
   "source": [
    "def features(x):\n",
    "    a = []\n",
    "    for i,v in enumerate(cols):\n",
    "        for j in csrcs[i]:\n",
    "            a.append(j in x[v].unique())\n",
    "    return pd.Series(a)\n",
    "features = gbp.apply(features)\n",
    "features.columns = colnames"
   ]
  },
  {
   "cell_type": "code",
   "execution_count": 22,
   "metadata": {},
   "outputs": [
    {
     "data": {
      "text/plain": [
       "35"
      ]
     },
     "execution_count": 22,
     "metadata": {},
     "output_type": "execute_result"
    }
   ],
   "source": [
    "gc.collect()"
   ]
  },
  {
   "cell_type": "code",
   "execution_count": 20,
   "metadata": {},
   "outputs": [
    {
     "data": {
      "text/html": [
       "<div>\n",
       "<style scoped>\n",
       "    .dataframe tbody tr th:only-of-type {\n",
       "        vertical-align: middle;\n",
       "    }\n",
       "\n",
       "    .dataframe tbody tr th {\n",
       "        vertical-align: top;\n",
       "    }\n",
       "\n",
       "    .dataframe thead th {\n",
       "        text-align: right;\n",
       "    }\n",
       "</style>\n",
       "<table border=\"1\" class=\"dataframe\">\n",
       "  <thead>\n",
       "    <tr style=\"text-align: right;\">\n",
       "      <th></th>\n",
       "      <th>viewed product</th>\n",
       "      <th>searched products</th>\n",
       "      <th>ad campaign hit</th>\n",
       "      <th>staticpage</th>\n",
       "      <th>checkout</th>\n",
       "      <th>search engine hit</th>\n",
       "      <th>conversion</th>\n",
       "      <th>generic listing</th>\n",
       "      <th>brand listing</th>\n",
       "      <th>visited site</th>\n",
       "      <th>...</th>\n",
       "      <th>Computer</th>\n",
       "      <th>Tablet</th>\n",
       "      <th>Unknown</th>\n",
       "      <th>Paid</th>\n",
       "      <th>Organic</th>\n",
       "      <th>Direct</th>\n",
       "      <th>Referral</th>\n",
       "      <th>Social</th>\n",
       "      <th>Email</th>\n",
       "      <th>Unknown</th>\n",
       "    </tr>\n",
       "    <tr>\n",
       "      <th>person</th>\n",
       "      <th></th>\n",
       "      <th></th>\n",
       "      <th></th>\n",
       "      <th></th>\n",
       "      <th></th>\n",
       "      <th></th>\n",
       "      <th></th>\n",
       "      <th></th>\n",
       "      <th></th>\n",
       "      <th></th>\n",
       "      <th></th>\n",
       "      <th></th>\n",
       "      <th></th>\n",
       "      <th></th>\n",
       "      <th></th>\n",
       "      <th></th>\n",
       "      <th></th>\n",
       "      <th></th>\n",
       "      <th></th>\n",
       "      <th></th>\n",
       "      <th></th>\n",
       "    </tr>\n",
       "  </thead>\n",
       "  <tbody>\n",
       "    <tr>\n",
       "      <th>0008ed71</th>\n",
       "      <td>False</td>\n",
       "      <td>False</td>\n",
       "      <td>False</td>\n",
       "      <td>False</td>\n",
       "      <td>True</td>\n",
       "      <td>False</td>\n",
       "      <td>False</td>\n",
       "      <td>True</td>\n",
       "      <td>False</td>\n",
       "      <td>True</td>\n",
       "      <td>...</td>\n",
       "      <td>True</td>\n",
       "      <td>False</td>\n",
       "      <td>False</td>\n",
       "      <td>False</td>\n",
       "      <td>False</td>\n",
       "      <td>False</td>\n",
       "      <td>True</td>\n",
       "      <td>False</td>\n",
       "      <td>False</td>\n",
       "      <td>False</td>\n",
       "    </tr>\n",
       "    <tr>\n",
       "      <th>00091926</th>\n",
       "      <td>True</td>\n",
       "      <td>False</td>\n",
       "      <td>True</td>\n",
       "      <td>False</td>\n",
       "      <td>True</td>\n",
       "      <td>False</td>\n",
       "      <td>False</td>\n",
       "      <td>False</td>\n",
       "      <td>True</td>\n",
       "      <td>True</td>\n",
       "      <td>...</td>\n",
       "      <td>True</td>\n",
       "      <td>False</td>\n",
       "      <td>False</td>\n",
       "      <td>True</td>\n",
       "      <td>False</td>\n",
       "      <td>True</td>\n",
       "      <td>True</td>\n",
       "      <td>False</td>\n",
       "      <td>False</td>\n",
       "      <td>False</td>\n",
       "    </tr>\n",
       "    <tr>\n",
       "      <th>00091a7a</th>\n",
       "      <td>True</td>\n",
       "      <td>False</td>\n",
       "      <td>True</td>\n",
       "      <td>False</td>\n",
       "      <td>False</td>\n",
       "      <td>False</td>\n",
       "      <td>False</td>\n",
       "      <td>False</td>\n",
       "      <td>True</td>\n",
       "      <td>True</td>\n",
       "      <td>...</td>\n",
       "      <td>False</td>\n",
       "      <td>False</td>\n",
       "      <td>False</td>\n",
       "      <td>True</td>\n",
       "      <td>False</td>\n",
       "      <td>False</td>\n",
       "      <td>False</td>\n",
       "      <td>False</td>\n",
       "      <td>False</td>\n",
       "      <td>False</td>\n",
       "    </tr>\n",
       "    <tr>\n",
       "      <th>000ba417</th>\n",
       "      <td>True</td>\n",
       "      <td>False</td>\n",
       "      <td>True</td>\n",
       "      <td>False</td>\n",
       "      <td>True</td>\n",
       "      <td>True</td>\n",
       "      <td>True</td>\n",
       "      <td>True</td>\n",
       "      <td>True</td>\n",
       "      <td>True</td>\n",
       "      <td>...</td>\n",
       "      <td>True</td>\n",
       "      <td>False</td>\n",
       "      <td>False</td>\n",
       "      <td>False</td>\n",
       "      <td>False</td>\n",
       "      <td>True</td>\n",
       "      <td>False</td>\n",
       "      <td>False</td>\n",
       "      <td>False</td>\n",
       "      <td>False</td>\n",
       "    </tr>\n",
       "    <tr>\n",
       "      <th>000c79fe</th>\n",
       "      <td>True</td>\n",
       "      <td>True</td>\n",
       "      <td>True</td>\n",
       "      <td>False</td>\n",
       "      <td>True</td>\n",
       "      <td>True</td>\n",
       "      <td>False</td>\n",
       "      <td>True</td>\n",
       "      <td>False</td>\n",
       "      <td>True</td>\n",
       "      <td>...</td>\n",
       "      <td>False</td>\n",
       "      <td>False</td>\n",
       "      <td>False</td>\n",
       "      <td>True</td>\n",
       "      <td>False</td>\n",
       "      <td>False</td>\n",
       "      <td>False</td>\n",
       "      <td>False</td>\n",
       "      <td>False</td>\n",
       "      <td>False</td>\n",
       "    </tr>\n",
       "  </tbody>\n",
       "</table>\n",
       "<p>5 rows × 53 columns</p>\n",
       "</div>"
      ],
      "text/plain": [
       "          viewed product  searched products  ad campaign hit  staticpage  \\\n",
       "person                                                                     \n",
       "0008ed71           False              False            False       False   \n",
       "00091926            True              False             True       False   \n",
       "00091a7a            True              False             True       False   \n",
       "000ba417            True              False             True       False   \n",
       "000c79fe            True               True             True       False   \n",
       "\n",
       "          checkout  search engine hit  conversion  generic listing  \\\n",
       "person                                                               \n",
       "0008ed71      True              False       False             True   \n",
       "00091926      True              False       False            False   \n",
       "00091a7a     False              False       False            False   \n",
       "000ba417      True               True        True             True   \n",
       "000c79fe      True               True       False             True   \n",
       "\n",
       "          brand listing  visited site   ...     Computer  Tablet  Unknown  \\\n",
       "person                                  ...                                 \n",
       "0008ed71          False          True   ...         True   False    False   \n",
       "00091926           True          True   ...         True   False    False   \n",
       "00091a7a           True          True   ...        False   False    False   \n",
       "000ba417           True          True   ...         True   False    False   \n",
       "000c79fe          False          True   ...        False   False    False   \n",
       "\n",
       "           Paid  Organic  Direct  Referral  Social  Email  Unknown  \n",
       "person                                                              \n",
       "0008ed71  False    False   False      True   False  False    False  \n",
       "00091926   True    False    True      True   False  False    False  \n",
       "00091a7a   True    False   False     False   False  False    False  \n",
       "000ba417  False    False    True     False   False  False    False  \n",
       "000c79fe   True    False   False     False   False  False    False  \n",
       "\n",
       "[5 rows x 53 columns]"
      ]
     },
     "execution_count": 20,
     "metadata": {},
     "output_type": "execute_result"
    }
   ],
   "source": [
    "features.head()"
   ]
  },
  {
   "cell_type": "code",
   "execution_count": 21,
   "metadata": {},
   "outputs": [],
   "source": [
    "features.to_csv('features_test.csv')"
   ]
  },
  {
   "cell_type": "code",
   "execution_count": null,
   "metadata": {},
   "outputs": [],
   "source": []
  }
 ],
 "metadata": {
  "kernelspec": {
   "display_name": "Python 3",
   "language": "python",
   "name": "python3"
  },
  "language_info": {
   "codemirror_mode": {
    "name": "ipython",
    "version": 3
   },
   "file_extension": ".py",
   "mimetype": "text/x-python",
   "name": "python",
   "nbconvert_exporter": "python",
   "pygments_lexer": "ipython3",
   "version": "3.6.5"
  }
 },
 "nbformat": 4,
 "nbformat_minor": 2
}
