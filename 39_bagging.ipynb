{
 "cells": [
  {
   "cell_type": "code",
   "execution_count": 2,
   "metadata": {},
   "outputs": [],
   "source": [
    "import numpy as np"
   ]
  },
  {
   "cell_type": "code",
   "execution_count": 1,
   "metadata": {},
   "outputs": [],
   "source": [
    "import sklearn.ensemble as en"
   ]
  },
  {
   "cell_type": "code",
   "execution_count": 3,
   "metadata": {},
   "outputs": [],
   "source": [
    "import pandas as pd\n",
    "from sklearn.model_selection import train_test_split\n",
    "import category_encoders"
   ]
  },
  {
   "cell_type": "code",
   "execution_count": 13,
   "metadata": {},
   "outputs": [],
   "source": [
    "import scipy.stats as st"
   ]
  },
  {
   "cell_type": "code",
   "execution_count": 12,
   "metadata": {},
   "outputs": [],
   "source": [
    "from sklearn.model_selection import RandomizedSearchCV"
   ]
  },
  {
   "cell_type": "code",
   "execution_count": 5,
   "metadata": {},
   "outputs": [],
   "source": [
    "import pandas as pd"
   ]
  },
  {
   "cell_type": "code",
   "execution_count": 6,
   "metadata": {},
   "outputs": [],
   "source": [
    "kaggle = pd.read_csv('trocafone_kaggle_test.csv')"
   ]
  },
  {
   "cell_type": "code",
   "execution_count": 7,
   "metadata": {},
   "outputs": [],
   "source": [
    "labels = pd.read_csv('labels_training_set.csv')"
   ]
  },
  {
   "cell_type": "code",
   "execution_count": 8,
   "metadata": {},
   "outputs": [],
   "source": [
    "processed = pd.read_csv('features_10.csv')"
   ]
  },
  {
   "cell_type": "code",
   "execution_count": 9,
   "metadata": {},
   "outputs": [
    {
     "data": {
      "text/html": [
       "<div>\n",
       "<style scoped>\n",
       "    .dataframe tbody tr th:only-of-type {\n",
       "        vertical-align: middle;\n",
       "    }\n",
       "\n",
       "    .dataframe tbody tr th {\n",
       "        vertical-align: top;\n",
       "    }\n",
       "\n",
       "    .dataframe thead th {\n",
       "        text-align: right;\n",
       "    }\n",
       "</style>\n",
       "<table border=\"1\" class=\"dataframe\">\n",
       "  <thead>\n",
       "    <tr style=\"text-align: right;\">\n",
       "      <th></th>\n",
       "      <th>mayor_evento</th>\n",
       "      <th>prod_visto</th>\n",
       "      <th>dispos</th>\n",
       "      <th>compras</th>\n",
       "      <th>visitas</th>\n",
       "      <th>cant_prod_vistos</th>\n",
       "      <th>primer_visita</th>\n",
       "      <th>ultima_visita</th>\n",
       "      <th>cant_eventos</th>\n",
       "      <th>permanencia</th>\n",
       "      <th>...</th>\n",
       "      <th>4GB_vio</th>\n",
       "      <th>512MB_compro</th>\n",
       "      <th>512MB_vio</th>\n",
       "      <th>region_sin_unknown</th>\n",
       "      <th>pais_sin_unknown</th>\n",
       "      <th>precio_del_cel_mas_visto</th>\n",
       "      <th>promedio_precio_celulares_vistos</th>\n",
       "      <th>promedio_precio_celulares_comprados</th>\n",
       "      <th>precio_mas_caro_que_vio</th>\n",
       "      <th>precio_mas_barato_que_vio</th>\n",
       "    </tr>\n",
       "    <tr>\n",
       "      <th>person</th>\n",
       "      <th></th>\n",
       "      <th></th>\n",
       "      <th></th>\n",
       "      <th></th>\n",
       "      <th></th>\n",
       "      <th></th>\n",
       "      <th></th>\n",
       "      <th></th>\n",
       "      <th></th>\n",
       "      <th></th>\n",
       "      <th></th>\n",
       "      <th></th>\n",
       "      <th></th>\n",
       "      <th></th>\n",
       "      <th></th>\n",
       "      <th></th>\n",
       "      <th></th>\n",
       "      <th></th>\n",
       "      <th></th>\n",
       "      <th></th>\n",
       "      <th></th>\n",
       "    </tr>\n",
       "  </thead>\n",
       "  <tbody>\n",
       "    <tr>\n",
       "      <th>0008ed71</th>\n",
       "      <td>checkout</td>\n",
       "      <td>Ninguno</td>\n",
       "      <td>Computer</td>\n",
       "      <td>0</td>\n",
       "      <td>2</td>\n",
       "      <td>0</td>\n",
       "      <td>05-17</td>\n",
       "      <td>05-17</td>\n",
       "      <td>6</td>\n",
       "      <td>1</td>\n",
       "      <td>...</td>\n",
       "      <td>False</td>\n",
       "      <td>False</td>\n",
       "      <td>False</td>\n",
       "      <td>Sao Paulo</td>\n",
       "      <td>Brazil</td>\n",
       "      <td>0.0</td>\n",
       "      <td>0.000000</td>\n",
       "      <td>0.0</td>\n",
       "      <td>0.0</td>\n",
       "      <td>0.0</td>\n",
       "    </tr>\n",
       "    <tr>\n",
       "      <th>00091926</th>\n",
       "      <td>viewed product</td>\n",
       "      <td>iPhone 6S</td>\n",
       "      <td>Computer</td>\n",
       "      <td>0</td>\n",
       "      <td>34</td>\n",
       "      <td>372</td>\n",
       "      <td>05-03</td>\n",
       "      <td>05-31</td>\n",
       "      <td>448</td>\n",
       "      <td>28</td>\n",
       "      <td>...</td>\n",
       "      <td>False</td>\n",
       "      <td>False</td>\n",
       "      <td>False</td>\n",
       "      <td>Rio Grande do Sul</td>\n",
       "      <td>Brazil</td>\n",
       "      <td>1679.0</td>\n",
       "      <td>1527.091398</td>\n",
       "      <td>0.0</td>\n",
       "      <td>4649.0</td>\n",
       "      <td>100.0</td>\n",
       "    </tr>\n",
       "    <tr>\n",
       "      <th>00091a7a</th>\n",
       "      <td>brand listing</td>\n",
       "      <td>iPhone 6S</td>\n",
       "      <td>Smartphone</td>\n",
       "      <td>0</td>\n",
       "      <td>1</td>\n",
       "      <td>3</td>\n",
       "      <td>03-26</td>\n",
       "      <td>03-26</td>\n",
       "      <td>10</td>\n",
       "      <td>1</td>\n",
       "      <td>...</td>\n",
       "      <td>False</td>\n",
       "      <td>False</td>\n",
       "      <td>False</td>\n",
       "      <td>Minas Gerais</td>\n",
       "      <td>Brazil</td>\n",
       "      <td>1679.0</td>\n",
       "      <td>1342.333333</td>\n",
       "      <td>0.0</td>\n",
       "      <td>1679.0</td>\n",
       "      <td>849.0</td>\n",
       "    </tr>\n",
       "    <tr>\n",
       "      <th>000ba417</th>\n",
       "      <td>viewed product</td>\n",
       "      <td>Samsung Galaxy A3 Duos</td>\n",
       "      <td>Computer</td>\n",
       "      <td>1</td>\n",
       "      <td>6</td>\n",
       "      <td>153</td>\n",
       "      <td>05-17</td>\n",
       "      <td>05-26</td>\n",
       "      <td>206</td>\n",
       "      <td>10</td>\n",
       "      <td>...</td>\n",
       "      <td>True</td>\n",
       "      <td>False</td>\n",
       "      <td>False</td>\n",
       "      <td>Sao Paulo</td>\n",
       "      <td>Brazil</td>\n",
       "      <td>369.0</td>\n",
       "      <td>479.366013</td>\n",
       "      <td>379.0</td>\n",
       "      <td>2229.0</td>\n",
       "      <td>250.0</td>\n",
       "    </tr>\n",
       "    <tr>\n",
       "      <th>000c79fe</th>\n",
       "      <td>searched products</td>\n",
       "      <td>iPhone 7</td>\n",
       "      <td>Smartphone</td>\n",
       "      <td>0</td>\n",
       "      <td>1</td>\n",
       "      <td>3</td>\n",
       "      <td>05-29</td>\n",
       "      <td>05-29</td>\n",
       "      <td>17</td>\n",
       "      <td>1</td>\n",
       "      <td>...</td>\n",
       "      <td>False</td>\n",
       "      <td>False</td>\n",
       "      <td>False</td>\n",
       "      <td>Minas Gerais</td>\n",
       "      <td>Brazil</td>\n",
       "      <td>2229.0</td>\n",
       "      <td>2229.000000</td>\n",
       "      <td>0.0</td>\n",
       "      <td>2229.0</td>\n",
       "      <td>2229.0</td>\n",
       "    </tr>\n",
       "  </tbody>\n",
       "</table>\n",
       "<p>5 rows × 140 columns</p>\n",
       "</div>"
      ],
      "text/plain": [
       "               mayor_evento              prod_visto      dispos  compras  \\\n",
       "person                                                                     \n",
       "0008ed71           checkout                 Ninguno    Computer        0   \n",
       "00091926     viewed product               iPhone 6S    Computer        0   \n",
       "00091a7a      brand listing               iPhone 6S  Smartphone        0   \n",
       "000ba417     viewed product  Samsung Galaxy A3 Duos    Computer        1   \n",
       "000c79fe  searched products                iPhone 7  Smartphone        0   \n",
       "\n",
       "          visitas  cant_prod_vistos primer_visita ultima_visita  cant_eventos  \\\n",
       "person                                                                          \n",
       "0008ed71        2                 0         05-17         05-17             6   \n",
       "00091926       34               372         05-03         05-31           448   \n",
       "00091a7a        1                 3         03-26         03-26            10   \n",
       "000ba417        6               153         05-17         05-26           206   \n",
       "000c79fe        1                 3         05-29         05-29            17   \n",
       "\n",
       "          permanencia            ...              4GB_vio  512MB_compro  \\\n",
       "person                           ...                                      \n",
       "0008ed71            1            ...                False         False   \n",
       "00091926           28            ...                False         False   \n",
       "00091a7a            1            ...                False         False   \n",
       "000ba417           10            ...                 True         False   \n",
       "000c79fe            1            ...                False         False   \n",
       "\n",
       "         512MB_vio  region_sin_unknown pais_sin_unknown  \\\n",
       "person                                                    \n",
       "0008ed71     False           Sao Paulo           Brazil   \n",
       "00091926     False   Rio Grande do Sul           Brazil   \n",
       "00091a7a     False        Minas Gerais           Brazil   \n",
       "000ba417     False           Sao Paulo           Brazil   \n",
       "000c79fe     False        Minas Gerais           Brazil   \n",
       "\n",
       "          precio_del_cel_mas_visto  promedio_precio_celulares_vistos  \\\n",
       "person                                                                 \n",
       "0008ed71                       0.0                          0.000000   \n",
       "00091926                    1679.0                       1527.091398   \n",
       "00091a7a                    1679.0                       1342.333333   \n",
       "000ba417                     369.0                        479.366013   \n",
       "000c79fe                    2229.0                       2229.000000   \n",
       "\n",
       "         promedio_precio_celulares_comprados precio_mas_caro_que_vio  \\\n",
       "person                                                                 \n",
       "0008ed71                                 0.0                     0.0   \n",
       "00091926                                 0.0                  4649.0   \n",
       "00091a7a                                 0.0                  1679.0   \n",
       "000ba417                               379.0                  2229.0   \n",
       "000c79fe                                 0.0                  2229.0   \n",
       "\n",
       "          precio_mas_barato_que_vio  \n",
       "person                               \n",
       "0008ed71                        0.0  \n",
       "00091926                      100.0  \n",
       "00091a7a                      849.0  \n",
       "000ba417                      250.0  \n",
       "000c79fe                     2229.0  \n",
       "\n",
       "[5 rows x 140 columns]"
      ]
     },
     "execution_count": 9,
     "metadata": {},
     "output_type": "execute_result"
    }
   ],
   "source": [
    "processed = processed.set_index('person').fillna(0)\n",
    "processed.head()"
   ]
  },
  {
   "cell_type": "code",
   "execution_count": 10,
   "metadata": {},
   "outputs": [],
   "source": [
    "training_features = labels.set_index('person').join(processed)\n",
    "predict_features = kaggle.set_index('person').join(processed)\n",
    "training_labels = training_features['label']\n",
    "training_features = training_features.drop('label',axis=1)"
   ]
  },
  {
   "cell_type": "code",
   "execution_count": 11,
   "metadata": {},
   "outputs": [
    {
     "data": {
      "text/html": [
       "<div>\n",
       "<style scoped>\n",
       "    .dataframe tbody tr th:only-of-type {\n",
       "        vertical-align: middle;\n",
       "    }\n",
       "\n",
       "    .dataframe tbody tr th {\n",
       "        vertical-align: top;\n",
       "    }\n",
       "\n",
       "    .dataframe thead th {\n",
       "        text-align: right;\n",
       "    }\n",
       "</style>\n",
       "<table border=\"1\" class=\"dataframe\">\n",
       "  <thead>\n",
       "    <tr style=\"text-align: right;\">\n",
       "      <th></th>\n",
       "      <th>mayor_evento</th>\n",
       "      <th>prod_visto</th>\n",
       "      <th>dispos</th>\n",
       "      <th>compras</th>\n",
       "      <th>visitas</th>\n",
       "      <th>cant_prod_vistos</th>\n",
       "      <th>primer_visita</th>\n",
       "      <th>ultima_visita</th>\n",
       "      <th>cant_eventos</th>\n",
       "      <th>permanencia</th>\n",
       "      <th>...</th>\n",
       "      <th>4GB_vio</th>\n",
       "      <th>512MB_compro</th>\n",
       "      <th>512MB_vio</th>\n",
       "      <th>region_sin_unknown</th>\n",
       "      <th>pais_sin_unknown</th>\n",
       "      <th>precio_del_cel_mas_visto</th>\n",
       "      <th>promedio_precio_celulares_vistos</th>\n",
       "      <th>promedio_precio_celulares_comprados</th>\n",
       "      <th>precio_mas_caro_que_vio</th>\n",
       "      <th>precio_mas_barato_que_vio</th>\n",
       "    </tr>\n",
       "    <tr>\n",
       "      <th>person</th>\n",
       "      <th></th>\n",
       "      <th></th>\n",
       "      <th></th>\n",
       "      <th></th>\n",
       "      <th></th>\n",
       "      <th></th>\n",
       "      <th></th>\n",
       "      <th></th>\n",
       "      <th></th>\n",
       "      <th></th>\n",
       "      <th></th>\n",
       "      <th></th>\n",
       "      <th></th>\n",
       "      <th></th>\n",
       "      <th></th>\n",
       "      <th></th>\n",
       "      <th></th>\n",
       "      <th></th>\n",
       "      <th></th>\n",
       "      <th></th>\n",
       "      <th></th>\n",
       "    </tr>\n",
       "  </thead>\n",
       "  <tbody>\n",
       "    <tr>\n",
       "      <th>0566e9c1</th>\n",
       "      <td>viewed product</td>\n",
       "      <td>iPhone 5s</td>\n",
       "      <td>Smartphone</td>\n",
       "      <td>1</td>\n",
       "      <td>17</td>\n",
       "      <td>23</td>\n",
       "      <td>05-22</td>\n",
       "      <td>05-31</td>\n",
       "      <td>68</td>\n",
       "      <td>9</td>\n",
       "      <td>...</td>\n",
       "      <td>False</td>\n",
       "      <td>False</td>\n",
       "      <td>False</td>\n",
       "      <td>Parana</td>\n",
       "      <td>Brazil</td>\n",
       "      <td>999.0</td>\n",
       "      <td>663.913043</td>\n",
       "      <td>459.0</td>\n",
       "      <td>999.0</td>\n",
       "      <td>269.0</td>\n",
       "    </tr>\n",
       "    <tr>\n",
       "      <th>6ec7ee77</th>\n",
       "      <td>visited site</td>\n",
       "      <td>Ninguno</td>\n",
       "      <td>Smartphone</td>\n",
       "      <td>0</td>\n",
       "      <td>1</td>\n",
       "      <td>0</td>\n",
       "      <td>05-28</td>\n",
       "      <td>05-28</td>\n",
       "      <td>2</td>\n",
       "      <td>1</td>\n",
       "      <td>...</td>\n",
       "      <td>False</td>\n",
       "      <td>False</td>\n",
       "      <td>False</td>\n",
       "      <td>Rio Grande do Norte</td>\n",
       "      <td>Brazil</td>\n",
       "      <td>0.0</td>\n",
       "      <td>0.000000</td>\n",
       "      <td>0.0</td>\n",
       "      <td>0.0</td>\n",
       "      <td>0.0</td>\n",
       "    </tr>\n",
       "    <tr>\n",
       "      <th>abe7a2fb</th>\n",
       "      <td>viewed product</td>\n",
       "      <td>iPhone 6</td>\n",
       "      <td>Smartphone</td>\n",
       "      <td>0</td>\n",
       "      <td>22</td>\n",
       "      <td>31</td>\n",
       "      <td>02-10</td>\n",
       "      <td>05-29</td>\n",
       "      <td>96</td>\n",
       "      <td>109</td>\n",
       "      <td>...</td>\n",
       "      <td>False</td>\n",
       "      <td>False</td>\n",
       "      <td>True</td>\n",
       "      <td>Sao Paulo</td>\n",
       "      <td>Brazil</td>\n",
       "      <td>1499.0</td>\n",
       "      <td>1184.161290</td>\n",
       "      <td>0.0</td>\n",
       "      <td>1589.0</td>\n",
       "      <td>179.0</td>\n",
       "    </tr>\n",
       "    <tr>\n",
       "      <th>34728364</th>\n",
       "      <td>viewed product</td>\n",
       "      <td>Lenovo Vibe K5</td>\n",
       "      <td>Smartphone</td>\n",
       "      <td>0</td>\n",
       "      <td>4</td>\n",
       "      <td>24</td>\n",
       "      <td>05-18</td>\n",
       "      <td>05-27</td>\n",
       "      <td>37</td>\n",
       "      <td>9</td>\n",
       "      <td>...</td>\n",
       "      <td>True</td>\n",
       "      <td>False</td>\n",
       "      <td>False</td>\n",
       "      <td>Sao Paulo</td>\n",
       "      <td>Brazil</td>\n",
       "      <td>479.0</td>\n",
       "      <td>529.916667</td>\n",
       "      <td>0.0</td>\n",
       "      <td>849.0</td>\n",
       "      <td>60.0</td>\n",
       "    </tr>\n",
       "    <tr>\n",
       "      <th>87ed62de</th>\n",
       "      <td>viewed product</td>\n",
       "      <td>Samsung Galaxy J7</td>\n",
       "      <td>Computer</td>\n",
       "      <td>0</td>\n",
       "      <td>1</td>\n",
       "      <td>9</td>\n",
       "      <td>05-18</td>\n",
       "      <td>05-19</td>\n",
       "      <td>17</td>\n",
       "      <td>1</td>\n",
       "      <td>...</td>\n",
       "      <td>False</td>\n",
       "      <td>False</td>\n",
       "      <td>False</td>\n",
       "      <td>Santa Catarina</td>\n",
       "      <td>Brazil</td>\n",
       "      <td>549.0</td>\n",
       "      <td>549.000000</td>\n",
       "      <td>0.0</td>\n",
       "      <td>549.0</td>\n",
       "      <td>549.0</td>\n",
       "    </tr>\n",
       "  </tbody>\n",
       "</table>\n",
       "<p>5 rows × 140 columns</p>\n",
       "</div>"
      ],
      "text/plain": [
       "            mayor_evento         prod_visto      dispos  compras  visitas  \\\n",
       "person                                                                      \n",
       "0566e9c1  viewed product          iPhone 5s  Smartphone        1       17   \n",
       "6ec7ee77    visited site            Ninguno  Smartphone        0        1   \n",
       "abe7a2fb  viewed product           iPhone 6  Smartphone        0       22   \n",
       "34728364  viewed product     Lenovo Vibe K5  Smartphone        0        4   \n",
       "87ed62de  viewed product  Samsung Galaxy J7    Computer        0        1   \n",
       "\n",
       "          cant_prod_vistos primer_visita ultima_visita  cant_eventos  \\\n",
       "person                                                                 \n",
       "0566e9c1                23         05-22         05-31            68   \n",
       "6ec7ee77                 0         05-28         05-28             2   \n",
       "abe7a2fb                31         02-10         05-29            96   \n",
       "34728364                24         05-18         05-27            37   \n",
       "87ed62de                 9         05-18         05-19            17   \n",
       "\n",
       "          permanencia            ...              4GB_vio  512MB_compro  \\\n",
       "person                           ...                                      \n",
       "0566e9c1            9            ...                False         False   \n",
       "6ec7ee77            1            ...                False         False   \n",
       "abe7a2fb          109            ...                False         False   \n",
       "34728364            9            ...                 True         False   \n",
       "87ed62de            1            ...                False         False   \n",
       "\n",
       "         512MB_vio   region_sin_unknown pais_sin_unknown  \\\n",
       "person                                                     \n",
       "0566e9c1     False               Parana           Brazil   \n",
       "6ec7ee77     False  Rio Grande do Norte           Brazil   \n",
       "abe7a2fb      True            Sao Paulo           Brazil   \n",
       "34728364     False            Sao Paulo           Brazil   \n",
       "87ed62de     False       Santa Catarina           Brazil   \n",
       "\n",
       "          precio_del_cel_mas_visto  promedio_precio_celulares_vistos  \\\n",
       "person                                                                 \n",
       "0566e9c1                     999.0                        663.913043   \n",
       "6ec7ee77                       0.0                          0.000000   \n",
       "abe7a2fb                    1499.0                       1184.161290   \n",
       "34728364                     479.0                        529.916667   \n",
       "87ed62de                     549.0                        549.000000   \n",
       "\n",
       "         promedio_precio_celulares_comprados precio_mas_caro_que_vio  \\\n",
       "person                                                                 \n",
       "0566e9c1                               459.0                   999.0   \n",
       "6ec7ee77                                 0.0                     0.0   \n",
       "abe7a2fb                                 0.0                  1589.0   \n",
       "34728364                                 0.0                   849.0   \n",
       "87ed62de                                 0.0                   549.0   \n",
       "\n",
       "          precio_mas_barato_que_vio  \n",
       "person                               \n",
       "0566e9c1                      269.0  \n",
       "6ec7ee77                        0.0  \n",
       "abe7a2fb                      179.0  \n",
       "34728364                       60.0  \n",
       "87ed62de                      549.0  \n",
       "\n",
       "[5 rows x 140 columns]"
      ]
     },
     "execution_count": 11,
     "metadata": {},
     "output_type": "execute_result"
    }
   ],
   "source": [
    "training_features.head()"
   ]
  },
  {
   "cell_type": "markdown",
   "metadata": {},
   "source": [
    "## Mean encoding"
   ]
  },
  {
   "cell_type": "code",
   "execution_count": 15,
   "metadata": {},
   "outputs": [],
   "source": [
    "tg = category_encoders.TargetEncoder()\n",
    "encoded_training = tg.fit_transform(np.array(training_features),np.array(training_labels))\n",
    "encoded_predict = tg.transform(np.array(predict_features))"
   ]
  },
  {
   "cell_type": "code",
   "execution_count": 17,
   "metadata": {},
   "outputs": [],
   "source": [
    "#train_features_norm = StandardScaler().fit_transform(encoded_training)\n",
    "#predict_features_norm = StandardScaler().fit_transform(encoded_predict)"
   ]
  },
  {
   "cell_type": "code",
   "execution_count": 25,
   "metadata": {
    "scrolled": true
   },
   "outputs": [],
   "source": [
    "params={\n",
    "    'n_estimators':st.randint(10,50),\n",
    "    'max_samples':st.uniform(0.1,0.9),\n",
    "    'max_features':st.uniform(0.1,0.9),\n",
    "    \n",
    "}\n",
    "grid = RandomizedSearchCV(en.BaggingClassifier(oob_score=True,bootstrap=True,bootstrap_features=True),param_distributions=params,scoring='roc_auc',cv=2,verbose=2,n_iter=25)"
   ]
  },
  {
   "cell_type": "code",
   "execution_count": 26,
   "metadata": {},
   "outputs": [],
   "source": [
    "xtr,xte,ytr,yte=train_test_split(encoded_training,training_labels)"
   ]
  },
  {
   "cell_type": "code",
   "execution_count": 27,
   "metadata": {
    "scrolled": true
   },
   "outputs": [
    {
     "name": "stdout",
     "output_type": "stream",
     "text": [
      "Fitting 2 folds for each of 25 candidates, totalling 50 fits\n",
      "[CV] max_features=0.3853329055816721, max_samples=0.6280243454238846, n_estimators=35 \n",
      "[CV]  max_features=0.3853329055816721, max_samples=0.6280243454238846, n_estimators=35, total=   2.6s\n",
      "[CV] max_features=0.3853329055816721, max_samples=0.6280243454238846, n_estimators=35 \n"
     ]
    },
    {
     "name": "stderr",
     "output_type": "stream",
     "text": [
      "[Parallel(n_jobs=1)]: Done   1 out of   1 | elapsed:    2.9s remaining:    0.0s\n"
     ]
    },
    {
     "name": "stdout",
     "output_type": "stream",
     "text": [
      "[CV]  max_features=0.3853329055816721, max_samples=0.6280243454238846, n_estimators=35, total=   2.6s\n",
      "[CV] max_features=0.37983583078394856, max_samples=0.42446202142042333, n_estimators=48 \n",
      "[CV]  max_features=0.37983583078394856, max_samples=0.42446202142042333, n_estimators=48, total=   2.9s\n",
      "[CV] max_features=0.37983583078394856, max_samples=0.42446202142042333, n_estimators=48 \n",
      "[CV]  max_features=0.37983583078394856, max_samples=0.42446202142042333, n_estimators=48, total=   3.2s\n",
      "[CV] max_features=0.716293208602481, max_samples=0.31468909686497354, n_estimators=49 \n",
      "[CV]  max_features=0.716293208602481, max_samples=0.31468909686497354, n_estimators=49, total=   4.8s\n",
      "[CV] max_features=0.716293208602481, max_samples=0.31468909686497354, n_estimators=49 \n",
      "[CV]  max_features=0.716293208602481, max_samples=0.31468909686497354, n_estimators=49, total=   4.8s\n",
      "[CV] max_features=0.5095957100789522, max_samples=0.9872143670545128, n_estimators=32 \n",
      "[CV]  max_features=0.5095957100789522, max_samples=0.9872143670545128, n_estimators=32, total=   3.9s\n",
      "[CV] max_features=0.5095957100789522, max_samples=0.9872143670545128, n_estimators=32 \n",
      "[CV]  max_features=0.5095957100789522, max_samples=0.9872143670545128, n_estimators=32, total=   4.0s\n",
      "[CV] max_features=0.3282389873493578, max_samples=0.6214098790649851, n_estimators=11 \n"
     ]
    },
    {
     "name": "stderr",
     "output_type": "stream",
     "text": [
      "C:\\Users\\javif\\Anaconda3\\lib\\site-packages\\sklearn\\ensemble\\bagging.py:605: UserWarning: Some inputs do not have OOB scores. This probably means too few estimators were used to compute any reliable oob estimates.\n",
      "  warn(\"Some inputs do not have OOB scores. \"\n",
      "C:\\Users\\javif\\Anaconda3\\lib\\site-packages\\sklearn\\ensemble\\bagging.py:610: RuntimeWarning: invalid value encountered in true_divide\n",
      "  predictions.sum(axis=1)[:, np.newaxis])\n"
     ]
    },
    {
     "name": "stdout",
     "output_type": "stream",
     "text": [
      "[CV]  max_features=0.3282389873493578, max_samples=0.6214098790649851, n_estimators=11, total=   0.7s\n",
      "[CV] max_features=0.3282389873493578, max_samples=0.6214098790649851, n_estimators=11 \n"
     ]
    },
    {
     "name": "stderr",
     "output_type": "stream",
     "text": [
      "C:\\Users\\javif\\Anaconda3\\lib\\site-packages\\sklearn\\ensemble\\bagging.py:605: UserWarning: Some inputs do not have OOB scores. This probably means too few estimators were used to compute any reliable oob estimates.\n",
      "  warn(\"Some inputs do not have OOB scores. \"\n",
      "C:\\Users\\javif\\Anaconda3\\lib\\site-packages\\sklearn\\ensemble\\bagging.py:610: RuntimeWarning: invalid value encountered in true_divide\n",
      "  predictions.sum(axis=1)[:, np.newaxis])\n"
     ]
    },
    {
     "name": "stdout",
     "output_type": "stream",
     "text": [
      "[CV]  max_features=0.3282389873493578, max_samples=0.6214098790649851, n_estimators=11, total=   0.8s\n",
      "[CV] max_features=0.7944050869843461, max_samples=0.5440921573364353, n_estimators=14 \n",
      "[CV]  max_features=0.7944050869843461, max_samples=0.5440921573364353, n_estimators=14, total=   2.1s\n",
      "[CV] max_features=0.7944050869843461, max_samples=0.5440921573364353, n_estimators=14 \n",
      "[CV]  max_features=0.7944050869843461, max_samples=0.5440921573364353, n_estimators=14, total=   2.1s\n",
      "[CV] max_features=0.19425512453845153, max_samples=0.6271109408674611, n_estimators=32 \n",
      "[CV]  max_features=0.19425512453845153, max_samples=0.6271109408674611, n_estimators=32, total=   1.3s\n",
      "[CV] max_features=0.19425512453845153, max_samples=0.6271109408674611, n_estimators=32 \n",
      "[CV]  max_features=0.19425512453845153, max_samples=0.6271109408674611, n_estimators=32, total=   1.3s\n",
      "[CV] max_features=0.34671149162260095, max_samples=0.2870219906631931, n_estimators=49 \n",
      "[CV]  max_features=0.34671149162260095, max_samples=0.2870219906631931, n_estimators=49, total=   2.6s\n",
      "[CV] max_features=0.34671149162260095, max_samples=0.2870219906631931, n_estimators=49 \n",
      "[CV]  max_features=0.34671149162260095, max_samples=0.2870219906631931, n_estimators=49, total=   2.4s\n",
      "[CV] max_features=0.8393561819065444, max_samples=0.37176885908851676, n_estimators=34 \n",
      "[CV]  max_features=0.8393561819065444, max_samples=0.37176885908851676, n_estimators=34, total=   4.1s\n",
      "[CV] max_features=0.8393561819065444, max_samples=0.37176885908851676, n_estimators=34 \n",
      "[CV]  max_features=0.8393561819065444, max_samples=0.37176885908851676, n_estimators=34, total=   4.7s\n",
      "[CV] max_features=0.44736236175252075, max_samples=0.11802730058031274, n_estimators=32 \n",
      "[CV]  max_features=0.44736236175252075, max_samples=0.11802730058031274, n_estimators=32, total=   1.8s\n",
      "[CV] max_features=0.44736236175252075, max_samples=0.11802730058031274, n_estimators=32 \n",
      "[CV]  max_features=0.44736236175252075, max_samples=0.11802730058031274, n_estimators=32, total=   1.6s\n",
      "[CV] max_features=0.28290209142338507, max_samples=0.974698538977255, n_estimators=49 \n",
      "[CV]  max_features=0.28290209142338507, max_samples=0.974698538977255, n_estimators=49, total=   3.4s\n",
      "[CV] max_features=0.28290209142338507, max_samples=0.974698538977255, n_estimators=49 \n",
      "[CV]  max_features=0.28290209142338507, max_samples=0.974698538977255, n_estimators=49, total=   3.4s\n",
      "[CV] max_features=0.9819542072400194, max_samples=0.9856997575770949, n_estimators=34 \n",
      "[CV]  max_features=0.9819542072400194, max_samples=0.9856997575770949, n_estimators=34, total=   8.3s\n",
      "[CV] max_features=0.9819542072400194, max_samples=0.9856997575770949, n_estimators=34 \n",
      "[CV]  max_features=0.9819542072400194, max_samples=0.9856997575770949, n_estimators=34, total=   7.7s\n",
      "[CV] max_features=0.23158911447870598, max_samples=0.7766760260947839, n_estimators=21 \n",
      "[CV]  max_features=0.23158911447870598, max_samples=0.7766760260947839, n_estimators=21, total=   1.2s\n",
      "[CV] max_features=0.23158911447870598, max_samples=0.7766760260947839, n_estimators=21 \n",
      "[CV]  max_features=0.23158911447870598, max_samples=0.7766760260947839, n_estimators=21, total=   1.0s\n",
      "[CV] max_features=0.6755281740075959, max_samples=0.19585863144002066, n_estimators=17 \n",
      "[CV]  max_features=0.6755281740075959, max_samples=0.19585863144002066, n_estimators=17, total=   1.5s\n",
      "[CV] max_features=0.6755281740075959, max_samples=0.19585863144002066, n_estimators=17 \n",
      "[CV]  max_features=0.6755281740075959, max_samples=0.19585863144002066, n_estimators=17, total=   1.6s\n",
      "[CV] max_features=0.129812022907205, max_samples=0.9172720052349831, n_estimators=10 \n"
     ]
    },
    {
     "name": "stderr",
     "output_type": "stream",
     "text": [
      "C:\\Users\\javif\\Anaconda3\\lib\\site-packages\\sklearn\\ensemble\\bagging.py:605: UserWarning: Some inputs do not have OOB scores. This probably means too few estimators were used to compute any reliable oob estimates.\n",
      "  warn(\"Some inputs do not have OOB scores. \"\n",
      "C:\\Users\\javif\\Anaconda3\\lib\\site-packages\\sklearn\\ensemble\\bagging.py:610: RuntimeWarning: invalid value encountered in true_divide\n",
      "  predictions.sum(axis=1)[:, np.newaxis])\n"
     ]
    },
    {
     "name": "stdout",
     "output_type": "stream",
     "text": [
      "[CV]  max_features=0.129812022907205, max_samples=0.9172720052349831, n_estimators=10, total=   0.4s\n",
      "[CV] max_features=0.129812022907205, max_samples=0.9172720052349831, n_estimators=10 \n"
     ]
    },
    {
     "name": "stderr",
     "output_type": "stream",
     "text": [
      "C:\\Users\\javif\\Anaconda3\\lib\\site-packages\\sklearn\\ensemble\\bagging.py:605: UserWarning: Some inputs do not have OOB scores. This probably means too few estimators were used to compute any reliable oob estimates.\n",
      "  warn(\"Some inputs do not have OOB scores. \"\n",
      "C:\\Users\\javif\\Anaconda3\\lib\\site-packages\\sklearn\\ensemble\\bagging.py:610: RuntimeWarning: invalid value encountered in true_divide\n",
      "  predictions.sum(axis=1)[:, np.newaxis])\n"
     ]
    },
    {
     "name": "stdout",
     "output_type": "stream",
     "text": [
      "[CV]  max_features=0.129812022907205, max_samples=0.9172720052349831, n_estimators=10, total=   0.5s\n",
      "[CV] max_features=0.6886738259653168, max_samples=0.7019597916647812, n_estimators=40 \n",
      "[CV]  max_features=0.6886738259653168, max_samples=0.7019597916647812, n_estimators=40, total=   6.0s\n",
      "[CV] max_features=0.6886738259653168, max_samples=0.7019597916647812, n_estimators=40 \n",
      "[CV]  max_features=0.6886738259653168, max_samples=0.7019597916647812, n_estimators=40, total=   5.3s\n",
      "[CV] max_features=0.9334365849557639, max_samples=0.2677342047622845, n_estimators=12 \n",
      "[CV]  max_features=0.9334365849557639, max_samples=0.2677342047622845, n_estimators=12, total=   1.4s\n",
      "[CV] max_features=0.9334365849557639, max_samples=0.2677342047622845, n_estimators=12 \n",
      "[CV]  max_features=0.9334365849557639, max_samples=0.2677342047622845, n_estimators=12, total=   1.4s\n",
      "[CV] max_features=0.8108341659174969, max_samples=0.7794712461129389, n_estimators=46 \n",
      "[CV]  max_features=0.8108341659174969, max_samples=0.7794712461129389, n_estimators=46, total=   7.8s\n",
      "[CV] max_features=0.8108341659174969, max_samples=0.7794712461129389, n_estimators=46 \n",
      "[CV]  max_features=0.8108341659174969, max_samples=0.7794712461129389, n_estimators=46, total=   7.8s\n",
      "[CV] max_features=0.3786474610291042, max_samples=0.9125510906819592, n_estimators=16 \n"
     ]
    },
    {
     "name": "stderr",
     "output_type": "stream",
     "text": [
      "C:\\Users\\javif\\Anaconda3\\lib\\site-packages\\sklearn\\ensemble\\bagging.py:605: UserWarning: Some inputs do not have OOB scores. This probably means too few estimators were used to compute any reliable oob estimates.\n",
      "  warn(\"Some inputs do not have OOB scores. \"\n",
      "C:\\Users\\javif\\Anaconda3\\lib\\site-packages\\sklearn\\ensemble\\bagging.py:610: RuntimeWarning: invalid value encountered in true_divide\n",
      "  predictions.sum(axis=1)[:, np.newaxis])\n"
     ]
    },
    {
     "name": "stdout",
     "output_type": "stream",
     "text": [
      "[CV]  max_features=0.3786474610291042, max_samples=0.9125510906819592, n_estimators=16, total=   1.4s\n",
      "[CV] max_features=0.3786474610291042, max_samples=0.9125510906819592, n_estimators=16 \n",
      "[CV]  max_features=0.3786474610291042, max_samples=0.9125510906819592, n_estimators=16, total=   1.5s\n",
      "[CV] max_features=0.7978241019925982, max_samples=0.6601093569673094, n_estimators=48 \n",
      "[CV]  max_features=0.7978241019925982, max_samples=0.6601093569673094, n_estimators=48, total=   7.0s\n",
      "[CV] max_features=0.7978241019925982, max_samples=0.6601093569673094, n_estimators=48 \n",
      "[CV]  max_features=0.7978241019925982, max_samples=0.6601093569673094, n_estimators=48, total=   7.3s\n",
      "[CV] max_features=0.15112451650332093, max_samples=0.46376724205320696, n_estimators=16 \n",
      "[CV]  max_features=0.15112451650332093, max_samples=0.46376724205320696, n_estimators=16, total=   0.6s\n",
      "[CV] max_features=0.15112451650332093, max_samples=0.46376724205320696, n_estimators=16 \n",
      "[CV]  max_features=0.15112451650332093, max_samples=0.46376724205320696, n_estimators=16, total=   0.5s\n",
      "[CV] max_features=0.9978513967536067, max_samples=0.8717804242053069, n_estimators=13 \n"
     ]
    },
    {
     "name": "stderr",
     "output_type": "stream",
     "text": [
      "C:\\Users\\javif\\Anaconda3\\lib\\site-packages\\sklearn\\ensemble\\bagging.py:605: UserWarning: Some inputs do not have OOB scores. This probably means too few estimators were used to compute any reliable oob estimates.\n",
      "  warn(\"Some inputs do not have OOB scores. \"\n",
      "C:\\Users\\javif\\Anaconda3\\lib\\site-packages\\sklearn\\ensemble\\bagging.py:610: RuntimeWarning: invalid value encountered in true_divide\n",
      "  predictions.sum(axis=1)[:, np.newaxis])\n"
     ]
    },
    {
     "name": "stdout",
     "output_type": "stream",
     "text": [
      "[CV]  max_features=0.9978513967536067, max_samples=0.8717804242053069, n_estimators=13, total=   3.0s\n",
      "[CV] max_features=0.9978513967536067, max_samples=0.8717804242053069, n_estimators=13 \n"
     ]
    },
    {
     "name": "stderr",
     "output_type": "stream",
     "text": [
      "C:\\Users\\javif\\Anaconda3\\lib\\site-packages\\sklearn\\ensemble\\bagging.py:605: UserWarning: Some inputs do not have OOB scores. This probably means too few estimators were used to compute any reliable oob estimates.\n",
      "  warn(\"Some inputs do not have OOB scores. \"\n",
      "C:\\Users\\javif\\Anaconda3\\lib\\site-packages\\sklearn\\ensemble\\bagging.py:610: RuntimeWarning: invalid value encountered in true_divide\n",
      "  predictions.sum(axis=1)[:, np.newaxis])\n"
     ]
    },
    {
     "name": "stdout",
     "output_type": "stream",
     "text": [
      "[CV]  max_features=0.9978513967536067, max_samples=0.8717804242053069, n_estimators=13, total=   2.8s\n",
      "[CV] max_features=0.7778233874452978, max_samples=0.579021805871031, n_estimators=14 \n",
      "[CV]  max_features=0.7778233874452978, max_samples=0.579021805871031, n_estimators=14, total=   2.0s\n",
      "[CV] max_features=0.7778233874452978, max_samples=0.579021805871031, n_estimators=14 \n",
      "[CV]  max_features=0.7778233874452978, max_samples=0.579021805871031, n_estimators=14, total=   2.0s\n",
      "[CV] max_features=0.413530611447662, max_samples=0.17136634941804113, n_estimators=30 \n",
      "[CV]  max_features=0.413530611447662, max_samples=0.17136634941804113, n_estimators=30, total=   1.4s\n",
      "[CV] max_features=0.413530611447662, max_samples=0.17136634941804113, n_estimators=30 \n",
      "[CV]  max_features=0.413530611447662, max_samples=0.17136634941804113, n_estimators=30, total=   1.4s\n",
      "[CV] max_features=0.751670949051999, max_samples=0.43326894770547175, n_estimators=30 \n",
      "[CV]  max_features=0.751670949051999, max_samples=0.43326894770547175, n_estimators=30, total=   3.6s\n",
      "[CV] max_features=0.751670949051999, max_samples=0.43326894770547175, n_estimators=30 \n",
      "[CV]  max_features=0.751670949051999, max_samples=0.43326894770547175, n_estimators=30, total=   3.4s\n"
     ]
    },
    {
     "name": "stderr",
     "output_type": "stream",
     "text": [
      "[Parallel(n_jobs=1)]: Done  50 out of  50 | elapsed:  2.9min finished\n"
     ]
    },
    {
     "data": {
      "text/plain": [
       "RandomizedSearchCV(cv=2, error_score='raise',\n",
       "          estimator=BaggingClassifier(base_estimator=None, bootstrap=True,\n",
       "         bootstrap_features=True, max_features=1.0, max_samples=1.0,\n",
       "         n_estimators=10, n_jobs=1, oob_score=True, random_state=None,\n",
       "         verbose=0, warm_start=False),\n",
       "          fit_params=None, iid=True, n_iter=25, n_jobs=1,\n",
       "          param_distributions={'n_estimators': <scipy.stats._distn_infrastructure.rv_frozen object at 0x000001AB496AB9B0>, 'max_samples': <scipy.stats._distn_infrastructure.rv_frozen object at 0x000001AB496ABB00>, 'max_features': <scipy.stats._distn_infrastructure.rv_frozen object at 0x000001AB496ABEB8>},\n",
       "          pre_dispatch='2*n_jobs', random_state=None, refit=True,\n",
       "          return_train_score='warn', scoring='roc_auc', verbose=2)"
      ]
     },
     "execution_count": 27,
     "metadata": {},
     "output_type": "execute_result"
    }
   ],
   "source": [
    "grid.fit(xtr,ytr)"
   ]
  },
  {
   "cell_type": "code",
   "execution_count": 28,
   "metadata": {},
   "outputs": [
    {
     "data": {
      "text/plain": [
       "0.786138182173916"
      ]
     },
     "execution_count": 28,
     "metadata": {},
     "output_type": "execute_result"
    }
   ],
   "source": [
    "grid.score(X=xte,y=yte)"
   ]
  },
  {
   "cell_type": "code",
   "execution_count": null,
   "metadata": {},
   "outputs": [],
   "source": []
  }
 ],
 "metadata": {
  "kernelspec": {
   "display_name": "Python 3",
   "language": "python",
   "name": "python3"
  },
  "language_info": {
   "codemirror_mode": {
    "name": "ipython",
    "version": 3
   },
   "file_extension": ".py",
   "mimetype": "text/x-python",
   "name": "python",
   "nbconvert_exporter": "python",
   "pygments_lexer": "ipython3",
   "version": "3.6.5"
  }
 },
 "nbformat": 4,
 "nbformat_minor": 2
}
