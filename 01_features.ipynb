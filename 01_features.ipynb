{
 "cells": [
  {
   "cell_type": "code",
   "execution_count": 1,
   "metadata": {},
   "outputs": [
    {
     "name": "stderr",
     "output_type": "stream",
     "text": [
      "C:\\Users\\javif\\Anaconda3\\lib\\site-packages\\IPython\\core\\interactiveshell.py:2785: DtypeWarning: Columns (3,5,6,7,8,9,10,11,12,13,14,15,16,17,18,19,20,21,22) have mixed types. Specify dtype option on import or set low_memory=False.\n",
      "  interactivity=interactivity, compiler=compiler, result=result)\n"
     ]
    }
   ],
   "source": [
    "import pandas as pd\n",
    "file = pd.read_csv('events_up_to_01062018.csv')"
   ]
  },
  {
   "cell_type": "code",
   "execution_count": 2,
   "metadata": {},
   "outputs": [],
   "source": [
    "file['timestamp'] = pd.to_datetime(file['timestamp'])"
   ]
  },
  {
   "cell_type": "markdown",
   "metadata": {},
   "source": [
    "## Saco features"
   ]
  },
  {
   "cell_type": "code",
   "execution_count": 3,
   "metadata": {},
   "outputs": [],
   "source": [
    "#cantidad de compras, visitas, productos vistos\n",
    "def cantidades (x):\n",
    "    compras = (x['event']=='conversion').sum()\n",
    "    visitas = (x['event']=='visited site').sum()\n",
    "    cant_prod_vistos = (x['event']=='viewed product').sum()\n",
    "    return pd.Series([compras,visitas,cant_prod_vistos])\n",
    "cantidades = file.groupby('person').apply(cantidades)\n",
    "cantidades.columns=['compras','visitas','cant_prod_vistos']"
   ]
  },
  {
   "cell_type": "code",
   "execution_count": 4,
   "metadata": {},
   "outputs": [],
   "source": [
    "#el tipo de dispositivo que mas uso para entrar\n",
    "def dispos (x):\n",
    "    dispos = x['device_type'].value_counts().index\n",
    "    if dispos.size>0:\n",
    "        dispositivo = dispos[0]\n",
    "    else:\n",
    "        dispositivo = 'Ninguno'\n",
    "    return pd.Series([dispositivo])\n",
    "dispos = file.groupby('person').apply(dispos)\n",
    "dispos.columns=['dispos']"
   ]
  },
  {
   "cell_type": "code",
   "execution_count": 5,
   "metadata": {},
   "outputs": [],
   "source": [
    "#el producto que mas vio\n",
    "def prodvisto (x):\n",
    "    prods = x.loc[x.event=='viewed product','model'].value_counts().index\n",
    "    if prods.size>0:\n",
    "        prod_visto = prods[0]\n",
    "    else:\n",
    "        prod_visto = 'Ninguno'\n",
    "    return pd.Series([prod_visto])\n",
    "prodvisto = file.groupby('person').apply(prodvisto)\n",
    "prodvisto.columns = ['prod_visto']"
   ]
  },
  {
   "cell_type": "code",
   "execution_count": 6,
   "metadata": {
    "scrolled": true
   },
   "outputs": [],
   "source": [
    "#el evento que realizo mas veces\n",
    "def mayorevento (x):\n",
    "    mayor_evento = x['event'].value_counts().index[0]\n",
    "    return pd.Series([mayor_evento])\n",
    "mayorevento = file.groupby('person').apply(mayorevento)\n",
    "mayorevento.columns = ['mayor_evento']"
   ]
  },
  {
   "cell_type": "code",
   "execution_count": 7,
   "metadata": {},
   "outputs": [],
   "source": [
    "features = mayorevento.join(prodvisto).join(dispos).join(cantidades)"
   ]
  },
  {
   "cell_type": "code",
   "execution_count": 8,
   "metadata": {
    "scrolled": true
   },
   "outputs": [],
   "source": [
    "#features temporales\n",
    "def temporal (x):\n",
    "    s = x['timestamp'].size\n",
    "    primer_visita = x['timestamp'].min()\n",
    "    ultima_visita = x['timestamp'].max()\n",
    "    cant_eventos = s\n",
    "    return pd.Series([primer_visita,ultima_visita,cant_eventos])\n",
    "temporal = file.groupby('person').apply(temporal)"
   ]
  },
  {
   "cell_type": "code",
   "execution_count": 10,
   "metadata": {},
   "outputs": [],
   "source": [
    "#channel por el que mas entró\n",
    "def channel (x):\n",
    "    channels = x['channel'].value_counts()\n",
    "    if channels.size > 0:\n",
    "        return channels.index[0]\n",
    "    else:\n",
    "        return 'Ninguno'\n",
    "channel = file.groupby('person').apply(channel)\n",
    "channel.columns = ['channel']"
   ]
  },
  {
   "cell_type": "code",
   "execution_count": 9,
   "metadata": {},
   "outputs": [],
   "source": [
    "temporal.columns = ['primer_visita','ultima_visita','cant_eventos']\n",
    "processed = features.join(temporal)"
   ]
  },
  {
   "cell_type": "code",
   "execution_count": 11,
   "metadata": {},
   "outputs": [
    {
     "data": {
      "text/html": [
       "<div>\n",
       "<style scoped>\n",
       "    .dataframe tbody tr th:only-of-type {\n",
       "        vertical-align: middle;\n",
       "    }\n",
       "\n",
       "    .dataframe tbody tr th {\n",
       "        vertical-align: top;\n",
       "    }\n",
       "\n",
       "    .dataframe thead th {\n",
       "        text-align: right;\n",
       "    }\n",
       "</style>\n",
       "<table border=\"1\" class=\"dataframe\">\n",
       "  <thead>\n",
       "    <tr style=\"text-align: right;\">\n",
       "      <th></th>\n",
       "      <th>mayor_evento</th>\n",
       "      <th>prod_visto</th>\n",
       "      <th>dispos</th>\n",
       "      <th>compras</th>\n",
       "      <th>visitas</th>\n",
       "      <th>cant_prod_vistos</th>\n",
       "      <th>primer_visita</th>\n",
       "      <th>ultima_visita</th>\n",
       "      <th>cant_eventos</th>\n",
       "    </tr>\n",
       "    <tr>\n",
       "      <th>person</th>\n",
       "      <th></th>\n",
       "      <th></th>\n",
       "      <th></th>\n",
       "      <th></th>\n",
       "      <th></th>\n",
       "      <th></th>\n",
       "      <th></th>\n",
       "      <th></th>\n",
       "      <th></th>\n",
       "    </tr>\n",
       "  </thead>\n",
       "  <tbody>\n",
       "    <tr>\n",
       "      <th>0008ed71</th>\n",
       "      <td>checkout</td>\n",
       "      <td>Ninguno</td>\n",
       "      <td>Computer</td>\n",
       "      <td>0</td>\n",
       "      <td>2</td>\n",
       "      <td>0</td>\n",
       "      <td>2018-05-17 12:27:47</td>\n",
       "      <td>2018-05-17 16:28:37</td>\n",
       "      <td>6</td>\n",
       "    </tr>\n",
       "    <tr>\n",
       "      <th>00091926</th>\n",
       "      <td>viewed product</td>\n",
       "      <td>iPhone 6S</td>\n",
       "      <td>Computer</td>\n",
       "      <td>0</td>\n",
       "      <td>34</td>\n",
       "      <td>372</td>\n",
       "      <td>2018-05-03 22:08:29</td>\n",
       "      <td>2018-05-31 19:52:03</td>\n",
       "      <td>448</td>\n",
       "    </tr>\n",
       "    <tr>\n",
       "      <th>00091a7a</th>\n",
       "      <td>brand listing</td>\n",
       "      <td>iPhone 6S</td>\n",
       "      <td>Smartphone</td>\n",
       "      <td>0</td>\n",
       "      <td>1</td>\n",
       "      <td>3</td>\n",
       "      <td>2018-03-26 14:51:11</td>\n",
       "      <td>2018-03-26 14:56:58</td>\n",
       "      <td>10</td>\n",
       "    </tr>\n",
       "    <tr>\n",
       "      <th>000ba417</th>\n",
       "      <td>viewed product</td>\n",
       "      <td>Samsung Galaxy A3 Duos</td>\n",
       "      <td>Computer</td>\n",
       "      <td>1</td>\n",
       "      <td>6</td>\n",
       "      <td>153</td>\n",
       "      <td>2018-05-17 11:11:45</td>\n",
       "      <td>2018-05-26 13:09:22</td>\n",
       "      <td>206</td>\n",
       "    </tr>\n",
       "    <tr>\n",
       "      <th>000c79fe</th>\n",
       "      <td>searched products</td>\n",
       "      <td>iPhone 7</td>\n",
       "      <td>Smartphone</td>\n",
       "      <td>0</td>\n",
       "      <td>1</td>\n",
       "      <td>3</td>\n",
       "      <td>2018-05-29 00:27:47</td>\n",
       "      <td>2018-05-29 00:38:07</td>\n",
       "      <td>17</td>\n",
       "    </tr>\n",
       "  </tbody>\n",
       "</table>\n",
       "</div>"
      ],
      "text/plain": [
       "               mayor_evento              prod_visto      dispos  compras  \\\n",
       "person                                                                     \n",
       "0008ed71           checkout                 Ninguno    Computer        0   \n",
       "00091926     viewed product               iPhone 6S    Computer        0   \n",
       "00091a7a      brand listing               iPhone 6S  Smartphone        0   \n",
       "000ba417     viewed product  Samsung Galaxy A3 Duos    Computer        1   \n",
       "000c79fe  searched products                iPhone 7  Smartphone        0   \n",
       "\n",
       "          visitas  cant_prod_vistos       primer_visita       ultima_visita  \\\n",
       "person                                                                        \n",
       "0008ed71        2                 0 2018-05-17 12:27:47 2018-05-17 16:28:37   \n",
       "00091926       34               372 2018-05-03 22:08:29 2018-05-31 19:52:03   \n",
       "00091a7a        1                 3 2018-03-26 14:51:11 2018-03-26 14:56:58   \n",
       "000ba417        6               153 2018-05-17 11:11:45 2018-05-26 13:09:22   \n",
       "000c79fe        1                 3 2018-05-29 00:27:47 2018-05-29 00:38:07   \n",
       "\n",
       "          cant_eventos  \n",
       "person                  \n",
       "0008ed71             6  \n",
       "00091926           448  \n",
       "00091a7a            10  \n",
       "000ba417           206  \n",
       "000c79fe            17  "
      ]
     },
     "execution_count": 11,
     "metadata": {},
     "output_type": "execute_result"
    }
   ],
   "source": [
    "processed.head()"
   ]
  },
  {
   "cell_type": "markdown",
   "metadata": {},
   "source": [
    "## Un par de features mas a partir de las que ya saque:"
   ]
  },
  {
   "cell_type": "code",
   "execution_count": 12,
   "metadata": {},
   "outputs": [],
   "source": [
    "processed['permanencia'] = (processed['ultima_visita']-processed['primer_visita']).dt.days + 1"
   ]
  },
  {
   "cell_type": "code",
   "execution_count": 13,
   "metadata": {},
   "outputs": [],
   "source": [
    "processed['hace_cuanto_visito'] = (file['timestamp'].max()-processed['ultima_visita']).dt.days"
   ]
  },
  {
   "cell_type": "code",
   "execution_count": 14,
   "metadata": {},
   "outputs": [],
   "source": [
    "processed['eventos_por_dia'] = processed['cant_eventos']/processed['permanencia']"
   ]
  },
  {
   "cell_type": "code",
   "execution_count": 15,
   "metadata": {},
   "outputs": [],
   "source": [
    "processed['channel'] = channel"
   ]
  },
  {
   "cell_type": "code",
   "execution_count": 17,
   "metadata": {},
   "outputs": [],
   "source": [
    "processed['visitas_por_dia'] = processed['visitas']/processed['permanencia']"
   ]
  },
  {
   "cell_type": "markdown",
   "metadata": {},
   "source": [
    "## Lo guardo como csv para usarlo en la prediccion"
   ]
  },
  {
   "cell_type": "code",
   "execution_count": 16,
   "metadata": {},
   "outputs": [],
   "source": [
    "processed.to_csv('features_01.csv')"
   ]
  }
 ],
 "metadata": {
  "kernelspec": {
   "display_name": "Python 3",
   "language": "python",
   "name": "python3"
  },
  "language_info": {
   "codemirror_mode": {
    "name": "ipython",
    "version": 3
   },
   "file_extension": ".py",
   "mimetype": "text/x-python",
   "name": "python",
   "nbconvert_exporter": "python",
   "pygments_lexer": "ipython3",
   "version": "3.6.5"
  }
 },
 "nbformat": 4,
 "nbformat_minor": 2
}
