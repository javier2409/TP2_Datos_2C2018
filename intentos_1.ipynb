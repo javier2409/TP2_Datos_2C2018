{
 "cells": [
  {
   "cell_type": "markdown",
   "metadata": {},
   "source": [
    "Agregar features segun el nombre de usuario <br>\n",
    "Usar la prediccion de un predictor como feature para otro predictor <br>\n",
    "Usar varios clasificadores y promediar los resultados"
   ]
  },
  {
   "cell_type": "code",
   "execution_count": 1,
   "metadata": {},
   "outputs": [],
   "source": [
    "import gc\n",
    "import numpy as np"
   ]
  },
  {
   "cell_type": "code",
   "execution_count": 2,
   "metadata": {},
   "outputs": [
    {
     "data": {
      "text/plain": [
       "0"
      ]
     },
     "execution_count": 2,
     "metadata": {},
     "output_type": "execute_result"
    }
   ],
   "source": [
    "gc.collect()"
   ]
  },
  {
   "cell_type": "code",
   "execution_count": 3,
   "metadata": {},
   "outputs": [],
   "source": [
    "import pandas as pd\n",
    "from sklearn.model_selection import train_test_split\n",
    "from sklearn.metrics import roc_auc_score\n",
    "from category_encoders import TargetEncoder"
   ]
  },
  {
   "cell_type": "code",
   "execution_count": 4,
   "metadata": {},
   "outputs": [],
   "source": [
    "import xgboost as xgb"
   ]
  },
  {
   "cell_type": "code",
   "execution_count": 5,
   "metadata": {},
   "outputs": [],
   "source": [
    "from sklearn.model_selection import GridSearchCV"
   ]
  },
  {
   "cell_type": "code",
   "execution_count": 6,
   "metadata": {},
   "outputs": [],
   "source": [
    "import pandas as pd"
   ]
  },
  {
   "cell_type": "code",
   "execution_count": 7,
   "metadata": {},
   "outputs": [],
   "source": [
    "predict = pd.read_csv('trocafone_kaggle_test.csv')"
   ]
  },
  {
   "cell_type": "code",
   "execution_count": 8,
   "metadata": {},
   "outputs": [],
   "source": [
    "file = pd.read_csv('events_up_to_01062018.csv',low_memory=False)"
   ]
  },
  {
   "cell_type": "code",
   "execution_count": 9,
   "metadata": {},
   "outputs": [],
   "source": [
    "a_predecir = pd.read_csv('labels_training_set.csv')"
   ]
  },
  {
   "cell_type": "code",
   "execution_count": 10,
   "metadata": {},
   "outputs": [
    {
     "name": "stdout",
     "output_type": "stream",
     "text": [
      "<class 'pandas.core.frame.DataFrame'>\n",
      "RangeIndex: 2341681 entries, 0 to 2341680\n",
      "Data columns (total 23 columns):\n",
      "timestamp                   object\n",
      "event                       object\n",
      "person                      object\n",
      "url                         object\n",
      "sku                         float64\n",
      "model                       object\n",
      "condition                   object\n",
      "storage                     object\n",
      "color                       object\n",
      "skus                        object\n",
      "search_term                 object\n",
      "staticpage                  object\n",
      "campaign_source             object\n",
      "search_engine               object\n",
      "channel                     object\n",
      "new_vs_returning            object\n",
      "city                        object\n",
      "region                      object\n",
      "country                     object\n",
      "device_type                 object\n",
      "screen_resolution           object\n",
      "operating_system_version    object\n",
      "browser_version             object\n",
      "dtypes: float64(1), object(22)\n",
      "memory usage: 410.9+ MB\n"
     ]
    }
   ],
   "source": [
    "file.info()"
   ]
  },
  {
   "cell_type": "code",
   "execution_count": 11,
   "metadata": {},
   "outputs": [
    {
     "data": {
      "text/plain": [
       "38829"
      ]
     },
     "execution_count": 11,
     "metadata": {},
     "output_type": "execute_result"
    }
   ],
   "source": [
    "file.person.unique().size"
   ]
  },
  {
   "cell_type": "code",
   "execution_count": 12,
   "metadata": {},
   "outputs": [],
   "source": [
    "file['timestamp'] = pd.to_datetime(file['timestamp'])"
   ]
  },
  {
   "cell_type": "code",
   "execution_count": 13,
   "metadata": {},
   "outputs": [
    {
     "data": {
      "text/plain": [
       "'viewed product'"
      ]
     },
     "execution_count": 13,
     "metadata": {},
     "output_type": "execute_result"
    }
   ],
   "source": [
    "file['event'].value_counts().index[0]"
   ]
  },
  {
   "cell_type": "code",
   "execution_count": null,
   "metadata": {
    "scrolled": true
   },
   "outputs": [],
   "source": [
    "def transformacion (x):\n",
    "    compras = (x['event']=='conversion').sum()\n",
    "    visitas = (x['event']=='visited site').sum()\n",
    "    cant_prod_vistos = (x['event']=='viewed product').sum()\n",
    "    mayor_evento = x['event'].value_counts().index[0]\n",
    "    dispos = x['device_type'].value_counts().index\n",
    "    if dispos.size>0:\n",
    "        dispositivo = dispos[0]\n",
    "    else:\n",
    "        dispositivo = 'Ninguno'\n",
    "    \n",
    "    prods = x.loc[x.event=='viewed product','model'].value_counts().index\n",
    "    if prods.size>0:\n",
    "        prod_visto = prods[0]\n",
    "    else:\n",
    "        prod_visto = 'Ninguno'\n",
    "    \n",
    "    return pd.Series([compras,visitas,cant_prod_vistos,mayor_evento,dispositivo,prod_visto])\n",
    "features = file.groupby('person').apply(transformacion)\n",
    "features.columns = ['compras','visitas','cant_prod_vistos','mayor_evento','dispositivo','prod_visto']"
   ]
  },
  {
   "cell_type": "code",
   "execution_count": null,
   "metadata": {
    "scrolled": true
   },
   "outputs": [],
   "source": [
    "def temporal (x):\n",
    "    s = x['timestamp'].size\n",
    "    primer_visita = x['timestamp'].min()\n",
    "    ultima_visita = x['timestamp'].max()\n",
    "    cant_eventos = s\n",
    "    return pd.Series([primer_visita,ultima_visita,cant_eventos])\n",
    "temporal = file.groupby('person').apply(temporal)"
   ]
  },
  {
   "cell_type": "code",
   "execution_count": 16,
   "metadata": {},
   "outputs": [],
   "source": [
    "def channel (x):\n",
    "    channels = x['channel'].value_counts()\n",
    "    if channels.size > 0:\n",
    "        return channels.index[0]\n",
    "    else:\n",
    "        return 'Ninguno'\n",
    "channel = file.groupby('person').apply(channel)\n",
    "channel.columns = ['channel']"
   ]
  },
  {
   "cell_type": "code",
   "execution_count": 17,
   "metadata": {},
   "outputs": [],
   "source": [
    "temporal.columns = ['primer_visita','ultima_visita','cant_eventos']\n",
    "processed = features.join(temporal)"
   ]
  },
  {
   "cell_type": "code",
   "execution_count": 18,
   "metadata": {},
   "outputs": [
    {
     "data": {
      "text/html": [
       "<div>\n",
       "<style scoped>\n",
       "    .dataframe tbody tr th:only-of-type {\n",
       "        vertical-align: middle;\n",
       "    }\n",
       "\n",
       "    .dataframe tbody tr th {\n",
       "        vertical-align: top;\n",
       "    }\n",
       "\n",
       "    .dataframe thead th {\n",
       "        text-align: right;\n",
       "    }\n",
       "</style>\n",
       "<table border=\"1\" class=\"dataframe\">\n",
       "  <thead>\n",
       "    <tr style=\"text-align: right;\">\n",
       "      <th></th>\n",
       "      <th>compras</th>\n",
       "      <th>visitas</th>\n",
       "      <th>cant_prod_vistos</th>\n",
       "      <th>mayor_evento</th>\n",
       "      <th>dispositivo</th>\n",
       "      <th>prod_visto</th>\n",
       "      <th>primer_visita</th>\n",
       "      <th>ultima_visita</th>\n",
       "      <th>cant_eventos</th>\n",
       "    </tr>\n",
       "    <tr>\n",
       "      <th>person</th>\n",
       "      <th></th>\n",
       "      <th></th>\n",
       "      <th></th>\n",
       "      <th></th>\n",
       "      <th></th>\n",
       "      <th></th>\n",
       "      <th></th>\n",
       "      <th></th>\n",
       "      <th></th>\n",
       "    </tr>\n",
       "  </thead>\n",
       "  <tbody>\n",
       "    <tr>\n",
       "      <th>0008ed71</th>\n",
       "      <td>0</td>\n",
       "      <td>2</td>\n",
       "      <td>0</td>\n",
       "      <td>checkout</td>\n",
       "      <td>Computer</td>\n",
       "      <td>Ninguno</td>\n",
       "      <td>2018-05-17 12:27:47</td>\n",
       "      <td>2018-05-17 16:28:37</td>\n",
       "      <td>6</td>\n",
       "    </tr>\n",
       "    <tr>\n",
       "      <th>00091926</th>\n",
       "      <td>0</td>\n",
       "      <td>34</td>\n",
       "      <td>372</td>\n",
       "      <td>viewed product</td>\n",
       "      <td>Computer</td>\n",
       "      <td>iPhone 6S</td>\n",
       "      <td>2018-05-03 22:08:29</td>\n",
       "      <td>2018-05-31 19:52:03</td>\n",
       "      <td>448</td>\n",
       "    </tr>\n",
       "    <tr>\n",
       "      <th>00091a7a</th>\n",
       "      <td>0</td>\n",
       "      <td>1</td>\n",
       "      <td>3</td>\n",
       "      <td>brand listing</td>\n",
       "      <td>Smartphone</td>\n",
       "      <td>iPhone 6</td>\n",
       "      <td>2018-03-26 14:51:11</td>\n",
       "      <td>2018-03-26 14:56:58</td>\n",
       "      <td>10</td>\n",
       "    </tr>\n",
       "    <tr>\n",
       "      <th>000ba417</th>\n",
       "      <td>1</td>\n",
       "      <td>6</td>\n",
       "      <td>153</td>\n",
       "      <td>viewed product</td>\n",
       "      <td>Computer</td>\n",
       "      <td>Samsung Galaxy A3 Duos</td>\n",
       "      <td>2018-05-17 11:11:45</td>\n",
       "      <td>2018-05-26 13:09:22</td>\n",
       "      <td>206</td>\n",
       "    </tr>\n",
       "    <tr>\n",
       "      <th>000c79fe</th>\n",
       "      <td>0</td>\n",
       "      <td>1</td>\n",
       "      <td>3</td>\n",
       "      <td>searched products</td>\n",
       "      <td>Smartphone</td>\n",
       "      <td>iPhone 7</td>\n",
       "      <td>2018-05-29 00:27:47</td>\n",
       "      <td>2018-05-29 00:38:07</td>\n",
       "      <td>17</td>\n",
       "    </tr>\n",
       "  </tbody>\n",
       "</table>\n",
       "</div>"
      ],
      "text/plain": [
       "          compras  visitas  cant_prod_vistos       mayor_evento dispositivo  \\\n",
       "person                                                                        \n",
       "0008ed71        0        2                 0           checkout    Computer   \n",
       "00091926        0       34               372     viewed product    Computer   \n",
       "00091a7a        0        1                 3      brand listing  Smartphone   \n",
       "000ba417        1        6               153     viewed product    Computer   \n",
       "000c79fe        0        1                 3  searched products  Smartphone   \n",
       "\n",
       "                      prod_visto       primer_visita       ultima_visita  \\\n",
       "person                                                                     \n",
       "0008ed71                 Ninguno 2018-05-17 12:27:47 2018-05-17 16:28:37   \n",
       "00091926               iPhone 6S 2018-05-03 22:08:29 2018-05-31 19:52:03   \n",
       "00091a7a                iPhone 6 2018-03-26 14:51:11 2018-03-26 14:56:58   \n",
       "000ba417  Samsung Galaxy A3 Duos 2018-05-17 11:11:45 2018-05-26 13:09:22   \n",
       "000c79fe                iPhone 7 2018-05-29 00:27:47 2018-05-29 00:38:07   \n",
       "\n",
       "          cant_eventos  \n",
       "person                  \n",
       "0008ed71             6  \n",
       "00091926           448  \n",
       "00091a7a            10  \n",
       "000ba417           206  \n",
       "000c79fe            17  "
      ]
     },
     "execution_count": 18,
     "metadata": {},
     "output_type": "execute_result"
    }
   ],
   "source": [
    "processed.head()"
   ]
  },
  {
   "cell_type": "code",
   "execution_count": 19,
   "metadata": {},
   "outputs": [],
   "source": [
    "processed['permanencia'] = (processed['ultima_visita']-processed['primer_visita']).dt.days + 1"
   ]
  },
  {
   "cell_type": "code",
   "execution_count": 20,
   "metadata": {},
   "outputs": [],
   "source": [
    "processed['hace_cuanto_visito'] = (file['timestamp'].max()-processed['ultima_visita']).dt.days"
   ]
  },
  {
   "cell_type": "code",
   "execution_count": 21,
   "metadata": {},
   "outputs": [],
   "source": [
    "processed['eventos_por_dia'] = processed['cant_eventos']/processed['permanencia']"
   ]
  },
  {
   "cell_type": "code",
   "execution_count": 22,
   "metadata": {},
   "outputs": [],
   "source": [
    "processed['channel'] = channel"
   ]
  },
  {
   "cell_type": "code",
   "execution_count": 23,
   "metadata": {},
   "outputs": [],
   "source": [
    "processed['visitas_por_dia'] = processed['visitas']/processed['permanencia']"
   ]
  },
  {
   "cell_type": "code",
   "execution_count": 24,
   "metadata": {},
   "outputs": [
    {
     "data": {
      "text/html": [
       "<div>\n",
       "<style scoped>\n",
       "    .dataframe tbody tr th:only-of-type {\n",
       "        vertical-align: middle;\n",
       "    }\n",
       "\n",
       "    .dataframe tbody tr th {\n",
       "        vertical-align: top;\n",
       "    }\n",
       "\n",
       "    .dataframe thead th {\n",
       "        text-align: right;\n",
       "    }\n",
       "</style>\n",
       "<table border=\"1\" class=\"dataframe\">\n",
       "  <thead>\n",
       "    <tr style=\"text-align: right;\">\n",
       "      <th></th>\n",
       "      <th>compras</th>\n",
       "      <th>visitas</th>\n",
       "      <th>cant_prod_vistos</th>\n",
       "      <th>mayor_evento</th>\n",
       "      <th>dispositivo</th>\n",
       "      <th>prod_visto</th>\n",
       "      <th>primer_visita</th>\n",
       "      <th>ultima_visita</th>\n",
       "      <th>cant_eventos</th>\n",
       "      <th>permanencia</th>\n",
       "      <th>hace_cuanto_visito</th>\n",
       "      <th>eventos_por_dia</th>\n",
       "      <th>channel</th>\n",
       "      <th>visitas_por_dia</th>\n",
       "    </tr>\n",
       "    <tr>\n",
       "      <th>person</th>\n",
       "      <th></th>\n",
       "      <th></th>\n",
       "      <th></th>\n",
       "      <th></th>\n",
       "      <th></th>\n",
       "      <th></th>\n",
       "      <th></th>\n",
       "      <th></th>\n",
       "      <th></th>\n",
       "      <th></th>\n",
       "      <th></th>\n",
       "      <th></th>\n",
       "      <th></th>\n",
       "      <th></th>\n",
       "    </tr>\n",
       "  </thead>\n",
       "  <tbody>\n",
       "    <tr>\n",
       "      <th>0008ed71</th>\n",
       "      <td>0</td>\n",
       "      <td>2</td>\n",
       "      <td>0</td>\n",
       "      <td>checkout</td>\n",
       "      <td>Computer</td>\n",
       "      <td>Ninguno</td>\n",
       "      <td>2018-05-17 12:27:47</td>\n",
       "      <td>2018-05-17 16:28:37</td>\n",
       "      <td>6</td>\n",
       "      <td>1</td>\n",
       "      <td>14</td>\n",
       "      <td>6.0</td>\n",
       "      <td>Referral</td>\n",
       "      <td>2.000000</td>\n",
       "    </tr>\n",
       "    <tr>\n",
       "      <th>00091926</th>\n",
       "      <td>0</td>\n",
       "      <td>34</td>\n",
       "      <td>372</td>\n",
       "      <td>viewed product</td>\n",
       "      <td>Computer</td>\n",
       "      <td>iPhone 6S</td>\n",
       "      <td>2018-05-03 22:08:29</td>\n",
       "      <td>2018-05-31 19:52:03</td>\n",
       "      <td>448</td>\n",
       "      <td>28</td>\n",
       "      <td>0</td>\n",
       "      <td>16.0</td>\n",
       "      <td>Direct</td>\n",
       "      <td>1.214286</td>\n",
       "    </tr>\n",
       "    <tr>\n",
       "      <th>00091a7a</th>\n",
       "      <td>0</td>\n",
       "      <td>1</td>\n",
       "      <td>3</td>\n",
       "      <td>brand listing</td>\n",
       "      <td>Smartphone</td>\n",
       "      <td>iPhone 6</td>\n",
       "      <td>2018-03-26 14:51:11</td>\n",
       "      <td>2018-03-26 14:56:58</td>\n",
       "      <td>10</td>\n",
       "      <td>1</td>\n",
       "      <td>66</td>\n",
       "      <td>10.0</td>\n",
       "      <td>Paid</td>\n",
       "      <td>1.000000</td>\n",
       "    </tr>\n",
       "    <tr>\n",
       "      <th>000ba417</th>\n",
       "      <td>1</td>\n",
       "      <td>6</td>\n",
       "      <td>153</td>\n",
       "      <td>viewed product</td>\n",
       "      <td>Computer</td>\n",
       "      <td>Samsung Galaxy A3 Duos</td>\n",
       "      <td>2018-05-17 11:11:45</td>\n",
       "      <td>2018-05-26 13:09:22</td>\n",
       "      <td>206</td>\n",
       "      <td>10</td>\n",
       "      <td>5</td>\n",
       "      <td>20.6</td>\n",
       "      <td>Direct</td>\n",
       "      <td>0.600000</td>\n",
       "    </tr>\n",
       "    <tr>\n",
       "      <th>000c79fe</th>\n",
       "      <td>0</td>\n",
       "      <td>1</td>\n",
       "      <td>3</td>\n",
       "      <td>searched products</td>\n",
       "      <td>Smartphone</td>\n",
       "      <td>iPhone 7</td>\n",
       "      <td>2018-05-29 00:27:47</td>\n",
       "      <td>2018-05-29 00:38:07</td>\n",
       "      <td>17</td>\n",
       "      <td>1</td>\n",
       "      <td>2</td>\n",
       "      <td>17.0</td>\n",
       "      <td>Paid</td>\n",
       "      <td>1.000000</td>\n",
       "    </tr>\n",
       "  </tbody>\n",
       "</table>\n",
       "</div>"
      ],
      "text/plain": [
       "          compras  visitas  cant_prod_vistos       mayor_evento dispositivo  \\\n",
       "person                                                                        \n",
       "0008ed71        0        2                 0           checkout    Computer   \n",
       "00091926        0       34               372     viewed product    Computer   \n",
       "00091a7a        0        1                 3      brand listing  Smartphone   \n",
       "000ba417        1        6               153     viewed product    Computer   \n",
       "000c79fe        0        1                 3  searched products  Smartphone   \n",
       "\n",
       "                      prod_visto       primer_visita       ultima_visita  \\\n",
       "person                                                                     \n",
       "0008ed71                 Ninguno 2018-05-17 12:27:47 2018-05-17 16:28:37   \n",
       "00091926               iPhone 6S 2018-05-03 22:08:29 2018-05-31 19:52:03   \n",
       "00091a7a                iPhone 6 2018-03-26 14:51:11 2018-03-26 14:56:58   \n",
       "000ba417  Samsung Galaxy A3 Duos 2018-05-17 11:11:45 2018-05-26 13:09:22   \n",
       "000c79fe                iPhone 7 2018-05-29 00:27:47 2018-05-29 00:38:07   \n",
       "\n",
       "          cant_eventos  permanencia  hace_cuanto_visito  eventos_por_dia  \\\n",
       "person                                                                     \n",
       "0008ed71             6            1                  14              6.0   \n",
       "00091926           448           28                   0             16.0   \n",
       "00091a7a            10            1                  66             10.0   \n",
       "000ba417           206           10                   5             20.6   \n",
       "000c79fe            17            1                   2             17.0   \n",
       "\n",
       "           channel  visitas_por_dia  \n",
       "person                               \n",
       "0008ed71  Referral         2.000000  \n",
       "00091926    Direct         1.214286  \n",
       "00091a7a      Paid         1.000000  \n",
       "000ba417    Direct         0.600000  \n",
       "000c79fe      Paid         1.000000  "
      ]
     },
     "execution_count": 24,
     "metadata": {},
     "output_type": "execute_result"
    }
   ],
   "source": [
    "processed.head()"
   ]
  },
  {
   "cell_type": "code",
   "execution_count": 25,
   "metadata": {},
   "outputs": [],
   "source": [
    "processed = processed.join(a_predecir.set_index('person'))"
   ]
  },
  {
   "cell_type": "code",
   "execution_count": 34,
   "metadata": {},
   "outputs": [],
   "source": [
    "training_labels = processed['label'].dropna()\n",
    "training_features = processed.dropna().drop(['primer_visita','ultima_visita','label'],axis=1)"
   ]
  },
  {
   "cell_type": "code",
   "execution_count": 35,
   "metadata": {},
   "outputs": [],
   "source": [
    "tg = TargetEncoder()\n",
    "encoded = tg.fit_transform(np.array(training_features),np.array(training_labels))"
   ]
  },
  {
   "cell_type": "code",
   "execution_count": 36,
   "metadata": {},
   "outputs": [
    {
     "data": {
      "text/html": [
       "<div>\n",
       "<style scoped>\n",
       "    .dataframe tbody tr th:only-of-type {\n",
       "        vertical-align: middle;\n",
       "    }\n",
       "\n",
       "    .dataframe tbody tr th {\n",
       "        vertical-align: top;\n",
       "    }\n",
       "\n",
       "    .dataframe thead th {\n",
       "        text-align: right;\n",
       "    }\n",
       "</style>\n",
       "<table border=\"1\" class=\"dataframe\">\n",
       "  <thead>\n",
       "    <tr style=\"text-align: right;\">\n",
       "      <th></th>\n",
       "      <th>0</th>\n",
       "      <th>1</th>\n",
       "      <th>2</th>\n",
       "      <th>3</th>\n",
       "      <th>4</th>\n",
       "      <th>5</th>\n",
       "      <th>6</th>\n",
       "      <th>7</th>\n",
       "      <th>8</th>\n",
       "      <th>9</th>\n",
       "      <th>10</th>\n",
       "      <th>11</th>\n",
       "    </tr>\n",
       "  </thead>\n",
       "  <tbody>\n",
       "    <tr>\n",
       "      <th>0</th>\n",
       "      <td>0</td>\n",
       "      <td>2</td>\n",
       "      <td>0</td>\n",
       "      <td>0.008565</td>\n",
       "      <td>0.068882</td>\n",
       "      <td>0.042654</td>\n",
       "      <td>6</td>\n",
       "      <td>1</td>\n",
       "      <td>14</td>\n",
       "      <td>6.000000</td>\n",
       "      <td>0.060804</td>\n",
       "      <td>2.000000</td>\n",
       "    </tr>\n",
       "    <tr>\n",
       "      <th>1</th>\n",
       "      <td>0</td>\n",
       "      <td>1</td>\n",
       "      <td>3</td>\n",
       "      <td>0.052304</td>\n",
       "      <td>0.035682</td>\n",
       "      <td>0.052632</td>\n",
       "      <td>17</td>\n",
       "      <td>1</td>\n",
       "      <td>2</td>\n",
       "      <td>17.000000</td>\n",
       "      <td>0.042036</td>\n",
       "      <td>1.000000</td>\n",
       "    </tr>\n",
       "    <tr>\n",
       "      <th>2</th>\n",
       "      <td>0</td>\n",
       "      <td>1</td>\n",
       "      <td>4</td>\n",
       "      <td>0.026316</td>\n",
       "      <td>0.035682</td>\n",
       "      <td>0.032799</td>\n",
       "      <td>19</td>\n",
       "      <td>1</td>\n",
       "      <td>0</td>\n",
       "      <td>19.000000</td>\n",
       "      <td>0.042036</td>\n",
       "      <td>1.000000</td>\n",
       "    </tr>\n",
       "    <tr>\n",
       "      <th>3</th>\n",
       "      <td>2</td>\n",
       "      <td>19</td>\n",
       "      <td>189</td>\n",
       "      <td>0.054229</td>\n",
       "      <td>0.068882</td>\n",
       "      <td>0.025773</td>\n",
       "      <td>471</td>\n",
       "      <td>115</td>\n",
       "      <td>9</td>\n",
       "      <td>4.095652</td>\n",
       "      <td>0.042036</td>\n",
       "      <td>0.165217</td>\n",
       "    </tr>\n",
       "    <tr>\n",
       "      <th>4</th>\n",
       "      <td>1</td>\n",
       "      <td>0</td>\n",
       "      <td>2</td>\n",
       "      <td>0.008565</td>\n",
       "      <td>0.017361</td>\n",
       "      <td>0.056452</td>\n",
       "      <td>7</td>\n",
       "      <td>1</td>\n",
       "      <td>9</td>\n",
       "      <td>7.000000</td>\n",
       "      <td>0.017361</td>\n",
       "      <td>0.000000</td>\n",
       "    </tr>\n",
       "  </tbody>\n",
       "</table>\n",
       "</div>"
      ],
      "text/plain": [
       "   0   1    2         3         4         5    6    7   8          9   \\\n",
       "0   0   2    0  0.008565  0.068882  0.042654    6    1  14   6.000000   \n",
       "1   0   1    3  0.052304  0.035682  0.052632   17    1   2  17.000000   \n",
       "2   0   1    4  0.026316  0.035682  0.032799   19    1   0  19.000000   \n",
       "3   2  19  189  0.054229  0.068882  0.025773  471  115   9   4.095652   \n",
       "4   1   0    2  0.008565  0.017361  0.056452    7    1   9   7.000000   \n",
       "\n",
       "         10        11  \n",
       "0  0.060804  2.000000  \n",
       "1  0.042036  1.000000  \n",
       "2  0.042036  1.000000  \n",
       "3  0.042036  0.165217  \n",
       "4  0.017361  0.000000  "
      ]
     },
     "execution_count": 36,
     "metadata": {},
     "output_type": "execute_result"
    }
   ],
   "source": [
    "encoded.head()"
   ]
  },
  {
   "cell_type": "code",
   "execution_count": 37,
   "metadata": {
    "scrolled": true
   },
   "outputs": [],
   "source": [
    "params={\n",
    "    'colsample_bylevel':[1,0.5],\n",
    "    'colsample_bytree':[0.5,1],\n",
    "    'gamma':[0,5],\n",
    "    'learning_rate':[0.1,0.3],\n",
    "    'max_depth':[3,2] \n",
    "}\n",
    "grid = GridSearchCV(xgb.XGBClassifier(),params,scoring='roc_auc',cv=2,verbose=3)"
   ]
  },
  {
   "cell_type": "code",
   "execution_count": 38,
   "metadata": {},
   "outputs": [],
   "source": [
    "xtrain,xtest,ytrain,ytest = train_test_split(encoded,np.array(training_labels))"
   ]
  },
  {
   "cell_type": "code",
   "execution_count": 39,
   "metadata": {
    "scrolled": true
   },
   "outputs": [
    {
     "name": "stdout",
     "output_type": "stream",
     "text": [
      "Fitting 2 folds for each of 32 candidates, totalling 64 fits\n",
      "[CV] colsample_bylevel=1, colsample_bytree=0.5, gamma=0, learning_rate=0.1, max_depth=3 \n",
      "[CV]  colsample_bylevel=1, colsample_bytree=0.5, gamma=0, learning_rate=0.1, max_depth=3, score=0.7479474864735292, total=   0.8s\n",
      "[CV] colsample_bylevel=1, colsample_bytree=0.5, gamma=0, learning_rate=0.1, max_depth=3 \n"
     ]
    },
    {
     "name": "stderr",
     "output_type": "stream",
     "text": [
      "[Parallel(n_jobs=1)]: Done   1 out of   1 | elapsed:    0.9s remaining:    0.0s\n"
     ]
    },
    {
     "name": "stdout",
     "output_type": "stream",
     "text": [
      "[CV]  colsample_bylevel=1, colsample_bytree=0.5, gamma=0, learning_rate=0.1, max_depth=3, score=0.7431933756093916, total=   0.8s\n",
      "[CV] colsample_bylevel=1, colsample_bytree=0.5, gamma=0, learning_rate=0.1, max_depth=2 \n"
     ]
    },
    {
     "name": "stderr",
     "output_type": "stream",
     "text": [
      "[Parallel(n_jobs=1)]: Done   2 out of   2 | elapsed:    1.8s remaining:    0.0s\n"
     ]
    },
    {
     "name": "stdout",
     "output_type": "stream",
     "text": [
      "[CV]  colsample_bylevel=1, colsample_bytree=0.5, gamma=0, learning_rate=0.1, max_depth=2, score=0.7528107508203049, total=   0.5s\n",
      "[CV] colsample_bylevel=1, colsample_bytree=0.5, gamma=0, learning_rate=0.1, max_depth=2 \n",
      "[CV]  colsample_bylevel=1, colsample_bytree=0.5, gamma=0, learning_rate=0.1, max_depth=2, score=0.7508650559426191, total=   0.6s\n",
      "[CV] colsample_bylevel=1, colsample_bytree=0.5, gamma=0, learning_rate=0.3, max_depth=3 \n",
      "[CV]  colsample_bylevel=1, colsample_bytree=0.5, gamma=0, learning_rate=0.3, max_depth=3, score=0.7170658065138751, total=   0.7s\n",
      "[CV] colsample_bylevel=1, colsample_bytree=0.5, gamma=0, learning_rate=0.3, max_depth=3 \n",
      "[CV]  colsample_bylevel=1, colsample_bytree=0.5, gamma=0, learning_rate=0.3, max_depth=3, score=0.7185908421590054, total=   0.7s\n",
      "[CV] colsample_bylevel=1, colsample_bytree=0.5, gamma=0, learning_rate=0.3, max_depth=2 \n",
      "[CV]  colsample_bylevel=1, colsample_bytree=0.5, gamma=0, learning_rate=0.3, max_depth=2, score=0.7386731372695519, total=   0.6s\n",
      "[CV] colsample_bylevel=1, colsample_bytree=0.5, gamma=0, learning_rate=0.3, max_depth=2 \n",
      "[CV]  colsample_bylevel=1, colsample_bytree=0.5, gamma=0, learning_rate=0.3, max_depth=2, score=0.7341402519130071, total=   0.6s\n",
      "[CV] colsample_bylevel=1, colsample_bytree=0.5, gamma=5, learning_rate=0.1, max_depth=3 \n",
      "[CV]  colsample_bylevel=1, colsample_bytree=0.5, gamma=5, learning_rate=0.1, max_depth=3, score=0.7566799596540711, total=   0.7s\n",
      "[CV] colsample_bylevel=1, colsample_bytree=0.5, gamma=5, learning_rate=0.1, max_depth=3 \n",
      "[CV]  colsample_bylevel=1, colsample_bytree=0.5, gamma=5, learning_rate=0.1, max_depth=3, score=0.7488092347348563, total=   0.7s\n",
      "[CV] colsample_bylevel=1, colsample_bytree=0.5, gamma=5, learning_rate=0.1, max_depth=2 \n",
      "[CV]  colsample_bylevel=1, colsample_bytree=0.5, gamma=5, learning_rate=0.1, max_depth=2, score=0.7502402933173942, total=   0.6s\n",
      "[CV] colsample_bylevel=1, colsample_bytree=0.5, gamma=5, learning_rate=0.1, max_depth=2 \n",
      "[CV]  colsample_bylevel=1, colsample_bytree=0.5, gamma=5, learning_rate=0.1, max_depth=2, score=0.7466549613662825, total=   0.6s\n",
      "[CV] colsample_bylevel=1, colsample_bytree=0.5, gamma=5, learning_rate=0.3, max_depth=3 \n",
      "[CV]  colsample_bylevel=1, colsample_bytree=0.5, gamma=5, learning_rate=0.3, max_depth=3, score=0.7477616726127102, total=   0.7s\n",
      "[CV] colsample_bylevel=1, colsample_bytree=0.5, gamma=5, learning_rate=0.3, max_depth=3 \n",
      "[CV]  colsample_bylevel=1, colsample_bytree=0.5, gamma=5, learning_rate=0.3, max_depth=3, score=0.7407484154260917, total=   0.7s\n",
      "[CV] colsample_bylevel=1, colsample_bytree=0.5, gamma=5, learning_rate=0.3, max_depth=2 \n",
      "[CV]  colsample_bylevel=1, colsample_bytree=0.5, gamma=5, learning_rate=0.3, max_depth=2, score=0.7554207059292326, total=   0.6s\n",
      "[CV] colsample_bylevel=1, colsample_bytree=0.5, gamma=5, learning_rate=0.3, max_depth=2 \n",
      "[CV]  colsample_bylevel=1, colsample_bytree=0.5, gamma=5, learning_rate=0.3, max_depth=2, score=0.7443644893562708, total=   0.6s\n",
      "[CV] colsample_bylevel=1, colsample_bytree=1, gamma=0, learning_rate=0.1, max_depth=3 \n",
      "[CV]  colsample_bylevel=1, colsample_bytree=1, gamma=0, learning_rate=0.1, max_depth=3, score=0.747825685974186, total=   1.1s\n",
      "[CV] colsample_bylevel=1, colsample_bytree=1, gamma=0, learning_rate=0.1, max_depth=3 \n",
      "[CV]  colsample_bylevel=1, colsample_bytree=1, gamma=0, learning_rate=0.1, max_depth=3, score=0.7504494555167455, total=   1.1s\n",
      "[CV] colsample_bylevel=1, colsample_bytree=1, gamma=0, learning_rate=0.1, max_depth=2 \n",
      "[CV]  colsample_bylevel=1, colsample_bytree=1, gamma=0, learning_rate=0.1, max_depth=2, score=0.7541262351271083, total=   0.8s\n",
      "[CV] colsample_bylevel=1, colsample_bytree=1, gamma=0, learning_rate=0.1, max_depth=2 \n",
      "[CV]  colsample_bylevel=1, colsample_bytree=1, gamma=0, learning_rate=0.1, max_depth=2, score=0.750772635435929, total=   0.7s\n",
      "[CV] colsample_bylevel=1, colsample_bytree=1, gamma=0, learning_rate=0.3, max_depth=3 \n",
      "[CV]  colsample_bylevel=1, colsample_bytree=1, gamma=0, learning_rate=0.3, max_depth=3, score=0.7032365856012353, total=   1.0s\n",
      "[CV] colsample_bylevel=1, colsample_bytree=1, gamma=0, learning_rate=0.3, max_depth=3 \n",
      "[CV]  colsample_bylevel=1, colsample_bytree=1, gamma=0, learning_rate=0.3, max_depth=3, score=0.7164988310265175, total=   1.0s\n",
      "[CV] colsample_bylevel=1, colsample_bytree=1, gamma=0, learning_rate=0.3, max_depth=2 \n",
      "[CV]  colsample_bylevel=1, colsample_bytree=1, gamma=0, learning_rate=0.3, max_depth=2, score=0.7357672419697281, total=   0.7s\n",
      "[CV] colsample_bylevel=1, colsample_bytree=1, gamma=0, learning_rate=0.3, max_depth=2 \n",
      "[CV]  colsample_bylevel=1, colsample_bytree=1, gamma=0, learning_rate=0.3, max_depth=2, score=0.7341595142922963, total=   0.7s\n",
      "[CV] colsample_bylevel=1, colsample_bytree=1, gamma=5, learning_rate=0.1, max_depth=3 \n",
      "[CV]  colsample_bylevel=1, colsample_bytree=1, gamma=5, learning_rate=0.1, max_depth=3, score=0.7543067956117576, total=   1.0s\n",
      "[CV] colsample_bylevel=1, colsample_bytree=1, gamma=5, learning_rate=0.1, max_depth=3 \n",
      "[CV]  colsample_bylevel=1, colsample_bytree=1, gamma=5, learning_rate=0.1, max_depth=3, score=0.7531722609285789, total=   1.0s\n",
      "[CV] colsample_bylevel=1, colsample_bytree=1, gamma=5, learning_rate=0.1, max_depth=2 \n",
      "[CV]  colsample_bylevel=1, colsample_bytree=1, gamma=5, learning_rate=0.1, max_depth=2, score=0.7554076697735522, total=   0.8s\n",
      "[CV] colsample_bylevel=1, colsample_bytree=1, gamma=5, learning_rate=0.1, max_depth=2 \n",
      "[CV]  colsample_bylevel=1, colsample_bytree=1, gamma=5, learning_rate=0.1, max_depth=2, score=0.7457850411864693, total=   0.8s\n",
      "[CV] colsample_bylevel=1, colsample_bytree=1, gamma=5, learning_rate=0.3, max_depth=3 \n",
      "[CV]  colsample_bylevel=1, colsample_bytree=1, gamma=5, learning_rate=0.3, max_depth=3, score=0.7558320258263755, total=   1.0s\n",
      "[CV] colsample_bylevel=1, colsample_bytree=1, gamma=5, learning_rate=0.3, max_depth=3 \n",
      "[CV]  colsample_bylevel=1, colsample_bytree=1, gamma=5, learning_rate=0.3, max_depth=3, score=0.750870309318789, total=   1.0s\n",
      "[CV] colsample_bylevel=1, colsample_bytree=1, gamma=5, learning_rate=0.3, max_depth=2 \n",
      "[CV]  colsample_bylevel=1, colsample_bytree=1, gamma=5, learning_rate=0.3, max_depth=2, score=0.754875716793993, total=   0.7s\n",
      "[CV] colsample_bylevel=1, colsample_bytree=1, gamma=5, learning_rate=0.3, max_depth=2 \n",
      "[CV]  colsample_bylevel=1, colsample_bytree=1, gamma=5, learning_rate=0.3, max_depth=2, score=0.7443463943939083, total=   0.8s\n",
      "[CV] colsample_bylevel=0.5, colsample_bytree=0.5, gamma=0, learning_rate=0.1, max_depth=3 \n",
      "[CV]  colsample_bylevel=0.5, colsample_bytree=0.5, gamma=0, learning_rate=0.1, max_depth=3, score=0.7559635548001071, total=   0.6s\n",
      "[CV] colsample_bylevel=0.5, colsample_bytree=0.5, gamma=0, learning_rate=0.1, max_depth=3 \n",
      "[CV]  colsample_bylevel=0.5, colsample_bytree=0.5, gamma=0, learning_rate=0.1, max_depth=3, score=0.7468721009146323, total=   0.6s\n",
      "[CV] colsample_bylevel=0.5, colsample_bytree=0.5, gamma=0, learning_rate=0.1, max_depth=2 \n",
      "[CV]  colsample_bylevel=0.5, colsample_bytree=0.5, gamma=0, learning_rate=0.1, max_depth=2, score=0.7507140700201107, total=   0.5s\n",
      "[CV] colsample_bylevel=0.5, colsample_bytree=0.5, gamma=0, learning_rate=0.1, max_depth=2 \n",
      "[CV]  colsample_bylevel=0.5, colsample_bytree=0.5, gamma=0, learning_rate=0.1, max_depth=2, score=0.7483558878283554, total=   0.5s\n",
      "[CV] colsample_bylevel=0.5, colsample_bytree=0.5, gamma=0, learning_rate=0.3, max_depth=3 \n",
      "[CV]  colsample_bylevel=0.5, colsample_bytree=0.5, gamma=0, learning_rate=0.3, max_depth=3, score=0.7227089053676274, total=   0.6s\n",
      "[CV] colsample_bylevel=0.5, colsample_bytree=0.5, gamma=0, learning_rate=0.3, max_depth=3 \n",
      "[CV]  colsample_bylevel=0.5, colsample_bytree=0.5, gamma=0, learning_rate=0.3, max_depth=3, score=0.7197325759132314, total=   0.6s\n",
      "[CV] colsample_bylevel=0.5, colsample_bytree=0.5, gamma=0, learning_rate=0.3, max_depth=2 \n",
      "[CV]  colsample_bylevel=0.5, colsample_bytree=0.5, gamma=0, learning_rate=0.3, max_depth=2, score=0.7371239750079384, total=   0.5s\n",
      "[CV] colsample_bylevel=0.5, colsample_bytree=0.5, gamma=0, learning_rate=0.3, max_depth=2 \n",
      "[CV]  colsample_bylevel=0.5, colsample_bytree=0.5, gamma=0, learning_rate=0.3, max_depth=2, score=0.7331417213017789, total=   0.5s\n",
      "[CV] colsample_bylevel=0.5, colsample_bytree=0.5, gamma=5, learning_rate=0.1, max_depth=3 \n"
     ]
    },
    {
     "name": "stdout",
     "output_type": "stream",
     "text": [
      "[CV]  colsample_bylevel=0.5, colsample_bytree=0.5, gamma=5, learning_rate=0.1, max_depth=3, score=0.7591827069752384, total=   0.6s\n",
      "[CV] colsample_bylevel=0.5, colsample_bytree=0.5, gamma=5, learning_rate=0.1, max_depth=3 \n",
      "[CV]  colsample_bylevel=0.5, colsample_bytree=0.5, gamma=5, learning_rate=0.1, max_depth=3, score=0.747347239603763, total=   0.5s\n",
      "[CV] colsample_bylevel=0.5, colsample_bytree=0.5, gamma=5, learning_rate=0.1, max_depth=2 \n",
      "[CV]  colsample_bylevel=0.5, colsample_bytree=0.5, gamma=5, learning_rate=0.1, max_depth=2, score=0.752575321740105, total=   0.4s\n",
      "[CV] colsample_bylevel=0.5, colsample_bytree=0.5, gamma=5, learning_rate=0.1, max_depth=2 \n",
      "[CV]  colsample_bylevel=0.5, colsample_bytree=0.5, gamma=5, learning_rate=0.1, max_depth=2, score=0.7446232667750031, total=   0.5s\n",
      "[CV] colsample_bylevel=0.5, colsample_bytree=0.5, gamma=5, learning_rate=0.3, max_depth=3 \n",
      "[CV]  colsample_bylevel=0.5, colsample_bytree=0.5, gamma=5, learning_rate=0.3, max_depth=3, score=0.7497330506627814, total=   0.6s\n",
      "[CV] colsample_bylevel=0.5, colsample_bytree=0.5, gamma=5, learning_rate=0.3, max_depth=3 \n",
      "[CV]  colsample_bylevel=0.5, colsample_bytree=0.5, gamma=5, learning_rate=0.3, max_depth=3, score=0.7420576735092864, total=   0.6s\n",
      "[CV] colsample_bylevel=0.5, colsample_bytree=0.5, gamma=5, learning_rate=0.3, max_depth=2 \n",
      "[CV]  colsample_bylevel=0.5, colsample_bytree=0.5, gamma=5, learning_rate=0.3, max_depth=2, score=0.7562781736618289, total=   0.4s\n",
      "[CV] colsample_bylevel=0.5, colsample_bytree=0.5, gamma=5, learning_rate=0.3, max_depth=2 \n",
      "[CV]  colsample_bylevel=0.5, colsample_bytree=0.5, gamma=5, learning_rate=0.3, max_depth=2, score=0.7399176037133197, total=   0.5s\n",
      "[CV] colsample_bylevel=0.5, colsample_bytree=1, gamma=0, learning_rate=0.1, max_depth=3 \n",
      "[CV]  colsample_bylevel=0.5, colsample_bytree=1, gamma=0, learning_rate=0.1, max_depth=3, score=0.7465187627248444, total=   0.7s\n",
      "[CV] colsample_bylevel=0.5, colsample_bytree=1, gamma=0, learning_rate=0.1, max_depth=3 \n",
      "[CV]  colsample_bylevel=0.5, colsample_bytree=1, gamma=0, learning_rate=0.1, max_depth=3, score=0.7454188614104886, total=   0.8s\n",
      "[CV] colsample_bylevel=0.5, colsample_bytree=1, gamma=0, learning_rate=0.1, max_depth=2 \n",
      "[CV]  colsample_bylevel=0.5, colsample_bytree=1, gamma=0, learning_rate=0.1, max_depth=2, score=0.7536493453125876, total=   0.6s\n",
      "[CV] colsample_bylevel=0.5, colsample_bytree=1, gamma=0, learning_rate=0.1, max_depth=2 \n",
      "[CV]  colsample_bylevel=0.5, colsample_bytree=1, gamma=0, learning_rate=0.1, max_depth=2, score=0.7489454333762943, total=   0.6s\n",
      "[CV] colsample_bylevel=0.5, colsample_bytree=1, gamma=0, learning_rate=0.3, max_depth=3 \n",
      "[CV]  colsample_bylevel=0.5, colsample_bytree=1, gamma=0, learning_rate=0.3, max_depth=3, score=0.7082146459457945, total=   0.8s\n",
      "[CV] colsample_bylevel=0.5, colsample_bytree=1, gamma=0, learning_rate=0.3, max_depth=3 \n",
      "[CV]  colsample_bylevel=0.5, colsample_bytree=1, gamma=0, learning_rate=0.3, max_depth=3, score=0.7161093029120048, total=   0.7s\n",
      "[CV] colsample_bylevel=0.5, colsample_bytree=1, gamma=0, learning_rate=0.3, max_depth=2 \n",
      "[CV]  colsample_bylevel=0.5, colsample_bytree=1, gamma=0, learning_rate=0.3, max_depth=2, score=0.7413552776584418, total=   0.5s\n",
      "[CV] colsample_bylevel=0.5, colsample_bytree=1, gamma=0, learning_rate=0.3, max_depth=2 \n",
      "[CV]  colsample_bylevel=0.5, colsample_bytree=1, gamma=0, learning_rate=0.3, max_depth=2, score=0.7351899542995188, total=   0.6s\n",
      "[CV] colsample_bylevel=0.5, colsample_bytree=1, gamma=5, learning_rate=0.1, max_depth=3 \n",
      "[CV]  colsample_bylevel=0.5, colsample_bytree=1, gamma=5, learning_rate=0.1, max_depth=3, score=0.7548512010385342, total=   0.7s\n",
      "[CV] colsample_bylevel=0.5, colsample_bytree=1, gamma=5, learning_rate=0.1, max_depth=3 \n",
      "[CV]  colsample_bylevel=0.5, colsample_bytree=1, gamma=5, learning_rate=0.1, max_depth=3, score=0.7506985044610892, total=   0.7s\n",
      "[CV] colsample_bylevel=0.5, colsample_bytree=1, gamma=5, learning_rate=0.1, max_depth=2 \n",
      "[CV]  colsample_bylevel=0.5, colsample_bytree=1, gamma=5, learning_rate=0.1, max_depth=2, score=0.756197427324405, total=   0.6s\n",
      "[CV] colsample_bylevel=0.5, colsample_bytree=1, gamma=5, learning_rate=0.1, max_depth=2 \n",
      "[CV]  colsample_bylevel=0.5, colsample_bytree=1, gamma=5, learning_rate=0.1, max_depth=2, score=0.7455101145002522, total=   0.5s\n",
      "[CV] colsample_bylevel=0.5, colsample_bytree=1, gamma=5, learning_rate=0.3, max_depth=3 \n",
      "[CV]  colsample_bylevel=0.5, colsample_bytree=1, gamma=5, learning_rate=0.3, max_depth=3, score=0.7484817742869418, total=   0.7s\n",
      "[CV] colsample_bylevel=0.5, colsample_bytree=1, gamma=5, learning_rate=0.3, max_depth=3 \n",
      "[CV]  colsample_bylevel=0.5, colsample_bytree=1, gamma=5, learning_rate=0.3, max_depth=3, score=0.7462107592257068, total=   0.7s\n",
      "[CV] colsample_bylevel=0.5, colsample_bytree=1, gamma=5, learning_rate=0.3, max_depth=2 \n",
      "[CV]  colsample_bylevel=0.5, colsample_bytree=1, gamma=5, learning_rate=0.3, max_depth=2, score=0.7528689270971479, total=   0.5s\n",
      "[CV] colsample_bylevel=0.5, colsample_bytree=1, gamma=5, learning_rate=0.3, max_depth=2 \n",
      "[CV]  colsample_bylevel=0.5, colsample_bytree=1, gamma=5, learning_rate=0.3, max_depth=2, score=0.7452999794534622, total=   0.5s\n"
     ]
    },
    {
     "name": "stderr",
     "output_type": "stream",
     "text": [
      "[Parallel(n_jobs=1)]: Done  64 out of  64 | elapsed:   46.9s finished\n"
     ]
    },
    {
     "data": {
      "text/plain": [
       "GridSearchCV(cv=2, error_score='raise',\n",
       "       estimator=XGBClassifier(base_score=0.5, booster='gbtree', colsample_bylevel=1,\n",
       "       colsample_bytree=1, gamma=0, learning_rate=0.1, max_delta_step=0,\n",
       "       max_depth=3, min_child_weight=1, missing=None, n_estimators=100,\n",
       "       n_jobs=1, nthread=None, objective='binary:logistic', random_state=0,\n",
       "       reg_alpha=0, reg_lambda=1, scale_pos_weight=1, seed=None,\n",
       "       silent=True, subsample=1),\n",
       "       fit_params=None, iid=True, n_jobs=1,\n",
       "       param_grid={'colsample_bylevel': [1, 0.5], 'colsample_bytree': [0.5, 1], 'gamma': [0, 5], 'learning_rate': [0.1, 0.3], 'max_depth': [3, 2]},\n",
       "       pre_dispatch='2*n_jobs', refit=True, return_train_score='warn',\n",
       "       scoring='roc_auc', verbose=3)"
      ]
     },
     "execution_count": 39,
     "metadata": {},
     "output_type": "execute_result"
    }
   ],
   "source": [
    "grid.fit(xtrain,ytrain)"
   ]
  },
  {
   "cell_type": "code",
   "execution_count": 68,
   "metadata": {},
   "outputs": [
    {
     "data": {
      "text/plain": [
       "0.8215494270760694"
      ]
     },
     "execution_count": 68,
     "metadata": {},
     "output_type": "execute_result"
    }
   ],
   "source": [
    "grid.score(X=xtest,y=ytest)"
   ]
  },
  {
   "cell_type": "code",
   "execution_count": 42,
   "metadata": {},
   "outputs": [],
   "source": [
    "xgb = grid.best_estimator_"
   ]
  },
  {
   "cell_type": "code",
   "execution_count": 44,
   "metadata": {},
   "outputs": [
    {
     "data": {
      "text/plain": [
       "XGBClassifier(base_score=0.5, booster='gbtree', colsample_bylevel=1,\n",
       "       colsample_bytree=1, gamma=5, learning_rate=0.1, max_delta_step=0,\n",
       "       max_depth=3, min_child_weight=1, missing=None, n_estimators=100,\n",
       "       n_jobs=1, nthread=None, objective='binary:logistic', random_state=0,\n",
       "       reg_alpha=0, reg_lambda=1, scale_pos_weight=1, seed=None,\n",
       "       silent=True, subsample=1)"
      ]
     },
     "execution_count": 44,
     "metadata": {},
     "output_type": "execute_result"
    }
   ],
   "source": [
    "xgb.fit(encoded,np.array(training_labels))"
   ]
  },
  {
   "cell_type": "code",
   "execution_count": 45,
   "metadata": {},
   "outputs": [],
   "source": [
    "predict_features = processed.loc[processed['label'].isnull()].drop(['primer_visita','ultima_visita','label'],axis=1)"
   ]
  },
  {
   "cell_type": "code",
   "execution_count": 47,
   "metadata": {},
   "outputs": [],
   "source": [
    "predict_features_encoded = tg.transform(np.array(predict_features))"
   ]
  },
  {
   "cell_type": "code",
   "execution_count": 51,
   "metadata": {},
   "outputs": [
    {
     "name": "stderr",
     "output_type": "stream",
     "text": [
      "/home/javier/anaconda3/lib/python3.6/site-packages/sklearn/preprocessing/label.py:151: DeprecationWarning: The truth value of an empty array is ambiguous. Returning False, but in future this will result in an error. Use `array.size > 0` to check that an array is not empty.\n",
      "  if diff:\n"
     ]
    }
   ],
   "source": [
    "predicted_labels = xgb.predict(predict_features_encoded)"
   ]
  },
  {
   "cell_type": "code",
   "execution_count": 53,
   "metadata": {},
   "outputs": [],
   "source": [
    "predict_features['predicted_label'] = predicted_labels"
   ]
  },
  {
   "cell_type": "code",
   "execution_count": 63,
   "metadata": {},
   "outputs": [],
   "source": [
    "submit = predict.set_index('person')\n",
    "submit['label'] = predict_features['predicted_label']"
   ]
  },
  {
   "cell_type": "code",
   "execution_count": 65,
   "metadata": {},
   "outputs": [],
   "source": [
    "submit = submit.reset_index()"
   ]
  },
  {
   "cell_type": "code",
   "execution_count": 66,
   "metadata": {},
   "outputs": [],
   "source": [
    "submit.to_csv('submit.csv')"
   ]
  },
  {
   "cell_type": "code",
   "execution_count": null,
   "metadata": {},
   "outputs": [],
   "source": []
  }
 ],
 "metadata": {
  "kernelspec": {
   "display_name": "Python 3",
   "language": "python",
   "name": "python3"
  },
  "language_info": {
   "codemirror_mode": {
    "name": "ipython",
    "version": 3
   },
   "file_extension": ".py",
   "mimetype": "text/x-python",
   "name": "python",
   "nbconvert_exporter": "python",
   "pygments_lexer": "ipython3",
   "version": "3.6.5"
  }
 },
 "nbformat": 4,
 "nbformat_minor": 2
}
