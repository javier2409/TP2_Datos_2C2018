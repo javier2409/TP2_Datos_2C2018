{
 "cells": [
  {
   "cell_type": "code",
   "execution_count": 1,
   "metadata": {},
   "outputs": [],
   "source": [
    "import pandas as pd"
   ]
  },
  {
   "cell_type": "code",
   "execution_count": 2,
   "metadata": {},
   "outputs": [],
   "source": [
    "file = pd.read_csv('events_up_to_01062018.csv',low_memory=False)"
   ]
  },
  {
   "cell_type": "code",
   "execution_count": 3,
   "metadata": {},
   "outputs": [
    {
     "name": "stdout",
     "output_type": "stream",
     "text": [
      "<class 'pandas.core.frame.DataFrame'>\n",
      "RangeIndex: 2341681 entries, 0 to 2341680\n",
      "Data columns (total 23 columns):\n",
      "timestamp                   object\n",
      "event                       object\n",
      "person                      object\n",
      "url                         object\n",
      "sku                         float64\n",
      "model                       object\n",
      "condition                   object\n",
      "storage                     object\n",
      "color                       object\n",
      "skus                        object\n",
      "search_term                 object\n",
      "staticpage                  object\n",
      "campaign_source             object\n",
      "search_engine               object\n",
      "channel                     object\n",
      "new_vs_returning            object\n",
      "city                        object\n",
      "region                      object\n",
      "country                     object\n",
      "device_type                 object\n",
      "screen_resolution           object\n",
      "operating_system_version    object\n",
      "browser_version             object\n",
      "dtypes: float64(1), object(22)\n",
      "memory usage: 410.9+ MB\n"
     ]
    }
   ],
   "source": [
    "file.info()"
   ]
  },
  {
   "cell_type": "code",
   "execution_count": 4,
   "metadata": {},
   "outputs": [],
   "source": [
    "def isnew (x):\n",
    "    c = x['new_vs_returning'].value_counts().index\n",
    "    return ('New' in c)\n",
    "new = file.groupby('person').apply(isnew)"
   ]
  },
  {
   "cell_type": "code",
   "execution_count": 5,
   "metadata": {},
   "outputs": [
    {
     "data": {
      "text/plain": [
       "True     38242\n",
       "False      587\n",
       "dtype: int64"
      ]
     },
     "execution_count": 5,
     "metadata": {},
     "output_type": "execute_result"
    }
   ],
   "source": [
    "new.value_counts()"
   ]
  },
  {
   "cell_type": "code",
   "execution_count": 6,
   "metadata": {},
   "outputs": [],
   "source": [
    "def region (x):\n",
    "    c = x['region'].value_counts().index\n",
    "    if len(c)>0:\n",
    "        return c[0]\n",
    "    else:\n",
    "        return 'Unknown'\n",
    "reg = file.groupby('person').apply(region)"
   ]
  },
  {
   "cell_type": "code",
   "execution_count": 7,
   "metadata": {},
   "outputs": [
    {
     "data": {
      "text/plain": [
       "person\n",
       "0008ed71              Unknown\n",
       "00091926    Rio Grande do Sul\n",
       "00091a7a         Minas Gerais\n",
       "000ba417            Sao Paulo\n",
       "000c79fe         Minas Gerais\n",
       "dtype: object"
      ]
     },
     "execution_count": 7,
     "metadata": {},
     "output_type": "execute_result"
    }
   ],
   "source": [
    "reg.head()"
   ]
  },
  {
   "cell_type": "code",
   "execution_count": 8,
   "metadata": {},
   "outputs": [],
   "source": [
    "def viocelulares(x):\n",
    "    return (x.loc[x.event=='viewed product']['event'].size > 0)\n",
    "viocelulares = file.groupby('person').apply(viocelulares)"
   ]
  },
  {
   "cell_type": "code",
   "execution_count": 9,
   "metadata": {},
   "outputs": [
    {
     "data": {
      "text/plain": [
       "True     37130\n",
       "False     1699\n",
       "dtype: int64"
      ]
     },
     "execution_count": 9,
     "metadata": {},
     "output_type": "execute_result"
    }
   ],
   "source": [
    "viocelulares.value_counts()"
   ]
  },
  {
   "cell_type": "code",
   "execution_count": 10,
   "metadata": {},
   "outputs": [],
   "source": [
    "features = pd.DataFrame(viocelulares).join(pd.DataFrame(reg),lsuffix='v').join(pd.DataFrame(new))\n",
    "features.columns = ['vio_celulares','region','is_new']"
   ]
  },
  {
   "cell_type": "code",
   "execution_count": 11,
   "metadata": {},
   "outputs": [
    {
     "data": {
      "text/html": [
       "<div>\n",
       "<style scoped>\n",
       "    .dataframe tbody tr th:only-of-type {\n",
       "        vertical-align: middle;\n",
       "    }\n",
       "\n",
       "    .dataframe tbody tr th {\n",
       "        vertical-align: top;\n",
       "    }\n",
       "\n",
       "    .dataframe thead th {\n",
       "        text-align: right;\n",
       "    }\n",
       "</style>\n",
       "<table border=\"1\" class=\"dataframe\">\n",
       "  <thead>\n",
       "    <tr style=\"text-align: right;\">\n",
       "      <th></th>\n",
       "      <th>vio_celulares</th>\n",
       "      <th>region</th>\n",
       "      <th>is_new</th>\n",
       "    </tr>\n",
       "    <tr>\n",
       "      <th>person</th>\n",
       "      <th></th>\n",
       "      <th></th>\n",
       "      <th></th>\n",
       "    </tr>\n",
       "  </thead>\n",
       "  <tbody>\n",
       "    <tr>\n",
       "      <th>0008ed71</th>\n",
       "      <td>False</td>\n",
       "      <td>Unknown</td>\n",
       "      <td>True</td>\n",
       "    </tr>\n",
       "    <tr>\n",
       "      <th>00091926</th>\n",
       "      <td>True</td>\n",
       "      <td>Rio Grande do Sul</td>\n",
       "      <td>True</td>\n",
       "    </tr>\n",
       "    <tr>\n",
       "      <th>00091a7a</th>\n",
       "      <td>True</td>\n",
       "      <td>Minas Gerais</td>\n",
       "      <td>True</td>\n",
       "    </tr>\n",
       "    <tr>\n",
       "      <th>000ba417</th>\n",
       "      <td>True</td>\n",
       "      <td>Sao Paulo</td>\n",
       "      <td>True</td>\n",
       "    </tr>\n",
       "    <tr>\n",
       "      <th>000c79fe</th>\n",
       "      <td>True</td>\n",
       "      <td>Minas Gerais</td>\n",
       "      <td>True</td>\n",
       "    </tr>\n",
       "  </tbody>\n",
       "</table>\n",
       "</div>"
      ],
      "text/plain": [
       "          vio_celulares             region  is_new\n",
       "person                                            \n",
       "0008ed71          False            Unknown    True\n",
       "00091926           True  Rio Grande do Sul    True\n",
       "00091a7a           True       Minas Gerais    True\n",
       "000ba417           True          Sao Paulo    True\n",
       "000c79fe           True       Minas Gerais    True"
      ]
     },
     "execution_count": 11,
     "metadata": {},
     "output_type": "execute_result"
    }
   ],
   "source": [
    "features.head()"
   ]
  },
  {
   "cell_type": "code",
   "execution_count": 12,
   "metadata": {},
   "outputs": [],
   "source": [
    "features_01 = pd.read_csv('features_01.csv')"
   ]
  },
  {
   "cell_type": "code",
   "execution_count": 13,
   "metadata": {},
   "outputs": [],
   "source": [
    "features_03 = features_01.set_index('person').join(features,how='left')"
   ]
  },
  {
   "cell_type": "code",
   "execution_count": 14,
   "metadata": {},
   "outputs": [
    {
     "data": {
      "text/html": [
       "<div>\n",
       "<style scoped>\n",
       "    .dataframe tbody tr th:only-of-type {\n",
       "        vertical-align: middle;\n",
       "    }\n",
       "\n",
       "    .dataframe tbody tr th {\n",
       "        vertical-align: top;\n",
       "    }\n",
       "\n",
       "    .dataframe thead th {\n",
       "        text-align: right;\n",
       "    }\n",
       "</style>\n",
       "<table border=\"1\" class=\"dataframe\">\n",
       "  <thead>\n",
       "    <tr style=\"text-align: right;\">\n",
       "      <th></th>\n",
       "      <th>mayor_evento</th>\n",
       "      <th>prod_visto</th>\n",
       "      <th>dispos</th>\n",
       "      <th>compras</th>\n",
       "      <th>visitas</th>\n",
       "      <th>cant_prod_vistos</th>\n",
       "      <th>primer_visita</th>\n",
       "      <th>ultima_visita</th>\n",
       "      <th>cant_eventos</th>\n",
       "      <th>permanencia</th>\n",
       "      <th>hace_cuanto_visito</th>\n",
       "      <th>eventos_por_dia</th>\n",
       "      <th>channel</th>\n",
       "      <th>visitas_por_dia</th>\n",
       "      <th>vio_celulares</th>\n",
       "      <th>region</th>\n",
       "      <th>is_new</th>\n",
       "    </tr>\n",
       "    <tr>\n",
       "      <th>person</th>\n",
       "      <th></th>\n",
       "      <th></th>\n",
       "      <th></th>\n",
       "      <th></th>\n",
       "      <th></th>\n",
       "      <th></th>\n",
       "      <th></th>\n",
       "      <th></th>\n",
       "      <th></th>\n",
       "      <th></th>\n",
       "      <th></th>\n",
       "      <th></th>\n",
       "      <th></th>\n",
       "      <th></th>\n",
       "      <th></th>\n",
       "      <th></th>\n",
       "      <th></th>\n",
       "    </tr>\n",
       "  </thead>\n",
       "  <tbody>\n",
       "    <tr>\n",
       "      <th>0008ed71</th>\n",
       "      <td>checkout</td>\n",
       "      <td>Ninguno</td>\n",
       "      <td>Computer</td>\n",
       "      <td>0</td>\n",
       "      <td>2</td>\n",
       "      <td>0</td>\n",
       "      <td>2018-05-17 12:27:47</td>\n",
       "      <td>2018-05-17 16:28:37</td>\n",
       "      <td>6</td>\n",
       "      <td>1</td>\n",
       "      <td>14</td>\n",
       "      <td>6.0</td>\n",
       "      <td>Referral</td>\n",
       "      <td>2.000000</td>\n",
       "      <td>False</td>\n",
       "      <td>Unknown</td>\n",
       "      <td>True</td>\n",
       "    </tr>\n",
       "    <tr>\n",
       "      <th>00091926</th>\n",
       "      <td>viewed product</td>\n",
       "      <td>iPhone 6S</td>\n",
       "      <td>Computer</td>\n",
       "      <td>0</td>\n",
       "      <td>34</td>\n",
       "      <td>372</td>\n",
       "      <td>2018-05-03 22:08:29</td>\n",
       "      <td>2018-05-31 19:52:03</td>\n",
       "      <td>448</td>\n",
       "      <td>28</td>\n",
       "      <td>0</td>\n",
       "      <td>16.0</td>\n",
       "      <td>Direct</td>\n",
       "      <td>1.214286</td>\n",
       "      <td>True</td>\n",
       "      <td>Rio Grande do Sul</td>\n",
       "      <td>True</td>\n",
       "    </tr>\n",
       "    <tr>\n",
       "      <th>00091a7a</th>\n",
       "      <td>brand listing</td>\n",
       "      <td>iPhone 6S</td>\n",
       "      <td>Smartphone</td>\n",
       "      <td>0</td>\n",
       "      <td>1</td>\n",
       "      <td>3</td>\n",
       "      <td>2018-03-26 14:51:11</td>\n",
       "      <td>2018-03-26 14:56:58</td>\n",
       "      <td>10</td>\n",
       "      <td>1</td>\n",
       "      <td>66</td>\n",
       "      <td>10.0</td>\n",
       "      <td>Paid</td>\n",
       "      <td>1.000000</td>\n",
       "      <td>True</td>\n",
       "      <td>Minas Gerais</td>\n",
       "      <td>True</td>\n",
       "    </tr>\n",
       "    <tr>\n",
       "      <th>000ba417</th>\n",
       "      <td>viewed product</td>\n",
       "      <td>Samsung Galaxy A3 Duos</td>\n",
       "      <td>Computer</td>\n",
       "      <td>1</td>\n",
       "      <td>6</td>\n",
       "      <td>153</td>\n",
       "      <td>2018-05-17 11:11:45</td>\n",
       "      <td>2018-05-26 13:09:22</td>\n",
       "      <td>206</td>\n",
       "      <td>10</td>\n",
       "      <td>5</td>\n",
       "      <td>20.6</td>\n",
       "      <td>Direct</td>\n",
       "      <td>0.600000</td>\n",
       "      <td>True</td>\n",
       "      <td>Sao Paulo</td>\n",
       "      <td>True</td>\n",
       "    </tr>\n",
       "    <tr>\n",
       "      <th>000c79fe</th>\n",
       "      <td>searched products</td>\n",
       "      <td>iPhone 7</td>\n",
       "      <td>Smartphone</td>\n",
       "      <td>0</td>\n",
       "      <td>1</td>\n",
       "      <td>3</td>\n",
       "      <td>2018-05-29 00:27:47</td>\n",
       "      <td>2018-05-29 00:38:07</td>\n",
       "      <td>17</td>\n",
       "      <td>1</td>\n",
       "      <td>2</td>\n",
       "      <td>17.0</td>\n",
       "      <td>Paid</td>\n",
       "      <td>1.000000</td>\n",
       "      <td>True</td>\n",
       "      <td>Minas Gerais</td>\n",
       "      <td>True</td>\n",
       "    </tr>\n",
       "  </tbody>\n",
       "</table>\n",
       "</div>"
      ],
      "text/plain": [
       "               mayor_evento              prod_visto      dispos  compras  \\\n",
       "person                                                                     \n",
       "0008ed71           checkout                 Ninguno    Computer        0   \n",
       "00091926     viewed product               iPhone 6S    Computer        0   \n",
       "00091a7a      brand listing               iPhone 6S  Smartphone        0   \n",
       "000ba417     viewed product  Samsung Galaxy A3 Duos    Computer        1   \n",
       "000c79fe  searched products                iPhone 7  Smartphone        0   \n",
       "\n",
       "          visitas  cant_prod_vistos        primer_visita        ultima_visita  \\\n",
       "person                                                                          \n",
       "0008ed71        2                 0  2018-05-17 12:27:47  2018-05-17 16:28:37   \n",
       "00091926       34               372  2018-05-03 22:08:29  2018-05-31 19:52:03   \n",
       "00091a7a        1                 3  2018-03-26 14:51:11  2018-03-26 14:56:58   \n",
       "000ba417        6               153  2018-05-17 11:11:45  2018-05-26 13:09:22   \n",
       "000c79fe        1                 3  2018-05-29 00:27:47  2018-05-29 00:38:07   \n",
       "\n",
       "          cant_eventos  permanencia  hace_cuanto_visito  eventos_por_dia  \\\n",
       "person                                                                     \n",
       "0008ed71             6            1                  14              6.0   \n",
       "00091926           448           28                   0             16.0   \n",
       "00091a7a            10            1                  66             10.0   \n",
       "000ba417           206           10                   5             20.6   \n",
       "000c79fe            17            1                   2             17.0   \n",
       "\n",
       "           channel  visitas_por_dia  vio_celulares             region  is_new  \n",
       "person                                                                         \n",
       "0008ed71  Referral         2.000000          False            Unknown    True  \n",
       "00091926    Direct         1.214286           True  Rio Grande do Sul    True  \n",
       "00091a7a      Paid         1.000000           True       Minas Gerais    True  \n",
       "000ba417    Direct         0.600000           True          Sao Paulo    True  \n",
       "000c79fe      Paid         1.000000           True       Minas Gerais    True  "
      ]
     },
     "execution_count": 14,
     "metadata": {},
     "output_type": "execute_result"
    }
   ],
   "source": [
    "features_03.head()"
   ]
  },
  {
   "cell_type": "code",
   "execution_count": 15,
   "metadata": {},
   "outputs": [],
   "source": [
    "features_03.to_csv('features_03.csv')"
   ]
  },
  {
   "cell_type": "code",
   "execution_count": null,
   "metadata": {},
   "outputs": [],
   "source": []
  }
 ],
 "metadata": {
  "kernelspec": {
   "display_name": "Python 3",
   "language": "python",
   "name": "python3"
  },
  "language_info": {
   "codemirror_mode": {
    "name": "ipython",
    "version": 3
   },
   "file_extension": ".py",
   "mimetype": "text/x-python",
   "name": "python",
   "nbconvert_exporter": "python",
   "pygments_lexer": "ipython3",
   "version": "3.6.5"
  }
 },
 "nbformat": 4,
 "nbformat_minor": 2
}
