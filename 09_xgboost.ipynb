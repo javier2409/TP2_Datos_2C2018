{
 "cells": [
  {
   "cell_type": "code",
   "execution_count": 1,
   "metadata": {},
   "outputs": [],
   "source": [
    "import numpy as np\n",
    "import scipy.stats as stats"
   ]
  },
  {
   "cell_type": "code",
   "execution_count": 2,
   "metadata": {},
   "outputs": [],
   "source": [
    "import xgboost as xgb"
   ]
  },
  {
   "cell_type": "code",
   "execution_count": 3,
   "metadata": {},
   "outputs": [],
   "source": [
    "import pandas as pd\n",
    "from sklearn.model_selection import train_test_split\n",
    "import category_encoders"
   ]
  },
  {
   "cell_type": "code",
   "execution_count": 31,
   "metadata": {},
   "outputs": [],
   "source": [
    "from sklearn.model_selection import RandomizedSearchCV"
   ]
  },
  {
   "cell_type": "code",
   "execution_count": 5,
   "metadata": {},
   "outputs": [],
   "source": [
    "predict = pd.read_csv('trocafone_kaggle_test.csv')"
   ]
  },
  {
   "cell_type": "code",
   "execution_count": 6,
   "metadata": {},
   "outputs": [],
   "source": [
    "a_predecir = pd.read_csv('labels_training_set.csv')"
   ]
  },
  {
   "cell_type": "code",
   "execution_count": 7,
   "metadata": {},
   "outputs": [],
   "source": [
    "processed = pd.read_csv('features_03.csv')"
   ]
  },
  {
   "cell_type": "code",
   "execution_count": 8,
   "metadata": {},
   "outputs": [
    {
     "data": {
      "text/html": [
       "<div>\n",
       "<style scoped>\n",
       "    .dataframe tbody tr th:only-of-type {\n",
       "        vertical-align: middle;\n",
       "    }\n",
       "\n",
       "    .dataframe tbody tr th {\n",
       "        vertical-align: top;\n",
       "    }\n",
       "\n",
       "    .dataframe thead th {\n",
       "        text-align: right;\n",
       "    }\n",
       "</style>\n",
       "<table border=\"1\" class=\"dataframe\">\n",
       "  <thead>\n",
       "    <tr style=\"text-align: right;\">\n",
       "      <th></th>\n",
       "      <th>mayor_evento</th>\n",
       "      <th>prod_visto</th>\n",
       "      <th>dispos</th>\n",
       "      <th>compras</th>\n",
       "      <th>visitas</th>\n",
       "      <th>cant_prod_vistos</th>\n",
       "      <th>primer_visita</th>\n",
       "      <th>ultima_visita</th>\n",
       "      <th>cant_eventos</th>\n",
       "      <th>permanencia</th>\n",
       "      <th>hace_cuanto_visito</th>\n",
       "      <th>eventos_por_dia</th>\n",
       "      <th>channel</th>\n",
       "      <th>visitas_por_dia</th>\n",
       "      <th>vio_celulares</th>\n",
       "      <th>region</th>\n",
       "      <th>is_new</th>\n",
       "    </tr>\n",
       "    <tr>\n",
       "      <th>person</th>\n",
       "      <th></th>\n",
       "      <th></th>\n",
       "      <th></th>\n",
       "      <th></th>\n",
       "      <th></th>\n",
       "      <th></th>\n",
       "      <th></th>\n",
       "      <th></th>\n",
       "      <th></th>\n",
       "      <th></th>\n",
       "      <th></th>\n",
       "      <th></th>\n",
       "      <th></th>\n",
       "      <th></th>\n",
       "      <th></th>\n",
       "      <th></th>\n",
       "      <th></th>\n",
       "    </tr>\n",
       "  </thead>\n",
       "  <tbody>\n",
       "    <tr>\n",
       "      <th>0008ed71</th>\n",
       "      <td>checkout</td>\n",
       "      <td>Ninguno</td>\n",
       "      <td>Computer</td>\n",
       "      <td>0</td>\n",
       "      <td>2</td>\n",
       "      <td>0</td>\n",
       "      <td>2018-05-17 12:27:47</td>\n",
       "      <td>2018-05-17 16:28:37</td>\n",
       "      <td>6</td>\n",
       "      <td>1</td>\n",
       "      <td>14</td>\n",
       "      <td>6.0</td>\n",
       "      <td>Referral</td>\n",
       "      <td>2.000000</td>\n",
       "      <td>False</td>\n",
       "      <td>Unknown</td>\n",
       "      <td>True</td>\n",
       "    </tr>\n",
       "    <tr>\n",
       "      <th>00091926</th>\n",
       "      <td>viewed product</td>\n",
       "      <td>iPhone 6S</td>\n",
       "      <td>Computer</td>\n",
       "      <td>0</td>\n",
       "      <td>34</td>\n",
       "      <td>372</td>\n",
       "      <td>2018-05-03 22:08:29</td>\n",
       "      <td>2018-05-31 19:52:03</td>\n",
       "      <td>448</td>\n",
       "      <td>28</td>\n",
       "      <td>0</td>\n",
       "      <td>16.0</td>\n",
       "      <td>Direct</td>\n",
       "      <td>1.214286</td>\n",
       "      <td>True</td>\n",
       "      <td>Rio Grande do Sul</td>\n",
       "      <td>True</td>\n",
       "    </tr>\n",
       "    <tr>\n",
       "      <th>00091a7a</th>\n",
       "      <td>brand listing</td>\n",
       "      <td>iPhone 6S</td>\n",
       "      <td>Smartphone</td>\n",
       "      <td>0</td>\n",
       "      <td>1</td>\n",
       "      <td>3</td>\n",
       "      <td>2018-03-26 14:51:11</td>\n",
       "      <td>2018-03-26 14:56:58</td>\n",
       "      <td>10</td>\n",
       "      <td>1</td>\n",
       "      <td>66</td>\n",
       "      <td>10.0</td>\n",
       "      <td>Paid</td>\n",
       "      <td>1.000000</td>\n",
       "      <td>True</td>\n",
       "      <td>Minas Gerais</td>\n",
       "      <td>True</td>\n",
       "    </tr>\n",
       "    <tr>\n",
       "      <th>000ba417</th>\n",
       "      <td>viewed product</td>\n",
       "      <td>Samsung Galaxy A3 Duos</td>\n",
       "      <td>Computer</td>\n",
       "      <td>1</td>\n",
       "      <td>6</td>\n",
       "      <td>153</td>\n",
       "      <td>2018-05-17 11:11:45</td>\n",
       "      <td>2018-05-26 13:09:22</td>\n",
       "      <td>206</td>\n",
       "      <td>10</td>\n",
       "      <td>5</td>\n",
       "      <td>20.6</td>\n",
       "      <td>Direct</td>\n",
       "      <td>0.600000</td>\n",
       "      <td>True</td>\n",
       "      <td>Sao Paulo</td>\n",
       "      <td>True</td>\n",
       "    </tr>\n",
       "    <tr>\n",
       "      <th>000c79fe</th>\n",
       "      <td>searched products</td>\n",
       "      <td>iPhone 7</td>\n",
       "      <td>Smartphone</td>\n",
       "      <td>0</td>\n",
       "      <td>1</td>\n",
       "      <td>3</td>\n",
       "      <td>2018-05-29 00:27:47</td>\n",
       "      <td>2018-05-29 00:38:07</td>\n",
       "      <td>17</td>\n",
       "      <td>1</td>\n",
       "      <td>2</td>\n",
       "      <td>17.0</td>\n",
       "      <td>Paid</td>\n",
       "      <td>1.000000</td>\n",
       "      <td>True</td>\n",
       "      <td>Minas Gerais</td>\n",
       "      <td>True</td>\n",
       "    </tr>\n",
       "  </tbody>\n",
       "</table>\n",
       "</div>"
      ],
      "text/plain": [
       "               mayor_evento              prod_visto      dispos  compras  \\\n",
       "person                                                                     \n",
       "0008ed71           checkout                 Ninguno    Computer        0   \n",
       "00091926     viewed product               iPhone 6S    Computer        0   \n",
       "00091a7a      brand listing               iPhone 6S  Smartphone        0   \n",
       "000ba417     viewed product  Samsung Galaxy A3 Duos    Computer        1   \n",
       "000c79fe  searched products                iPhone 7  Smartphone        0   \n",
       "\n",
       "          visitas  cant_prod_vistos        primer_visita        ultima_visita  \\\n",
       "person                                                                          \n",
       "0008ed71        2                 0  2018-05-17 12:27:47  2018-05-17 16:28:37   \n",
       "00091926       34               372  2018-05-03 22:08:29  2018-05-31 19:52:03   \n",
       "00091a7a        1                 3  2018-03-26 14:51:11  2018-03-26 14:56:58   \n",
       "000ba417        6               153  2018-05-17 11:11:45  2018-05-26 13:09:22   \n",
       "000c79fe        1                 3  2018-05-29 00:27:47  2018-05-29 00:38:07   \n",
       "\n",
       "          cant_eventos  permanencia  hace_cuanto_visito  eventos_por_dia  \\\n",
       "person                                                                     \n",
       "0008ed71             6            1                  14              6.0   \n",
       "00091926           448           28                   0             16.0   \n",
       "00091a7a            10            1                  66             10.0   \n",
       "000ba417           206           10                   5             20.6   \n",
       "000c79fe            17            1                   2             17.0   \n",
       "\n",
       "           channel  visitas_por_dia  vio_celulares             region  is_new  \n",
       "person                                                                         \n",
       "0008ed71  Referral         2.000000          False            Unknown    True  \n",
       "00091926    Direct         1.214286           True  Rio Grande do Sul    True  \n",
       "00091a7a      Paid         1.000000           True       Minas Gerais    True  \n",
       "000ba417    Direct         0.600000           True          Sao Paulo    True  \n",
       "000c79fe      Paid         1.000000           True       Minas Gerais    True  "
      ]
     },
     "execution_count": 8,
     "metadata": {},
     "output_type": "execute_result"
    }
   ],
   "source": [
    "processed = processed.set_index('person')\n",
    "processed.head()"
   ]
  },
  {
   "cell_type": "code",
   "execution_count": 9,
   "metadata": {},
   "outputs": [],
   "source": [
    "predict_features = processed.loc[processed.index.isin(predict['person'])].drop(['primer_visita','ultima_visita'],axis=1)"
   ]
  },
  {
   "cell_type": "code",
   "execution_count": 10,
   "metadata": {},
   "outputs": [
    {
     "name": "stderr",
     "output_type": "stream",
     "text": [
      "/home/javier/.local/lib/python3.6/site-packages/ipykernel_launcher.py:2: SettingWithCopyWarning: \n",
      "A value is trying to be set on a copy of a slice from a DataFrame.\n",
      "Try using .loc[row_indexer,col_indexer] = value instead\n",
      "\n",
      "See the caveats in the documentation: http://pandas.pydata.org/pandas-docs/stable/indexing.html#indexing-view-versus-copy\n",
      "  \n"
     ]
    }
   ],
   "source": [
    "training_features = processed.loc[processed.index.isin(a_predecir['person'])]\n",
    "training_features['label'] = a_predecir.set_index('person')['label']\n",
    "\n",
    "\n",
    "training_labels = training_features['label']\n",
    "training_features = training_features.drop(['primer_visita','ultima_visita','label'],axis=1)"
   ]
  },
  {
   "cell_type": "code",
   "execution_count": 11,
   "metadata": {},
   "outputs": [
    {
     "data": {
      "text/html": [
       "<div>\n",
       "<style scoped>\n",
       "    .dataframe tbody tr th:only-of-type {\n",
       "        vertical-align: middle;\n",
       "    }\n",
       "\n",
       "    .dataframe tbody tr th {\n",
       "        vertical-align: top;\n",
       "    }\n",
       "\n",
       "    .dataframe thead th {\n",
       "        text-align: right;\n",
       "    }\n",
       "</style>\n",
       "<table border=\"1\" class=\"dataframe\">\n",
       "  <thead>\n",
       "    <tr style=\"text-align: right;\">\n",
       "      <th></th>\n",
       "      <th>mayor_evento</th>\n",
       "      <th>prod_visto</th>\n",
       "      <th>dispos</th>\n",
       "      <th>compras</th>\n",
       "      <th>visitas</th>\n",
       "      <th>cant_prod_vistos</th>\n",
       "      <th>cant_eventos</th>\n",
       "      <th>permanencia</th>\n",
       "      <th>hace_cuanto_visito</th>\n",
       "      <th>eventos_por_dia</th>\n",
       "      <th>channel</th>\n",
       "      <th>visitas_por_dia</th>\n",
       "      <th>vio_celulares</th>\n",
       "      <th>region</th>\n",
       "      <th>is_new</th>\n",
       "    </tr>\n",
       "    <tr>\n",
       "      <th>person</th>\n",
       "      <th></th>\n",
       "      <th></th>\n",
       "      <th></th>\n",
       "      <th></th>\n",
       "      <th></th>\n",
       "      <th></th>\n",
       "      <th></th>\n",
       "      <th></th>\n",
       "      <th></th>\n",
       "      <th></th>\n",
       "      <th></th>\n",
       "      <th></th>\n",
       "      <th></th>\n",
       "      <th></th>\n",
       "      <th></th>\n",
       "    </tr>\n",
       "  </thead>\n",
       "  <tbody>\n",
       "    <tr>\n",
       "      <th>0008ed71</th>\n",
       "      <td>checkout</td>\n",
       "      <td>Ninguno</td>\n",
       "      <td>Computer</td>\n",
       "      <td>0</td>\n",
       "      <td>2</td>\n",
       "      <td>0</td>\n",
       "      <td>6</td>\n",
       "      <td>1</td>\n",
       "      <td>14</td>\n",
       "      <td>6.000000</td>\n",
       "      <td>Referral</td>\n",
       "      <td>2.000000</td>\n",
       "      <td>False</td>\n",
       "      <td>Unknown</td>\n",
       "      <td>True</td>\n",
       "    </tr>\n",
       "    <tr>\n",
       "      <th>000c79fe</th>\n",
       "      <td>searched products</td>\n",
       "      <td>iPhone 7</td>\n",
       "      <td>Smartphone</td>\n",
       "      <td>0</td>\n",
       "      <td>1</td>\n",
       "      <td>3</td>\n",
       "      <td>17</td>\n",
       "      <td>1</td>\n",
       "      <td>2</td>\n",
       "      <td>17.000000</td>\n",
       "      <td>Paid</td>\n",
       "      <td>1.000000</td>\n",
       "      <td>True</td>\n",
       "      <td>Minas Gerais</td>\n",
       "      <td>True</td>\n",
       "    </tr>\n",
       "    <tr>\n",
       "      <th>001802e4</th>\n",
       "      <td>ad campaign hit</td>\n",
       "      <td>iPhone 6S</td>\n",
       "      <td>Smartphone</td>\n",
       "      <td>0</td>\n",
       "      <td>1</td>\n",
       "      <td>4</td>\n",
       "      <td>19</td>\n",
       "      <td>1</td>\n",
       "      <td>0</td>\n",
       "      <td>19.000000</td>\n",
       "      <td>Paid</td>\n",
       "      <td>1.000000</td>\n",
       "      <td>True</td>\n",
       "      <td>Rio de Janeiro</td>\n",
       "      <td>True</td>\n",
       "    </tr>\n",
       "    <tr>\n",
       "      <th>0019e639</th>\n",
       "      <td>viewed product</td>\n",
       "      <td>Motorola Moto G2 3G Dual</td>\n",
       "      <td>Computer</td>\n",
       "      <td>2</td>\n",
       "      <td>19</td>\n",
       "      <td>189</td>\n",
       "      <td>471</td>\n",
       "      <td>115</td>\n",
       "      <td>9</td>\n",
       "      <td>4.095652</td>\n",
       "      <td>Paid</td>\n",
       "      <td>0.165217</td>\n",
       "      <td>True</td>\n",
       "      <td>Sao Paulo</td>\n",
       "      <td>True</td>\n",
       "    </tr>\n",
       "    <tr>\n",
       "      <th>001b0bf9</th>\n",
       "      <td>checkout</td>\n",
       "      <td>Samsung Galaxy S8 Plus</td>\n",
       "      <td>Ninguno</td>\n",
       "      <td>1</td>\n",
       "      <td>0</td>\n",
       "      <td>2</td>\n",
       "      <td>7</td>\n",
       "      <td>1</td>\n",
       "      <td>9</td>\n",
       "      <td>7.000000</td>\n",
       "      <td>Ninguno</td>\n",
       "      <td>0.000000</td>\n",
       "      <td>True</td>\n",
       "      <td>Unknown</td>\n",
       "      <td>False</td>\n",
       "    </tr>\n",
       "  </tbody>\n",
       "</table>\n",
       "</div>"
      ],
      "text/plain": [
       "               mayor_evento                prod_visto      dispos  compras  \\\n",
       "person                                                                       \n",
       "0008ed71           checkout                   Ninguno    Computer        0   \n",
       "000c79fe  searched products                  iPhone 7  Smartphone        0   \n",
       "001802e4    ad campaign hit                 iPhone 6S  Smartphone        0   \n",
       "0019e639     viewed product  Motorola Moto G2 3G Dual    Computer        2   \n",
       "001b0bf9           checkout    Samsung Galaxy S8 Plus     Ninguno        1   \n",
       "\n",
       "          visitas  cant_prod_vistos  cant_eventos  permanencia  \\\n",
       "person                                                           \n",
       "0008ed71        2                 0             6            1   \n",
       "000c79fe        1                 3            17            1   \n",
       "001802e4        1                 4            19            1   \n",
       "0019e639       19               189           471          115   \n",
       "001b0bf9        0                 2             7            1   \n",
       "\n",
       "          hace_cuanto_visito  eventos_por_dia   channel  visitas_por_dia  \\\n",
       "person                                                                     \n",
       "0008ed71                  14         6.000000  Referral         2.000000   \n",
       "000c79fe                   2        17.000000      Paid         1.000000   \n",
       "001802e4                   0        19.000000      Paid         1.000000   \n",
       "0019e639                   9         4.095652      Paid         0.165217   \n",
       "001b0bf9                   9         7.000000   Ninguno         0.000000   \n",
       "\n",
       "          vio_celulares          region  is_new  \n",
       "person                                           \n",
       "0008ed71          False         Unknown    True  \n",
       "000c79fe           True    Minas Gerais    True  \n",
       "001802e4           True  Rio de Janeiro    True  \n",
       "0019e639           True       Sao Paulo    True  \n",
       "001b0bf9           True         Unknown   False  "
      ]
     },
     "execution_count": 11,
     "metadata": {},
     "output_type": "execute_result"
    }
   ],
   "source": [
    "training_features.head()"
   ]
  },
  {
   "cell_type": "markdown",
   "metadata": {},
   "source": [
    "## Mean encoding"
   ]
  },
  {
   "cell_type": "code",
   "execution_count": 12,
   "metadata": {},
   "outputs": [],
   "source": [
    "tg = category_encoders.TargetEncoder(smoothing=True)\n",
    "encoded_training = tg.fit_transform(np.array(training_features),np.array(training_labels))\n",
    "encoded_predict = tg.transform(np.array(predict_features))"
   ]
  },
  {
   "cell_type": "code",
   "execution_count": 13,
   "metadata": {},
   "outputs": [
    {
     "data": {
      "text/html": [
       "<div>\n",
       "<style scoped>\n",
       "    .dataframe tbody tr th:only-of-type {\n",
       "        vertical-align: middle;\n",
       "    }\n",
       "\n",
       "    .dataframe tbody tr th {\n",
       "        vertical-align: top;\n",
       "    }\n",
       "\n",
       "    .dataframe thead th {\n",
       "        text-align: right;\n",
       "    }\n",
       "</style>\n",
       "<table border=\"1\" class=\"dataframe\">\n",
       "  <thead>\n",
       "    <tr style=\"text-align: right;\">\n",
       "      <th></th>\n",
       "      <th>0</th>\n",
       "      <th>1</th>\n",
       "      <th>2</th>\n",
       "      <th>3</th>\n",
       "      <th>4</th>\n",
       "      <th>5</th>\n",
       "      <th>6</th>\n",
       "      <th>7</th>\n",
       "      <th>8</th>\n",
       "      <th>9</th>\n",
       "      <th>10</th>\n",
       "      <th>11</th>\n",
       "      <th>12</th>\n",
       "      <th>13</th>\n",
       "      <th>14</th>\n",
       "    </tr>\n",
       "  </thead>\n",
       "  <tbody>\n",
       "    <tr>\n",
       "      <th>0</th>\n",
       "      <td>0.007335</td>\n",
       "      <td>0.042654</td>\n",
       "      <td>0.069914</td>\n",
       "      <td>0</td>\n",
       "      <td>2</td>\n",
       "      <td>0</td>\n",
       "      <td>6</td>\n",
       "      <td>1</td>\n",
       "      <td>14</td>\n",
       "      <td>6.000000</td>\n",
       "      <td>0.065251</td>\n",
       "      <td>2.000000</td>\n",
       "      <td>False</td>\n",
       "      <td>0.046687</td>\n",
       "      <td>True</td>\n",
       "    </tr>\n",
       "    <tr>\n",
       "      <th>1</th>\n",
       "      <td>0.053592</td>\n",
       "      <td>0.049793</td>\n",
       "      <td>0.034791</td>\n",
       "      <td>0</td>\n",
       "      <td>1</td>\n",
       "      <td>3</td>\n",
       "      <td>17</td>\n",
       "      <td>1</td>\n",
       "      <td>2</td>\n",
       "      <td>17.000000</td>\n",
       "      <td>0.042291</td>\n",
       "      <td>1.000000</td>\n",
       "      <td>True</td>\n",
       "      <td>0.058204</td>\n",
       "      <td>True</td>\n",
       "    </tr>\n",
       "    <tr>\n",
       "      <th>2</th>\n",
       "      <td>0.018508</td>\n",
       "      <td>0.034037</td>\n",
       "      <td>0.034791</td>\n",
       "      <td>0</td>\n",
       "      <td>1</td>\n",
       "      <td>4</td>\n",
       "      <td>19</td>\n",
       "      <td>1</td>\n",
       "      <td>0</td>\n",
       "      <td>19.000000</td>\n",
       "      <td>0.042291</td>\n",
       "      <td>1.000000</td>\n",
       "      <td>True</td>\n",
       "      <td>0.049149</td>\n",
       "      <td>True</td>\n",
       "    </tr>\n",
       "    <tr>\n",
       "      <th>3</th>\n",
       "      <td>0.055779</td>\n",
       "      <td>0.026954</td>\n",
       "      <td>0.069914</td>\n",
       "      <td>2</td>\n",
       "      <td>19</td>\n",
       "      <td>189</td>\n",
       "      <td>471</td>\n",
       "      <td>115</td>\n",
       "      <td>9</td>\n",
       "      <td>4.095652</td>\n",
       "      <td>0.042291</td>\n",
       "      <td>0.165217</td>\n",
       "      <td>True</td>\n",
       "      <td>0.053818</td>\n",
       "      <td>True</td>\n",
       "    </tr>\n",
       "    <tr>\n",
       "      <th>4</th>\n",
       "      <td>0.007335</td>\n",
       "      <td>0.054054</td>\n",
       "      <td>0.017361</td>\n",
       "      <td>1</td>\n",
       "      <td>0</td>\n",
       "      <td>2</td>\n",
       "      <td>7</td>\n",
       "      <td>1</td>\n",
       "      <td>9</td>\n",
       "      <td>7.000000</td>\n",
       "      <td>0.017361</td>\n",
       "      <td>0.000000</td>\n",
       "      <td>True</td>\n",
       "      <td>0.046687</td>\n",
       "      <td>False</td>\n",
       "    </tr>\n",
       "  </tbody>\n",
       "</table>\n",
       "</div>"
      ],
      "text/plain": [
       "         0         1         2   3   4    5    6    7   8          9   \\\n",
       "0  0.007335  0.042654  0.069914   0   2    0    6    1  14   6.000000   \n",
       "1  0.053592  0.049793  0.034791   0   1    3   17    1   2  17.000000   \n",
       "2  0.018508  0.034037  0.034791   0   1    4   19    1   0  19.000000   \n",
       "3  0.055779  0.026954  0.069914   2  19  189  471  115   9   4.095652   \n",
       "4  0.007335  0.054054  0.017361   1   0    2    7    1   9   7.000000   \n",
       "\n",
       "         10        11     12        13     14  \n",
       "0  0.065251  2.000000  False  0.046687   True  \n",
       "1  0.042291  1.000000   True  0.058204   True  \n",
       "2  0.042291  1.000000   True  0.049149   True  \n",
       "3  0.042291  0.165217   True  0.053818   True  \n",
       "4  0.017361  0.000000   True  0.046687  False  "
      ]
     },
     "execution_count": 13,
     "metadata": {},
     "output_type": "execute_result"
    }
   ],
   "source": [
    "encoded_training.head()"
   ]
  },
  {
   "cell_type": "code",
   "execution_count": 57,
   "metadata": {
    "scrolled": true
   },
   "outputs": [],
   "source": [
    "params={\n",
    "    'n_estimators':stats.randint(150,500),\n",
    "    'learning_rate':stats.uniform(0.01,0.3),\n",
    "    'subsample':stats.uniform(0.3,0.7),\n",
    "    'min_child_weight':[1,5,10],\n",
    "    'max_depth':[3,10,6],\n",
    "    'gamma':[0,1,5],\n",
    "    'colsample_bytree':stats.uniform(0.4,0.6)\n",
    "}\n",
    "grid = RandomizedSearchCV(xgb.XGBClassifier(n_jobs=-1),\n",
    "                          param_distributions=params,\n",
    "                          scoring='roc_auc',\n",
    "                          cv=2,\n",
    "                          verbose=1,\n",
    "                          n_iter=25)"
   ]
  },
  {
   "cell_type": "code",
   "execution_count": 58,
   "metadata": {},
   "outputs": [],
   "source": [
    "xtr,xte,ytr,yte=train_test_split(encoded_training,training_labels)"
   ]
  },
  {
   "cell_type": "code",
   "execution_count": null,
   "metadata": {
    "scrolled": true
   },
   "outputs": [],
   "source": [
    "grid.fit(xtr,ytr)"
   ]
  },
  {
   "cell_type": "code",
   "execution_count": 60,
   "metadata": {},
   "outputs": [
    {
     "data": {
      "text/plain": [
       "0.7843261401449648"
      ]
     },
     "execution_count": 60,
     "metadata": {},
     "output_type": "execute_result"
    }
   ],
   "source": [
    "grid.score(X=xte,y=yte)"
   ]
  },
  {
   "cell_type": "code",
   "execution_count": 61,
   "metadata": {},
   "outputs": [
    {
     "data": {
      "text/plain": [
       "{'colsample_bytree': 0.5260820206459875,\n",
       " 'gamma': 5,\n",
       " 'learning_rate': 0.03944207589130514,\n",
       " 'max_depth': 10,\n",
       " 'min_child_weight': 10,\n",
       " 'n_estimators': 172,\n",
       " 'subsample': 0.9527467047072764}"
      ]
     },
     "execution_count": 61,
     "metadata": {},
     "output_type": "execute_result"
    }
   ],
   "source": [
    "grid.best_params_"
   ]
  },
  {
   "cell_type": "markdown",
   "metadata": {},
   "source": [
    "## Prediccion"
   ]
  },
  {
   "cell_type": "code",
   "execution_count": 62,
   "metadata": {},
   "outputs": [],
   "source": [
    "predictor = grid.best_estimator_"
   ]
  },
  {
   "cell_type": "code",
   "execution_count": 63,
   "metadata": {},
   "outputs": [
    {
     "data": {
      "text/plain": [
       "array([0.06796116, 0.13713592, 0.05946602, 0.04429612, 0.03519417,\n",
       "       0.0618932 , 0.09223301, 0.07099514, 0.13167475, 0.0934466 ,\n",
       "       0.03762136, 0.08798543, 0.        , 0.08009709, 0.        ],\n",
       "      dtype=float32)"
      ]
     },
     "execution_count": 63,
     "metadata": {},
     "output_type": "execute_result"
    }
   ],
   "source": [
    "predictor.feature_importances_"
   ]
  },
  {
   "cell_type": "code",
   "execution_count": 64,
   "metadata": {},
   "outputs": [
    {
     "data": {
      "text/plain": [
       "XGBClassifier(base_score=0.5, booster='gbtree', colsample_bylevel=1,\n",
       "       colsample_bytree=0.5260820206459875, gamma=5,\n",
       "       learning_rate=0.03944207589130514, max_delta_step=0, max_depth=10,\n",
       "       min_child_weight=10, missing=None, n_estimators=172, n_jobs=-1,\n",
       "       nthread=None, objective='binary:logistic', random_state=0,\n",
       "       reg_alpha=0, reg_lambda=1, scale_pos_weight=1, seed=None,\n",
       "       silent=True, subsample=0.9527467047072764)"
      ]
     },
     "execution_count": 64,
     "metadata": {},
     "output_type": "execute_result"
    }
   ],
   "source": [
    "predictor.fit(encoded_training,training_labels)"
   ]
  },
  {
   "cell_type": "code",
   "execution_count": 65,
   "metadata": {},
   "outputs": [],
   "source": [
    "prediction_submit = predictor.predict_proba(encoded_predict)[:,1]"
   ]
  },
  {
   "cell_type": "code",
   "execution_count": 66,
   "metadata": {},
   "outputs": [],
   "source": [
    "predict_features['label'] = prediction_submit"
   ]
  },
  {
   "cell_type": "code",
   "execution_count": 67,
   "metadata": {},
   "outputs": [],
   "source": [
    "subm = predict.merge(predict_features['label'].reset_index(),how='left',on='person')"
   ]
  },
  {
   "cell_type": "code",
   "execution_count": 68,
   "metadata": {},
   "outputs": [],
   "source": [
    "subm = subm.set_index('person')"
   ]
  },
  {
   "cell_type": "code",
   "execution_count": 69,
   "metadata": {},
   "outputs": [],
   "source": [
    "subm.to_csv('submit.csv')"
   ]
  },
  {
   "cell_type": "code",
   "execution_count": null,
   "metadata": {},
   "outputs": [],
   "source": []
  }
 ],
 "metadata": {
  "kernelspec": {
   "display_name": "Python 3",
   "language": "python",
   "name": "python3"
  },
  "language_info": {
   "codemirror_mode": {
    "name": "ipython",
    "version": 3
   },
   "file_extension": ".py",
   "mimetype": "text/x-python",
   "name": "python",
   "nbconvert_exporter": "python",
   "pygments_lexer": "ipython3",
   "version": "3.6.5"
  }
 },
 "nbformat": 4,
 "nbformat_minor": 2
}
