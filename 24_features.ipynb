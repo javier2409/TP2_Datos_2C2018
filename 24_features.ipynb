{
 "cells": [
  {
   "cell_type": "code",
   "execution_count": 1,
   "metadata": {},
   "outputs": [],
   "source": [
    "import pandas as pd"
   ]
  },
  {
   "cell_type": "code",
   "execution_count": 2,
   "metadata": {},
   "outputs": [],
   "source": [
    "file = pd.read_csv('events_up_to_01062018.csv',low_memory=False)"
   ]
  },
  {
   "cell_type": "code",
   "execution_count": 3,
   "metadata": {},
   "outputs": [
    {
     "name": "stdout",
     "output_type": "stream",
     "text": [
      "<class 'pandas.core.frame.DataFrame'>\n",
      "RangeIndex: 2341681 entries, 0 to 2341680\n",
      "Data columns (total 23 columns):\n",
      "timestamp                   object\n",
      "event                       object\n",
      "person                      object\n",
      "url                         object\n",
      "sku                         float64\n",
      "model                       object\n",
      "condition                   object\n",
      "storage                     object\n",
      "color                       object\n",
      "skus                        object\n",
      "search_term                 object\n",
      "staticpage                  object\n",
      "campaign_source             object\n",
      "search_engine               object\n",
      "channel                     object\n",
      "new_vs_returning            object\n",
      "city                        object\n",
      "region                      object\n",
      "country                     object\n",
      "device_type                 object\n",
      "screen_resolution           object\n",
      "operating_system_version    object\n",
      "browser_version             object\n",
      "dtypes: float64(1), object(22)\n",
      "memory usage: 410.9+ MB\n"
     ]
    }
   ],
   "source": [
    "file.info()"
   ]
  },
  {
   "cell_type": "markdown",
   "metadata": {},
   "source": [
    "Separar condition y storage segun si vio o compro\n",
    "Columnas de los modelos mas comprados y si la persona lo vio o no\n"
   ]
  },
  {
   "cell_type": "code",
   "execution_count": null,
   "metadata": {},
   "outputs": [],
   "source": [
    "conditions = file['condition'].dropna().unique()\n",
    "storages = file['storage'].dropna().unique()\n",
    "columns = []\n",
    "\n",
    "for c in conditions:\n",
    "    columns.append(c+'_compro')\n",
    "    columns.append(c+'_vio')\n",
    "for s in storages:\n",
    "    columns.append(s+'_compro')\n",
    "    columns.append(s+'_vio')\n",
    "    \n",
    "def viocompro(x):\n",
    "    a = []\n",
    "    df_c = x.loc[x.event=='conversion',['condition','storage']]\n",
    "    df_v = x.loc[x.event=='viewed product',['condition','storage']]\n",
    "    print(df_c)\n",
    "    print(df_v)\n",
    "    for c in conditions:\n",
    "        a.append(c in df_c['condition'])\n",
    "        a.append(c in df_v['condition'])\n",
    "    for s in storages:\n",
    "        a.append(s in dfii_c['storage'])\n",
    "        a.append(s in df_v['storage'])\n",
    "    return pd.Series(a)\n",
    "viocompro = file.groupby('person').apply(viocompro)\n",
    "viocompro.columns = columns\n"
   ]
  },
  {
   "cell_type": "code",
   "execution_count": 9,
   "metadata": {},
   "outputs": [],
   "source": [
    "compras = file.loc[file.event=='conversion','model']\n",
    "mascomprados = list(compras.value_counts().head(7).index)\n",
    "def violosmascomprados (x):\n",
    "    a = []\n",
    "    for c in mascomprados:\n",
    "        a.append(c in x.loc[x.event=='viewed_product','model'])\n",
    "mascomprados = file.groupby('person').apply(violosmascomprados)"
   ]
  },
  {
   "cell_type": "code",
   "execution_count": 10,
   "metadata": {},
   "outputs": [
    {
     "data": {
      "text/html": [
       "<div>\n",
       "<style scoped>\n",
       "    .dataframe tbody tr th:only-of-type {\n",
       "        vertical-align: middle;\n",
       "    }\n",
       "\n",
       "    .dataframe tbody tr th {\n",
       "        vertical-align: top;\n",
       "    }\n",
       "\n",
       "    .dataframe thead th {\n",
       "        text-align: right;\n",
       "    }\n",
       "</style>\n",
       "<table border=\"1\" class=\"dataframe\">\n",
       "  <thead>\n",
       "    <tr style=\"text-align: right;\">\n",
       "      <th></th>\n",
       "    </tr>\n",
       "  </thead>\n",
       "  <tbody>\n",
       "  </tbody>\n",
       "</table>\n",
       "</div>"
      ],
      "text/plain": [
       "Empty DataFrame\n",
       "Columns: []\n",
       "Index: []"
      ]
     },
     "execution_count": 10,
     "metadata": {},
     "output_type": "execute_result"
    }
   ],
   "source": [
    "mascomprados.head()"
   ]
  },
  {
   "cell_type": "code",
   "execution_count": null,
   "metadata": {},
   "outputs": [],
   "source": []
  }
 ],
 "metadata": {
  "kernelspec": {
   "display_name": "Python 3",
   "language": "python",
   "name": "python3"
  },
  "language_info": {
   "codemirror_mode": {
    "name": "ipython",
    "version": 3
   },
   "file_extension": ".py",
   "mimetype": "text/x-python",
   "name": "python",
   "nbconvert_exporter": "python",
   "pygments_lexer": "ipython3",
   "version": "3.6.5"
  }
 },
 "nbformat": 4,
 "nbformat_minor": 2
}
