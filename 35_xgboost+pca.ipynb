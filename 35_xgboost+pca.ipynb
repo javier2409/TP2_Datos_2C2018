{
 "cells": [
  {
   "cell_type": "code",
   "execution_count": 2,
   "metadata": {},
   "outputs": [],
   "source": [
    "import numpy as np\n",
    "from sklearn.preprocessing import StandardScaler"
   ]
  },
  {
   "cell_type": "code",
   "execution_count": 3,
   "metadata": {},
   "outputs": [],
   "source": [
    "import xgboost as xgb"
   ]
  },
  {
   "cell_type": "code",
   "execution_count": 1,
   "metadata": {},
   "outputs": [],
   "source": [
    "import pandas as pd\n",
    "from sklearn.model_selection import train_test_split\n",
    "import category_encoders\n",
    "from sklearn.decomposition import PCA"
   ]
  },
  {
   "cell_type": "code",
   "execution_count": 54,
   "metadata": {},
   "outputs": [],
   "source": [
    "import matplotlib.pyplot as plt"
   ]
  },
  {
   "cell_type": "code",
   "execution_count": 5,
   "metadata": {},
   "outputs": [],
   "source": [
    "features = pd.read_csv('features_10.csv')\n",
    "kaggle = pd.read_csv('trocafone_kaggle_test.csv')\n",
    "labels = pd.read_csv('labels_training_set.csv')"
   ]
  },
  {
   "cell_type": "code",
   "execution_count": 63,
   "metadata": {},
   "outputs": [
    {
     "name": "stdout",
     "output_type": "stream",
     "text": [
      "<class 'pandas.core.frame.DataFrame'>\n",
      "RangeIndex: 38829 entries, 0 to 38828\n",
      "Columns: 141 entries, person to precio_mas_barato_que_vio\n",
      "dtypes: bool(46), float64(6), int64(75), object(14)\n",
      "memory usage: 29.8+ MB\n"
     ]
    }
   ],
   "source": [
    "features.info()"
   ]
  },
  {
   "cell_type": "code",
   "execution_count": 6,
   "metadata": {},
   "outputs": [],
   "source": [
    "training = labels.set_index('person').join(features.set_index('person'))\n",
    "train_labels = training['label']\n",
    "train_data = training.drop('label',axis=1)"
   ]
  },
  {
   "cell_type": "code",
   "execution_count": 7,
   "metadata": {},
   "outputs": [],
   "source": [
    "predict_data = kaggle.set_index('person').join(features.set_index('person'))"
   ]
  },
  {
   "cell_type": "code",
   "execution_count": 8,
   "metadata": {},
   "outputs": [],
   "source": [
    "encoder = category_encoders.TargetEncoder(smoothing=True)\n",
    "train_data_enc = encoder.fit_transform(np.array(train_data),np.array(train_labels))\n",
    "predict_data_enc = encoder.transform(np.array(predict_data))"
   ]
  },
  {
   "cell_type": "code",
   "execution_count": 66,
   "metadata": {},
   "outputs": [],
   "source": [
    "pca = PCA(n_components = 140)"
   ]
  },
  {
   "cell_type": "code",
   "execution_count": 67,
   "metadata": {},
   "outputs": [],
   "source": [
    "scaler = StandardScaler()\n",
    "train_data_pca = pca.fit_transform(scaler.fit_transform(train_data_enc.fillna(0)))\n",
    "predict_data_pca = pca.fit_transform(scaler.fit_transform(predict_data_enc.fillna(0)))"
   ]
  },
  {
   "cell_type": "code",
   "execution_count": 68,
   "metadata": {},
   "outputs": [
    {
     "data": {
      "text/plain": [
       "[<matplotlib.lines.Line2D at 0x2488c1c7f60>]"
      ]
     },
     "execution_count": 68,
     "metadata": {},
     "output_type": "execute_result"
    },
    {
     "data": {
      "image/png": "[encoded data removed]",
      "text/plain": [
       "<Figure size 432x288 with 1 Axes>"
      ]
     },
     "metadata": {
      "needs_background": "light"
     },
     "output_type": "display_data"
    }
   ],
   "source": [
    "plt.plot(np.cumsum(pca.singular_values_**2)/sum(pca.singular_values_**2))"
   ]
  },
  {
   "cell_type": "code",
   "execution_count": 69,
   "metadata": {},
   "outputs": [],
   "source": [
    "pca = PCA(n_components = 110)"
   ]
  },
  {
   "cell_type": "code",
   "execution_count": 70,
   "metadata": {},
   "outputs": [],
   "source": [
    "scaler = StandardScaler()\n",
    "train_data_pca = pca.fit_transform(scaler.fit_transform(train_data_enc.fillna(0)))\n",
    "predict_data_pca = pca.fit_transform(scaler.fit_transform(predict_data_enc.fillna(0)))"
   ]
  },
  {
   "cell_type": "code",
   "execution_count": 49,
   "metadata": {},
   "outputs": [],
   "source": [
    "xtrain,xtest,ytrain,ytest = train_test_split(train_data_pca,np.array(train_labels))"
   ]
  },
  {
   "cell_type": "code",
   "execution_count": 71,
   "metadata": {},
   "outputs": [],
   "source": [
    "train = xgb.DMatrix(data=xtrain,label=ytrain)\n",
    "test = xgb.DMatrix(data=xtest,label=ytest)\n",
    "data = xgb.DMatrix(data=train_data_pca,label=np.array(train_labels))\n",
    "pred = xgb.DMatrix(data=predict_data_pca)\n",
    "params = {'colsample_bytree': 0.9,\n",
    " 'gamma': 2,\n",
    " 'learning_rate': 0.016238752458245277,\n",
    " 'max_depth': 13,\n",
    " 'min_child_weight': 5,\n",
    " 'n_estimators': 100,\n",
    " 'subsample': 0.7847190225361189,\n",
    " 'eval_metric':'auc'}"
   ]
  },
  {
   "cell_type": "code",
   "execution_count": 72,
   "metadata": {},
   "outputs": [
    {
     "name": "stdout",
     "output_type": "stream",
     "text": [
      "[03:06:34] C:\\Users\\Administrator\\Desktop\\xgboost\\src\\tree\\updater_prune.cc:74: tree pruning end, 1 roots, 102 extra nodes, 314 pruned nodes, max_depth=13\n",
      "[0]\ttrain-auc:0.852466\teval-auc:0.819922\n",
      "[03:06:35] C:\\Users\\Administrator\\Desktop\\xgboost\\src\\tree\\updater_prune.cc:74: tree pruning end, 1 roots, 86 extra nodes, 342 pruned nodes, max_depth=13\n",
      "[1]\ttrain-auc:0.866733\teval-auc:0.839307\n",
      "[03:06:35] C:\\Users\\Administrator\\Desktop\\xgboost\\src\\tree\\updater_prune.cc:74: tree pruning end, 1 roots, 56 extra nodes, 320 pruned nodes, max_depth=9\n",
      "[2]\ttrain-auc:0.877521\teval-auc:0.841774\n",
      "[03:06:35] C:\\Users\\Administrator\\Desktop\\xgboost\\src\\tree\\updater_prune.cc:74: tree pruning end, 1 roots, 80 extra nodes, 354 pruned nodes, max_depth=12\n",
      "[3]\ttrain-auc:0.883242\teval-auc:0.842566\n",
      "[03:06:35] C:\\Users\\Administrator\\Desktop\\xgboost\\src\\tree\\updater_prune.cc:74: tree pruning end, 1 roots, 70 extra nodes, 284 pruned nodes, max_depth=12\n",
      "[4]\ttrain-auc:0.889501\teval-auc:0.846325\n",
      "[03:06:35] C:\\Users\\Administrator\\Desktop\\xgboost\\src\\tree\\updater_prune.cc:74: tree pruning end, 1 roots, 78 extra nodes, 300 pruned nodes, max_depth=11\n",
      "[5]\ttrain-auc:0.891106\teval-auc:0.844168\n",
      "[03:06:35] C:\\Users\\Administrator\\Desktop\\xgboost\\src\\tree\\updater_prune.cc:74: tree pruning end, 1 roots, 50 extra nodes, 326 pruned nodes, max_depth=9\n",
      "[6]\ttrain-auc:0.892075\teval-auc:0.843611\n",
      "[03:06:35] C:\\Users\\Administrator\\Desktop\\xgboost\\src\\tree\\updater_prune.cc:74: tree pruning end, 1 roots, 58 extra nodes, 366 pruned nodes, max_depth=11\n",
      "[7]\ttrain-auc:0.892726\teval-auc:0.842415\n",
      "[03:06:35] C:\\Users\\Administrator\\Desktop\\xgboost\\src\\tree\\updater_prune.cc:74: tree pruning end, 1 roots, 58 extra nodes, 340 pruned nodes, max_depth=10\n",
      "[8]\ttrain-auc:0.893523\teval-auc:0.840608\n",
      "[03:06:35] C:\\Users\\Administrator\\Desktop\\xgboost\\src\\tree\\updater_prune.cc:74: tree pruning end, 1 roots, 52 extra nodes, 310 pruned nodes, max_depth=10\n",
      "[9]\ttrain-auc:0.895925\teval-auc:0.843112\n",
      "[03:06:35] C:\\Users\\Administrator\\Desktop\\xgboost\\src\\tree\\updater_prune.cc:74: tree pruning end, 1 roots, 78 extra nodes, 326 pruned nodes, max_depth=13\n",
      "[10]\ttrain-auc:0.898459\teval-auc:0.84476\n",
      "[03:06:36] C:\\Users\\Administrator\\Desktop\\xgboost\\src\\tree\\updater_prune.cc:74: tree pruning end, 1 roots, 56 extra nodes, 338 pruned nodes, max_depth=10\n",
      "[11]\ttrain-auc:0.898917\teval-auc:0.849328\n",
      "[03:06:36] C:\\Users\\Administrator\\Desktop\\xgboost\\src\\tree\\updater_prune.cc:74: tree pruning end, 1 roots, 40 extra nodes, 270 pruned nodes, max_depth=10\n",
      "[12]\ttrain-auc:0.899467\teval-auc:0.849687\n",
      "[03:06:36] C:\\Users\\Administrator\\Desktop\\xgboost\\src\\tree\\updater_prune.cc:74: tree pruning end, 1 roots, 68 extra nodes, 354 pruned nodes, max_depth=9\n",
      "[13]\ttrain-auc:0.90156\teval-auc:0.851407\n",
      "[03:06:36] C:\\Users\\Administrator\\Desktop\\xgboost\\src\\tree\\updater_prune.cc:74: tree pruning end, 1 roots, 66 extra nodes, 308 pruned nodes, max_depth=13\n",
      "[14]\ttrain-auc:0.901998\teval-auc:0.85139\n",
      "[03:06:36] C:\\Users\\Administrator\\Desktop\\xgboost\\src\\tree\\updater_prune.cc:74: tree pruning end, 1 roots, 34 extra nodes, 384 pruned nodes, max_depth=7\n",
      "[15]\ttrain-auc:0.901481\teval-auc:0.851418\n",
      "[03:06:36] C:\\Users\\Administrator\\Desktop\\xgboost\\src\\tree\\updater_prune.cc:74: tree pruning end, 1 roots, 60 extra nodes, 358 pruned nodes, max_depth=10\n",
      "[16]\ttrain-auc:0.901479\teval-auc:0.851784\n",
      "[03:06:36] C:\\Users\\Administrator\\Desktop\\xgboost\\src\\tree\\updater_prune.cc:74: tree pruning end, 1 roots, 54 extra nodes, 350 pruned nodes, max_depth=11\n",
      "[17]\ttrain-auc:0.901332\teval-auc:0.852212\n",
      "[03:06:36] C:\\Users\\Administrator\\Desktop\\xgboost\\src\\tree\\updater_prune.cc:74: tree pruning end, 1 roots, 44 extra nodes, 462 pruned nodes, max_depth=11\n",
      "[18]\ttrain-auc:0.900735\teval-auc:0.852226\n",
      "[03:06:37] C:\\Users\\Administrator\\Desktop\\xgboost\\src\\tree\\updater_prune.cc:74: tree pruning end, 1 roots, 48 extra nodes, 398 pruned nodes, max_depth=9\n",
      "[19]\ttrain-auc:0.900776\teval-auc:0.851457\n",
      "[03:06:37] C:\\Users\\Administrator\\Desktop\\xgboost\\src\\tree\\updater_prune.cc:74: tree pruning end, 1 roots, 34 extra nodes, 382 pruned nodes, max_depth=6\n",
      "[20]\ttrain-auc:0.90043\teval-auc:0.851454\n",
      "[03:06:37] C:\\Users\\Administrator\\Desktop\\xgboost\\src\\tree\\updater_prune.cc:74: tree pruning end, 1 roots, 44 extra nodes, 340 pruned nodes, max_depth=10\n",
      "[21]\ttrain-auc:0.900016\teval-auc:0.850938\n",
      "[03:06:37] C:\\Users\\Administrator\\Desktop\\xgboost\\src\\tree\\updater_prune.cc:74: tree pruning end, 1 roots, 38 extra nodes, 354 pruned nodes, max_depth=12\n",
      "[22]\ttrain-auc:0.899591\teval-auc:0.850824\n",
      "[03:06:37] C:\\Users\\Administrator\\Desktop\\xgboost\\src\\tree\\updater_prune.cc:74: tree pruning end, 1 roots, 56 extra nodes, 422 pruned nodes, max_depth=12\n",
      "[23]\ttrain-auc:0.899473\teval-auc:0.850863\n",
      "[03:06:37] C:\\Users\\Administrator\\Desktop\\xgboost\\src\\tree\\updater_prune.cc:74: tree pruning end, 1 roots, 38 extra nodes, 366 pruned nodes, max_depth=10\n",
      "[24]\ttrain-auc:0.899313\teval-auc:0.851422\n",
      "[03:06:37] C:\\Users\\Administrator\\Desktop\\xgboost\\src\\tree\\updater_prune.cc:74: tree pruning end, 1 roots, 64 extra nodes, 362 pruned nodes, max_depth=9\n",
      "[25]\ttrain-auc:0.899897\teval-auc:0.850999\n",
      "[03:06:37] C:\\Users\\Administrator\\Desktop\\xgboost\\src\\tree\\updater_prune.cc:74: tree pruning end, 1 roots, 20 extra nodes, 342 pruned nodes, max_depth=6\n",
      "[26]\ttrain-auc:0.899169\teval-auc:0.85108\n",
      "[03:06:37] C:\\Users\\Administrator\\Desktop\\xgboost\\src\\tree\\updater_prune.cc:74: tree pruning end, 1 roots, 44 extra nodes, 370 pruned nodes, max_depth=11\n",
      "[27]\ttrain-auc:0.899385\teval-auc:0.85116\n",
      "[03:06:38] C:\\Users\\Administrator\\Desktop\\xgboost\\src\\tree\\updater_prune.cc:74: tree pruning end, 1 roots, 50 extra nodes, 320 pruned nodes, max_depth=11\n",
      "[28]\ttrain-auc:0.899397\teval-auc:0.851177\n",
      "[03:06:38] C:\\Users\\Administrator\\Desktop\\xgboost\\src\\tree\\updater_prune.cc:74: tree pruning end, 1 roots, 50 extra nodes, 362 pruned nodes, max_depth=9\n",
      "[29]\ttrain-auc:0.899753\teval-auc:0.851384\n",
      "[03:06:38] C:\\Users\\Administrator\\Desktop\\xgboost\\src\\tree\\updater_prune.cc:74: tree pruning end, 1 roots, 54 extra nodes, 420 pruned nodes, max_depth=10\n",
      "[30]\ttrain-auc:0.900004\teval-auc:0.851279\n",
      "[03:06:38] C:\\Users\\Administrator\\Desktop\\xgboost\\src\\tree\\updater_prune.cc:74: tree pruning end, 1 roots, 32 extra nodes, 370 pruned nodes, max_depth=8\n",
      "[31]\ttrain-auc:0.89977\teval-auc:0.851594\n",
      "[03:06:38] C:\\Users\\Administrator\\Desktop\\xgboost\\src\\tree\\updater_prune.cc:74: tree pruning end, 1 roots, 24 extra nodes, 414 pruned nodes, max_depth=8\n",
      "[32]\ttrain-auc:0.89991\teval-auc:0.851735\n",
      "[03:06:38] C:\\Users\\Administrator\\Desktop\\xgboost\\src\\tree\\updater_prune.cc:74: tree pruning end, 1 roots, 58 extra nodes, 360 pruned nodes, max_depth=10\n",
      "[33]\ttrain-auc:0.900129\teval-auc:0.852282\n",
      "[03:06:38] C:\\Users\\Administrator\\Desktop\\xgboost\\src\\tree\\updater_prune.cc:74: tree pruning end, 1 roots, 60 extra nodes, 268 pruned nodes, max_depth=12\n",
      "[34]\ttrain-auc:0.900799\teval-auc:0.852598\n",
      "[03:06:38] C:\\Users\\Administrator\\Desktop\\xgboost\\src\\tree\\updater_prune.cc:74: tree pruning end, 1 roots, 80 extra nodes, 306 pruned nodes, max_depth=13\n",
      "[35]\ttrain-auc:0.904113\teval-auc:0.854064\n",
      "[03:06:39] C:\\Users\\Administrator\\Desktop\\xgboost\\src\\tree\\updater_prune.cc:74: tree pruning end, 1 roots, 64 extra nodes, 368 pruned nodes, max_depth=12\n",
      "[36]\ttrain-auc:0.906106\teval-auc:0.857361\n",
      "[03:06:39] C:\\Users\\Administrator\\Desktop\\xgboost\\src\\tree\\updater_prune.cc:74: tree pruning end, 1 roots, 50 extra nodes, 400 pruned nodes, max_depth=13\n",
      "[37]\ttrain-auc:0.906801\teval-auc:0.857398\n",
      "[03:06:39] C:\\Users\\Administrator\\Desktop\\xgboost\\src\\tree\\updater_prune.cc:74: tree pruning end, 1 roots, 36 extra nodes, 278 pruned nodes, max_depth=11\n",
      "[38]\ttrain-auc:0.906986\teval-auc:0.858331\n",
      "[03:06:39] C:\\Users\\Administrator\\Desktop\\xgboost\\src\\tree\\updater_prune.cc:74: tree pruning end, 1 roots, 42 extra nodes, 346 pruned nodes, max_depth=9\n",
      "[39]\ttrain-auc:0.909524\teval-auc:0.858377\n",
      "[03:06:39] C:\\Users\\Administrator\\Desktop\\xgboost\\src\\tree\\updater_prune.cc:74: tree pruning end, 1 roots, 38 extra nodes, 416 pruned nodes, max_depth=9\n",
      "[40]\ttrain-auc:0.909515\teval-auc:0.8583\n",
      "[03:06:39] C:\\Users\\Administrator\\Desktop\\xgboost\\src\\tree\\updater_prune.cc:74: tree pruning end, 1 roots, 36 extra nodes, 396 pruned nodes, max_depth=9\n",
      "[41]\ttrain-auc:0.909468\teval-auc:0.858169\n"
     ]
    },
    {
     "name": "stdout",
     "output_type": "stream",
     "text": [
      "[03:06:39] C:\\Users\\Administrator\\Desktop\\xgboost\\src\\tree\\updater_prune.cc:74: tree pruning end, 1 roots, 48 extra nodes, 322 pruned nodes, max_depth=12\n",
      "[42]\ttrain-auc:0.909725\teval-auc:0.857917\n",
      "[03:06:39] C:\\Users\\Administrator\\Desktop\\xgboost\\src\\tree\\updater_prune.cc:74: tree pruning end, 1 roots, 50 extra nodes, 300 pruned nodes, max_depth=12\n",
      "[43]\ttrain-auc:0.910042\teval-auc:0.857735\n",
      "[03:06:39] C:\\Users\\Administrator\\Desktop\\xgboost\\src\\tree\\updater_prune.cc:74: tree pruning end, 1 roots, 32 extra nodes, 456 pruned nodes, max_depth=7\n",
      "[44]\ttrain-auc:0.909782\teval-auc:0.85764\n",
      "[03:06:40] C:\\Users\\Administrator\\Desktop\\xgboost\\src\\tree\\updater_prune.cc:74: tree pruning end, 1 roots, 66 extra nodes, 338 pruned nodes, max_depth=12\n",
      "[45]\ttrain-auc:0.911029\teval-auc:0.858222\n",
      "[03:06:40] C:\\Users\\Administrator\\Desktop\\xgboost\\src\\tree\\updater_prune.cc:74: tree pruning end, 1 roots, 18 extra nodes, 354 pruned nodes, max_depth=7\n",
      "[46]\ttrain-auc:0.911138\teval-auc:0.85868\n",
      "[03:06:40] C:\\Users\\Administrator\\Desktop\\xgboost\\src\\tree\\updater_prune.cc:74: tree pruning end, 1 roots, 42 extra nodes, 422 pruned nodes, max_depth=9\n",
      "[47]\ttrain-auc:0.911289\teval-auc:0.858443\n",
      "[03:06:40] C:\\Users\\Administrator\\Desktop\\xgboost\\src\\tree\\updater_prune.cc:74: tree pruning end, 1 roots, 44 extra nodes, 386 pruned nodes, max_depth=12\n",
      "[48]\ttrain-auc:0.911291\teval-auc:0.858434\n",
      "[03:06:40] C:\\Users\\Administrator\\Desktop\\xgboost\\src\\tree\\updater_prune.cc:74: tree pruning end, 1 roots, 40 extra nodes, 422 pruned nodes, max_depth=10\n",
      "[49]\ttrain-auc:0.911341\teval-auc:0.858449\n",
      "[03:06:40] C:\\Users\\Administrator\\Desktop\\xgboost\\src\\tree\\updater_prune.cc:74: tree pruning end, 1 roots, 48 extra nodes, 404 pruned nodes, max_depth=13\n",
      "[50]\ttrain-auc:0.911482\teval-auc:0.858786\n",
      "[03:06:40] C:\\Users\\Administrator\\Desktop\\xgboost\\src\\tree\\updater_prune.cc:74: tree pruning end, 1 roots, 32 extra nodes, 452 pruned nodes, max_depth=7\n",
      "[51]\ttrain-auc:0.91146\teval-auc:0.858749\n",
      "[03:06:40] C:\\Users\\Administrator\\Desktop\\xgboost\\src\\tree\\updater_prune.cc:74: tree pruning end, 1 roots, 34 extra nodes, 332 pruned nodes, max_depth=12\n",
      "[52]\ttrain-auc:0.911584\teval-auc:0.858416\n",
      "[03:06:40] C:\\Users\\Administrator\\Desktop\\xgboost\\src\\tree\\updater_prune.cc:74: tree pruning end, 1 roots, 26 extra nodes, 404 pruned nodes, max_depth=10\n",
      "[53]\ttrain-auc:0.911574\teval-auc:0.858336\n",
      "[03:06:41] C:\\Users\\Administrator\\Desktop\\xgboost\\src\\tree\\updater_prune.cc:74: tree pruning end, 1 roots, 18 extra nodes, 366 pruned nodes, max_depth=8\n",
      "[54]\ttrain-auc:0.911395\teval-auc:0.858302\n",
      "[03:06:41] C:\\Users\\Administrator\\Desktop\\xgboost\\src\\tree\\updater_prune.cc:74: tree pruning end, 1 roots, 20 extra nodes, 364 pruned nodes, max_depth=7\n",
      "[55]\ttrain-auc:0.911278\teval-auc:0.858301\n",
      "[03:06:41] C:\\Users\\Administrator\\Desktop\\xgboost\\src\\tree\\updater_prune.cc:74: tree pruning end, 1 roots, 10 extra nodes, 324 pruned nodes, max_depth=5\n",
      "[56]\ttrain-auc:0.911068\teval-auc:0.85823\n",
      "[03:06:41] C:\\Users\\Administrator\\Desktop\\xgboost\\src\\tree\\updater_prune.cc:74: tree pruning end, 1 roots, 10 extra nodes, 418 pruned nodes, max_depth=4\n",
      "[57]\ttrain-auc:0.910895\teval-auc:0.858185\n",
      "[03:06:41] C:\\Users\\Administrator\\Desktop\\xgboost\\src\\tree\\updater_prune.cc:74: tree pruning end, 1 roots, 40 extra nodes, 368 pruned nodes, max_depth=11\n",
      "[58]\ttrain-auc:0.911239\teval-auc:0.858005\n",
      "[03:06:41] C:\\Users\\Administrator\\Desktop\\xgboost\\src\\tree\\updater_prune.cc:74: tree pruning end, 1 roots, 44 extra nodes, 392 pruned nodes, max_depth=8\n",
      "[59]\ttrain-auc:0.91173\teval-auc:0.857924\n",
      "[03:06:41] C:\\Users\\Administrator\\Desktop\\xgboost\\src\\tree\\updater_prune.cc:74: tree pruning end, 1 roots, 44 extra nodes, 388 pruned nodes, max_depth=11\n",
      "[60]\ttrain-auc:0.911937\teval-auc:0.857998\n",
      "[03:06:41] C:\\Users\\Administrator\\Desktop\\xgboost\\src\\tree\\updater_prune.cc:74: tree pruning end, 1 roots, 68 extra nodes, 358 pruned nodes, max_depth=13\n",
      "[61]\ttrain-auc:0.912705\teval-auc:0.857865\n",
      "[03:06:41] C:\\Users\\Administrator\\Desktop\\xgboost\\src\\tree\\updater_prune.cc:74: tree pruning end, 1 roots, 30 extra nodes, 362 pruned nodes, max_depth=9\n",
      "[62]\ttrain-auc:0.91275\teval-auc:0.858057\n",
      "[03:06:42] C:\\Users\\Administrator\\Desktop\\xgboost\\src\\tree\\updater_prune.cc:74: tree pruning end, 1 roots, 46 extra nodes, 372 pruned nodes, max_depth=11\n",
      "[63]\ttrain-auc:0.912924\teval-auc:0.858048\n",
      "[03:06:42] C:\\Users\\Administrator\\Desktop\\xgboost\\src\\tree\\updater_prune.cc:74: tree pruning end, 1 roots, 52 extra nodes, 406 pruned nodes, max_depth=13\n",
      "[64]\ttrain-auc:0.913887\teval-auc:0.858129\n",
      "[03:06:42] C:\\Users\\Administrator\\Desktop\\xgboost\\src\\tree\\updater_prune.cc:74: tree pruning end, 1 roots, 64 extra nodes, 338 pruned nodes, max_depth=12\n",
      "[65]\ttrain-auc:0.914872\teval-auc:0.857943\n",
      "[03:06:42] C:\\Users\\Administrator\\Desktop\\xgboost\\src\\tree\\updater_prune.cc:74: tree pruning end, 1 roots, 44 extra nodes, 318 pruned nodes, max_depth=10\n",
      "[66]\ttrain-auc:0.915216\teval-auc:0.858412\n",
      "[03:06:42] C:\\Users\\Administrator\\Desktop\\xgboost\\src\\tree\\updater_prune.cc:74: tree pruning end, 1 roots, 56 extra nodes, 320 pruned nodes, max_depth=13\n",
      "[67]\ttrain-auc:0.915994\teval-auc:0.858429\n",
      "[03:06:42] C:\\Users\\Administrator\\Desktop\\xgboost\\src\\tree\\updater_prune.cc:74: tree pruning end, 1 roots, 18 extra nodes, 280 pruned nodes, max_depth=9\n",
      "[68]\ttrain-auc:0.916182\teval-auc:0.858472\n",
      "[03:06:42] C:\\Users\\Administrator\\Desktop\\xgboost\\src\\tree\\updater_prune.cc:74: tree pruning end, 1 roots, 8 extra nodes, 422 pruned nodes, max_depth=3\n",
      "[69]\ttrain-auc:0.915955\teval-auc:0.858413\n",
      "[03:06:42] C:\\Users\\Administrator\\Desktop\\xgboost\\src\\tree\\updater_prune.cc:74: tree pruning end, 1 roots, 24 extra nodes, 410 pruned nodes, max_depth=7\n",
      "[70]\ttrain-auc:0.916076\teval-auc:0.858521\n",
      "[03:06:43] C:\\Users\\Administrator\\Desktop\\xgboost\\src\\tree\\updater_prune.cc:74: tree pruning end, 1 roots, 26 extra nodes, 414 pruned nodes, max_depth=8\n",
      "[71]\ttrain-auc:0.915957\teval-auc:0.858536\n",
      "[03:06:43] C:\\Users\\Administrator\\Desktop\\xgboost\\src\\tree\\updater_prune.cc:74: tree pruning end, 1 roots, 22 extra nodes, 354 pruned nodes, max_depth=10\n",
      "[72]\ttrain-auc:0.915901\teval-auc:0.858526\n",
      "[03:06:43] C:\\Users\\Administrator\\Desktop\\xgboost\\src\\tree\\updater_prune.cc:74: tree pruning end, 1 roots, 18 extra nodes, 352 pruned nodes, max_depth=9\n",
      "[73]\ttrain-auc:0.915831\teval-auc:0.858478\n",
      "[03:06:43] C:\\Users\\Administrator\\Desktop\\xgboost\\src\\tree\\updater_prune.cc:74: tree pruning end, 1 roots, 8 extra nodes, 360 pruned nodes, max_depth=4\n",
      "[74]\ttrain-auc:0.915685\teval-auc:0.858527\n",
      "[03:06:43] C:\\Users\\Administrator\\Desktop\\xgboost\\src\\tree\\updater_prune.cc:74: tree pruning end, 1 roots, 24 extra nodes, 336 pruned nodes, max_depth=12\n",
      "[75]\ttrain-auc:0.915774\teval-auc:0.858533\n",
      "[03:06:43] C:\\Users\\Administrator\\Desktop\\xgboost\\src\\tree\\updater_prune.cc:74: tree pruning end, 1 roots, 20 extra nodes, 362 pruned nodes, max_depth=10\n",
      "[76]\ttrain-auc:0.915673\teval-auc:0.858497\n",
      "[03:06:43] C:\\Users\\Administrator\\Desktop\\xgboost\\src\\tree\\updater_prune.cc:74: tree pruning end, 1 roots, 34 extra nodes, 444 pruned nodes, max_depth=11\n",
      "[77]\ttrain-auc:0.916072\teval-auc:0.858383\n",
      "[03:06:43] C:\\Users\\Administrator\\Desktop\\xgboost\\src\\tree\\updater_prune.cc:74: tree pruning end, 1 roots, 18 extra nodes, 380 pruned nodes, max_depth=8\n",
      "[78]\ttrain-auc:0.91684\teval-auc:0.858327\n",
      "[03:06:43] C:\\Users\\Administrator\\Desktop\\xgboost\\src\\tree\\updater_prune.cc:74: tree pruning end, 1 roots, 14 extra nodes, 400 pruned nodes, max_depth=7\n",
      "[79]\ttrain-auc:0.916816\teval-auc:0.858283\n",
      "[03:06:44] C:\\Users\\Administrator\\Desktop\\xgboost\\src\\tree\\updater_prune.cc:74: tree pruning end, 1 roots, 12 extra nodes, 410 pruned nodes, max_depth=6\n",
      "[80]\ttrain-auc:0.916729\teval-auc:0.858296\n",
      "[03:06:44] C:\\Users\\Administrator\\Desktop\\xgboost\\src\\tree\\updater_prune.cc:74: tree pruning end, 1 roots, 16 extra nodes, 404 pruned nodes, max_depth=7\n",
      "[81]\ttrain-auc:0.916655\teval-auc:0.858316\n",
      "[03:06:44] C:\\Users\\Administrator\\Desktop\\xgboost\\src\\tree\\updater_prune.cc:74: tree pruning end, 1 roots, 34 extra nodes, 296 pruned nodes, max_depth=10\n",
      "[82]\ttrain-auc:0.916835\teval-auc:0.858373\n",
      "[03:06:44] C:\\Users\\Administrator\\Desktop\\xgboost\\src\\tree\\updater_prune.cc:74: tree pruning end, 1 roots, 16 extra nodes, 338 pruned nodes, max_depth=8\n",
      "[83]\ttrain-auc:0.916744\teval-auc:0.85839\n"
     ]
    },
    {
     "name": "stdout",
     "output_type": "stream",
     "text": [
      "[03:06:44] C:\\Users\\Administrator\\Desktop\\xgboost\\src\\tree\\updater_prune.cc:74: tree pruning end, 1 roots, 46 extra nodes, 366 pruned nodes, max_depth=9\n",
      "[84]\ttrain-auc:0.917289\teval-auc:0.858329\n",
      "[03:06:44] C:\\Users\\Administrator\\Desktop\\xgboost\\src\\tree\\updater_prune.cc:74: tree pruning end, 1 roots, 26 extra nodes, 418 pruned nodes, max_depth=7\n",
      "[85]\ttrain-auc:0.917334\teval-auc:0.858494\n",
      "[03:06:44] C:\\Users\\Administrator\\Desktop\\xgboost\\src\\tree\\updater_prune.cc:74: tree pruning end, 1 roots, 30 extra nodes, 352 pruned nodes, max_depth=7\n",
      "[86]\ttrain-auc:0.917652\teval-auc:0.858835\n",
      "[03:06:44] C:\\Users\\Administrator\\Desktop\\xgboost\\src\\tree\\updater_prune.cc:74: tree pruning end, 1 roots, 16 extra nodes, 434 pruned nodes, max_depth=8\n",
      "[87]\ttrain-auc:0.917734\teval-auc:0.858793\n",
      "[03:06:44] C:\\Users\\Administrator\\Desktop\\xgboost\\src\\tree\\updater_prune.cc:74: tree pruning end, 1 roots, 2 extra nodes, 470 pruned nodes, max_depth=1\n",
      "[88]\ttrain-auc:0.917716\teval-auc:0.858806\n",
      "[03:06:45] C:\\Users\\Administrator\\Desktop\\xgboost\\src\\tree\\updater_prune.cc:74: tree pruning end, 1 roots, 14 extra nodes, 422 pruned nodes, max_depth=6\n",
      "[89]\ttrain-auc:0.917866\teval-auc:0.858865\n",
      "[03:06:45] C:\\Users\\Administrator\\Desktop\\xgboost\\src\\tree\\updater_prune.cc:74: tree pruning end, 1 roots, 44 extra nodes, 438 pruned nodes, max_depth=9\n",
      "[90]\ttrain-auc:0.918231\teval-auc:0.858836\n",
      "[03:06:45] C:\\Users\\Administrator\\Desktop\\xgboost\\src\\tree\\updater_prune.cc:74: tree pruning end, 1 roots, 18 extra nodes, 368 pruned nodes, max_depth=9\n",
      "[91]\ttrain-auc:0.918207\teval-auc:0.858853\n",
      "[03:06:45] C:\\Users\\Administrator\\Desktop\\xgboost\\src\\tree\\updater_prune.cc:74: tree pruning end, 1 roots, 26 extra nodes, 358 pruned nodes, max_depth=12\n",
      "[92]\ttrain-auc:0.918341\teval-auc:0.859004\n",
      "[03:06:45] C:\\Users\\Administrator\\Desktop\\xgboost\\src\\tree\\updater_prune.cc:74: tree pruning end, 1 roots, 4 extra nodes, 478 pruned nodes, max_depth=2\n",
      "[93]\ttrain-auc:0.918321\teval-auc:0.859002\n",
      "[03:06:45] C:\\Users\\Administrator\\Desktop\\xgboost\\src\\tree\\updater_prune.cc:74: tree pruning end, 1 roots, 22 extra nodes, 350 pruned nodes, max_depth=6\n",
      "[94]\ttrain-auc:0.918425\teval-auc:0.85894\n",
      "[03:06:45] C:\\Users\\Administrator\\Desktop\\xgboost\\src\\tree\\updater_prune.cc:74: tree pruning end, 1 roots, 50 extra nodes, 504 pruned nodes, max_depth=13\n",
      "[95]\ttrain-auc:0.919123\teval-auc:0.859212\n",
      "[03:06:45] C:\\Users\\Administrator\\Desktop\\xgboost\\src\\tree\\updater_prune.cc:74: tree pruning end, 1 roots, 30 extra nodes, 442 pruned nodes, max_depth=12\n",
      "[96]\ttrain-auc:0.919153\teval-auc:0.859111\n",
      "[03:06:45] C:\\Users\\Administrator\\Desktop\\xgboost\\src\\tree\\updater_prune.cc:74: tree pruning end, 1 roots, 28 extra nodes, 462 pruned nodes, max_depth=12\n",
      "[97]\ttrain-auc:0.919345\teval-auc:0.859321\n",
      "[03:06:46] C:\\Users\\Administrator\\Desktop\\xgboost\\src\\tree\\updater_prune.cc:74: tree pruning end, 1 roots, 4 extra nodes, 398 pruned nodes, max_depth=2\n",
      "[98]\ttrain-auc:0.919328\teval-auc:0.859359\n",
      "[03:06:46] C:\\Users\\Administrator\\Desktop\\xgboost\\src\\tree\\updater_prune.cc:74: tree pruning end, 1 roots, 28 extra nodes, 340 pruned nodes, max_depth=11\n",
      "[99]\ttrain-auc:0.919545\teval-auc:0.859316\n",
      "[03:06:46] C:\\Users\\Administrator\\Desktop\\xgboost\\src\\tree\\updater_prune.cc:74: tree pruning end, 1 roots, 40 extra nodes, 408 pruned nodes, max_depth=11\n",
      "[100]\ttrain-auc:0.919573\teval-auc:0.859374\n",
      "[03:06:46] C:\\Users\\Administrator\\Desktop\\xgboost\\src\\tree\\updater_prune.cc:74: tree pruning end, 1 roots, 20 extra nodes, 306 pruned nodes, max_depth=10\n",
      "[101]\ttrain-auc:0.919888\teval-auc:0.859965\n",
      "[03:06:46] C:\\Users\\Administrator\\Desktop\\xgboost\\src\\tree\\updater_prune.cc:74: tree pruning end, 1 roots, 32 extra nodes, 386 pruned nodes, max_depth=9\n",
      "[102]\ttrain-auc:0.920438\teval-auc:0.859876\n",
      "[03:06:46] C:\\Users\\Administrator\\Desktop\\xgboost\\src\\tree\\updater_prune.cc:74: tree pruning end, 1 roots, 50 extra nodes, 258 pruned nodes, max_depth=12\n",
      "[103]\ttrain-auc:0.920869\teval-auc:0.859951\n",
      "[03:06:46] C:\\Users\\Administrator\\Desktop\\xgboost\\src\\tree\\updater_prune.cc:74: tree pruning end, 1 roots, 40 extra nodes, 344 pruned nodes, max_depth=12\n",
      "[104]\ttrain-auc:0.921445\teval-auc:0.860212\n",
      "[03:06:46] C:\\Users\\Administrator\\Desktop\\xgboost\\src\\tree\\updater_prune.cc:74: tree pruning end, 1 roots, 34 extra nodes, 392 pruned nodes, max_depth=13\n",
      "[105]\ttrain-auc:0.921799\teval-auc:0.860424\n",
      "[03:06:46] C:\\Users\\Administrator\\Desktop\\xgboost\\src\\tree\\updater_prune.cc:74: tree pruning end, 1 roots, 8 extra nodes, 360 pruned nodes, max_depth=4\n",
      "[106]\ttrain-auc:0.921691\teval-auc:0.860414\n",
      "[03:06:47] C:\\Users\\Administrator\\Desktop\\xgboost\\src\\tree\\updater_prune.cc:74: tree pruning end, 1 roots, 8 extra nodes, 474 pruned nodes, max_depth=4\n",
      "[107]\ttrain-auc:0.92173\teval-auc:0.860473\n",
      "[03:06:47] C:\\Users\\Administrator\\Desktop\\xgboost\\src\\tree\\updater_prune.cc:74: tree pruning end, 1 roots, 26 extra nodes, 326 pruned nodes, max_depth=8\n",
      "[108]\ttrain-auc:0.921893\teval-auc:0.860385\n",
      "[03:06:47] C:\\Users\\Administrator\\Desktop\\xgboost\\src\\tree\\updater_prune.cc:74: tree pruning end, 1 roots, 48 extra nodes, 320 pruned nodes, max_depth=12\n",
      "[109]\ttrain-auc:0.922358\teval-auc:0.860698\n",
      "[03:06:47] C:\\Users\\Administrator\\Desktop\\xgboost\\src\\tree\\updater_prune.cc:74: tree pruning end, 1 roots, 6 extra nodes, 432 pruned nodes, max_depth=3\n",
      "[110]\ttrain-auc:0.922333\teval-auc:0.860463\n",
      "[03:06:47] C:\\Users\\Administrator\\Desktop\\xgboost\\src\\tree\\updater_prune.cc:74: tree pruning end, 1 roots, 12 extra nodes, 368 pruned nodes, max_depth=6\n",
      "[111]\ttrain-auc:0.922275\teval-auc:0.860908\n",
      "[03:06:47] C:\\Users\\Administrator\\Desktop\\xgboost\\src\\tree\\updater_prune.cc:74: tree pruning end, 1 roots, 0 extra nodes, 374 pruned nodes, max_depth=0\n",
      "[112]\ttrain-auc:0.922275\teval-auc:0.860908\n",
      "[03:06:47] C:\\Users\\Administrator\\Desktop\\xgboost\\src\\tree\\updater_prune.cc:74: tree pruning end, 1 roots, 0 extra nodes, 500 pruned nodes, max_depth=0\n",
      "[113]\ttrain-auc:0.922275\teval-auc:0.860908\n",
      "[03:06:47] C:\\Users\\Administrator\\Desktop\\xgboost\\src\\tree\\updater_prune.cc:74: tree pruning end, 1 roots, 2 extra nodes, 332 pruned nodes, max_depth=1\n",
      "[114]\ttrain-auc:0.922263\teval-auc:0.860926\n",
      "[03:06:47] C:\\Users\\Administrator\\Desktop\\xgboost\\src\\tree\\updater_prune.cc:74: tree pruning end, 1 roots, 0 extra nodes, 540 pruned nodes, max_depth=0\n",
      "[115]\ttrain-auc:0.922263\teval-auc:0.860926\n",
      "[03:06:47] C:\\Users\\Administrator\\Desktop\\xgboost\\src\\tree\\updater_prune.cc:74: tree pruning end, 1 roots, 0 extra nodes, 476 pruned nodes, max_depth=0\n",
      "[116]\ttrain-auc:0.922263\teval-auc:0.860926\n",
      "[03:06:48] C:\\Users\\Administrator\\Desktop\\xgboost\\src\\tree\\updater_prune.cc:74: tree pruning end, 1 roots, 30 extra nodes, 278 pruned nodes, max_depth=13\n",
      "[117]\ttrain-auc:0.922578\teval-auc:0.860936\n",
      "[03:06:48] C:\\Users\\Administrator\\Desktop\\xgboost\\src\\tree\\updater_prune.cc:74: tree pruning end, 1 roots, 0 extra nodes, 328 pruned nodes, max_depth=0\n",
      "[118]\ttrain-auc:0.922578\teval-auc:0.860936\n",
      "[03:06:48] C:\\Users\\Administrator\\Desktop\\xgboost\\src\\tree\\updater_prune.cc:74: tree pruning end, 1 roots, 12 extra nodes, 298 pruned nodes, max_depth=6\n",
      "[119]\ttrain-auc:0.922645\teval-auc:0.860936\n",
      "[03:06:48] C:\\Users\\Administrator\\Desktop\\xgboost\\src\\tree\\updater_prune.cc:74: tree pruning end, 1 roots, 0 extra nodes, 434 pruned nodes, max_depth=0\n",
      "[120]\ttrain-auc:0.922645\teval-auc:0.860936\n",
      "[03:06:48] C:\\Users\\Administrator\\Desktop\\xgboost\\src\\tree\\updater_prune.cc:74: tree pruning end, 1 roots, 0 extra nodes, 442 pruned nodes, max_depth=0\n",
      "[121]\ttrain-auc:0.922645\teval-auc:0.860936\n",
      "[03:06:48] C:\\Users\\Administrator\\Desktop\\xgboost\\src\\tree\\updater_prune.cc:74: tree pruning end, 1 roots, 2 extra nodes, 296 pruned nodes, max_depth=1\n",
      "[122]\ttrain-auc:0.922637\teval-auc:0.860955\n",
      "[03:06:48] C:\\Users\\Administrator\\Desktop\\xgboost\\src\\tree\\updater_prune.cc:74: tree pruning end, 1 roots, 0 extra nodes, 488 pruned nodes, max_depth=0\n",
      "[123]\ttrain-auc:0.922637\teval-auc:0.860955\n",
      "[03:06:48] C:\\Users\\Administrator\\Desktop\\xgboost\\src\\tree\\updater_prune.cc:74: tree pruning end, 1 roots, 30 extra nodes, 290 pruned nodes, max_depth=11\n",
      "[124]\ttrain-auc:0.923237\teval-auc:0.86116\n",
      "[03:06:48] C:\\Users\\Administrator\\Desktop\\xgboost\\src\\tree\\updater_prune.cc:74: tree pruning end, 1 roots, 0 extra nodes, 426 pruned nodes, max_depth=0\n",
      "[125]\ttrain-auc:0.923237\teval-auc:0.86116\n"
     ]
    },
    {
     "name": "stdout",
     "output_type": "stream",
     "text": [
      "[03:06:49] C:\\Users\\Administrator\\Desktop\\xgboost\\src\\tree\\updater_prune.cc:74: tree pruning end, 1 roots, 8 extra nodes, 440 pruned nodes, max_depth=4\n",
      "[126]\ttrain-auc:0.923151\teval-auc:0.861219\n",
      "[03:06:49] C:\\Users\\Administrator\\Desktop\\xgboost\\src\\tree\\updater_prune.cc:74: tree pruning end, 1 roots, 0 extra nodes, 434 pruned nodes, max_depth=0\n",
      "[127]\ttrain-auc:0.923151\teval-auc:0.861219\n",
      "[03:06:49] C:\\Users\\Administrator\\Desktop\\xgboost\\src\\tree\\updater_prune.cc:74: tree pruning end, 1 roots, 16 extra nodes, 336 pruned nodes, max_depth=8\n",
      "[128]\ttrain-auc:0.923132\teval-auc:0.86126\n",
      "[03:06:49] C:\\Users\\Administrator\\Desktop\\xgboost\\src\\tree\\updater_prune.cc:74: tree pruning end, 1 roots, 22 extra nodes, 452 pruned nodes, max_depth=11\n",
      "[129]\ttrain-auc:0.923154\teval-auc:0.861273\n",
      "[03:06:49] C:\\Users\\Administrator\\Desktop\\xgboost\\src\\tree\\updater_prune.cc:74: tree pruning end, 1 roots, 16 extra nodes, 492 pruned nodes, max_depth=5\n",
      "[130]\ttrain-auc:0.923192\teval-auc:0.861585\n",
      "[03:06:49] C:\\Users\\Administrator\\Desktop\\xgboost\\src\\tree\\updater_prune.cc:74: tree pruning end, 1 roots, 8 extra nodes, 398 pruned nodes, max_depth=4\n",
      "[131]\ttrain-auc:0.923225\teval-auc:0.861654\n",
      "[03:06:49] C:\\Users\\Administrator\\Desktop\\xgboost\\src\\tree\\updater_prune.cc:74: tree pruning end, 1 roots, 12 extra nodes, 504 pruned nodes, max_depth=6\n",
      "[132]\ttrain-auc:0.923258\teval-auc:0.861463\n",
      "[03:06:49] C:\\Users\\Administrator\\Desktop\\xgboost\\src\\tree\\updater_prune.cc:74: tree pruning end, 1 roots, 30 extra nodes, 458 pruned nodes, max_depth=9\n",
      "[133]\ttrain-auc:0.923355\teval-auc:0.861238\n",
      "[03:06:49] C:\\Users\\Administrator\\Desktop\\xgboost\\src\\tree\\updater_prune.cc:74: tree pruning end, 1 roots, 36 extra nodes, 438 pruned nodes, max_depth=12\n",
      "[134]\ttrain-auc:0.923488\teval-auc:0.861259\n",
      "[03:06:49] C:\\Users\\Administrator\\Desktop\\xgboost\\src\\tree\\updater_prune.cc:74: tree pruning end, 1 roots, 30 extra nodes, 334 pruned nodes, max_depth=10\n",
      "[135]\ttrain-auc:0.923703\teval-auc:0.861285\n",
      "[03:06:50] C:\\Users\\Administrator\\Desktop\\xgboost\\src\\tree\\updater_prune.cc:74: tree pruning end, 1 roots, 0 extra nodes, 368 pruned nodes, max_depth=0\n",
      "[136]\ttrain-auc:0.923703\teval-auc:0.861285\n",
      "[03:06:50] C:\\Users\\Administrator\\Desktop\\xgboost\\src\\tree\\updater_prune.cc:74: tree pruning end, 1 roots, 18 extra nodes, 218 pruned nodes, max_depth=8\n",
      "[137]\ttrain-auc:0.923785\teval-auc:0.861362\n",
      "[03:06:50] C:\\Users\\Administrator\\Desktop\\xgboost\\src\\tree\\updater_prune.cc:74: tree pruning end, 1 roots, 0 extra nodes, 366 pruned nodes, max_depth=0\n",
      "[138]\ttrain-auc:0.923785\teval-auc:0.861362\n",
      "[03:06:50] C:\\Users\\Administrator\\Desktop\\xgboost\\src\\tree\\updater_prune.cc:74: tree pruning end, 1 roots, 24 extra nodes, 392 pruned nodes, max_depth=12\n",
      "[139]\ttrain-auc:0.923773\teval-auc:0.86134\n",
      "[03:06:50] C:\\Users\\Administrator\\Desktop\\xgboost\\src\\tree\\updater_prune.cc:74: tree pruning end, 1 roots, 0 extra nodes, 344 pruned nodes, max_depth=0\n",
      "[140]\ttrain-auc:0.923773\teval-auc:0.86134\n",
      "[03:06:50] C:\\Users\\Administrator\\Desktop\\xgboost\\src\\tree\\updater_prune.cc:74: tree pruning end, 1 roots, 0 extra nodes, 264 pruned nodes, max_depth=0\n",
      "[141]\ttrain-auc:0.923773\teval-auc:0.86134\n",
      "[03:06:50] C:\\Users\\Administrator\\Desktop\\xgboost\\src\\tree\\updater_prune.cc:74: tree pruning end, 1 roots, 0 extra nodes, 306 pruned nodes, max_depth=0\n",
      "[142]\ttrain-auc:0.923773\teval-auc:0.86134\n",
      "[03:06:50] C:\\Users\\Administrator\\Desktop\\xgboost\\src\\tree\\updater_prune.cc:74: tree pruning end, 1 roots, 22 extra nodes, 350 pruned nodes, max_depth=11\n",
      "[143]\ttrain-auc:0.923729\teval-auc:0.861341\n",
      "[03:06:50] C:\\Users\\Administrator\\Desktop\\xgboost\\src\\tree\\updater_prune.cc:74: tree pruning end, 1 roots, 14 extra nodes, 412 pruned nodes, max_depth=7\n",
      "[144]\ttrain-auc:0.923684\teval-auc:0.861376\n",
      "[03:06:51] C:\\Users\\Administrator\\Desktop\\xgboost\\src\\tree\\updater_prune.cc:74: tree pruning end, 1 roots, 6 extra nodes, 386 pruned nodes, max_depth=3\n",
      "[145]\ttrain-auc:0.923789\teval-auc:0.861302\n",
      "[03:06:51] C:\\Users\\Administrator\\Desktop\\xgboost\\src\\tree\\updater_prune.cc:74: tree pruning end, 1 roots, 18 extra nodes, 302 pruned nodes, max_depth=9\n",
      "[146]\ttrain-auc:0.923976\teval-auc:0.861388\n",
      "[03:06:51] C:\\Users\\Administrator\\Desktop\\xgboost\\src\\tree\\updater_prune.cc:74: tree pruning end, 1 roots, 48 extra nodes, 380 pruned nodes, max_depth=13\n",
      "[147]\ttrain-auc:0.924424\teval-auc:0.861588\n",
      "[03:06:51] C:\\Users\\Administrator\\Desktop\\xgboost\\src\\tree\\updater_prune.cc:74: tree pruning end, 1 roots, 0 extra nodes, 384 pruned nodes, max_depth=0\n",
      "[148]\ttrain-auc:0.924424\teval-auc:0.861588\n",
      "[03:06:51] C:\\Users\\Administrator\\Desktop\\xgboost\\src\\tree\\updater_prune.cc:74: tree pruning end, 1 roots, 0 extra nodes, 408 pruned nodes, max_depth=0\n",
      "[149]\ttrain-auc:0.924424\teval-auc:0.861588\n",
      "[03:06:51] C:\\Users\\Administrator\\Desktop\\xgboost\\src\\tree\\updater_prune.cc:74: tree pruning end, 1 roots, 8 extra nodes, 384 pruned nodes, max_depth=4\n",
      "[150]\ttrain-auc:0.924494\teval-auc:0.861625\n",
      "[03:06:51] C:\\Users\\Administrator\\Desktop\\xgboost\\src\\tree\\updater_prune.cc:74: tree pruning end, 1 roots, 24 extra nodes, 510 pruned nodes, max_depth=12\n",
      "[151]\ttrain-auc:0.924605\teval-auc:0.861831\n",
      "[03:06:51] C:\\Users\\Administrator\\Desktop\\xgboost\\src\\tree\\updater_prune.cc:74: tree pruning end, 1 roots, 0 extra nodes, 306 pruned nodes, max_depth=0\n",
      "[152]\ttrain-auc:0.924605\teval-auc:0.861831\n",
      "[03:06:51] C:\\Users\\Administrator\\Desktop\\xgboost\\src\\tree\\updater_prune.cc:74: tree pruning end, 1 roots, 22 extra nodes, 464 pruned nodes, max_depth=11\n",
      "[153]\ttrain-auc:0.924732\teval-auc:0.861924\n",
      "[03:06:51] C:\\Users\\Administrator\\Desktop\\xgboost\\src\\tree\\updater_prune.cc:74: tree pruning end, 1 roots, 22 extra nodes, 382 pruned nodes, max_depth=7\n",
      "[154]\ttrain-auc:0.924923\teval-auc:0.862311\n",
      "[03:06:52] C:\\Users\\Administrator\\Desktop\\xgboost\\src\\tree\\updater_prune.cc:74: tree pruning end, 1 roots, 16 extra nodes, 438 pruned nodes, max_depth=8\n",
      "[155]\ttrain-auc:0.924998\teval-auc:0.862445\n",
      "[03:06:52] C:\\Users\\Administrator\\Desktop\\xgboost\\src\\tree\\updater_prune.cc:74: tree pruning end, 1 roots, 0 extra nodes, 320 pruned nodes, max_depth=0\n",
      "[156]\ttrain-auc:0.924998\teval-auc:0.862445\n",
      "[03:06:52] C:\\Users\\Administrator\\Desktop\\xgboost\\src\\tree\\updater_prune.cc:74: tree pruning end, 1 roots, 14 extra nodes, 266 pruned nodes, max_depth=7\n",
      "[157]\ttrain-auc:0.925069\teval-auc:0.862401\n",
      "[03:06:52] C:\\Users\\Administrator\\Desktop\\xgboost\\src\\tree\\updater_prune.cc:74: tree pruning end, 1 roots, 6 extra nodes, 318 pruned nodes, max_depth=3\n",
      "[158]\ttrain-auc:0.92513\teval-auc:0.862353\n",
      "[03:06:52] C:\\Users\\Administrator\\Desktop\\xgboost\\src\\tree\\updater_prune.cc:74: tree pruning end, 1 roots, 14 extra nodes, 408 pruned nodes, max_depth=7\n",
      "[159]\ttrain-auc:0.925389\teval-auc:0.862582\n",
      "[03:06:52] C:\\Users\\Administrator\\Desktop\\xgboost\\src\\tree\\updater_prune.cc:74: tree pruning end, 1 roots, 0 extra nodes, 212 pruned nodes, max_depth=0\n",
      "[160]\ttrain-auc:0.925389\teval-auc:0.862582\n",
      "[03:06:52] C:\\Users\\Administrator\\Desktop\\xgboost\\src\\tree\\updater_prune.cc:74: tree pruning end, 1 roots, 0 extra nodes, 334 pruned nodes, max_depth=0\n",
      "[161]\ttrain-auc:0.925389\teval-auc:0.862582\n",
      "[03:06:52] C:\\Users\\Administrator\\Desktop\\xgboost\\src\\tree\\updater_prune.cc:74: tree pruning end, 1 roots, 0 extra nodes, 282 pruned nodes, max_depth=0\n",
      "[162]\ttrain-auc:0.925389\teval-auc:0.862582\n",
      "[03:06:52] C:\\Users\\Administrator\\Desktop\\xgboost\\src\\tree\\updater_prune.cc:74: tree pruning end, 1 roots, 0 extra nodes, 432 pruned nodes, max_depth=0\n",
      "[163]\ttrain-auc:0.925389\teval-auc:0.862582\n",
      "[03:06:53] C:\\Users\\Administrator\\Desktop\\xgboost\\src\\tree\\updater_prune.cc:74: tree pruning end, 1 roots, 22 extra nodes, 340 pruned nodes, max_depth=11\n",
      "[164]\ttrain-auc:0.925485\teval-auc:0.862432\n",
      "[03:06:53] C:\\Users\\Administrator\\Desktop\\xgboost\\src\\tree\\updater_prune.cc:74: tree pruning end, 1 roots, 12 extra nodes, 396 pruned nodes, max_depth=6\n",
      "[165]\ttrain-auc:0.925744\teval-auc:0.862458\n",
      "[03:06:53] C:\\Users\\Administrator\\Desktop\\xgboost\\src\\tree\\updater_prune.cc:74: tree pruning end, 1 roots, 14 extra nodes, 300 pruned nodes, max_depth=6\n",
      "[166]\ttrain-auc:0.925742\teval-auc:0.862485\n",
      "[03:06:53] C:\\Users\\Administrator\\Desktop\\xgboost\\src\\tree\\updater_prune.cc:74: tree pruning end, 1 roots, 0 extra nodes, 296 pruned nodes, max_depth=0\n",
      "[167]\ttrain-auc:0.925742\teval-auc:0.862485\n"
     ]
    },
    {
     "name": "stdout",
     "output_type": "stream",
     "text": [
      "[03:06:53] C:\\Users\\Administrator\\Desktop\\xgboost\\src\\tree\\updater_prune.cc:74: tree pruning end, 1 roots, 0 extra nodes, 294 pruned nodes, max_depth=0\n",
      "[168]\ttrain-auc:0.925742\teval-auc:0.862485\n",
      "[03:06:53] C:\\Users\\Administrator\\Desktop\\xgboost\\src\\tree\\updater_prune.cc:74: tree pruning end, 1 roots, 0 extra nodes, 450 pruned nodes, max_depth=0\n",
      "[169]\ttrain-auc:0.925742\teval-auc:0.862485\n",
      "[03:06:53] C:\\Users\\Administrator\\Desktop\\xgboost\\src\\tree\\updater_prune.cc:74: tree pruning end, 1 roots, 0 extra nodes, 382 pruned nodes, max_depth=0\n",
      "[170]\ttrain-auc:0.925742\teval-auc:0.862485\n",
      "[03:06:53] C:\\Users\\Administrator\\Desktop\\xgboost\\src\\tree\\updater_prune.cc:74: tree pruning end, 1 roots, 46 extra nodes, 454 pruned nodes, max_depth=11\n",
      "[171]\ttrain-auc:0.926202\teval-auc:0.862586\n",
      "[03:06:53] C:\\Users\\Administrator\\Desktop\\xgboost\\src\\tree\\updater_prune.cc:74: tree pruning end, 1 roots, 12 extra nodes, 358 pruned nodes, max_depth=5\n",
      "[172]\ttrain-auc:0.926242\teval-auc:0.862701\n",
      "[03:06:53] C:\\Users\\Administrator\\Desktop\\xgboost\\src\\tree\\updater_prune.cc:74: tree pruning end, 1 roots, 30 extra nodes, 388 pruned nodes, max_depth=13\n",
      "[173]\ttrain-auc:0.926686\teval-auc:0.862447\n",
      "[03:06:54] C:\\Users\\Administrator\\Desktop\\xgboost\\src\\tree\\updater_prune.cc:74: tree pruning end, 1 roots, 28 extra nodes, 412 pruned nodes, max_depth=13\n",
      "[174]\ttrain-auc:0.926915\teval-auc:0.862473\n",
      "[03:06:54] C:\\Users\\Administrator\\Desktop\\xgboost\\src\\tree\\updater_prune.cc:74: tree pruning end, 1 roots, 8 extra nodes, 418 pruned nodes, max_depth=4\n",
      "[175]\ttrain-auc:0.927016\teval-auc:0.862674\n",
      "[03:06:54] C:\\Users\\Administrator\\Desktop\\xgboost\\src\\tree\\updater_prune.cc:74: tree pruning end, 1 roots, 34 extra nodes, 378 pruned nodes, max_depth=13\n",
      "[176]\ttrain-auc:0.927278\teval-auc:0.86264\n",
      "[03:06:54] C:\\Users\\Administrator\\Desktop\\xgboost\\src\\tree\\updater_prune.cc:74: tree pruning end, 1 roots, 0 extra nodes, 434 pruned nodes, max_depth=0\n",
      "[177]\ttrain-auc:0.927278\teval-auc:0.86264\n",
      "[03:06:54] C:\\Users\\Administrator\\Desktop\\xgboost\\src\\tree\\updater_prune.cc:74: tree pruning end, 1 roots, 18 extra nodes, 432 pruned nodes, max_depth=9\n",
      "[178]\ttrain-auc:0.927332\teval-auc:0.86272\n",
      "[03:06:54] C:\\Users\\Administrator\\Desktop\\xgboost\\src\\tree\\updater_prune.cc:74: tree pruning end, 1 roots, 24 extra nodes, 458 pruned nodes, max_depth=10\n",
      "[179]\ttrain-auc:0.927344\teval-auc:0.862655\n",
      "[03:06:54] C:\\Users\\Administrator\\Desktop\\xgboost\\src\\tree\\updater_prune.cc:74: tree pruning end, 1 roots, 0 extra nodes, 308 pruned nodes, max_depth=0\n",
      "[180]\ttrain-auc:0.927344\teval-auc:0.862655\n",
      "[03:06:54] C:\\Users\\Administrator\\Desktop\\xgboost\\src\\tree\\updater_prune.cc:74: tree pruning end, 1 roots, 10 extra nodes, 292 pruned nodes, max_depth=5\n",
      "[181]\ttrain-auc:0.927394\teval-auc:0.862677\n",
      "[03:06:55] C:\\Users\\Administrator\\Desktop\\xgboost\\src\\tree\\updater_prune.cc:74: tree pruning end, 1 roots, 0 extra nodes, 384 pruned nodes, max_depth=0\n",
      "[182]\ttrain-auc:0.927394\teval-auc:0.862677\n",
      "[03:06:55] C:\\Users\\Administrator\\Desktop\\xgboost\\src\\tree\\updater_prune.cc:74: tree pruning end, 1 roots, 0 extra nodes, 498 pruned nodes, max_depth=0\n",
      "[183]\ttrain-auc:0.927394\teval-auc:0.862677\n",
      "[03:06:55] C:\\Users\\Administrator\\Desktop\\xgboost\\src\\tree\\updater_prune.cc:74: tree pruning end, 1 roots, 0 extra nodes, 380 pruned nodes, max_depth=0\n",
      "[184]\ttrain-auc:0.927394\teval-auc:0.862677\n",
      "[03:06:55] C:\\Users\\Administrator\\Desktop\\xgboost\\src\\tree\\updater_prune.cc:74: tree pruning end, 1 roots, 0 extra nodes, 352 pruned nodes, max_depth=0\n",
      "[185]\ttrain-auc:0.927394\teval-auc:0.862677\n",
      "[03:06:55] C:\\Users\\Administrator\\Desktop\\xgboost\\src\\tree\\updater_prune.cc:74: tree pruning end, 1 roots, 0 extra nodes, 416 pruned nodes, max_depth=0\n",
      "[186]\ttrain-auc:0.927394\teval-auc:0.862677\n",
      "[03:06:55] C:\\Users\\Administrator\\Desktop\\xgboost\\src\\tree\\updater_prune.cc:74: tree pruning end, 1 roots, 0 extra nodes, 348 pruned nodes, max_depth=0\n",
      "[187]\ttrain-auc:0.927394\teval-auc:0.862677\n",
      "[03:06:55] C:\\Users\\Administrator\\Desktop\\xgboost\\src\\tree\\updater_prune.cc:74: tree pruning end, 1 roots, 18 extra nodes, 178 pruned nodes, max_depth=9\n",
      "[188]\ttrain-auc:0.927704\teval-auc:0.862856\n",
      "[03:06:55] C:\\Users\\Administrator\\Desktop\\xgboost\\src\\tree\\updater_prune.cc:74: tree pruning end, 1 roots, 0 extra nodes, 318 pruned nodes, max_depth=0\n",
      "[189]\ttrain-auc:0.927704\teval-auc:0.862856\n",
      "[03:06:56] C:\\Users\\Administrator\\Desktop\\xgboost\\src\\tree\\updater_prune.cc:74: tree pruning end, 1 roots, 10 extra nodes, 312 pruned nodes, max_depth=5\n",
      "[190]\ttrain-auc:0.9277\teval-auc:0.862812\n",
      "[03:06:56] C:\\Users\\Administrator\\Desktop\\xgboost\\src\\tree\\updater_prune.cc:74: tree pruning end, 1 roots, 4 extra nodes, 342 pruned nodes, max_depth=2\n",
      "[191]\ttrain-auc:0.927688\teval-auc:0.862824\n",
      "[03:06:56] C:\\Users\\Administrator\\Desktop\\xgboost\\src\\tree\\updater_prune.cc:74: tree pruning end, 1 roots, 24 extra nodes, 308 pruned nodes, max_depth=12\n",
      "[192]\ttrain-auc:0.927963\teval-auc:0.862804\n",
      "[03:06:56] C:\\Users\\Administrator\\Desktop\\xgboost\\src\\tree\\updater_prune.cc:74: tree pruning end, 1 roots, 0 extra nodes, 328 pruned nodes, max_depth=0\n",
      "[193]\ttrain-auc:0.927963\teval-auc:0.862804\n",
      "[03:06:56] C:\\Users\\Administrator\\Desktop\\xgboost\\src\\tree\\updater_prune.cc:74: tree pruning end, 1 roots, 0 extra nodes, 384 pruned nodes, max_depth=0\n",
      "[194]\ttrain-auc:0.927963\teval-auc:0.862804\n",
      "[03:06:56] C:\\Users\\Administrator\\Desktop\\xgboost\\src\\tree\\updater_prune.cc:74: tree pruning end, 1 roots, 0 extra nodes, 258 pruned nodes, max_depth=0\n",
      "[195]\ttrain-auc:0.927963\teval-auc:0.862804\n",
      "[03:06:56] C:\\Users\\Administrator\\Desktop\\xgboost\\src\\tree\\updater_prune.cc:74: tree pruning end, 1 roots, 0 extra nodes, 276 pruned nodes, max_depth=0\n",
      "[196]\ttrain-auc:0.927963\teval-auc:0.862804\n",
      "[03:06:56] C:\\Users\\Administrator\\Desktop\\xgboost\\src\\tree\\updater_prune.cc:74: tree pruning end, 1 roots, 16 extra nodes, 406 pruned nodes, max_depth=8\n",
      "[197]\ttrain-auc:0.928118\teval-auc:0.863043\n",
      "[03:06:56] C:\\Users\\Administrator\\Desktop\\xgboost\\src\\tree\\updater_prune.cc:74: tree pruning end, 1 roots, 0 extra nodes, 368 pruned nodes, max_depth=0\n",
      "[198]\ttrain-auc:0.928118\teval-auc:0.863043\n",
      "[03:06:57] C:\\Users\\Administrator\\Desktop\\xgboost\\src\\tree\\updater_prune.cc:74: tree pruning end, 1 roots, 0 extra nodes, 344 pruned nodes, max_depth=0\n",
      "[199]\ttrain-auc:0.928118\teval-auc:0.863043\n"
     ]
    }
   ],
   "source": [
    "bst = xgb.train(params,train,200,[(train,'train'),(test,'eval')])"
   ]
  },
  {
   "cell_type": "code",
   "execution_count": null,
   "metadata": {
    "scrolled": true
   },
   "outputs": [],
   "source": [
    "bst = xgb.train(params,data,200,verbose_eval=False)"
   ]
  },
  {
   "cell_type": "code",
   "execution_count": 45,
   "metadata": {},
   "outputs": [],
   "source": [
    "xg_prediction = bst.predict(pred)"
   ]
  },
  {
   "cell_type": "code",
   "execution_count": 46,
   "metadata": {},
   "outputs": [],
   "source": [
    "submit = kaggle.set_index('person')"
   ]
  },
  {
   "cell_type": "code",
   "execution_count": 47,
   "metadata": {},
   "outputs": [],
   "source": [
    "submit['label'] = xg_prediction"
   ]
  },
  {
   "cell_type": "code",
   "execution_count": 48,
   "metadata": {},
   "outputs": [],
   "source": [
    "submit.to_csv('submit.csv')"
   ]
  },
  {
   "cell_type": "code",
   "execution_count": null,
   "metadata": {},
   "outputs": [],
   "source": []
  }
 ],
 "metadata": {
  "kernelspec": {
   "display_name": "Python 3",
   "language": "python",
   "name": "python3"
  },
  "language_info": {
   "codemirror_mode": {
    "name": "ipython",
    "version": 3
   },
   "file_extension": ".py",
   "mimetype": "text/x-python",
   "name": "python",
   "nbconvert_exporter": "python",
   "pygments_lexer": "ipython3",
   "version": "3.6.5"
  }
 },
 "nbformat": 4,
 "nbformat_minor": 2
}
