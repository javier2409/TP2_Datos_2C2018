{
 "cells": [
  {
   "cell_type": "code",
   "execution_count": 1,
   "metadata": {},
   "outputs": [],
   "source": [
    "from sklearn.metrics import roc_auc_score"
   ]
  },
  {
   "cell_type": "code",
   "execution_count": 2,
   "metadata": {},
   "outputs": [],
   "source": [
    "import numpy as np\n",
    "import scipy.stats as stats"
   ]
  },
  {
   "cell_type": "code",
   "execution_count": 3,
   "metadata": {},
   "outputs": [],
   "source": [
    "import xgboost as xgb\n",
    "import catboost as cb"
   ]
  },
  {
   "cell_type": "code",
   "execution_count": 4,
   "metadata": {},
   "outputs": [],
   "source": [
    "import pandas as pd\n",
    "from sklearn.model_selection import train_test_split\n",
    "import category_encoders"
   ]
  },
  {
   "cell_type": "code",
   "execution_count": 5,
   "metadata": {},
   "outputs": [],
   "source": [
    "from sklearn.model_selection import RandomizedSearchCV"
   ]
  },
  {
   "cell_type": "code",
   "execution_count": 6,
   "metadata": {},
   "outputs": [],
   "source": [
    "kaggle = pd.read_csv('trocafone_kaggle_test.csv')"
   ]
  },
  {
   "cell_type": "code",
   "execution_count": 7,
   "metadata": {},
   "outputs": [],
   "source": [
    "labels = pd.read_csv('labels_training_set.csv')"
   ]
  },
  {
   "cell_type": "code",
   "execution_count": 8,
   "metadata": {},
   "outputs": [],
   "source": [
    "features_06 = pd.read_csv('features_test.csv')"
   ]
  },
  {
   "cell_type": "code",
   "execution_count": 9,
   "metadata": {},
   "outputs": [],
   "source": [
    "features_04 = pd.read_csv('features_04.csv')"
   ]
  },
  {
   "cell_type": "code",
   "execution_count": 24,
   "metadata": {},
   "outputs": [],
   "source": [
    "repeated = ['busco_productos', 'clickeo_ad', 'hizo_checkout', 'entro_desde_motor',\n",
    "       'hizo_conversion', 'filtro_busquedas', 'busco_marca', 'visito_sitio',\n",
    "       'hizo_lead','primer_visita','ultima_visita']"
   ]
  },
  {
   "cell_type": "code",
   "execution_count": 25,
   "metadata": {},
   "outputs": [],
   "source": [
    "processed = features_06.set_index('person').join(features_04.set_index('person').drop(repeated,axis=1),lsuffix='1')"
   ]
  },
  {
   "cell_type": "code",
   "execution_count": 26,
   "metadata": {},
   "outputs": [],
   "source": [
    "cat_features = []\n",
    "for i,col in enumerate(processed.columns):\n",
    "    if processed[col].dtype.name=='object':\n",
    "        cat_features.append(i)"
   ]
  },
  {
   "cell_type": "code",
   "execution_count": 27,
   "metadata": {},
   "outputs": [],
   "source": [
    "predict_features = kaggle.set_index('person').join(processed)"
   ]
  },
  {
   "cell_type": "code",
   "execution_count": 28,
   "metadata": {},
   "outputs": [],
   "source": [
    "training_features = labels.set_index('person').join(processed)\n",
    "training_labels = training_features['label']\n",
    "training_features = training_features.drop(['label'],axis=1)"
   ]
  },
  {
   "cell_type": "code",
   "execution_count": 29,
   "metadata": {},
   "outputs": [],
   "source": [
    "xtrain,xtest,ytrain,ytest = train_test_split(training_features,training_labels)"
   ]
  },
  {
   "cell_type": "code",
   "execution_count": 30,
   "metadata": {},
   "outputs": [],
   "source": [
    "catBoost = cb.CatBoostClassifier(iterations=200,\n",
    "                                 depth=8,\n",
    "                                 l2_leaf_reg=50,\n",
    "                                 random_strength=0.1,\n",
    "                                 bagging_temperature=0,\n",
    "                                 border_count=128)"
   ]
  },
  {
   "cell_type": "code",
   "execution_count": 31,
   "metadata": {},
   "outputs": [
    {
     "data": {
      "text/plain": [
       "<catboost.core.CatBoostClassifier at 0x7f7842ef6898>"
      ]
     },
     "execution_count": 31,
     "metadata": {},
     "output_type": "execute_result"
    }
   ],
   "source": [
    "catBoost.fit(xtrain,ytrain,verbose=0,cat_features=cat_features)"
   ]
  },
  {
   "cell_type": "code",
   "execution_count": 63,
   "metadata": {},
   "outputs": [],
   "source": [
    "catBoost.save_model('86436catboost')"
   ]
  },
  {
   "cell_type": "code",
   "execution_count": 32,
   "metadata": {},
   "outputs": [
    {
     "data": {
      "text/plain": [
       "0.8633825092156457"
      ]
     },
     "execution_count": 32,
     "metadata": {},
     "output_type": "execute_result"
    }
   ],
   "source": [
    "roc_auc_score(ytest,catBoost.predict_proba(xtest)[:,1])"
   ]
  },
  {
   "cell_type": "code",
   "execution_count": 33,
   "metadata": {},
   "outputs": [
    {
     "data": {
      "text/plain": [
       "<catboost.core.CatBoostClassifier at 0x7f7842ef6898>"
      ]
     },
     "execution_count": 33,
     "metadata": {},
     "output_type": "execute_result"
    }
   ],
   "source": [
    "catBoost.fit(training_features,training_labels,verbose=0,cat_features=cat_features)"
   ]
  },
  {
   "cell_type": "code",
   "execution_count": 34,
   "metadata": {},
   "outputs": [],
   "source": [
    "pred = catBoost.predict_proba(predict_features)[:,1]\n",
    "submit = kaggle.set_index('person')\n",
    "submit['label'] = pred"
   ]
  },
  {
   "cell_type": "code",
   "execution_count": 35,
   "metadata": {},
   "outputs": [
    {
     "data": {
      "text/html": [
       "<div>\n",
       "<style scoped>\n",
       "    .dataframe tbody tr th:only-of-type {\n",
       "        vertical-align: middle;\n",
       "    }\n",
       "\n",
       "    .dataframe tbody tr th {\n",
       "        vertical-align: top;\n",
       "    }\n",
       "\n",
       "    .dataframe thead th {\n",
       "        text-align: right;\n",
       "    }\n",
       "</style>\n",
       "<table border=\"1\" class=\"dataframe\">\n",
       "  <thead>\n",
       "    <tr style=\"text-align: right;\">\n",
       "      <th></th>\n",
       "      <th>label</th>\n",
       "    </tr>\n",
       "    <tr>\n",
       "      <th>person</th>\n",
       "      <th></th>\n",
       "    </tr>\n",
       "  </thead>\n",
       "  <tbody>\n",
       "    <tr>\n",
       "      <th>4886f805</th>\n",
       "      <td>0.006393</td>\n",
       "    </tr>\n",
       "    <tr>\n",
       "      <th>0297fc1e</th>\n",
       "      <td>0.059839</td>\n",
       "    </tr>\n",
       "    <tr>\n",
       "      <th>2d681dd8</th>\n",
       "      <td>0.017310</td>\n",
       "    </tr>\n",
       "    <tr>\n",
       "      <th>cccea85e</th>\n",
       "      <td>0.069601</td>\n",
       "    </tr>\n",
       "    <tr>\n",
       "      <th>4c8a8b93</th>\n",
       "      <td>0.025887</td>\n",
       "    </tr>\n",
       "  </tbody>\n",
       "</table>\n",
       "</div>"
      ],
      "text/plain": [
       "             label\n",
       "person            \n",
       "4886f805  0.006393\n",
       "0297fc1e  0.059839\n",
       "2d681dd8  0.017310\n",
       "cccea85e  0.069601\n",
       "4c8a8b93  0.025887"
      ]
     },
     "execution_count": 35,
     "metadata": {},
     "output_type": "execute_result"
    }
   ],
   "source": [
    "submit.head()"
   ]
  },
  {
   "cell_type": "code",
   "execution_count": 37,
   "metadata": {},
   "outputs": [],
   "source": [
    "submit.to_csv('submit.csv')"
   ]
  },
  {
   "cell_type": "markdown",
   "metadata": {},
   "source": [
    "## Random subsets"
   ]
  },
  {
   "cell_type": "code",
   "execution_count": 40,
   "metadata": {},
   "outputs": [],
   "source": [
    "from sklearn.util,bvs.random import sample_without_replacement"
   ]
  },
  {
   "cell_type": "code",
   "execution_count": 41,
   "metadata": {},
   "outputs": [
    {
     "data": {
      "text/plain": [
       "14560"
      ]
     },
     "execution_count": 41,
     "metadata": {},
     "output_type": "execute_result"
    }
   ],
   "source": [
    "xtrain.index.size"
   ]
  },
  {
   "cell_type": "code",
   "execution_count": 57,
   "metadata": {},
   "outputs": [],
   "source": [
    "cbClassifier = cb.CatBoostClassifier(iterations=200,\n",
    "                                 depth=8,\n",
    "                                 l2_leaf_reg=50,\n",
    "                                 random_strength=0.1,\n",
    "                                 bagging_temperature=0,\n",
    "                                 border_count=128)\n",
    "def tryRandomSubsets (xtrain,xtest,ytrain,ytest,n):\n",
    "    results = []\n",
    "    for i in range(n):\n",
    "        indices = sample_without_replacement(n_population=14560,n_samples=6000)\n",
    "        cbClassifier.fit(xtrain.iloc[indices],ytrain.iloc[indices],cat_features=cat_features,verbose=0)\n",
    "        score = roc_auc_score(ytest,cbClassifier.predict_proba(xtest)[:,1])\n",
    "        results.append([indices,score])\n",
    "    return results\n"
   ]
  },
  {
   "cell_type": "code",
   "execution_count": null,
   "metadata": {},
   "outputs": [],
   "source": [
    "res = tryRandomSubsets(xtrain,xtest,ytrain,ytest,10)"
   ]
  },
  {
   "cell_type": "code",
   "execution_count": 53,
   "metadata": {},
   "outputs": [
    {
     "data": {
      "text/plain": [
       "[[array([ 3986,  8574, 13137, ...,  2946,  9010,  3638]), 0.8547978485515694],\n",
       " [array([ 9351,   395, 10720, ...,  3992,  5168,   384]), 0.8526390121411997],\n",
       " [array([ 5610,  9658,  8614, ..., 10373,   743,  7907]), 0.8615965080627772],\n",
       " [array([ 4469,  5892,  5121, ...,  3750,  5771, 13507]), 0.8551715428764841],\n",
       " [array([ 7190, 10659,   158, ...,  7357, 12770,  8114]), 0.8538442837224767],\n",
       " [array([ 4920, 11413,   507, ..., 14288,  3340,  6536]), 0.8580519959142754],\n",
       " [array([11730,  2677, 14374, ..., 11686,  5457, 14248]), 0.8591601928778156],\n",
       " [array([10126,  8814,  4497, ..., 13872, 12251,  5183]), 0.8651401611438656],\n",
       " [array([13099, 13968,  8270, ...,  5001,  8069,  9146]), 0.8583483741719664],\n",
       " [array([12653,  8849,  1868, ..., 13297,  9502, 10509]), 0.8538451427898901]]"
      ]
     },
     "execution_count": 53,
     "metadata": {},
     "output_type": "execute_result"
    }
   ],
   "source": [
    "res"
   ]
  },
  {
   "cell_type": "code",
   "execution_count": 55,
   "metadata": {},
   "outputs": [
    {
     "data": {
      "text/plain": [
       "[array([10126,  8814,  4497, ..., 13872, 12251,  5183]), 0.8651401611438656]"
      ]
     },
     "execution_count": 55,
     "metadata": {},
     "output_type": "execute_result"
    }
   ],
   "source": [
    "res[7]"
   ]
  },
  {
   "cell_type": "code",
   "execution_count": 60,
   "metadata": {},
   "outputs": [
    {
     "data": {
      "text/plain": [
       "<catboost.core.CatBoostClassifier at 0x7f7844f48320>"
      ]
     },
     "execution_count": 60,
     "metadata": {},
     "output_type": "execute_result"
    }
   ],
   "source": [
    "cbClassifier.fit(xtrain.iloc[res[7][0]],ytrain.iloc[res[7][0]],cat_features=cat_features,verbose=0)"
   ]
  },
  {
   "cell_type": "code",
   "execution_count": 61,
   "metadata": {},
   "outputs": [],
   "source": [
    "submit = kaggle.set_index('person')\n",
    "submit['label'] = cbClassifier.predict_proba(predict_features)[:,1]"
   ]
  },
  {
   "cell_type": "code",
   "execution_count": 64,
   "metadata": {},
   "outputs": [],
   "source": [
    "submit.to_csv('submit.csv')"
   ]
  },
  {
   "cell_type": "markdown",
   "metadata": {},
   "source": [
    "## Dropeando las unknown (score: 0.86514)"
   ]
  },
  {
   "cell_type": "code",
   "execution_count": 65,
   "metadata": {},
   "outputs": [],
   "source": [
    "xtrain,xtest,ytrain,ytest = train_test_split(training_features.drop(['Unknown','Unknown.1'],axis=1),training_labels)"
   ]
  },
  {
   "cell_type": "code",
   "execution_count": 83,
   "metadata": {},
   "outputs": [],
   "source": [
    "cb_classifier = cb.CatBoostClassifier(iterations=400,\n",
    "                                 depth=8,\n",
    "                                 l2_leaf_reg=50,\n",
    "                                 random_strength=0.1,\n",
    "                                 bagging_temperature=0,\n",
    "                                 border_count=128)"
   ]
  },
  {
   "cell_type": "code",
   "execution_count": 84,
   "metadata": {},
   "outputs": [],
   "source": [
    "cat_features2 = []\n",
    "for i,col in enumerate(xtrain.columns):\n",
    "    if xtrain[col].dtype.name=='object':\n",
    "        cat_features2.append(i)"
   ]
  },
  {
   "cell_type": "code",
   "execution_count": null,
   "metadata": {},
   "outputs": [],
   "source": [
    "cb_classifier.fit(xtrain,ytrain,cat_features=cat_features2)"
   ]
  },
  {
   "cell_type": "code",
   "execution_count": 86,
   "metadata": {},
   "outputs": [
    {
     "data": {
      "text/plain": [
       "0.8533207805546046"
      ]
     },
     "execution_count": 86,
     "metadata": {},
     "output_type": "execute_result"
    }
   ],
   "source": [
    "roc_auc_score(ytest,cb_classifier.predict_proba(xtest)[:,1])"
   ]
  },
  {
   "cell_type": "code",
   "execution_count": 87,
   "metadata": {},
   "outputs": [
    {
     "name": "stdout",
     "output_type": "stream",
     "text": [
      "0:\tlearn: 0.6467434\ttotal: 240ms\tremaining: 1m 35s\n",
      "1:\tlearn: 0.6040365\ttotal: 415ms\tremaining: 1m 22s\n",
      "2:\tlearn: 0.5668375\ttotal: 568ms\tremaining: 1m 15s\n",
      "3:\tlearn: 0.5334953\ttotal: 765ms\tremaining: 1m 15s\n",
      "4:\tlearn: 0.5018393\ttotal: 954ms\tremaining: 1m 15s\n",
      "5:\tlearn: 0.4711569\ttotal: 1.16s\tremaining: 1m 15s\n",
      "6:\tlearn: 0.4449378\ttotal: 1.53s\tremaining: 1m 25s\n",
      "7:\tlearn: 0.4245056\ttotal: 1.7s\tremaining: 1m 23s\n",
      "8:\tlearn: 0.4014468\ttotal: 1.93s\tremaining: 1m 23s\n",
      "9:\tlearn: 0.3848595\ttotal: 2.26s\tremaining: 1m 28s\n",
      "10:\tlearn: 0.3640698\ttotal: 2.57s\tremaining: 1m 30s\n",
      "11:\tlearn: 0.3470822\ttotal: 2.68s\tremaining: 1m 26s\n",
      "12:\tlearn: 0.3315874\ttotal: 2.9s\tremaining: 1m 26s\n",
      "13:\tlearn: 0.3175417\ttotal: 3.06s\tremaining: 1m 24s\n",
      "14:\tlearn: 0.3072995\ttotal: 3.41s\tremaining: 1m 27s\n",
      "15:\tlearn: 0.2980994\ttotal: 3.63s\tremaining: 1m 27s\n",
      "16:\tlearn: 0.2890790\ttotal: 3.78s\tremaining: 1m 25s\n",
      "17:\tlearn: 0.2786300\ttotal: 4.13s\tremaining: 1m 27s\n",
      "18:\tlearn: 0.2715418\ttotal: 4.35s\tremaining: 1m 27s\n",
      "19:\tlearn: 0.2648176\ttotal: 4.53s\tremaining: 1m 26s\n",
      "20:\tlearn: 0.2553056\ttotal: 4.89s\tremaining: 1m 28s\n",
      "21:\tlearn: 0.2494790\ttotal: 5.21s\tremaining: 1m 29s\n",
      "22:\tlearn: 0.2421864\ttotal: 5.56s\tremaining: 1m 31s\n",
      "23:\tlearn: 0.2376230\ttotal: 5.72s\tremaining: 1m 29s\n",
      "24:\tlearn: 0.2308531\ttotal: 6.16s\tremaining: 1m 32s\n",
      "25:\tlearn: 0.2271252\ttotal: 6.27s\tremaining: 1m 30s\n",
      "26:\tlearn: 0.2210936\ttotal: 6.68s\tremaining: 1m 32s\n",
      "27:\tlearn: 0.2162766\ttotal: 7.13s\tremaining: 1m 34s\n",
      "28:\tlearn: 0.2116705\ttotal: 7.52s\tremaining: 1m 36s\n",
      "29:\tlearn: 0.2089914\ttotal: 7.64s\tremaining: 1m 34s\n",
      "30:\tlearn: 0.2045664\ttotal: 8.01s\tremaining: 1m 35s\n",
      "31:\tlearn: 0.2007724\ttotal: 8.41s\tremaining: 1m 36s\n",
      "32:\tlearn: 0.1977846\ttotal: 8.85s\tremaining: 1m 38s\n",
      "33:\tlearn: 0.1958202\ttotal: 8.97s\tremaining: 1m 36s\n",
      "34:\tlearn: 0.1939639\ttotal: 9.09s\tremaining: 1m 34s\n",
      "35:\tlearn: 0.1912734\ttotal: 9.55s\tremaining: 1m 36s\n",
      "36:\tlearn: 0.1895489\ttotal: 10s\tremaining: 1m 38s\n",
      "37:\tlearn: 0.1880284\ttotal: 10.2s\tremaining: 1m 37s\n",
      "38:\tlearn: 0.1854998\ttotal: 10.5s\tremaining: 1m 37s\n",
      "39:\tlearn: 0.1842177\ttotal: 10.8s\tremaining: 1m 36s\n",
      "40:\tlearn: 0.1828082\ttotal: 11.2s\tremaining: 1m 38s\n",
      "41:\tlearn: 0.1812046\ttotal: 11.7s\tremaining: 1m 39s\n",
      "42:\tlearn: 0.1791309\ttotal: 12.1s\tremaining: 1m 40s\n",
      "43:\tlearn: 0.1771621\ttotal: 12.6s\tremaining: 1m 42s\n",
      "44:\tlearn: 0.1752166\ttotal: 13.1s\tremaining: 1m 43s\n",
      "45:\tlearn: 0.1741666\ttotal: 13.6s\tremaining: 1m 44s\n",
      "46:\tlearn: 0.1730753\ttotal: 13.9s\tremaining: 1m 44s\n",
      "47:\tlearn: 0.1715780\ttotal: 14.5s\tremaining: 1m 46s\n",
      "48:\tlearn: 0.1704425\ttotal: 14.9s\tremaining: 1m 46s\n",
      "49:\tlearn: 0.1693679\ttotal: 15.3s\tremaining: 1m 47s\n",
      "50:\tlearn: 0.1687216\ttotal: 15.7s\tremaining: 1m 47s\n",
      "51:\tlearn: 0.1675302\ttotal: 16.1s\tremaining: 1m 47s\n",
      "52:\tlearn: 0.1665575\ttotal: 16.5s\tremaining: 1m 47s\n",
      "53:\tlearn: 0.1661150\ttotal: 16.6s\tremaining: 1m 46s\n",
      "54:\tlearn: 0.1651556\ttotal: 17.1s\tremaining: 1m 47s\n",
      "55:\tlearn: 0.1642293\ttotal: 17.5s\tremaining: 1m 47s\n",
      "56:\tlearn: 0.1633111\ttotal: 17.8s\tremaining: 1m 47s\n",
      "57:\tlearn: 0.1626825\ttotal: 18.3s\tremaining: 1m 47s\n",
      "58:\tlearn: 0.1621283\ttotal: 18.5s\tremaining: 1m 46s\n",
      "59:\tlearn: 0.1614806\ttotal: 18.9s\tremaining: 1m 47s\n",
      "60:\tlearn: 0.1612506\ttotal: 19s\tremaining: 1m 45s\n",
      "61:\tlearn: 0.1607974\ttotal: 19.4s\tremaining: 1m 45s\n",
      "62:\tlearn: 0.1602641\ttotal: 19.8s\tremaining: 1m 45s\n",
      "63:\tlearn: 0.1596400\ttotal: 20.1s\tremaining: 1m 45s\n",
      "64:\tlearn: 0.1592088\ttotal: 20.6s\tremaining: 1m 46s\n",
      "65:\tlearn: 0.1587938\ttotal: 21s\tremaining: 1m 46s\n",
      "66:\tlearn: 0.1585966\ttotal: 21.5s\tremaining: 1m 46s\n",
      "67:\tlearn: 0.1580410\ttotal: 21.9s\tremaining: 1m 47s\n",
      "68:\tlearn: 0.1578600\ttotal: 22.5s\tremaining: 1m 47s\n",
      "69:\tlearn: 0.1573989\ttotal: 23s\tremaining: 1m 48s\n",
      "70:\tlearn: 0.1572353\ttotal: 23.5s\tremaining: 1m 48s\n",
      "71:\tlearn: 0.1568711\ttotal: 23.9s\tremaining: 1m 48s\n",
      "72:\tlearn: 0.1565715\ttotal: 24.3s\tremaining: 1m 48s\n",
      "73:\tlearn: 0.1561768\ttotal: 24.7s\tremaining: 1m 48s\n",
      "74:\tlearn: 0.1557870\ttotal: 25.1s\tremaining: 1m 48s\n",
      "75:\tlearn: 0.1555897\ttotal: 25.5s\tremaining: 1m 48s\n",
      "76:\tlearn: 0.1552924\ttotal: 25.9s\tremaining: 1m 48s\n",
      "77:\tlearn: 0.1549483\ttotal: 26.2s\tremaining: 1m 48s\n",
      "78:\tlearn: 0.1546040\ttotal: 26.6s\tremaining: 1m 48s\n",
      "79:\tlearn: 0.1543524\ttotal: 27s\tremaining: 1m 48s\n",
      "80:\tlearn: 0.1540693\ttotal: 27.2s\tremaining: 1m 47s\n",
      "81:\tlearn: 0.1537852\ttotal: 27.6s\tremaining: 1m 47s\n",
      "82:\tlearn: 0.1535625\ttotal: 28.1s\tremaining: 1m 47s\n",
      "83:\tlearn: 0.1533527\ttotal: 28.5s\tremaining: 1m 47s\n",
      "84:\tlearn: 0.1532431\ttotal: 28.8s\tremaining: 1m 46s\n",
      "85:\tlearn: 0.1530347\ttotal: 29.2s\tremaining: 1m 46s\n",
      "86:\tlearn: 0.1529478\ttotal: 29.6s\tremaining: 1m 46s\n",
      "87:\tlearn: 0.1526688\ttotal: 29.9s\tremaining: 1m 46s\n",
      "88:\tlearn: 0.1525951\ttotal: 30.3s\tremaining: 1m 45s\n",
      "89:\tlearn: 0.1523334\ttotal: 30.7s\tremaining: 1m 45s\n",
      "90:\tlearn: 0.1521414\ttotal: 31.1s\tremaining: 1m 45s\n",
      "91:\tlearn: 0.1519236\ttotal: 31.5s\tremaining: 1m 45s\n",
      "92:\tlearn: 0.1517247\ttotal: 31.8s\tremaining: 1m 45s\n",
      "93:\tlearn: 0.1516461\ttotal: 32.1s\tremaining: 1m 44s\n",
      "94:\tlearn: 0.1514684\ttotal: 32.5s\tremaining: 1m 44s\n",
      "95:\tlearn: 0.1514026\ttotal: 33s\tremaining: 1m 44s\n",
      "96:\tlearn: 0.1512804\ttotal: 33.3s\tremaining: 1m 44s\n",
      "97:\tlearn: 0.1511707\ttotal: 33.6s\tremaining: 1m 43s\n",
      "98:\tlearn: 0.1509840\ttotal: 34s\tremaining: 1m 43s\n",
      "99:\tlearn: 0.1508936\ttotal: 34.5s\tremaining: 1m 43s\n",
      "100:\tlearn: 0.1507524\ttotal: 35.1s\tremaining: 1m 43s\n",
      "101:\tlearn: 0.1505794\ttotal: 35.8s\tremaining: 1m 44s\n",
      "102:\tlearn: 0.1504782\ttotal: 36.4s\tremaining: 1m 44s\n",
      "103:\tlearn: 0.1503822\ttotal: 36.7s\tremaining: 1m 44s\n",
      "104:\tlearn: 0.1503052\ttotal: 37.1s\tremaining: 1m 44s\n",
      "105:\tlearn: 0.1501687\ttotal: 37.5s\tremaining: 1m 44s\n",
      "106:\tlearn: 0.1500095\ttotal: 37.9s\tremaining: 1m 43s\n",
      "107:\tlearn: 0.1498999\ttotal: 38.3s\tremaining: 1m 43s\n",
      "108:\tlearn: 0.1497981\ttotal: 38.6s\tremaining: 1m 43s\n",
      "109:\tlearn: 0.1496284\ttotal: 39s\tremaining: 1m 42s\n",
      "110:\tlearn: 0.1495639\ttotal: 39.4s\tremaining: 1m 42s\n",
      "111:\tlearn: 0.1494596\ttotal: 39.8s\tremaining: 1m 42s\n",
      "112:\tlearn: 0.1493836\ttotal: 40.2s\tremaining: 1m 42s\n",
      "113:\tlearn: 0.1492434\ttotal: 40.6s\tremaining: 1m 41s\n",
      "114:\tlearn: 0.1491204\ttotal: 40.9s\tremaining: 1m 41s\n",
      "115:\tlearn: 0.1490885\ttotal: 41.5s\tremaining: 1m 41s\n",
      "116:\tlearn: 0.1490441\ttotal: 41.9s\tremaining: 1m 41s\n",
      "117:\tlearn: 0.1488972\ttotal: 42.4s\tremaining: 1m 41s\n",
      "118:\tlearn: 0.1487816\ttotal: 42.8s\tremaining: 1m 41s\n",
      "119:\tlearn: 0.1486514\ttotal: 43.2s\tremaining: 1m 40s\n",
      "120:\tlearn: 0.1486104\ttotal: 43.6s\tremaining: 1m 40s\n",
      "121:\tlearn: 0.1484794\ttotal: 44s\tremaining: 1m 40s\n",
      "122:\tlearn: 0.1484341\ttotal: 44.6s\tremaining: 1m 40s\n",
      "123:\tlearn: 0.1483601\ttotal: 45.2s\tremaining: 1m 40s\n",
      "124:\tlearn: 0.1482298\ttotal: 45.7s\tremaining: 1m 40s\n",
      "125:\tlearn: 0.1481519\ttotal: 46.2s\tremaining: 1m 40s\n",
      "126:\tlearn: 0.1480568\ttotal: 46.6s\tremaining: 1m 40s\n",
      "127:\tlearn: 0.1479900\ttotal: 47.1s\tremaining: 1m 39s\n",
      "128:\tlearn: 0.1479366\ttotal: 47.5s\tremaining: 1m 39s\n",
      "129:\tlearn: 0.1478717\ttotal: 47.8s\tremaining: 1m 39s\n",
      "130:\tlearn: 0.1476810\ttotal: 48.2s\tremaining: 1m 39s\n",
      "131:\tlearn: 0.1475541\ttotal: 48.7s\tremaining: 1m 38s\n",
      "132:\tlearn: 0.1474428\ttotal: 49s\tremaining: 1m 38s\n",
      "133:\tlearn: 0.1474274\ttotal: 49.2s\tremaining: 1m 37s\n",
      "134:\tlearn: 0.1473245\ttotal: 49.6s\tremaining: 1m 37s\n",
      "135:\tlearn: 0.1472262\ttotal: 50s\tremaining: 1m 37s\n",
      "136:\tlearn: 0.1471838\ttotal: 50.4s\tremaining: 1m 36s\n",
      "137:\tlearn: 0.1471188\ttotal: 50.8s\tremaining: 1m 36s\n",
      "138:\tlearn: 0.1470681\ttotal: 51.3s\tremaining: 1m 36s\n",
      "139:\tlearn: 0.1470153\ttotal: 51.9s\tremaining: 1m 36s\n",
      "140:\tlearn: 0.1469796\ttotal: 52.4s\tremaining: 1m 36s\n",
      "141:\tlearn: 0.1468422\ttotal: 52.9s\tremaining: 1m 36s\n",
      "142:\tlearn: 0.1467958\ttotal: 53.3s\tremaining: 1m 35s\n",
      "143:\tlearn: 0.1467195\ttotal: 53.7s\tremaining: 1m 35s\n",
      "144:\tlearn: 0.1465647\ttotal: 54.2s\tremaining: 1m 35s\n",
      "145:\tlearn: 0.1464933\ttotal: 54.6s\tremaining: 1m 35s\n",
      "146:\tlearn: 0.1464810\ttotal: 54.9s\tremaining: 1m 34s\n",
      "147:\tlearn: 0.1463814\ttotal: 55.4s\tremaining: 1m 34s\n",
      "148:\tlearn: 0.1463535\ttotal: 55.8s\tremaining: 1m 33s\n",
      "149:\tlearn: 0.1462449\ttotal: 56.2s\tremaining: 1m 33s\n",
      "150:\tlearn: 0.1461899\ttotal: 56.6s\tremaining: 1m 33s\n",
      "151:\tlearn: 0.1461791\ttotal: 56.7s\tremaining: 1m 32s\n",
      "152:\tlearn: 0.1461383\ttotal: 57.1s\tremaining: 1m 32s\n",
      "153:\tlearn: 0.1460967\ttotal: 57.5s\tremaining: 1m 31s\n",
      "154:\tlearn: 0.1460313\ttotal: 57.9s\tremaining: 1m 31s\n",
      "155:\tlearn: 0.1459728\ttotal: 58.2s\tremaining: 1m 31s\n",
      "156:\tlearn: 0.1459556\ttotal: 58.6s\tremaining: 1m 30s\n",
      "157:\tlearn: 0.1458695\ttotal: 59s\tremaining: 1m 30s\n",
      "158:\tlearn: 0.1458312\ttotal: 59.4s\tremaining: 1m 30s\n",
      "159:\tlearn: 0.1458141\ttotal: 59.8s\tremaining: 1m 29s\n",
      "160:\tlearn: 0.1457813\ttotal: 1m\tremaining: 1m 29s\n",
      "161:\tlearn: 0.1457003\ttotal: 1m\tremaining: 1m 28s\n",
      "162:\tlearn: 0.1456789\ttotal: 1m\tremaining: 1m 28s\n",
      "163:\tlearn: 0.1456326\ttotal: 1m 1s\tremaining: 1m 28s\n",
      "164:\tlearn: 0.1455796\ttotal: 1m 1s\tremaining: 1m 28s\n",
      "165:\tlearn: 0.1454589\ttotal: 1m 2s\tremaining: 1m 27s\n",
      "166:\tlearn: 0.1453242\ttotal: 1m 2s\tremaining: 1m 27s\n",
      "167:\tlearn: 0.1452557\ttotal: 1m 3s\tremaining: 1m 27s\n",
      "168:\tlearn: 0.1452304\ttotal: 1m 3s\tremaining: 1m 27s\n",
      "169:\tlearn: 0.1451654\ttotal: 1m 4s\tremaining: 1m 27s\n",
      "170:\tlearn: 0.1450541\ttotal: 1m 4s\tremaining: 1m 26s\n",
      "171:\tlearn: 0.1450301\ttotal: 1m 5s\tremaining: 1m 26s\n",
      "172:\tlearn: 0.1448594\ttotal: 1m 5s\tremaining: 1m 26s\n",
      "173:\tlearn: 0.1447284\ttotal: 1m 6s\tremaining: 1m 25s\n",
      "174:\tlearn: 0.1446444\ttotal: 1m 6s\tremaining: 1m 25s\n",
      "175:\tlearn: 0.1444683\ttotal: 1m 6s\tremaining: 1m 25s\n",
      "176:\tlearn: 0.1444465\ttotal: 1m 7s\tremaining: 1m 24s\n",
      "177:\tlearn: 0.1442994\ttotal: 1m 7s\tremaining: 1m 24s\n",
      "178:\tlearn: 0.1442353\ttotal: 1m 8s\tremaining: 1m 24s\n",
      "179:\tlearn: 0.1442145\ttotal: 1m 8s\tremaining: 1m 23s\n",
      "180:\tlearn: 0.1441883\ttotal: 1m 8s\tremaining: 1m 23s\n",
      "181:\tlearn: 0.1440223\ttotal: 1m 9s\tremaining: 1m 23s\n",
      "182:\tlearn: 0.1440030\ttotal: 1m 9s\tremaining: 1m 22s\n",
      "183:\tlearn: 0.1439850\ttotal: 1m 10s\tremaining: 1m 22s\n",
      "184:\tlearn: 0.1438790\ttotal: 1m 10s\tremaining: 1m 22s\n",
      "185:\tlearn: 0.1438640\ttotal: 1m 11s\tremaining: 1m 21s\n",
      "186:\tlearn: 0.1438461\ttotal: 1m 11s\tremaining: 1m 21s\n",
      "187:\tlearn: 0.1438324\ttotal: 1m 11s\tremaining: 1m 21s\n",
      "188:\tlearn: 0.1438183\ttotal: 1m 12s\tremaining: 1m 20s\n",
      "189:\tlearn: 0.1437019\ttotal: 1m 12s\tremaining: 1m 20s\n",
      "190:\tlearn: 0.1436180\ttotal: 1m 13s\tremaining: 1m 20s\n",
      "191:\tlearn: 0.1435985\ttotal: 1m 13s\tremaining: 1m 19s\n",
      "192:\tlearn: 0.1435061\ttotal: 1m 13s\tremaining: 1m 19s\n",
      "193:\tlearn: 0.1433226\ttotal: 1m 14s\tremaining: 1m 18s\n",
      "194:\tlearn: 0.1433093\ttotal: 1m 14s\tremaining: 1m 18s\n",
      "195:\tlearn: 0.1432118\ttotal: 1m 15s\tremaining: 1m 18s\n",
      "196:\tlearn: 0.1431309\ttotal: 1m 15s\tremaining: 1m 17s\n",
      "197:\tlearn: 0.1431174\ttotal: 1m 16s\tremaining: 1m 17s\n",
      "198:\tlearn: 0.1429794\ttotal: 1m 16s\tremaining: 1m 17s\n",
      "199:\tlearn: 0.1428955\ttotal: 1m 16s\tremaining: 1m 16s\n",
      "200:\tlearn: 0.1428438\ttotal: 1m 17s\tremaining: 1m 16s\n",
      "201:\tlearn: 0.1427555\ttotal: 1m 17s\tremaining: 1m 16s\n",
      "202:\tlearn: 0.1426751\ttotal: 1m 18s\tremaining: 1m 15s\n",
      "203:\tlearn: 0.1426666\ttotal: 1m 18s\tremaining: 1m 15s\n",
      "204:\tlearn: 0.1426166\ttotal: 1m 19s\tremaining: 1m 15s\n",
      "205:\tlearn: 0.1425001\ttotal: 1m 19s\tremaining: 1m 14s\n",
      "206:\tlearn: 0.1424457\ttotal: 1m 19s\tremaining: 1m 14s\n",
      "207:\tlearn: 0.1423982\ttotal: 1m 20s\tremaining: 1m 14s\n",
      "208:\tlearn: 0.1423323\ttotal: 1m 20s\tremaining: 1m 13s\n",
      "209:\tlearn: 0.1422894\ttotal: 1m 21s\tremaining: 1m 13s\n",
      "210:\tlearn: 0.1422791\ttotal: 1m 21s\tremaining: 1m 13s\n",
      "211:\tlearn: 0.1422026\ttotal: 1m 21s\tremaining: 1m 12s\n",
      "212:\tlearn: 0.1421543\ttotal: 1m 22s\tremaining: 1m 12s\n",
      "213:\tlearn: 0.1420414\ttotal: 1m 22s\tremaining: 1m 12s\n",
      "214:\tlearn: 0.1420328\ttotal: 1m 23s\tremaining: 1m 11s\n",
      "215:\tlearn: 0.1419910\ttotal: 1m 23s\tremaining: 1m 11s\n",
      "216:\tlearn: 0.1419588\ttotal: 1m 24s\tremaining: 1m 10s\n",
      "217:\tlearn: 0.1419485\ttotal: 1m 24s\tremaining: 1m 10s\n",
      "218:\tlearn: 0.1419439\ttotal: 1m 24s\tremaining: 1m 10s\n",
      "219:\tlearn: 0.1419366\ttotal: 1m 25s\tremaining: 1m 9s\n",
      "220:\tlearn: 0.1419338\ttotal: 1m 25s\tremaining: 1m 9s\n",
      "221:\tlearn: 0.1419080\ttotal: 1m 26s\tremaining: 1m 9s\n",
      "222:\tlearn: 0.1419053\ttotal: 1m 26s\tremaining: 1m 8s\n",
      "223:\tlearn: 0.1418138\ttotal: 1m 27s\tremaining: 1m 8s\n",
      "224:\tlearn: 0.1417110\ttotal: 1m 27s\tremaining: 1m 8s\n",
      "225:\tlearn: 0.1417068\ttotal: 1m 27s\tremaining: 1m 7s\n",
      "226:\tlearn: 0.1416183\ttotal: 1m 28s\tremaining: 1m 7s\n",
      "227:\tlearn: 0.1415414\ttotal: 1m 28s\tremaining: 1m 6s\n",
      "228:\tlearn: 0.1415376\ttotal: 1m 28s\tremaining: 1m 6s\n",
      "229:\tlearn: 0.1414515\ttotal: 1m 29s\tremaining: 1m 5s\n",
      "230:\tlearn: 0.1413835\ttotal: 1m 29s\tremaining: 1m 5s\n",
      "231:\tlearn: 0.1412887\ttotal: 1m 29s\tremaining: 1m 5s\n",
      "232:\tlearn: 0.1412841\ttotal: 1m 30s\tremaining: 1m 4s\n",
      "233:\tlearn: 0.1412810\ttotal: 1m 30s\tremaining: 1m 4s\n",
      "234:\tlearn: 0.1412554\ttotal: 1m 31s\tremaining: 1m 3s\n",
      "235:\tlearn: 0.1411320\ttotal: 1m 31s\tremaining: 1m 3s\n",
      "236:\tlearn: 0.1410535\ttotal: 1m 31s\tremaining: 1m 3s\n",
      "237:\tlearn: 0.1409792\ttotal: 1m 32s\tremaining: 1m 2s\n",
      "238:\tlearn: 0.1409535\ttotal: 1m 32s\tremaining: 1m 2s\n",
      "239:\tlearn: 0.1409264\ttotal: 1m 33s\tremaining: 1m 2s\n",
      "240:\tlearn: 0.1408309\ttotal: 1m 33s\tremaining: 1m 1s\n",
      "241:\tlearn: 0.1407536\ttotal: 1m 33s\tremaining: 1m 1s\n",
      "242:\tlearn: 0.1407227\ttotal: 1m 34s\tremaining: 1m 1s\n",
      "243:\tlearn: 0.1405534\ttotal: 1m 34s\tremaining: 1m\n",
      "244:\tlearn: 0.1404585\ttotal: 1m 35s\tremaining: 1m\n",
      "245:\tlearn: 0.1403955\ttotal: 1m 35s\tremaining: 59.9s\n",
      "246:\tlearn: 0.1403521\ttotal: 1m 36s\tremaining: 59.5s\n",
      "247:\tlearn: 0.1403495\ttotal: 1m 36s\tremaining: 59.1s\n",
      "248:\tlearn: 0.1403459\ttotal: 1m 36s\tremaining: 58.7s\n",
      "249:\tlearn: 0.1403065\ttotal: 1m 37s\tremaining: 58.3s\n",
      "250:\tlearn: 0.1402647\ttotal: 1m 37s\tremaining: 58s\n",
      "251:\tlearn: 0.1402599\ttotal: 1m 37s\tremaining: 57.5s\n",
      "252:\tlearn: 0.1402165\ttotal: 1m 38s\tremaining: 57.1s\n",
      "253:\tlearn: 0.1401772\ttotal: 1m 38s\tremaining: 56.7s\n",
      "254:\tlearn: 0.1401725\ttotal: 1m 38s\tremaining: 56.2s\n",
      "255:\tlearn: 0.1401136\ttotal: 1m 39s\tremaining: 55.9s\n",
      "256:\tlearn: 0.1401090\ttotal: 1m 39s\tremaining: 55.5s\n",
      "257:\tlearn: 0.1401018\ttotal: 1m 40s\tremaining: 55.1s\n",
      "258:\tlearn: 0.1400080\ttotal: 1m 40s\tremaining: 54.7s\n",
      "259:\tlearn: 0.1399858\ttotal: 1m 40s\tremaining: 54.3s\n",
      "260:\tlearn: 0.1399415\ttotal: 1m 41s\tremaining: 54s\n",
      "261:\tlearn: 0.1399007\ttotal: 1m 41s\tremaining: 53.6s\n",
      "262:\tlearn: 0.1398985\ttotal: 1m 42s\tremaining: 53.2s\n",
      "263:\tlearn: 0.1398947\ttotal: 1m 42s\tremaining: 52.9s\n",
      "264:\tlearn: 0.1398068\ttotal: 1m 43s\tremaining: 52.5s\n",
      "265:\tlearn: 0.1397543\ttotal: 1m 43s\tremaining: 52.1s\n",
      "266:\tlearn: 0.1397520\ttotal: 1m 43s\tremaining: 51.7s\n",
      "267:\tlearn: 0.1397026\ttotal: 1m 44s\tremaining: 51.3s\n",
      "268:\tlearn: 0.1396824\ttotal: 1m 44s\tremaining: 51s\n",
      "269:\tlearn: 0.1395824\ttotal: 1m 45s\tremaining: 50.6s\n",
      "270:\tlearn: 0.1395235\ttotal: 1m 45s\tremaining: 50.2s\n",
      "271:\tlearn: 0.1395001\ttotal: 1m 45s\tremaining: 49.8s\n",
      "272:\tlearn: 0.1394057\ttotal: 1m 46s\tremaining: 49.4s\n",
      "273:\tlearn: 0.1393985\ttotal: 1m 46s\tremaining: 49s\n",
      "274:\tlearn: 0.1393179\ttotal: 1m 47s\tremaining: 48.6s\n",
      "275:\tlearn: 0.1392605\ttotal: 1m 47s\tremaining: 48.3s\n",
      "276:\tlearn: 0.1391240\ttotal: 1m 47s\tremaining: 47.9s\n",
      "277:\tlearn: 0.1391214\ttotal: 1m 48s\tremaining: 47.4s\n",
      "278:\tlearn: 0.1391192\ttotal: 1m 48s\tremaining: 47.1s\n",
      "279:\tlearn: 0.1390379\ttotal: 1m 48s\tremaining: 46.7s\n",
      "280:\tlearn: 0.1389732\ttotal: 1m 49s\tremaining: 46.3s\n",
      "281:\tlearn: 0.1389711\ttotal: 1m 49s\tremaining: 45.9s\n",
      "282:\tlearn: 0.1389690\ttotal: 1m 50s\tremaining: 45.6s\n",
      "283:\tlearn: 0.1388910\ttotal: 1m 50s\tremaining: 45.2s\n",
      "284:\tlearn: 0.1388285\ttotal: 1m 51s\tremaining: 44.8s\n",
      "285:\tlearn: 0.1387649\ttotal: 1m 51s\tremaining: 44.4s\n",
      "286:\tlearn: 0.1387629\ttotal: 1m 51s\tremaining: 44.1s\n",
      "287:\tlearn: 0.1387609\ttotal: 1m 52s\tremaining: 43.7s\n",
      "288:\tlearn: 0.1387508\ttotal: 1m 52s\tremaining: 43.3s\n",
      "289:\tlearn: 0.1387304\ttotal: 1m 53s\tremaining: 42.9s\n",
      "290:\tlearn: 0.1386810\ttotal: 1m 53s\tremaining: 42.5s\n",
      "291:\tlearn: 0.1385561\ttotal: 1m 54s\tremaining: 42.2s\n",
      "292:\tlearn: 0.1385542\ttotal: 1m 54s\tremaining: 41.8s\n",
      "293:\tlearn: 0.1384634\ttotal: 1m 54s\tremaining: 41.4s\n",
      "294:\tlearn: 0.1383651\ttotal: 1m 55s\tremaining: 41s\n",
      "295:\tlearn: 0.1383089\ttotal: 1m 55s\tremaining: 40.7s\n",
      "296:\tlearn: 0.1383055\ttotal: 1m 56s\tremaining: 40.3s\n",
      "297:\tlearn: 0.1382828\ttotal: 1m 56s\tremaining: 39.9s\n",
      "298:\tlearn: 0.1382673\ttotal: 1m 57s\tremaining: 39.5s\n",
      "299:\tlearn: 0.1382657\ttotal: 1m 57s\tremaining: 39.2s\n",
      "300:\tlearn: 0.1382242\ttotal: 1m 57s\tremaining: 38.8s\n",
      "301:\tlearn: 0.1382225\ttotal: 1m 58s\tremaining: 38.4s\n",
      "302:\tlearn: 0.1381802\ttotal: 1m 58s\tremaining: 38s\n",
      "303:\tlearn: 0.1381784\ttotal: 1m 59s\tremaining: 37.6s\n",
      "304:\tlearn: 0.1381412\ttotal: 1m 59s\tremaining: 37.2s\n",
      "305:\tlearn: 0.1381154\ttotal: 1m 59s\tremaining: 36.8s\n",
      "306:\tlearn: 0.1380800\ttotal: 2m\tremaining: 36.4s\n",
      "307:\tlearn: 0.1379924\ttotal: 2m\tremaining: 36.1s\n",
      "308:\tlearn: 0.1379781\ttotal: 2m 1s\tremaining: 35.7s\n",
      "309:\tlearn: 0.1379764\ttotal: 2m 1s\tremaining: 35.3s\n",
      "310:\tlearn: 0.1379734\ttotal: 2m 1s\tremaining: 34.9s\n",
      "311:\tlearn: 0.1379164\ttotal: 2m 2s\tremaining: 34.5s\n",
      "312:\tlearn: 0.1378182\ttotal: 2m 2s\tremaining: 34.1s\n",
      "313:\tlearn: 0.1377448\ttotal: 2m 3s\tremaining: 33.7s\n",
      "314:\tlearn: 0.1377430\ttotal: 2m 3s\tremaining: 33.3s\n",
      "315:\tlearn: 0.1377412\ttotal: 2m 3s\tremaining: 33s\n",
      "316:\tlearn: 0.1376241\ttotal: 2m 4s\tremaining: 32.6s\n",
      "317:\tlearn: 0.1375905\ttotal: 2m 4s\tremaining: 32.2s\n",
      "318:\tlearn: 0.1375889\ttotal: 2m 5s\tremaining: 31.8s\n",
      "319:\tlearn: 0.1375260\ttotal: 2m 5s\tremaining: 31.4s\n",
      "320:\tlearn: 0.1374519\ttotal: 2m 6s\tremaining: 31s\n",
      "321:\tlearn: 0.1373971\ttotal: 2m 6s\tremaining: 30.6s\n",
      "322:\tlearn: 0.1373504\ttotal: 2m 6s\tremaining: 30.2s\n",
      "323:\tlearn: 0.1373053\ttotal: 2m 7s\tremaining: 29.8s\n",
      "324:\tlearn: 0.1372761\ttotal: 2m 7s\tremaining: 29.4s\n",
      "325:\tlearn: 0.1372138\ttotal: 2m 7s\tremaining: 29s\n",
      "326:\tlearn: 0.1371669\ttotal: 2m 8s\tremaining: 28.7s\n",
      "327:\tlearn: 0.1371234\ttotal: 2m 8s\tremaining: 28.3s\n",
      "328:\tlearn: 0.1371221\ttotal: 2m 9s\tremaining: 27.9s\n",
      "329:\tlearn: 0.1370576\ttotal: 2m 9s\tremaining: 27.5s\n",
      "330:\tlearn: 0.1370372\ttotal: 2m 10s\tremaining: 27.1s\n",
      "331:\tlearn: 0.1369853\ttotal: 2m 10s\tremaining: 26.7s\n",
      "332:\tlearn: 0.1369837\ttotal: 2m 10s\tremaining: 26.3s\n",
      "333:\tlearn: 0.1368816\ttotal: 2m 11s\tremaining: 25.9s\n",
      "334:\tlearn: 0.1368799\ttotal: 2m 11s\tremaining: 25.5s\n",
      "335:\tlearn: 0.1368358\ttotal: 2m 12s\tremaining: 25.2s\n",
      "336:\tlearn: 0.1368342\ttotal: 2m 12s\tremaining: 24.8s\n",
      "337:\tlearn: 0.1368325\ttotal: 2m 12s\tremaining: 24.4s\n",
      "338:\tlearn: 0.1368010\ttotal: 2m 13s\tremaining: 24s\n",
      "339:\tlearn: 0.1367402\ttotal: 2m 13s\tremaining: 23.6s\n",
      "340:\tlearn: 0.1367387\ttotal: 2m 14s\tremaining: 23.2s\n",
      "341:\tlearn: 0.1367372\ttotal: 2m 14s\tremaining: 22.8s\n",
      "342:\tlearn: 0.1366788\ttotal: 2m 15s\tremaining: 22.5s\n",
      "343:\tlearn: 0.1366773\ttotal: 2m 15s\tremaining: 22.1s\n",
      "344:\tlearn: 0.1366343\ttotal: 2m 16s\tremaining: 21.7s\n",
      "345:\tlearn: 0.1366329\ttotal: 2m 16s\tremaining: 21.3s\n",
      "346:\tlearn: 0.1366061\ttotal: 2m 16s\tremaining: 20.9s\n",
      "347:\tlearn: 0.1365463\ttotal: 2m 17s\tremaining: 20.5s\n",
      "348:\tlearn: 0.1365449\ttotal: 2m 17s\tremaining: 20.2s\n",
      "349:\tlearn: 0.1364950\ttotal: 2m 18s\tremaining: 19.8s\n",
      "350:\tlearn: 0.1364940\ttotal: 2m 18s\tremaining: 19.4s\n",
      "351:\tlearn: 0.1364498\ttotal: 2m 19s\tremaining: 19s\n",
      "352:\tlearn: 0.1364488\ttotal: 2m 19s\tremaining: 18.6s\n",
      "353:\tlearn: 0.1364020\ttotal: 2m 20s\tremaining: 18.3s\n",
      "354:\tlearn: 0.1363688\ttotal: 2m 20s\tremaining: 17.9s\n",
      "355:\tlearn: 0.1363678\ttotal: 2m 21s\tremaining: 17.5s\n",
      "356:\tlearn: 0.1363668\ttotal: 2m 21s\tremaining: 17.1s\n",
      "357:\tlearn: 0.1362927\ttotal: 2m 22s\tremaining: 16.7s\n",
      "358:\tlearn: 0.1362917\ttotal: 2m 22s\tremaining: 16.3s\n",
      "359:\tlearn: 0.1362569\ttotal: 2m 23s\tremaining: 15.9s\n",
      "360:\tlearn: 0.1361844\ttotal: 2m 23s\tremaining: 15.5s\n",
      "361:\tlearn: 0.1361834\ttotal: 2m 24s\tremaining: 15.1s\n",
      "362:\tlearn: 0.1361823\ttotal: 2m 24s\tremaining: 14.8s\n",
      "363:\tlearn: 0.1361161\ttotal: 2m 25s\tremaining: 14.4s\n",
      "364:\tlearn: 0.1360653\ttotal: 2m 25s\tremaining: 14s\n",
      "365:\tlearn: 0.1360158\ttotal: 2m 26s\tremaining: 13.6s\n",
      "366:\tlearn: 0.1359595\ttotal: 2m 26s\tremaining: 13.2s\n",
      "367:\tlearn: 0.1359585\ttotal: 2m 27s\tremaining: 12.8s\n",
      "368:\tlearn: 0.1359158\ttotal: 2m 27s\tremaining: 12.4s\n",
      "369:\tlearn: 0.1358750\ttotal: 2m 28s\tremaining: 12s\n",
      "370:\tlearn: 0.1358740\ttotal: 2m 28s\tremaining: 11.6s\n",
      "371:\tlearn: 0.1358730\ttotal: 2m 29s\tremaining: 11.2s\n",
      "372:\tlearn: 0.1358517\ttotal: 2m 29s\tremaining: 10.8s\n",
      "373:\tlearn: 0.1358508\ttotal: 2m 30s\tremaining: 10.4s\n",
      "374:\tlearn: 0.1357975\ttotal: 2m 30s\tremaining: 10s\n",
      "375:\tlearn: 0.1357965\ttotal: 2m 30s\tremaining: 9.63s\n",
      "376:\tlearn: 0.1357279\ttotal: 2m 31s\tremaining: 9.23s\n",
      "377:\tlearn: 0.1357269\ttotal: 2m 31s\tremaining: 8.83s\n",
      "378:\tlearn: 0.1357260\ttotal: 2m 32s\tremaining: 8.43s\n",
      "379:\tlearn: 0.1357251\ttotal: 2m 32s\tremaining: 8.04s\n",
      "380:\tlearn: 0.1357242\ttotal: 2m 33s\tremaining: 7.64s\n",
      "381:\tlearn: 0.1356591\ttotal: 2m 33s\tremaining: 7.24s\n",
      "382:\tlearn: 0.1356127\ttotal: 2m 34s\tremaining: 6.84s\n",
      "383:\tlearn: 0.1355587\ttotal: 2m 34s\tremaining: 6.44s\n",
      "384:\tlearn: 0.1355578\ttotal: 2m 34s\tremaining: 6.04s\n",
      "385:\tlearn: 0.1355569\ttotal: 2m 35s\tremaining: 5.63s\n",
      "386:\tlearn: 0.1355561\ttotal: 2m 35s\tremaining: 5.23s\n",
      "387:\tlearn: 0.1355076\ttotal: 2m 36s\tremaining: 4.83s\n",
      "388:\tlearn: 0.1355068\ttotal: 2m 36s\tremaining: 4.43s\n",
      "389:\tlearn: 0.1354320\ttotal: 2m 37s\tremaining: 4.03s\n",
      "390:\tlearn: 0.1354312\ttotal: 2m 37s\tremaining: 3.63s\n",
      "391:\tlearn: 0.1354004\ttotal: 2m 37s\tremaining: 3.22s\n",
      "392:\tlearn: 0.1353930\ttotal: 2m 38s\tremaining: 2.82s\n",
      "393:\tlearn: 0.1353422\ttotal: 2m 38s\tremaining: 2.42s\n",
      "394:\tlearn: 0.1353414\ttotal: 2m 39s\tremaining: 2.02s\n",
      "395:\tlearn: 0.1352827\ttotal: 2m 39s\tremaining: 1.61s\n",
      "396:\tlearn: 0.1352396\ttotal: 2m 40s\tremaining: 1.21s\n",
      "397:\tlearn: 0.1352388\ttotal: 2m 40s\tremaining: 806ms\n",
      "398:\tlearn: 0.1351898\ttotal: 2m 40s\tremaining: 403ms\n",
      "399:\tlearn: 0.1351250\ttotal: 2m 41s\tremaining: 0us\n"
     ]
    },
    {
     "data": {
      "text/plain": [
       "<catboost.core.CatBoostClassifier at 0x7f783b1ee5f8>"
      ]
     },
     "execution_count": 87,
     "metadata": {},
     "output_type": "execute_result"
    }
   ],
   "source": [
    "cb_classifier.fit(training_features.drop(['Unknown','Unknown.1'],axis=1),training_labels,cat_features=cat_features2)"
   ]
  },
  {
   "cell_type": "code",
   "execution_count": 89,
   "metadata": {},
   "outputs": [],
   "source": [
    "proba_loco=cb_classifier.predict_proba(predict_features.drop(['Unknown','Unknown.1'],axis=1))[:,1]"
   ]
  },
  {
   "cell_type": "code",
   "execution_count": 90,
   "metadata": {},
   "outputs": [],
   "source": [
    "submit = kaggle.set_index('person')\n",
    "submit['label'] = proba_loco"
   ]
  },
  {
   "cell_type": "code",
   "execution_count": 91,
   "metadata": {},
   "outputs": [],
   "source": [
    "submit.to_csv('submit.csv')"
   ]
  },
  {
   "cell_type": "code",
   "execution_count": 92,
   "metadata": {},
   "outputs": [],
   "source": [
    "cb_classifier.save_model('86514catboost')"
   ]
  },
  {
   "cell_type": "code",
   "execution_count": null,
   "metadata": {},
   "outputs": [],
   "source": []
  }
 ],
 "metadata": {
  "kernelspec": {
   "display_name": "Python 3",
   "language": "python",
   "name": "python3"
  },
  "language_info": {
   "codemirror_mode": {
    "name": "ipython",
    "version": 3
   },
   "file_extension": ".py",
   "mimetype": "text/x-python",
   "name": "python",
   "nbconvert_exporter": "python",
   "pygments_lexer": "ipython3",
   "version": "3.6.5"
  }
 },
 "nbformat": 4,
 "nbformat_minor": 2
}
