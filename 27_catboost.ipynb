{
 "cells": [
  {
   "cell_type": "code",
   "execution_count": 2,
   "metadata": {},
   "outputs": [],
   "source": [
    "from sklearn.metrics import roc_auc_score"
   ]
  },
  {
   "cell_type": "code",
   "execution_count": 3,
   "metadata": {},
   "outputs": [],
   "source": [
    "import numpy as np\n",
    "import scipy.stats as stats"
   ]
  },
  {
   "cell_type": "code",
   "execution_count": 4,
   "metadata": {},
   "outputs": [],
   "source": [
    "import xgboost as xgb\n",
    "import catboost as cb"
   ]
  },
  {
   "cell_type": "code",
   "execution_count": 5,
   "metadata": {},
   "outputs": [],
   "source": [
    "import pandas as pd\n",
    "from sklearn.model_selection import train_test_split\n",
    "import category_encoders"
   ]
  },
  {
   "cell_type": "code",
   "execution_count": 6,
   "metadata": {},
   "outputs": [],
   "source": [
    "from sklearn.model_selection import RandomizedSearchCV"
   ]
  },
  {
   "cell_type": "code",
   "execution_count": 7,
   "metadata": {},
   "outputs": [],
   "source": [
    "kaggle = pd.read_csv('trocafone_kaggle_test.csv')"
   ]
  },
  {
   "cell_type": "code",
   "execution_count": 8,
   "metadata": {},
   "outputs": [],
   "source": [
    "labels = pd.read_csv('labels_training_set.csv')"
   ]
  },
  {
   "cell_type": "code",
   "execution_count": 11,
   "metadata": {},
   "outputs": [],
   "source": [
    "features_1 = pd.read_csv('features_11.csv')"
   ]
  },
  {
   "cell_type": "code",
   "execution_count": 12,
   "metadata": {},
   "outputs": [],
   "source": [
    "processed = features_1.set_index('person')"
   ]
  },
  {
   "cell_type": "code",
   "execution_count": 13,
   "metadata": {},
   "outputs": [],
   "source": [
    "cat_features = []\n",
    "for i,col in enumerate(processed.columns):\n",
    "    if processed[col].dtype.name=='object':\n",
    "        cat_features.append(i)"
   ]
  },
  {
   "cell_type": "code",
   "execution_count": 14,
   "metadata": {},
   "outputs": [],
   "source": [
    "predict_features = kaggle.set_index('person').join(processed)"
   ]
  },
  {
   "cell_type": "code",
   "execution_count": 15,
   "metadata": {},
   "outputs": [],
   "source": [
    "training_features = labels.set_index('person').join(processed)\n",
    "training_labels = training_features['label']\n",
    "training_features = training_features.drop(['label'],axis=1)"
   ]
  },
  {
   "cell_type": "code",
   "execution_count": 16,
   "metadata": {},
   "outputs": [],
   "source": [
    "def duplicate_columns(frame):\n",
    "    groups = frame.columns.to_series().groupby(frame.dtypes).groups\n",
    "    dups = []\n",
    "\n",
    "    for t, v in groups.items():\n",
    "\n",
    "        cs = frame[v].columns\n",
    "        vs = frame[v]\n",
    "        lcs = len(cs)\n",
    "\n",
    "        for i in range(lcs):\n",
    "            iv = vs.iloc[:,i].tolist()\n",
    "            for j in range(i+1, lcs):\n",
    "                jv = vs.iloc[:,j].tolist()\n",
    "                if iv == jv:\n",
    "                    dups.append(cs[i])\n",
    "                    break\n",
    "\n",
    "    return dups"
   ]
  },
  {
   "cell_type": "code",
   "execution_count": 17,
   "metadata": {},
   "outputs": [
    {
     "data": {
      "text/plain": [
       "['is_new',\n",
       " 'compras',\n",
       " 'visitas',\n",
       " 'cant_prod_vistos',\n",
       " 'lead_1',\n",
       " 'busquedas',\n",
       " 'clicks_en_ads',\n",
       " 'checkouts',\n",
       " 'entradas_desde_motor',\n",
       " 'listar_productos',\n",
       " 'listar_marca']"
      ]
     },
     "execution_count": 17,
     "metadata": {},
     "output_type": "execute_result"
    }
   ],
   "source": [
    "duplicate_columns(processed)"
   ]
  },
  {
   "cell_type": "markdown",
   "metadata": {},
   "source": [
    "## Prediccion (Score: 0.86602)"
   ]
  },
  {
   "cell_type": "code",
   "execution_count": 18,
   "metadata": {},
   "outputs": [],
   "source": [
    "xtrain,xtest,ytrain,ytest = train_test_split(training_features,training_labels)"
   ]
  },
  {
   "cell_type": "code",
   "execution_count": 19,
   "metadata": {},
   "outputs": [],
   "source": [
    "cb_classifier = cb.CatBoostClassifier(iterations=400,\n",
    "                                     depth=8,\n",
    "                                     l2_leaf_reg=100,\n",
    "                                     random_strength=0.1,\n",
    "                                     bagging_temperature=0,\n",
    "                                     border_count=254,\n",
    "                                     learning_rate=0.03)"
   ]
  },
  {
   "cell_type": "code",
   "execution_count": 20,
   "metadata": {},
   "outputs": [
    {
     "data": {
      "text/plain": [
       "<catboost.core.CatBoostClassifier at 0x1f246ee2d68>"
      ]
     },
     "execution_count": 20,
     "metadata": {},
     "output_type": "execute_result"
    }
   ],
   "source": [
    "cb_classifier.fit(xtrain,ytrain,cat_features=cat_features,verbose=0)"
   ]
  },
  {
   "cell_type": "code",
   "execution_count": 21,
   "metadata": {},
   "outputs": [
    {
     "data": {
      "text/plain": [
       "{'AUC': [0.7008968533824554,\n",
       "  0.703185172690462,\n",
       "  0.7110238265446824,\n",
       "  0.7172207630170473,\n",
       "  0.7209116150054486,\n",
       "  0.7242539534642959,\n",
       "  0.7284669063868563,\n",
       "  0.751694150595329,\n",
       "  0.7547044864088648,\n",
       "  0.7659501835385591,\n",
       "  0.76584888703253,\n",
       "  0.7958737069077078,\n",
       "  0.8012950780607833,\n",
       "  0.8080980086088643,\n",
       "  0.8079596741733179,\n",
       "  0.80826400993152,\n",
       "  0.8188336532874956,\n",
       "  0.8191540536898256,\n",
       "  0.821775268123373,\n",
       "  0.8225133492730302,\n",
       "  0.8223767997979425,\n",
       "  0.8221728680655402,\n",
       "  0.8258793384579548,\n",
       "  0.8249788259065591,\n",
       "  0.8268753463938889,\n",
       "  0.8269284489675343,\n",
       "  0.82667364586206,\n",
       "  0.8272403708076856,\n",
       "  0.8277017830862501,\n",
       "  0.8283367827694197,\n",
       "  0.8319441878563785,\n",
       "  0.8355069689318708,\n",
       "  0.8356868036980811,\n",
       "  0.8358635147834887,\n",
       "  0.8363079699376958,\n",
       "  0.8360812799594457,\n",
       "  0.8361830227055895,\n",
       "  0.8378086754433172,\n",
       "  0.8375846629057551,\n",
       "  0.8384650946519907,\n",
       "  0.8396503083965432,\n",
       "  0.8417668252604034,\n",
       "  0.841433483894748,\n",
       "  0.8411170996534499,\n",
       "  0.840899334477493,\n",
       "  0.8413259400271136,\n",
       "  0.8410519485967087,\n",
       "  0.841332187388719,\n",
       "  0.8418493796816167,\n",
       "  0.8423759430169223,\n",
       "  0.8418391161589793,\n",
       "  0.8421238173521362,\n",
       "  0.8423572009321063,\n",
       "  0.8423612170931384,\n",
       "  0.842365679494285,\n",
       "  0.8431300888107076,\n",
       "  0.8430868035195851,\n",
       "  0.8432184443534114,\n",
       "  0.8431631105791928,\n",
       "  0.8433353592634538,\n",
       "  0.8433728434330858,\n",
       "  0.8437338516858506,\n",
       "  0.8435026993064536,\n",
       "  0.8442880819082655,\n",
       "  0.8443844697730334,\n",
       "  0.8443621577673001,\n",
       "  0.84440231937762,\n",
       "  0.8442599687810415,\n",
       "  0.8447129024974274,\n",
       "  0.8451832395782852,\n",
       "  0.845359950663693,\n",
       "  0.8453429935393356,\n",
       "  0.8453996660338982,\n",
       "  0.8453818164293115,\n",
       "  0.846382733006507,\n",
       "  0.846444314142331,\n",
       "  0.8468807369744742,\n",
       "  0.8469414256300687,\n",
       "  0.8472970790014573,\n",
       "  0.8475442960249824,\n",
       "  0.8474425532788386,\n",
       "  0.8478057927321765,\n",
       "  0.8480690743998294,\n",
       "  0.8482239197196184,\n",
       "  0.8481444889792078,\n",
       "  0.8480945100863653,\n",
       "  0.8491266634715875,\n",
       "  0.8491775348446593,\n",
       "  0.8494412627524269,\n",
       "  0.8497692492367064,\n",
       "  0.8501904999049508,\n",
       "  0.8502360163966467,\n",
       "  0.8504783247789103,\n",
       "  0.8504738623777637,\n",
       "  0.8505756051239075,\n",
       "  0.850837994311331,\n",
       "  0.8507210794012885,\n",
       "  0.8506835952316566,\n",
       "  0.8506719929886754,\n",
       "  0.8507648109325259,\n",
       "  0.8509968557921521,\n",
       "  0.8509325972156402,\n",
       "  0.8511762443182478,\n",
       "  0.8513056539515008,\n",
       "  0.8513940094942047,\n",
       "  0.8515546559354844,\n",
       "  0.851577860421447,\n",
       "  0.8515314514495218,\n",
       "  0.8516046348283269,\n",
       "  0.8517242271790574,\n",
       "  0.8518946909028597,\n",
       "  0.8517965180776332,\n",
       "  0.8518384646484118,\n",
       "  0.8520089283722142,\n",
       "  0.8523498558198189,\n",
       "  0.8525943954026558,\n",
       "  0.8529754844605805,\n",
       "  0.853052237760303,\n",
       "  0.8530531302405323,\n",
       "  0.8531423782634655,\n",
       "  0.8532610781339667,\n",
       "  0.8532128842015827,\n",
       "  0.8532084218004361,\n",
       "  0.853079012167183,\n",
       "  0.8531771849924095,\n",
       "  0.853261970614196,\n",
       "  0.8533628208801105,\n",
       "  0.8535145425190969,\n",
       "  0.8535761236549207,\n",
       "  0.8536707265592299,\n",
       "  0.8536957160056512,\n",
       "  0.8536787588812939,\n",
       "  0.8536858987231285,\n",
       "  0.8535234673213902,\n",
       "  0.8536189627059286,\n",
       "  0.8536493070337259,\n",
       "  0.8537269528136778,\n",
       "  0.8536805438417525,\n",
       "  0.8538492226050962,\n",
       "  0.8538411902830323,\n",
       "  0.8538483301248669,\n",
       "  0.8539018789386268,\n",
       "  0.8540482456962373,\n",
       "  0.8540187938486693,\n",
       "  0.8540062991254587,\n",
       "  0.853988449520872,\n",
       "  0.8539955893627067,\n",
       "  0.8540179013684399,\n",
       "  0.8540500306566958,\n",
       "  0.8540179013684399,\n",
       "  0.8541116117925198,\n",
       "  0.8542097846177462,\n",
       "  0.8542276342223329,\n",
       "  0.8542374515048555,\n",
       "  0.8542088921375169,\n",
       "  0.8542624409512768,\n",
       "  0.8542892153581567,\n",
       "  0.8543249145673301,\n",
       "  0.8543097424034314,\n",
       "  0.8543534739346687,\n",
       "  0.8544980557318204,\n",
       "  0.8546176480825509,\n",
       "  0.8546533472917242,\n",
       "  0.85467208937654,\n",
       "  0.8547381329135106,\n",
       "  0.8548720049479104,\n",
       "  0.8548595102246997,\n",
       "  0.8548559403037824,\n",
       "  0.8548630801456171,\n",
       "  0.8548755748688277,\n",
       "  0.854895209433873,\n",
       "  0.8550067694625395,\n",
       "  0.8551013723668486,\n",
       "  0.8551049422877659,\n",
       "  0.85509958740639,\n",
       "  0.8552504165651471,\n",
       "  0.8552459541640004,\n",
       "  0.8552423842430831,\n",
       "  0.8552093624745978,\n",
       "  0.8552887932150083,\n",
       "  0.8553405570683096,\n",
       "  0.8554503321365173,\n",
       "  0.8555128057525706,\n",
       "  0.8555913440127517,\n",
       "  0.8556654198717863,\n",
       "  0.8556752371543089,\n",
       "  0.855645785306741,\n",
       "  0.8556065161766504,\n",
       "  0.8556047312161917,\n",
       "  0.8555485049617438,\n",
       "  0.8555815267302291,\n",
       "  0.8556118710580264,\n",
       "  0.8556074086568797,\n",
       "  0.8556225808207784,\n",
       "  0.8556100860975677,\n",
       "  0.8555966988941277,\n",
       "  0.855661849950869,\n",
       "  0.855801969346874,\n",
       "  0.85580732422825,\n",
       "  0.855801969346874,\n",
       "  0.8558135715898554,\n",
       "  0.8559215616976045,\n",
       "  0.8560134871612257,\n",
       "  0.8560188420426016,\n",
       "  0.8560206270030604,\n",
       "  0.8560241969239777,\n",
       "  0.8561803809641106,\n",
       "  0.8561901982466333,\n",
       "  0.8562517793824572,\n",
       "  0.8562428545801639,\n",
       "  0.8562883710718598,\n",
       "  0.8563981461400676,\n",
       "  0.8563954686993797,\n",
       "  0.8564713295188728,\n",
       "  0.8564570498352035,\n",
       "  0.856557900101118,\n",
       "  0.8566400082822165,\n",
       "  0.8567560307120297,\n",
       "  0.8568069020851016,\n",
       "  0.8568899027464294,\n",
       "  0.8568774080232188,\n",
       "  0.8568988275487227,\n",
       "  0.8569559462834,\n",
       "  0.8569952154134906,\n",
       "  0.8569621936450053,\n",
       "  0.8571058829619277,\n",
       "  0.857109452882845,\n",
       "  0.8572067332278421,\n",
       "  0.8572156580301356,\n",
       "  0.8572227978719702,\n",
       "  0.8572540346799967,\n",
       "  0.8573147233355913,\n",
       "  0.8573468526238472,\n",
       "  0.8573673796691219,\n",
       "  0.8573664871888925,\n",
       "  0.8574494878502203,\n",
       "  0.8574530577711377,\n",
       "  0.8574967893023749,\n",
       "  0.8575039291442097,\n",
       "  0.8575012517035216,\n",
       "  0.8575387358731535,\n",
       "  0.8575396283533829,\n",
       "  0.857658328223884,\n",
       "  0.857661005664572,\n",
       "  0.857639586139068,\n",
       "  0.8577698882525505,\n",
       "  0.8578635986766303,\n",
       "  0.8578635986766303,\n",
       "  0.8578377167499797,\n",
       "  0.857894835484657,\n",
       "  0.8578814482812169,\n",
       "  0.8579153625299316,\n",
       "  0.8579573091007101,\n",
       "  0.8579465993379581,\n",
       "  0.8580554819259366,\n",
       "  0.858032277439974,\n",
       "  0.8579956857505714,\n",
       "  0.85799747071103,\n",
       "  0.8579831910273608,\n",
       "  0.8579858684680488,\n",
       "  0.858018890236534,\n",
       "  0.858029599999286,\n",
       "  0.8581197405024485,\n",
       "  0.8581938163614831,\n",
       "  0.8581358051465765,\n",
       "  0.8582589674182243,\n",
       "  0.8583250109551948,\n",
       "  0.8584392484245493,\n",
       "  0.8584838724360159,\n",
       "  0.8585543783741331,\n",
       "  0.858599894865829,\n",
       "  0.8585633031764264,\n",
       "  0.858618636950645,\n",
       "  0.8587061000131194,\n",
       "  0.8587087774538075,\n",
       "  0.8587132398549542,\n",
       "  0.8587989179569699,\n",
       "  0.8587453691432101,\n",
       "  0.8588140901208686,\n",
       "  0.8587730360303194,\n",
       "  0.8587739285105487,\n",
       "  0.8588694238950871,\n",
       "  0.8590193605736149,\n",
       "  0.859127350681364,\n",
       "  0.8590729093873748,\n",
       "  0.8591505551673266,\n",
       "  0.8592406956704892,\n",
       "  0.8592656851169105,\n",
       "  0.8593201264108997,\n",
       "  0.859315664009753,\n",
       "  0.8593299436934223,\n",
       "  0.8594084819536035,\n",
       "  0.8595075472590593,\n",
       "  0.859552171270526,\n",
       "  0.859557526151902,\n",
       "  0.8596556989771285,\n",
       "  0.8595985802424512,\n",
       "  0.8597253124350163,\n",
       "  0.8596530215364404,\n",
       "  0.859684258344467,\n",
       "  0.8597199575536403,\n",
       "  0.8597913559719869,\n",
       "  0.8598841739158374,\n",
       "  0.8599653896167065,\n",
       "  0.8600162609897785,\n",
       "  0.8600010888258798,\n",
       "  0.8599912715433571,\n",
       "  0.8600251857920718,\n",
       "  0.8600171534700077,\n",
       "  0.8600840894872076,\n",
       "  0.8601403157416555,\n",
       "  0.8601670901485354,\n",
       "  0.8602509832900926,\n",
       "  0.8602822200981193,\n",
       "  0.8602670479342206,\n",
       "  0.8602340261657353,\n",
       "  0.8603054245840819,\n",
       "  0.8603848553244924,\n",
       "  0.8603830703640337,\n",
       "  0.8603509410757778,\n",
       "  0.8603670057199058,\n",
       "  0.8603902102058685,\n",
       "  0.8604464364603164,\n",
       "  0.8605392544041668,\n",
       "  0.860582985935404,\n",
       "  0.8605571040087534,\n",
       "  0.8605080175961402,\n",
       "  0.8605472867262308,\n",
       "  0.8605579964889828,\n",
       "  0.8605588889692122,\n",
       "  0.86058834081678,\n",
       "  0.860625824986412,\n",
       "  0.8606329648282467,\n",
       "  0.8607007933256758,\n",
       "  0.8607106106081985,\n",
       "  0.8607445248569131,\n",
       "  0.8607097181279691,\n",
       "  0.8607097181279691,\n",
       "  0.8607204278907211,\n",
       "  0.8607855789474623,\n",
       "  0.8607614819812704,\n",
       "  0.860790041348609,\n",
       "  0.8607909338288384,\n",
       "  0.8608569773658089,\n",
       "  0.8608525149646622,\n",
       "  0.8608069984729663,\n",
       "  0.860795396229985,\n",
       "  0.8607891488683796,\n",
       "  0.8607418474162252,\n",
       "  0.8607347075743905,\n",
       "  0.8607382774953078,\n",
       "  0.8607364925348491,\n",
       "  0.8607364925348491,\n",
       "  0.8607588045405824,\n",
       "  0.8607623744614997,\n",
       "  0.8607962887102143,\n",
       "  0.8608043210322783,\n",
       "  0.8607962887102143,\n",
       "  0.8608310954391583,\n",
       "  0.8608319879193876,\n",
       "  0.8608418052019102,\n",
       "  0.8610140538861712,\n",
       "  0.8610283335698405,\n",
       "  0.8610140538861712,\n",
       "  0.8610069140443366,\n",
       "  0.8610292260500699,\n",
       "  0.8610354734116752,\n",
       "  0.8610104839652539,\n",
       "  0.8610952695870404,\n",
       "  0.8610765275022245,\n",
       "  0.8610908071858938,\n",
       "  0.8610916996661231,\n",
       "  0.8611398935985071,\n",
       "  0.8611836251297443,\n",
       "  0.8611639905646991,\n",
       "  0.861155958242635,\n",
       "  0.8611345387171311,\n",
       "  0.8611291838357551,\n",
       "  0.8610783124626832,\n",
       "  0.8610979470277285,\n",
       "  0.8610756350219951,\n",
       "  0.8611381086380484,\n",
       "  0.8611541732821764,\n",
       "  0.8611166891125445,\n",
       "  0.8611443559996537,\n",
       "  0.8611443559996537,\n",
       "  0.8611461409601124,\n",
       "  0.8611532808019471,\n",
       "  0.8611684529658457,\n",
       "  0.8611711304065337,\n",
       "  0.861145248479883,\n",
       "  0.8610765275022245,\n",
       "  0.8610809899033711,\n",
       "  0.8610702801406191,\n",
       "  0.8610658177394725,\n",
       "  0.8610702801406191,\n",
       "  0.8610765275022245,\n",
       "  0.8610702801406191,\n",
       "  0.8610747425417659,\n",
       "  0.8610720651010778]}"
      ]
     },
     "execution_count": 21,
     "metadata": {},
     "output_type": "execute_result"
    }
   ],
   "source": [
    "cb_classifier.eval_metrics(cb.Pool(xtest,ytest,cat_features=cat_features),'AUC',plot=True)"
   ]
  },
  {
   "cell_type": "code",
   "execution_count": 22,
   "metadata": {},
   "outputs": [
    {
     "data": {
      "text/plain": [
       "0.8610720651010778"
      ]
     },
     "execution_count": 22,
     "metadata": {},
     "output_type": "execute_result"
    }
   ],
   "source": [
    "roc_auc_score(ytest,cb_classifier.predict_proba(xtest)[:,1])"
   ]
  },
  {
   "cell_type": "code",
   "execution_count": 23,
   "metadata": {},
   "outputs": [
    {
     "data": {
      "text/plain": [
       "<catboost.core.CatBoostClassifier at 0x1f246ee2d68>"
      ]
     },
     "execution_count": 23,
     "metadata": {},
     "output_type": "execute_result"
    }
   ],
   "source": [
    "cb_classifier.fit(training_features,training_labels,cat_features=cat_features,verbose=0)"
   ]
  },
  {
   "cell_type": "code",
   "execution_count": 27,
   "metadata": {},
   "outputs": [],
   "source": [
    "proba_loco=cb_classifier.predict_proba(predict_features)[:,1]"
   ]
  },
  {
   "cell_type": "code",
   "execution_count": 28,
   "metadata": {},
   "outputs": [],
   "source": [
    "submit = kaggle.set_index('person')\n",
    "submit['label'] = proba_loco"
   ]
  },
  {
   "cell_type": "code",
   "execution_count": 29,
   "metadata": {},
   "outputs": [],
   "source": [
    "submit.to_csv('submit.csv')"
   ]
  },
  {
   "cell_type": "code",
   "execution_count": 30,
   "metadata": {},
   "outputs": [],
   "source": [
    "cb_classifier.save_model('preentrenados/86602catboost')"
   ]
  },
  {
   "cell_type": "markdown",
   "metadata": {},
   "source": [
    "## Dropeando columnas duplicadas (tienen los mismos valores) (dio menos en kaggle)"
   ]
  },
  {
   "cell_type": "code",
   "execution_count": 19,
   "metadata": {},
   "outputs": [],
   "source": [
    "new_predict = predict_features.drop(duplicate_columns(training_features),axis=1)"
   ]
  },
  {
   "cell_type": "code",
   "execution_count": 18,
   "metadata": {},
   "outputs": [],
   "source": [
    "new_features = training_features.drop(duplicate_columns(training_features),axis=1)"
   ]
  },
  {
   "cell_type": "code",
   "execution_count": 23,
   "metadata": {},
   "outputs": [],
   "source": [
    "cat_features = []\n",
    "for i,col in enumerate(new_features.columns):\n",
    "    if new_features[col].dtype.name=='object':\n",
    "        cat_features.append(i)"
   ]
  },
  {
   "cell_type": "code",
   "execution_count": 14,
   "metadata": {},
   "outputs": [],
   "source": [
    "xtrain,xtest,ytrain,ytest = train_test_split(new_features,training_labels)"
   ]
  },
  {
   "cell_type": "code",
   "execution_count": 20,
   "metadata": {},
   "outputs": [],
   "source": [
    "cb_classifier = cb.CatBoostClassifier(iterations=400,\n",
    "                                     depth=8,\n",
    "                                     l2_leaf_reg=100,\n",
    "                                     random_strength=0.1,\n",
    "                                     bagging_temperature=0,\n",
    "                                     border_count=254,\n",
    "                                     learning_rate=0.03)"
   ]
  },
  {
   "cell_type": "code",
   "execution_count": 55,
   "metadata": {},
   "outputs": [
    {
     "data": {
      "text/plain": [
       "<catboost.core.CatBoostClassifier at 0x1c8ef8879b0>"
      ]
     },
     "execution_count": 55,
     "metadata": {},
     "output_type": "execute_result"
    }
   ],
   "source": [
    "cb_classifier.fit(xtrain,ytrain,cat_features=cat_features,verbose=0)"
   ]
  },
  {
   "cell_type": "code",
   "execution_count": null,
   "metadata": {},
   "outputs": [],
   "source": [
    "cb_classifier.eval_metrics(cb.Pool(xtest,ytest,cat_features=cat_features),'AUC',plot=True)"
   ]
  },
  {
   "cell_type": "code",
   "execution_count": 57,
   "metadata": {},
   "outputs": [
    {
     "data": {
      "text/plain": [
       "0.8532810939741595"
      ]
     },
     "execution_count": 57,
     "metadata": {},
     "output_type": "execute_result"
    }
   ],
   "source": [
    "roc_auc_score(ytest,cb_classifier.predict_proba(xtest)[:,1])"
   ]
  },
  {
   "cell_type": "code",
   "execution_count": 24,
   "metadata": {},
   "outputs": [
    {
     "data": {
      "text/plain": [
       "<catboost.core.CatBoostClassifier at 0x1ad69d3acf8>"
      ]
     },
     "execution_count": 24,
     "metadata": {},
     "output_type": "execute_result"
    }
   ],
   "source": [
    "cb_classifier.fit(new_features,training_labels,cat_features=cat_features,verbose=0)"
   ]
  },
  {
   "cell_type": "code",
   "execution_count": 25,
   "metadata": {},
   "outputs": [],
   "source": [
    "proba_loco=cb_classifier.predict_proba(new_predict)[:,1]"
   ]
  },
  {
   "cell_type": "code",
   "execution_count": 31,
   "metadata": {},
   "outputs": [],
   "source": [
    "submit = kaggle.set_index('person')\n",
    "submit['label'] = proba_loco"
   ]
  },
  {
   "cell_type": "code",
   "execution_count": 32,
   "metadata": {},
   "outputs": [],
   "source": [
    "submit.to_csv('submit.csv')"
   ]
  },
  {
   "cell_type": "code",
   "execution_count": null,
   "metadata": {},
   "outputs": [],
   "source": []
  }
 ],
 "metadata": {
  "kernelspec": {
   "display_name": "Python 3",
   "language": "python",
   "name": "python3"
  },
  "language_info": {
   "codemirror_mode": {
    "name": "ipython",
    "version": 3
   },
   "file_extension": ".py",
   "mimetype": "text/x-python",
   "name": "python",
   "nbconvert_exporter": "python",
   "pygments_lexer": "ipython3",
   "version": "3.7.0"
  }
 },
 "nbformat": 4,
 "nbformat_minor": 2
}
