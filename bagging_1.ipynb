{
 "cells": [
  {
   "cell_type": "markdown",
   "metadata": {},
   "source": [
    "Agregar features segun el nombre de usuario <br>\n",
    "Usar la prediccion de un predictor como feature para otro predictor <br>\n",
    "Usar varios clasificadores y promediar los resultados"
   ]
  },
  {
   "cell_type": "code",
   "execution_count": 1,
   "metadata": {},
   "outputs": [],
   "source": [
    "from collections import Counter"
   ]
  },
  {
   "cell_type": "code",
   "execution_count": 2,
   "metadata": {},
   "outputs": [],
   "source": [
    "import gc\n",
    "import numpy as np"
   ]
  },
  {
   "cell_type": "code",
   "execution_count": 3,
   "metadata": {},
   "outputs": [
    {
     "data": {
      "text/plain": [
       "0"
      ]
     },
     "execution_count": 3,
     "metadata": {},
     "output_type": "execute_result"
    }
   ],
   "source": [
    "gc.collect()"
   ]
  },
  {
   "cell_type": "code",
   "execution_count": 5,
   "metadata": {},
   "outputs": [],
   "source": [
    "from sklearn.metrics import make_scorer"
   ]
  },
  {
   "cell_type": "code",
   "execution_count": 21,
   "metadata": {},
   "outputs": [],
   "source": [
    "from sklearn.ensemble import RandomForestClassifier"
   ]
  },
  {
   "cell_type": "code",
   "execution_count": 4,
   "metadata": {},
   "outputs": [],
   "source": [
    "from sklearn.ensemble import BaggingClassifier"
   ]
  },
  {
   "cell_type": "code",
   "execution_count": 6,
   "metadata": {},
   "outputs": [],
   "source": [
    "import pandas as pd\n",
    "from sklearn.model_selection import train_test_split\n",
    "from sklearn.metrics import roc_auc_score\n",
    "import category_encoders"
   ]
  },
  {
   "cell_type": "code",
   "execution_count": 7,
   "metadata": {},
   "outputs": [],
   "source": [
    "import xgboost as xgb"
   ]
  },
  {
   "cell_type": "code",
   "execution_count": 8,
   "metadata": {},
   "outputs": [],
   "source": [
    "from sklearn.model_selection import GridSearchCV\n",
    "from sklearn.model_selection import RandomizedSearchCV\n"
   ]
  },
  {
   "cell_type": "code",
   "execution_count": 9,
   "metadata": {},
   "outputs": [],
   "source": [
    "import pandas as pd"
   ]
  },
  {
   "cell_type": "code",
   "execution_count": 10,
   "metadata": {},
   "outputs": [],
   "source": [
    "predict = pd.read_csv('trocafone_kaggle_test.csv')"
   ]
  },
  {
   "cell_type": "code",
   "execution_count": 11,
   "metadata": {},
   "outputs": [],
   "source": [
    "a_predecir = pd.read_csv('labels_training_set.csv')"
   ]
  },
  {
   "cell_type": "code",
   "execution_count": 65,
   "metadata": {},
   "outputs": [],
   "source": [
    "processed = pd.read_csv('new_processed.csv')"
   ]
  },
  {
   "cell_type": "code",
   "execution_count": 66,
   "metadata": {},
   "outputs": [
    {
     "data": {
      "text/html": [
       "<div>\n",
       "<style scoped>\n",
       "    .dataframe tbody tr th:only-of-type {\n",
       "        vertical-align: middle;\n",
       "    }\n",
       "\n",
       "    .dataframe tbody tr th {\n",
       "        vertical-align: top;\n",
       "    }\n",
       "\n",
       "    .dataframe thead th {\n",
       "        text-align: right;\n",
       "    }\n",
       "</style>\n",
       "<table border=\"1\" class=\"dataframe\">\n",
       "  <thead>\n",
       "    <tr style=\"text-align: right;\">\n",
       "      <th></th>\n",
       "      <th>mayor_evento</th>\n",
       "      <th>prod_visto</th>\n",
       "      <th>dispos</th>\n",
       "      <th>compras</th>\n",
       "      <th>visitas</th>\n",
       "      <th>cant_prod_vistos</th>\n",
       "      <th>primer_visita</th>\n",
       "      <th>ultima_visita</th>\n",
       "      <th>cant_eventos</th>\n",
       "      <th>permanencia</th>\n",
       "      <th>hace_cuanto_visito</th>\n",
       "      <th>eventos_por_dia</th>\n",
       "      <th>channel</th>\n",
       "      <th>0</th>\n",
       "      <th>1</th>\n",
       "    </tr>\n",
       "    <tr>\n",
       "      <th>person</th>\n",
       "      <th></th>\n",
       "      <th></th>\n",
       "      <th></th>\n",
       "      <th></th>\n",
       "      <th></th>\n",
       "      <th></th>\n",
       "      <th></th>\n",
       "      <th></th>\n",
       "      <th></th>\n",
       "      <th></th>\n",
       "      <th></th>\n",
       "      <th></th>\n",
       "      <th></th>\n",
       "      <th></th>\n",
       "      <th></th>\n",
       "    </tr>\n",
       "  </thead>\n",
       "  <tbody>\n",
       "    <tr>\n",
       "      <th>0008ed71</th>\n",
       "      <td>checkout</td>\n",
       "      <td>Ninguno</td>\n",
       "      <td>Computer</td>\n",
       "      <td>0</td>\n",
       "      <td>2</td>\n",
       "      <td>0</td>\n",
       "      <td>2018-05-17 12:27:47</td>\n",
       "      <td>2018-05-17 16:28:37</td>\n",
       "      <td>6</td>\n",
       "      <td>1</td>\n",
       "      <td>14</td>\n",
       "      <td>6.0</td>\n",
       "      <td>Referral</td>\n",
       "      <td>-0.186678</td>\n",
       "      <td>-0.103768</td>\n",
       "    </tr>\n",
       "    <tr>\n",
       "      <th>00091926</th>\n",
       "      <td>viewed product</td>\n",
       "      <td>iPhone 6S</td>\n",
       "      <td>Computer</td>\n",
       "      <td>0</td>\n",
       "      <td>34</td>\n",
       "      <td>372</td>\n",
       "      <td>2018-05-03 22:08:29</td>\n",
       "      <td>2018-05-31 19:52:03</td>\n",
       "      <td>448</td>\n",
       "      <td>28</td>\n",
       "      <td>0</td>\n",
       "      <td>16.0</td>\n",
       "      <td>Direct</td>\n",
       "      <td>0.414402</td>\n",
       "      <td>-0.442355</td>\n",
       "    </tr>\n",
       "    <tr>\n",
       "      <th>00091a7a</th>\n",
       "      <td>brand listing</td>\n",
       "      <td>iPhone 6S</td>\n",
       "      <td>Smartphone</td>\n",
       "      <td>0</td>\n",
       "      <td>1</td>\n",
       "      <td>3</td>\n",
       "      <td>2018-03-26 14:51:11</td>\n",
       "      <td>2018-03-26 14:56:58</td>\n",
       "      <td>10</td>\n",
       "      <td>1</td>\n",
       "      <td>66</td>\n",
       "      <td>10.0</td>\n",
       "      <td>Paid</td>\n",
       "      <td>0.414402</td>\n",
       "      <td>-0.442355</td>\n",
       "    </tr>\n",
       "    <tr>\n",
       "      <th>000ba417</th>\n",
       "      <td>viewed product</td>\n",
       "      <td>Samsung Galaxy A3 Duos</td>\n",
       "      <td>Computer</td>\n",
       "      <td>1</td>\n",
       "      <td>6</td>\n",
       "      <td>153</td>\n",
       "      <td>2018-05-17 11:11:45</td>\n",
       "      <td>2018-05-26 13:09:22</td>\n",
       "      <td>206</td>\n",
       "      <td>10</td>\n",
       "      <td>5</td>\n",
       "      <td>20.6</td>\n",
       "      <td>Direct</td>\n",
       "      <td>-0.303714</td>\n",
       "      <td>0.023156</td>\n",
       "    </tr>\n",
       "    <tr>\n",
       "      <th>000c79fe</th>\n",
       "      <td>searched products</td>\n",
       "      <td>iPhone 7</td>\n",
       "      <td>Smartphone</td>\n",
       "      <td>0</td>\n",
       "      <td>1</td>\n",
       "      <td>3</td>\n",
       "      <td>2018-05-29 00:27:47</td>\n",
       "      <td>2018-05-29 00:38:07</td>\n",
       "      <td>17</td>\n",
       "      <td>1</td>\n",
       "      <td>2</td>\n",
       "      <td>17.0</td>\n",
       "      <td>Paid</td>\n",
       "      <td>0.668334</td>\n",
       "      <td>0.060729</td>\n",
       "    </tr>\n",
       "  </tbody>\n",
       "</table>\n",
       "</div>"
      ],
      "text/plain": [
       "               mayor_evento              prod_visto      dispos  compras  \\\n",
       "person                                                                     \n",
       "0008ed71           checkout                 Ninguno    Computer        0   \n",
       "00091926     viewed product               iPhone 6S    Computer        0   \n",
       "00091a7a      brand listing               iPhone 6S  Smartphone        0   \n",
       "000ba417     viewed product  Samsung Galaxy A3 Duos    Computer        1   \n",
       "000c79fe  searched products                iPhone 7  Smartphone        0   \n",
       "\n",
       "          visitas  cant_prod_vistos        primer_visita        ultima_visita  \\\n",
       "person                                                                          \n",
       "0008ed71        2                 0  2018-05-17 12:27:47  2018-05-17 16:28:37   \n",
       "00091926       34               372  2018-05-03 22:08:29  2018-05-31 19:52:03   \n",
       "00091a7a        1                 3  2018-03-26 14:51:11  2018-03-26 14:56:58   \n",
       "000ba417        6               153  2018-05-17 11:11:45  2018-05-26 13:09:22   \n",
       "000c79fe        1                 3  2018-05-29 00:27:47  2018-05-29 00:38:07   \n",
       "\n",
       "          cant_eventos  permanencia  hace_cuanto_visito  eventos_por_dia  \\\n",
       "person                                                                     \n",
       "0008ed71             6            1                  14              6.0   \n",
       "00091926           448           28                   0             16.0   \n",
       "00091a7a            10            1                  66             10.0   \n",
       "000ba417           206           10                   5             20.6   \n",
       "000c79fe            17            1                   2             17.0   \n",
       "\n",
       "           channel         0         1  \n",
       "person                                  \n",
       "0008ed71  Referral -0.186678 -0.103768  \n",
       "00091926    Direct  0.414402 -0.442355  \n",
       "00091a7a      Paid  0.414402 -0.442355  \n",
       "000ba417    Direct -0.303714  0.023156  \n",
       "000c79fe      Paid  0.668334  0.060729  "
      ]
     },
     "execution_count": 66,
     "metadata": {},
     "output_type": "execute_result"
    }
   ],
   "source": [
    "processed = processed.set_index('person')\n",
    "processed = processed.drop('Unnamed: 0',axis=1)\n",
    "processed.head()"
   ]
  },
  {
   "cell_type": "code",
   "execution_count": 67,
   "metadata": {},
   "outputs": [],
   "source": [
    "predict_features = processed.loc[processed.index.isin(predict['person'])].drop(['primer_visita','ultima_visita'],axis=1)"
   ]
  },
  {
   "cell_type": "code",
   "execution_count": 68,
   "metadata": {},
   "outputs": [
    {
     "name": "stderr",
     "output_type": "stream",
     "text": [
      "C:\\Users\\javif\\Anaconda3\\lib\\site-packages\\ipykernel_launcher.py:2: SettingWithCopyWarning: \n",
      "A value is trying to be set on a copy of a slice from a DataFrame.\n",
      "Try using .loc[row_indexer,col_indexer] = value instead\n",
      "\n",
      "See the caveats in the documentation: http://pandas.pydata.org/pandas-docs/stable/indexing.html#indexing-view-versus-copy\n",
      "  \n"
     ]
    }
   ],
   "source": [
    "training_features = processed.loc[processed.index.isin(a_predecir['person'])]\n",
    "training_features['label'] = a_predecir.set_index('person')['label']\n",
    "\n",
    "\n",
    "training_labels = training_features['label']\n",
    "training_features = training_features.drop(['primer_visita','ultima_visita','label'],axis=1)"
   ]
  },
  {
   "cell_type": "code",
   "execution_count": 69,
   "metadata": {},
   "outputs": [
    {
     "data": {
      "text/html": [
       "<div>\n",
       "<style scoped>\n",
       "    .dataframe tbody tr th:only-of-type {\n",
       "        vertical-align: middle;\n",
       "    }\n",
       "\n",
       "    .dataframe tbody tr th {\n",
       "        vertical-align: top;\n",
       "    }\n",
       "\n",
       "    .dataframe thead th {\n",
       "        text-align: right;\n",
       "    }\n",
       "</style>\n",
       "<table border=\"1\" class=\"dataframe\">\n",
       "  <thead>\n",
       "    <tr style=\"text-align: right;\">\n",
       "      <th></th>\n",
       "      <th>mayor_evento</th>\n",
       "      <th>prod_visto</th>\n",
       "      <th>dispos</th>\n",
       "      <th>compras</th>\n",
       "      <th>visitas</th>\n",
       "      <th>cant_prod_vistos</th>\n",
       "      <th>cant_eventos</th>\n",
       "      <th>permanencia</th>\n",
       "      <th>hace_cuanto_visito</th>\n",
       "      <th>eventos_por_dia</th>\n",
       "      <th>channel</th>\n",
       "      <th>0</th>\n",
       "      <th>1</th>\n",
       "    </tr>\n",
       "    <tr>\n",
       "      <th>person</th>\n",
       "      <th></th>\n",
       "      <th></th>\n",
       "      <th></th>\n",
       "      <th></th>\n",
       "      <th></th>\n",
       "      <th></th>\n",
       "      <th></th>\n",
       "      <th></th>\n",
       "      <th></th>\n",
       "      <th></th>\n",
       "      <th></th>\n",
       "      <th></th>\n",
       "      <th></th>\n",
       "    </tr>\n",
       "  </thead>\n",
       "  <tbody>\n",
       "    <tr>\n",
       "      <th>0008ed71</th>\n",
       "      <td>checkout</td>\n",
       "      <td>Ninguno</td>\n",
       "      <td>Computer</td>\n",
       "      <td>0</td>\n",
       "      <td>2</td>\n",
       "      <td>0</td>\n",
       "      <td>6</td>\n",
       "      <td>1</td>\n",
       "      <td>14</td>\n",
       "      <td>6.000000</td>\n",
       "      <td>Referral</td>\n",
       "      <td>-0.186678</td>\n",
       "      <td>-0.103768</td>\n",
       "    </tr>\n",
       "    <tr>\n",
       "      <th>000c79fe</th>\n",
       "      <td>searched products</td>\n",
       "      <td>iPhone 7</td>\n",
       "      <td>Smartphone</td>\n",
       "      <td>0</td>\n",
       "      <td>1</td>\n",
       "      <td>3</td>\n",
       "      <td>17</td>\n",
       "      <td>1</td>\n",
       "      <td>2</td>\n",
       "      <td>17.000000</td>\n",
       "      <td>Paid</td>\n",
       "      <td>0.668334</td>\n",
       "      <td>0.060729</td>\n",
       "    </tr>\n",
       "    <tr>\n",
       "      <th>001802e4</th>\n",
       "      <td>ad campaign hit</td>\n",
       "      <td>iPhone 6S</td>\n",
       "      <td>Smartphone</td>\n",
       "      <td>0</td>\n",
       "      <td>1</td>\n",
       "      <td>4</td>\n",
       "      <td>19</td>\n",
       "      <td>1</td>\n",
       "      <td>0</td>\n",
       "      <td>19.000000</td>\n",
       "      <td>Paid</td>\n",
       "      <td>0.414402</td>\n",
       "      <td>-0.442355</td>\n",
       "    </tr>\n",
       "    <tr>\n",
       "      <th>0019e639</th>\n",
       "      <td>viewed product</td>\n",
       "      <td>Motorola Moto G2 3G Dual</td>\n",
       "      <td>Computer</td>\n",
       "      <td>2</td>\n",
       "      <td>19</td>\n",
       "      <td>189</td>\n",
       "      <td>471</td>\n",
       "      <td>115</td>\n",
       "      <td>9</td>\n",
       "      <td>4.095652</td>\n",
       "      <td>Paid</td>\n",
       "      <td>-0.195117</td>\n",
       "      <td>-0.188160</td>\n",
       "    </tr>\n",
       "    <tr>\n",
       "      <th>001b0bf9</th>\n",
       "      <td>viewed product</td>\n",
       "      <td>Samsung Galaxy S8 Plus</td>\n",
       "      <td>Ninguno</td>\n",
       "      <td>1</td>\n",
       "      <td>0</td>\n",
       "      <td>2</td>\n",
       "      <td>7</td>\n",
       "      <td>1</td>\n",
       "      <td>9</td>\n",
       "      <td>7.000000</td>\n",
       "      <td>Ninguno</td>\n",
       "      <td>-0.358131</td>\n",
       "      <td>-0.144479</td>\n",
       "    </tr>\n",
       "  </tbody>\n",
       "</table>\n",
       "</div>"
      ],
      "text/plain": [
       "               mayor_evento                prod_visto      dispos  compras  \\\n",
       "person                                                                       \n",
       "0008ed71           checkout                   Ninguno    Computer        0   \n",
       "000c79fe  searched products                  iPhone 7  Smartphone        0   \n",
       "001802e4    ad campaign hit                 iPhone 6S  Smartphone        0   \n",
       "0019e639     viewed product  Motorola Moto G2 3G Dual    Computer        2   \n",
       "001b0bf9     viewed product    Samsung Galaxy S8 Plus     Ninguno        1   \n",
       "\n",
       "          visitas  cant_prod_vistos  cant_eventos  permanencia  \\\n",
       "person                                                           \n",
       "0008ed71        2                 0             6            1   \n",
       "000c79fe        1                 3            17            1   \n",
       "001802e4        1                 4            19            1   \n",
       "0019e639       19               189           471          115   \n",
       "001b0bf9        0                 2             7            1   \n",
       "\n",
       "          hace_cuanto_visito  eventos_por_dia   channel         0         1  \n",
       "person                                                                       \n",
       "0008ed71                  14         6.000000  Referral -0.186678 -0.103768  \n",
       "000c79fe                   2        17.000000      Paid  0.668334  0.060729  \n",
       "001802e4                   0        19.000000      Paid  0.414402 -0.442355  \n",
       "0019e639                   9         4.095652      Paid -0.195117 -0.188160  \n",
       "001b0bf9                   9         7.000000   Ninguno -0.358131 -0.144479  "
      ]
     },
     "execution_count": 69,
     "metadata": {},
     "output_type": "execute_result"
    }
   ],
   "source": [
    "training_features.head()"
   ]
  },
  {
   "cell_type": "code",
   "execution_count": 70,
   "metadata": {},
   "outputs": [],
   "source": [
    "tg = category_encoders.TargetEncoder(smoothing=True)\n",
    "encoded_training = tg.fit_transform(np.array(training_features),np.array(training_labels))\n",
    "encoded_predict = tg.transform(np.array(predict_features))"
   ]
  },
  {
   "cell_type": "code",
   "execution_count": 71,
   "metadata": {},
   "outputs": [
    {
     "data": {
      "text/html": [
       "<div>\n",
       "<style scoped>\n",
       "    .dataframe tbody tr th:only-of-type {\n",
       "        vertical-align: middle;\n",
       "    }\n",
       "\n",
       "    .dataframe tbody tr th {\n",
       "        vertical-align: top;\n",
       "    }\n",
       "\n",
       "    .dataframe thead th {\n",
       "        text-align: right;\n",
       "    }\n",
       "</style>\n",
       "<table border=\"1\" class=\"dataframe\">\n",
       "  <thead>\n",
       "    <tr style=\"text-align: right;\">\n",
       "      <th></th>\n",
       "      <th>0</th>\n",
       "      <th>1</th>\n",
       "      <th>2</th>\n",
       "      <th>3</th>\n",
       "      <th>4</th>\n",
       "      <th>5</th>\n",
       "      <th>6</th>\n",
       "      <th>7</th>\n",
       "      <th>8</th>\n",
       "      <th>9</th>\n",
       "      <th>10</th>\n",
       "      <th>11</th>\n",
       "      <th>12</th>\n",
       "    </tr>\n",
       "  </thead>\n",
       "  <tbody>\n",
       "    <tr>\n",
       "      <th>0</th>\n",
       "      <td>0.002778</td>\n",
       "      <td>0.042654</td>\n",
       "      <td>0.068258</td>\n",
       "      <td>0</td>\n",
       "      <td>2</td>\n",
       "      <td>0</td>\n",
       "      <td>6</td>\n",
       "      <td>1</td>\n",
       "      <td>14</td>\n",
       "      <td>6.000000</td>\n",
       "      <td>0.066079</td>\n",
       "      <td>-0.186678</td>\n",
       "      <td>-0.103768</td>\n",
       "    </tr>\n",
       "    <tr>\n",
       "      <th>1</th>\n",
       "      <td>0.055313</td>\n",
       "      <td>0.050139</td>\n",
       "      <td>0.036301</td>\n",
       "      <td>0</td>\n",
       "      <td>1</td>\n",
       "      <td>3</td>\n",
       "      <td>17</td>\n",
       "      <td>1</td>\n",
       "      <td>2</td>\n",
       "      <td>17.000000</td>\n",
       "      <td>0.042803</td>\n",
       "      <td>0.668334</td>\n",
       "      <td>0.060729</td>\n",
       "    </tr>\n",
       "    <tr>\n",
       "      <th>2</th>\n",
       "      <td>0.031056</td>\n",
       "      <td>0.033590</td>\n",
       "      <td>0.036301</td>\n",
       "      <td>0</td>\n",
       "      <td>1</td>\n",
       "      <td>4</td>\n",
       "      <td>19</td>\n",
       "      <td>1</td>\n",
       "      <td>0</td>\n",
       "      <td>19.000000</td>\n",
       "      <td>0.042803</td>\n",
       "      <td>0.414402</td>\n",
       "      <td>-0.442355</td>\n",
       "    </tr>\n",
       "    <tr>\n",
       "      <th>3</th>\n",
       "      <td>0.049121</td>\n",
       "      <td>0.030380</td>\n",
       "      <td>0.068258</td>\n",
       "      <td>2</td>\n",
       "      <td>19</td>\n",
       "      <td>189</td>\n",
       "      <td>471</td>\n",
       "      <td>115</td>\n",
       "      <td>9</td>\n",
       "      <td>4.095652</td>\n",
       "      <td>0.042803</td>\n",
       "      <td>-0.195117</td>\n",
       "      <td>-0.188160</td>\n",
       "    </tr>\n",
       "    <tr>\n",
       "      <th>4</th>\n",
       "      <td>0.049121</td>\n",
       "      <td>0.060150</td>\n",
       "      <td>0.017361</td>\n",
       "      <td>1</td>\n",
       "      <td>0</td>\n",
       "      <td>2</td>\n",
       "      <td>7</td>\n",
       "      <td>1</td>\n",
       "      <td>9</td>\n",
       "      <td>7.000000</td>\n",
       "      <td>0.017361</td>\n",
       "      <td>-0.358131</td>\n",
       "      <td>-0.144479</td>\n",
       "    </tr>\n",
       "  </tbody>\n",
       "</table>\n",
       "</div>"
      ],
      "text/plain": [
       "         0         1         2   3   4    5    6    7   8          9   \\\n",
       "0  0.002778  0.042654  0.068258   0   2    0    6    1  14   6.000000   \n",
       "1  0.055313  0.050139  0.036301   0   1    3   17    1   2  17.000000   \n",
       "2  0.031056  0.033590  0.036301   0   1    4   19    1   0  19.000000   \n",
       "3  0.049121  0.030380  0.068258   2  19  189  471  115   9   4.095652   \n",
       "4  0.049121  0.060150  0.017361   1   0    2    7    1   9   7.000000   \n",
       "\n",
       "         10        11        12  \n",
       "0  0.066079 -0.186678 -0.103768  \n",
       "1  0.042803  0.668334  0.060729  \n",
       "2  0.042803  0.414402 -0.442355  \n",
       "3  0.042803 -0.195117 -0.188160  \n",
       "4  0.017361 -0.358131 -0.144479  "
      ]
     },
     "execution_count": 71,
     "metadata": {},
     "output_type": "execute_result"
    }
   ],
   "source": [
    "encoded_training.head()"
   ]
  },
  {
   "cell_type": "code",
   "execution_count": 72,
   "metadata": {},
   "outputs": [
    {
     "data": {
      "text/plain": [
       "array([0.0257361 , 0.08420452, 0.02099191, 0.02901225, 0.06981725,\n",
       "       0.11270136, 0.12698483, 0.08113473, 0.1318339 , 0.13169952,\n",
       "       0.03969021, 0.07210185, 0.07409155])"
      ]
     },
     "execution_count": 72,
     "metadata": {},
     "output_type": "execute_result"
    }
   ],
   "source": [
    "forests = RandomForestClassifier()\n",
    "forests.fit(encoded_training,training_labels)\n",
    "forests.feature_importances_"
   ]
  },
  {
   "cell_type": "code",
   "execution_count": 73,
   "metadata": {
    "scrolled": true
   },
   "outputs": [],
   "source": [
    "params={\n",
    "    'n_estimators':[1,2,3,4,5,6,7,8,9,10],\n",
    "    'max_samples':[1.0],\n",
    "    'max_features':[1.0], \n",
    "}\n",
    "grid = GridSearchCV(BaggingClassifier(),params,scoring=make_scorer(roc_auc_score),cv=2,verbose=0)"
   ]
  },
  {
   "cell_type": "code",
   "execution_count": 74,
   "metadata": {},
   "outputs": [],
   "source": [
    "xtr,xte,ytr,yte=train_test_split(encoded_training,training_labels)"
   ]
  },
  {
   "cell_type": "code",
   "execution_count": 75,
   "metadata": {
    "scrolled": true
   },
   "outputs": [
    {
     "data": {
      "text/plain": [
       "GridSearchCV(cv=2, error_score='raise',\n",
       "       estimator=BaggingClassifier(base_estimator=None, bootstrap=True,\n",
       "         bootstrap_features=False, max_features=1.0, max_samples=1.0,\n",
       "         n_estimators=10, n_jobs=1, oob_score=False, random_state=None,\n",
       "         verbose=0, warm_start=False),\n",
       "       fit_params=None, iid=True, n_jobs=1,\n",
       "       param_grid={'n_estimators': [1, 2, 3, 4, 5, 6, 7, 8, 9, 10], 'max_samples': [1.0], 'max_features': [1.0]},\n",
       "       pre_dispatch='2*n_jobs', refit=True, return_train_score='warn',\n",
       "       scoring=make_scorer(roc_auc_score), verbose=0)"
      ]
     },
     "execution_count": 75,
     "metadata": {},
     "output_type": "execute_result"
    }
   ],
   "source": [
    "grid.fit(xtr,ytr)"
   ]
  },
  {
   "cell_type": "code",
   "execution_count": 76,
   "metadata": {},
   "outputs": [
    {
     "data": {
      "text/plain": [
       "0.5348910923276984"
      ]
     },
     "execution_count": 76,
     "metadata": {},
     "output_type": "execute_result"
    }
   ],
   "source": [
    "grid.score(X=xte,y=yte)"
   ]
  },
  {
   "cell_type": "code",
   "execution_count": 77,
   "metadata": {},
   "outputs": [],
   "source": [
    "xgbc= grid.best_estimator_"
   ]
  },
  {
   "cell_type": "code",
   "execution_count": 78,
   "metadata": {},
   "outputs": [
    {
     "data": {
      "text/plain": [
       "0.5524490680537495"
      ]
     },
     "execution_count": 78,
     "metadata": {},
     "output_type": "execute_result"
    }
   ],
   "source": [
    "xgbc.fit(xtr,ytr)\n",
    "p=xgbc.predict(xte)\n",
    "roc_auc_score(y_score=p,y_true=yte)"
   ]
  },
  {
   "cell_type": "code",
   "execution_count": null,
   "metadata": {},
   "outputs": [],
   "source": [
    "xgbc.fit(encoded_training,training_labels)"
   ]
  },
  {
   "cell_type": "code",
   "execution_count": null,
   "metadata": {},
   "outputs": [],
   "source": [
    "prediction_submit = xgbc.predict(encoded_predict)"
   ]
  },
  {
   "cell_type": "code",
   "execution_count": null,
   "metadata": {},
   "outputs": [],
   "source": [
    "predict_features['label'] = prediction_submit"
   ]
  },
  {
   "cell_type": "code",
   "execution_count": null,
   "metadata": {},
   "outputs": [],
   "source": [
    "predict_features['label'].value_counts()"
   ]
  },
  {
   "cell_type": "code",
   "execution_count": null,
   "metadata": {},
   "outputs": [],
   "source": [
    "subm = predict.merge(predict_features['label'].reset_index(),how='left',on='person')"
   ]
  },
  {
   "cell_type": "code",
   "execution_count": null,
   "metadata": {},
   "outputs": [],
   "source": [
    "subm = subm.set_index('person')"
   ]
  },
  {
   "cell_type": "code",
   "execution_count": null,
   "metadata": {},
   "outputs": [],
   "source": [
    "subm.to_csv('submit.csv')"
   ]
  },
  {
   "cell_type": "code",
   "execution_count": null,
   "metadata": {},
   "outputs": [],
   "source": []
  }
 ],
 "metadata": {
  "kernelspec": {
   "display_name": "Python 3",
   "language": "python",
   "name": "python3"
  },
  "language_info": {
   "codemirror_mode": {
    "name": "ipython",
    "version": 3
   },
   "file_extension": ".py",
   "mimetype": "text/x-python",
   "name": "python",
   "nbconvert_exporter": "python",
   "pygments_lexer": "ipython3",
   "version": "3.6.5"
  }
 },
 "nbformat": 4,
 "nbformat_minor": 2
}
