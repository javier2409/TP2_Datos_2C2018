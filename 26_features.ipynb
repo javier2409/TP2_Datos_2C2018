{
 "cells": [
  {
   "cell_type": "code",
   "execution_count": 1,
   "metadata": {},
   "outputs": [],
   "source": [
    "import pandas as pd"
   ]
  },
  {
   "cell_type": "code",
   "execution_count": 2,
   "metadata": {},
   "outputs": [],
   "source": [
    "file = pd.read_csv('events_up_to_01062018.csv',low_memory=False)"
   ]
  },
  {
   "cell_type": "code",
   "execution_count": 3,
   "metadata": {},
   "outputs": [
    {
     "name": "stdout",
     "output_type": "stream",
     "text": [
      "<class 'pandas.core.frame.DataFrame'>\n",
      "RangeIndex: 2341681 entries, 0 to 2341680\n",
      "Data columns (total 23 columns):\n",
      "timestamp                   object\n",
      "event                       object\n",
      "person                      object\n",
      "url                         object\n",
      "sku                         float64\n",
      "model                       object\n",
      "condition                   object\n",
      "storage                     object\n",
      "color                       object\n",
      "skus                        object\n",
      "search_term                 object\n",
      "staticpage                  object\n",
      "campaign_source             object\n",
      "search_engine               object\n",
      "channel                     object\n",
      "new_vs_returning            object\n",
      "city                        object\n",
      "region                      object\n",
      "country                     object\n",
      "device_type                 object\n",
      "screen_resolution           object\n",
      "operating_system_version    object\n",
      "browser_version             object\n",
      "dtypes: float64(1), object(22)\n",
      "memory usage: 410.9+ MB\n"
     ]
    }
   ],
   "source": [
    "file.info()"
   ]
  },
  {
   "cell_type": "markdown",
   "metadata": {},
   "source": [
    "Separar condition y storage segun si vio o compro <br>\n",
    "Columnas de los modelos mas comprados y si la persona lo vio o no\n"
   ]
  },
  {
   "cell_type": "code",
   "execution_count": 6,
   "metadata": {},
   "outputs": [],
   "source": [
    "conditions = file['condition'].dropna().unique()\n",
    "storages = file['storage'].dropna().unique()\n",
    "columns = []\n",
    "\n",
    "for c in conditions:\n",
    "    columns.append(c+'_compro')\n",
    "    columns.append(c+'_vio')\n",
    "for s in storages:\n",
    "    columns.append(s+'_compro')\n",
    "    columns.append(s+'_vio')\n",
    "    \n",
    "def viocompro(x):\n",
    "    a = []\n",
    "    df_c = x.loc[x.event=='conversion',['condition','storage']]\n",
    "    df_v = x.loc[x.event=='viewed product',['condition','storage']]\n",
    "    for c in conditions:\n",
    "        a.append(c in list(df_c['condition']))\n",
    "        a.append(c in list(df_v['condition']))\n",
    "    for s in storages:\n",
    "        a.append(s in list(df_c['storage']))\n",
    "        a.append(s in list(df_v['storage']))\n",
    "    return pd.Series(a)\n",
    "viocompro = file.groupby('person').apply(viocompro)\n",
    "viocompro.columns = columns\n"
   ]
  },
  {
   "cell_type": "code",
   "execution_count": 22,
   "metadata": {},
   "outputs": [],
   "source": [
    "compras = file.loc[file.event=='conversion','model']\n",
    "mascomprados = list(compras.value_counts().head(7).index)\n",
    "def violosmascomprados (x):\n",
    "    a = []\n",
    "    b = x.loc[x.event=='viewed product','model'].values\n",
    "    for c in mascomprados:\n",
    "        a.append(c in b)\n",
    "    return pd.Series(a)\n",
    "mascomprados = file.groupby('person').apply(violosmascomprados)"
   ]
  },
  {
   "cell_type": "code",
   "execution_count": 23,
   "metadata": {},
   "outputs": [],
   "source": [
    "mascomprados.columns = list(compras.value_counts().head(7).index)"
   ]
  },
  {
   "cell_type": "code",
   "execution_count": 24,
   "metadata": {},
   "outputs": [
    {
     "data": {
      "text/html": [
       "<div>\n",
       "<style scoped>\n",
       "    .dataframe tbody tr th:only-of-type {\n",
       "        vertical-align: middle;\n",
       "    }\n",
       "\n",
       "    .dataframe tbody tr th {\n",
       "        vertical-align: top;\n",
       "    }\n",
       "\n",
       "    .dataframe thead th {\n",
       "        text-align: right;\n",
       "    }\n",
       "</style>\n",
       "<table border=\"1\" class=\"dataframe\">\n",
       "  <thead>\n",
       "    <tr style=\"text-align: right;\">\n",
       "      <th></th>\n",
       "      <th>Samsung Galaxy J5</th>\n",
       "      <th>iPhone 5s</th>\n",
       "      <th>iPhone 6</th>\n",
       "      <th>iPhone 6S</th>\n",
       "      <th>Motorola Moto G2 3G Dual</th>\n",
       "      <th>Samsung Galaxy J7 Prime</th>\n",
       "      <th>Motorola Moto G4 Plus</th>\n",
       "    </tr>\n",
       "  </thead>\n",
       "  <tbody>\n",
       "    <tr>\n",
       "      <th>count</th>\n",
       "      <td>38829</td>\n",
       "      <td>38829</td>\n",
       "      <td>38829</td>\n",
       "      <td>38829</td>\n",
       "      <td>38829</td>\n",
       "      <td>38829</td>\n",
       "      <td>38829</td>\n",
       "    </tr>\n",
       "    <tr>\n",
       "      <th>unique</th>\n",
       "      <td>2</td>\n",
       "      <td>2</td>\n",
       "      <td>2</td>\n",
       "      <td>2</td>\n",
       "      <td>2</td>\n",
       "      <td>2</td>\n",
       "      <td>2</td>\n",
       "    </tr>\n",
       "    <tr>\n",
       "      <th>top</th>\n",
       "      <td>False</td>\n",
       "      <td>False</td>\n",
       "      <td>False</td>\n",
       "      <td>False</td>\n",
       "      <td>False</td>\n",
       "      <td>False</td>\n",
       "      <td>False</td>\n",
       "    </tr>\n",
       "    <tr>\n",
       "      <th>freq</th>\n",
       "      <td>33861</td>\n",
       "      <td>29520</td>\n",
       "      <td>28721</td>\n",
       "      <td>30244</td>\n",
       "      <td>36728</td>\n",
       "      <td>34879</td>\n",
       "      <td>36433</td>\n",
       "    </tr>\n",
       "  </tbody>\n",
       "</table>\n",
       "</div>"
      ],
      "text/plain": [
       "       Samsung Galaxy J5 iPhone 5s iPhone 6 iPhone 6S  \\\n",
       "count              38829     38829    38829     38829   \n",
       "unique                 2         2        2         2   \n",
       "top                False     False    False     False   \n",
       "freq               33861     29520    28721     30244   \n",
       "\n",
       "       Motorola Moto G2 3G Dual Samsung Galaxy J7 Prime Motorola Moto G4 Plus  \n",
       "count                     38829                   38829                 38829  \n",
       "unique                        2                       2                     2  \n",
       "top                       False                   False                 False  \n",
       "freq                      36728                   34879                 36433  "
      ]
     },
     "execution_count": 24,
     "metadata": {},
     "output_type": "execute_result"
    }
   ],
   "source": [
    "mascomprados.describe()"
   ]
  },
  {
   "cell_type": "markdown",
   "metadata": {},
   "source": [
    "## Exporto el nuevo archivo de features"
   ]
  },
  {
   "cell_type": "code",
   "execution_count": 29,
   "metadata": {},
   "outputs": [],
   "source": [
    "features_1 = pd.read_csv('features_05.csv')"
   ]
  },
  {
   "cell_type": "code",
   "execution_count": 33,
   "metadata": {},
   "outputs": [],
   "source": [
    "features_2 = pd.read_csv('features_test.csv')"
   ]
  },
  {
   "cell_type": "code",
   "execution_count": 46,
   "metadata": {},
   "outputs": [],
   "source": [
    "repeated = ['busco_productos', 'clickeo_ad', 'hizo_checkout', 'entro_desde_motor',\n",
    "       'hizo_conversion', 'filtro_busquedas', 'busco_marca', 'visito_sitio',\n",
    "       'hizo_lead','primer_visita','ultima_visita','entro_direct','uso_computer']"
   ]
  },
  {
   "cell_type": "code",
   "execution_count": 53,
   "metadata": {},
   "outputs": [],
   "source": [
    "features_06 = features_1.set_index('person').drop(repeated,axis=1).join(features_2.set_index('person'),lsuffix='_1')"
   ]
  },
  {
   "cell_type": "code",
   "execution_count": 54,
   "metadata": {},
   "outputs": [],
   "source": [
    "features_06 = features_new.drop(['Unknown','Unknown.1'],axis=1)"
   ]
  },
  {
   "cell_type": "code",
   "execution_count": 56,
   "metadata": {},
   "outputs": [],
   "source": [
    "features_07 = features_new.join(mascomprados).join(viocompro).drop(['Excelente', 'Muito Bom', 'Bom', 'Bom - Sem Touch ID', 'Novo',\n",
    "       '32GB', '64GB', '128GB', '16GB', '8GB', '256GB', '4GB', '512MB'],axis=1)"
   ]
  },
  {
   "cell_type": "code",
   "execution_count": 59,
   "metadata": {},
   "outputs": [],
   "source": [
    "features_07.to_csv('features_07.csv')"
   ]
  },
  {
   "cell_type": "code",
   "execution_count": null,
   "metadata": {},
   "outputs": [],
   "source": []
  }
 ],
 "metadata": {
  "kernelspec": {
   "display_name": "Python 3",
   "language": "python",
   "name": "python3"
  },
  "language_info": {
   "codemirror_mode": {
    "name": "ipython",
    "version": 3
   },
   "file_extension": ".py",
   "mimetype": "text/x-python",
   "name": "python",
   "nbconvert_exporter": "python",
   "pygments_lexer": "ipython3",
   "version": "3.6.5"
  }
 },
 "nbformat": 4,
 "nbformat_minor": 2
}
