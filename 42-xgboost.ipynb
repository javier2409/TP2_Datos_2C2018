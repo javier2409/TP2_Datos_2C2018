{
 "cells": [
  {
   "cell_type": "code",
   "execution_count": 1,
   "metadata": {},
   "outputs": [],
   "source": [
    "import xgboost as xgb\n",
    "import pandas as pd\n",
    "import numpy as np\n",
    "from sklearn.metrics import roc_auc_score\n",
    "from scipy.stats import uniform,randint\n",
    "from sklearn.model_selection import RandomizedSearchCV\n",
    "from sklearn.model_selection import StratifiedKFold"
   ]
  },
  {
   "cell_type": "code",
   "execution_count": 4,
   "metadata": {},
   "outputs": [],
   "source": [
    "from sklearn.model_selection import train_test_split\n",
    "import category_encoders"
   ]
  },
  {
   "cell_type": "code",
   "execution_count": 7,
   "metadata": {},
   "outputs": [],
   "source": [
    "features = pd.read_csv('features_14_reducido.csv')"
   ]
  },
  {
   "cell_type": "code",
   "execution_count": 8,
   "metadata": {},
   "outputs": [
    {
     "name": "stdout",
     "output_type": "stream",
     "text": [
      "<class 'pandas.core.frame.DataFrame'>\n",
      "RangeIndex: 38829 entries, 0 to 38828\n",
      "Data columns (total 53 columns):\n",
      "person                                   38829 non-null object\n",
      "mayor_evento                             38829 non-null object\n",
      "dispos                                   38829 non-null object\n",
      "primer_visita                            38829 non-null object\n",
      "ultima_visita                            38829 non-null object\n",
      "cant_eventos                             38829 non-null int64\n",
      "permanencia                              38829 non-null int64\n",
      "hace_cuanto_visito                       38829 non-null int64\n",
      "eventos_por_dia                          38829 non-null float64\n",
      "channel                                  38829 non-null object\n",
      "region                                   38829 non-null object\n",
      "personas_mismo_prod_visto                38829 non-null int64\n",
      "personas_mismo_mayor_evento              38829 non-null int64\n",
      "personas_mismo_disp                      38829 non-null int64\n",
      "personas_mismo_region                    38829 non-null int64\n",
      "personas_mismo_channel                   38829 non-null int64\n",
      "primer_evento                            38829 non-null object\n",
      "modelos_distintos                        38829 non-null int64\n",
      "tamanio_pantalla                         38829 non-null int64\n",
      "viewed product                           38829 non-null int64\n",
      "searched products                        38829 non-null int64\n",
      "ad campaign hit                          38829 non-null int64\n",
      "staticpage                               38829 non-null int64\n",
      "checkout                                 38829 non-null int64\n",
      "search engine hit                        38829 non-null int64\n",
      "conversion                               38829 non-null int64\n",
      "generic listing                          38829 non-null int64\n",
      "brand listing                            38829 non-null int64\n",
      "visited site                             38829 non-null int64\n",
      "lead                                     38829 non-null int64\n",
      "black_friday                             38829 non-null int64\n",
      "vio_galaxy_J5                            38829 non-null bool\n",
      "vio_iphone5s                             38829 non-null bool\n",
      "vio_iphone6                              38829 non-null bool\n",
      "vio_iphone6s                             38829 non-null bool\n",
      "vio_motog2_3gdual                        38829 non-null bool\n",
      "vio_galaxy_J7Prime                       38829 non-null bool\n",
      "vio_motog4plus                           38829 non-null bool\n",
      "Excelente_compro                         38829 non-null bool\n",
      "region_sin_unknown                       38829 non-null object\n",
      "pais_sin_unknown                         38829 non-null object\n",
      "precio_del_cel_mas_visto                 37130 non-null float64\n",
      "promedio_precio_celulares_vistos         37130 non-null float64\n",
      "promedio_precio_celulares_comprados      38829 non-null float64\n",
      "precio_mas_caro_que_vio                  37130 non-null float64\n",
      "precio_mas_barato_que_vio                37130 non-null float64\n",
      "precio_visto_promedio_region             38828 non-null float64\n",
      "precio_compras_promedio_region           38696 non-null float64\n",
      "diferencia_con_la_region                 37130 non-null float64\n",
      "marca_celular_mas_visto                  38829 non-null object\n",
      "precio_prom_de_marca_de_cel_mas_visto    37130 non-null float64\n",
      "primer_visita_seconds                    38829 non-null int64\n",
      "ultima_visita_seconds                    38829 non-null int64\n",
      "dtypes: bool(8), float64(10), int64(24), object(11)\n",
      "memory usage: 13.6+ MB\n"
     ]
    }
   ],
   "source": [
    "features.info()"
   ]
  },
  {
   "cell_type": "code",
   "execution_count": 9,
   "metadata": {},
   "outputs": [],
   "source": [
    "kaggle = pd.read_csv('trocafone_kaggle_test.csv')\n",
    "labels = pd.read_csv('labels_training_set.csv')"
   ]
  },
  {
   "cell_type": "code",
   "execution_count": 10,
   "metadata": {},
   "outputs": [],
   "source": [
    "training = labels.set_index('person').join(features.set_index('person'))\n",
    "train_labels = training['label']\n",
    "train_data = training.drop('label',axis=1)"
   ]
  },
  {
   "cell_type": "code",
   "execution_count": 11,
   "metadata": {},
   "outputs": [],
   "source": [
    "predict_data = kaggle.set_index('person').join(features.set_index('person'))"
   ]
  },
  {
   "cell_type": "code",
   "execution_count": 12,
   "metadata": {},
   "outputs": [],
   "source": [
    "encoder = category_encoders.TargetEncoder()\n",
    "train_data_enc = encoder.fit_transform(np.array(train_data),np.array(train_labels))\n",
    "predict_data_enc = encoder.transform(np.array(predict_data))"
   ]
  },
  {
   "cell_type": "markdown",
   "metadata": {},
   "source": [
    "## Random Search"
   ]
  },
  {
   "cell_type": "code",
   "execution_count": 13,
   "metadata": {},
   "outputs": [
    {
     "name": "stderr",
     "output_type": "stream",
     "text": [
      "C:\\Users\\Usuario\\Anaconda3\\lib\\site-packages\\sklearn\\model_selection\\_split.py:2069: FutureWarning: From version 0.21, test_size will always complement train_size unless both are specified.\n",
      "  FutureWarning)\n"
     ]
    }
   ],
   "source": [
    "xtrain,xtest,ytrain,ytest = train_test_split(train_data_enc,np.array(train_labels),train_size=0.75,stratify=np.array(train_labels))"
   ]
  },
  {
   "cell_type": "code",
   "execution_count": 14,
   "metadata": {},
   "outputs": [],
   "source": [
    "params={\n",
    "    'n_estimators':randint(150,500),\n",
    "    'learning_rate':uniform(0.01,0.3),\n",
    "    'subsample':uniform(0.3,0.7),\n",
    "    'min_child_weight':randint(2,20),\n",
    "    'max_depth':randint(3,15),\n",
    "    'gamma':randint(0,10),\n",
    "    'colsample_bytree':uniform(0.4,0.6),\n",
    "    'subsample':uniform(0,1),\n",
    "    'max_delta_step':randint(0,5),\n",
    "    'scale_pos_weight':uniform(0.1,2),\n",
    "    \n",
    "}\n",
    "grid = RandomizedSearchCV(xgb.XGBClassifier(n_jobs=-1,booster='dart'),\n",
    "                          param_distributions=params,\n",
    "                          scoring='roc_auc',\n",
    "                          cv=2,\n",
    "                          verbose=1,\n",
    "                          n_iter=25)"
   ]
  },
  {
   "cell_type": "code",
   "execution_count": 15,
   "metadata": {},
   "outputs": [
    {
     "name": "stdout",
     "output_type": "stream",
     "text": [
      "Fitting 2 folds for each of 25 candidates, totalling 50 fits\n"
     ]
    },
    {
     "name": "stderr",
     "output_type": "stream",
     "text": [
      "[Parallel(n_jobs=1)]: Using backend SequentialBackend with 1 concurrent workers.\n",
      "[Parallel(n_jobs=1)]: Done  50 out of  50 | elapsed:  3.5min finished\n"
     ]
    },
    {
     "data": {
      "text/plain": [
       "RandomizedSearchCV(cv=2, error_score='raise-deprecating',\n",
       "          estimator=XGBClassifier(base_score=0.5, booster='dart', colsample_bylevel=1,\n",
       "       colsample_bytree=1, gamma=0, learning_rate=0.1, max_delta_step=0,\n",
       "       max_depth=3, min_child_weight=1, missing=None, n_estimators=100,\n",
       "       n_jobs=-1, nthread=None, objective='binary:logistic',\n",
       "       random_state=0, reg_alpha=0, reg_lambda=1, scale_pos_weight=1,\n",
       "       seed=None, silent=True, subsample=1),\n",
       "          fit_params=None, iid='warn', n_iter=25, n_jobs=None,\n",
       "          param_distributions={'n_estimators': <scipy.stats._distn_infrastructure.rv_frozen object at 0x000001B5C5DBDCF8>, 'learning_rate': <scipy.stats._distn_infrastructure.rv_frozen object at 0x000001B5C5DBDEB8>, 'subsample': <scipy.stats._distn_infrastructure.rv_frozen object at 0x000001B5C8AA5E48>, 'min_...C0>, 'scale_pos_weight': <scipy.stats._distn_infrastructure.rv_frozen object at 0x000001B5C8AA5F28>},\n",
       "          pre_dispatch='2*n_jobs', random_state=None, refit=True,\n",
       "          return_train_score='warn', scoring='roc_auc', verbose=1)"
      ]
     },
     "execution_count": 15,
     "metadata": {},
     "output_type": "execute_result"
    }
   ],
   "source": [
    "grid.fit(xtrain,ytrain)"
   ]
  },
  {
   "cell_type": "code",
   "execution_count": 16,
   "metadata": {},
   "outputs": [
    {
     "data": {
      "text/plain": [
       "0.8700112025717207"
      ]
     },
     "execution_count": 16,
     "metadata": {},
     "output_type": "execute_result"
    }
   ],
   "source": [
    "grid.score(xtest,ytest)"
   ]
  },
  {
   "cell_type": "code",
   "execution_count": 17,
   "metadata": {},
   "outputs": [
    {
     "data": {
      "text/plain": [
       "{'colsample_bytree': 0.4855223331690547,\n",
       " 'gamma': 9,\n",
       " 'learning_rate': 0.08077390687637791,\n",
       " 'max_delta_step': 0,\n",
       " 'max_depth': 3,\n",
       " 'min_child_weight': 7,\n",
       " 'n_estimators': 295,\n",
       " 'scale_pos_weight': 1.1084436167834333,\n",
       " 'subsample': 0.8286364800042514}"
      ]
     },
     "execution_count": 17,
     "metadata": {},
     "output_type": "execute_result"
    }
   ],
   "source": [
    "grid.best_params_"
   ]
  },
  {
   "cell_type": "markdown",
   "metadata": {},
   "source": [
    "## Pruebo con otro split"
   ]
  },
  {
   "cell_type": "code",
   "execution_count": 18,
   "metadata": {},
   "outputs": [],
   "source": [
    "xg_classifier = grid.best_estimator_"
   ]
  },
  {
   "cell_type": "code",
   "execution_count": 19,
   "metadata": {},
   "outputs": [
    {
     "name": "stderr",
     "output_type": "stream",
     "text": [
      "C:\\Users\\Usuario\\Anaconda3\\lib\\site-packages\\sklearn\\model_selection\\_split.py:2069: FutureWarning: From version 0.21, test_size will always complement train_size unless both are specified.\n",
      "  FutureWarning)\n"
     ]
    }
   ],
   "source": [
    "xtr,xte,ytr,yte = train_test_split(train_data_enc,np.array(train_labels),train_size=0.5,stratify=np.array(train_labels))"
   ]
  },
  {
   "cell_type": "code",
   "execution_count": 20,
   "metadata": {},
   "outputs": [
    {
     "data": {
      "text/plain": [
       "XGBClassifier(base_score=0.5, booster='dart', colsample_bylevel=1,\n",
       "       colsample_bytree=0.4855223331690547, gamma=9,\n",
       "       learning_rate=0.08077390687637791, max_delta_step=0, max_depth=3,\n",
       "       min_child_weight=7, missing=None, n_estimators=295, n_jobs=-1,\n",
       "       nthread=None, objective='binary:logistic', random_state=0,\n",
       "       reg_alpha=0, reg_lambda=1, scale_pos_weight=1.1084436167834333,\n",
       "       seed=None, silent=True, subsample=0.8286364800042514)"
      ]
     },
     "execution_count": 20,
     "metadata": {},
     "output_type": "execute_result"
    }
   ],
   "source": [
    "xg_classifier.fit(xtr,ytr)"
   ]
  },
  {
   "cell_type": "code",
   "execution_count": 21,
   "metadata": {},
   "outputs": [
    {
     "data": {
      "text/plain": [
       "0.9028607298403792"
      ]
     },
     "execution_count": 21,
     "metadata": {},
     "output_type": "execute_result"
    }
   ],
   "source": [
    "roc_auc_score(ytr,xg_classifier.predict_proba(xtr)[:,1])"
   ]
  },
  {
   "cell_type": "code",
   "execution_count": 22,
   "metadata": {
    "scrolled": true
   },
   "outputs": [
    {
     "data": {
      "text/plain": [
       "0.8669830371119913"
      ]
     },
     "execution_count": 22,
     "metadata": {},
     "output_type": "execute_result"
    }
   ],
   "source": [
    "roc_auc_score(yte,xg_classifier.predict_proba(xte)[:,1])"
   ]
  },
  {
   "cell_type": "markdown",
   "metadata": {},
   "source": [
    "## Hay overfitting, necesito reducirlo"
   ]
  },
  {
   "cell_type": "code",
   "execution_count": 30,
   "metadata": {},
   "outputs": [],
   "source": [
    "params_ = {'colsample_bytree': 0.6,\n",
    " 'gamma': 7,\n",
    " 'learning_rate': 0.02,\n",
    " 'max_delta_step': 1,\n",
    " 'max_depth': 3,\n",
    " 'min_child_weight': 6,\n",
    " 'n_estimators': 246,\n",
    " 'scale_pos_weight': 1.9522454207022248,\n",
    " 'subsample': 0.4}\n",
    "xgb_classifier = xgb.XGBClassifier(**params_)"
   ]
  },
  {
   "cell_type": "code",
   "execution_count": 31,
   "metadata": {},
   "outputs": [],
   "source": [
    "skf = StratifiedKFold(n_splits=10,shuffle=True)"
   ]
  },
  {
   "cell_type": "code",
   "execution_count": 32,
   "metadata": {},
   "outputs": [
    {
     "name": "stdout",
     "output_type": "stream",
     "text": [
      "Train score: 0.8854678801397995\n",
      "Test score: 0.8985844880251449\n",
      " \n",
      "Train score: 0.8902928300112489\n",
      "Test score: 0.8465016158307141\n",
      " \n",
      "Train score: 0.8879034374448996\n",
      "Test score: 0.8691287794944441\n",
      " \n",
      "Train score: 0.8885609176360919\n",
      "Test score: 0.8574970118199123\n",
      " \n",
      "Train score: 0.889172010997958\n",
      "Test score: 0.8515342110799827\n",
      " \n",
      "Train score: 0.8866208709992344\n",
      "Test score: 0.8862712746520204\n",
      " \n",
      "Train score: 0.8891007350240843\n",
      "Test score: 0.8465567453242827\n",
      " \n",
      "Train score: 0.8858697056063097\n",
      "Test score: 0.9054502973191447\n",
      " \n",
      "Train score: 0.8867440492762312\n",
      "Test score: 0.8760062896563943\n",
      " \n",
      "Train score: 0.8909252427790878\n",
      "Test score: 0.8357131783804136\n",
      " \n"
     ]
    }
   ],
   "source": [
    "for tr,te in skf.split(train_data_enc,np.array(train_labels)):\n",
    "    xtr = train_data_enc.iloc[tr,:]\n",
    "    xte = train_data_enc.iloc[te,:]\n",
    "    ytr = train_labels[tr]\n",
    "    yte = train_labels[te]\n",
    "    xgb_classifier.fit(xtr,ytr)\n",
    "    print ('Train score: '+ str(roc_auc_score(ytr,xgb_classifier.predict_proba(xtr)[:,1])))\n",
    "    print ('Test score: '+ str(roc_auc_score(yte,xgb_classifier.predict_proba(xte)[:,1])))\n",
    "    print (' ')"
   ]
  },
  {
   "cell_type": "code",
   "execution_count": 33,
   "metadata": {},
   "outputs": [
    {
     "data": {
      "text/plain": [
       "XGBClassifier(base_score=0.5, booster='gbtree', colsample_bylevel=1,\n",
       "       colsample_bytree=0.6, gamma=7, learning_rate=0.02, max_delta_step=1,\n",
       "       max_depth=3, min_child_weight=6, missing=None, n_estimators=246,\n",
       "       n_jobs=1, nthread=None, objective='binary:logistic', random_state=0,\n",
       "       reg_alpha=0, reg_lambda=1, scale_pos_weight=1.9522454207022248,\n",
       "       seed=None, silent=True, subsample=0.4)"
      ]
     },
     "execution_count": 33,
     "metadata": {},
     "output_type": "execute_result"
    }
   ],
   "source": [
    "xgb_classifier.fit(train_data_enc,train_labels)"
   ]
  },
  {
   "cell_type": "code",
   "execution_count": 34,
   "metadata": {},
   "outputs": [
    {
     "data": {
      "text/plain": [
       "0.8872870782250191"
      ]
     },
     "execution_count": 34,
     "metadata": {},
     "output_type": "execute_result"
    }
   ],
   "source": [
    "roc_auc_score(train_labels,xgb_classifier.predict_proba(train_data_enc)[:,1])"
   ]
  },
  {
   "cell_type": "markdown",
   "metadata": {},
   "source": [
    "## Submit"
   ]
  },
  {
   "cell_type": "code",
   "execution_count": 35,
   "metadata": {},
   "outputs": [
    {
     "data": {
      "text/plain": [
       "XGBClassifier(base_score=0.5, booster='gbtree', colsample_bylevel=1,\n",
       "       colsample_bytree=0.6, gamma=7, learning_rate=0.02, max_delta_step=1,\n",
       "       max_depth=3, min_child_weight=6, missing=None, n_estimators=246,\n",
       "       n_jobs=1, nthread=None, objective='binary:logistic', random_state=0,\n",
       "       reg_alpha=0, reg_lambda=1, scale_pos_weight=1.9522454207022248,\n",
       "       seed=None, silent=True, subsample=0.4)"
      ]
     },
     "execution_count": 35,
     "metadata": {},
     "output_type": "execute_result"
    }
   ],
   "source": [
    "xgb_classifier.fit(train_data_enc,train_labels)"
   ]
  },
  {
   "cell_type": "code",
   "execution_count": 36,
   "metadata": {},
   "outputs": [],
   "source": [
    "proba_loco = xgb_classifier.predict_proba(predict_data_enc)[:,1]"
   ]
  },
  {
   "cell_type": "code",
   "execution_count": 37,
   "metadata": {},
   "outputs": [],
   "source": [
    "submit = kaggle.set_index('person')"
   ]
  },
  {
   "cell_type": "code",
   "execution_count": 38,
   "metadata": {},
   "outputs": [],
   "source": [
    "submit['label'] = proba_loco"
   ]
  },
  {
   "cell_type": "code",
   "execution_count": 39,
   "metadata": {},
   "outputs": [],
   "source": [
    "submit.to_csv('submitXG.csv')"
   ]
  },
  {
   "cell_type": "code",
   "execution_count": 40,
   "metadata": {},
   "outputs": [
    {
     "data": {
      "text/plain": [
       "0.08979232"
      ]
     },
     "execution_count": 40,
     "metadata": {},
     "output_type": "execute_result"
    }
   ],
   "source": [
    "proba_loco.mean()"
   ]
  },
  {
   "cell_type": "code",
   "execution_count": null,
   "metadata": {},
   "outputs": [],
   "source": []
  }
 ],
 "metadata": {
  "kernelspec": {
   "display_name": "Python 3",
   "language": "python",
   "name": "python3"
  },
  "language_info": {
   "codemirror_mode": {
    "name": "ipython",
    "version": 3
   },
   "file_extension": ".py",
   "mimetype": "text/x-python",
   "name": "python",
   "nbconvert_exporter": "python",
   "pygments_lexer": "ipython3",
   "version": "3.7.0"
  }
 },
 "nbformat": 4,
 "nbformat_minor": 2
}
