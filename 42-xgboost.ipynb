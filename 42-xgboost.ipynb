{
 "cells": [
  {
   "cell_type": "code",
   "execution_count": 123,
   "metadata": {},
   "outputs": [],
   "source": [
    "import xgboost as xgb\n",
    "import pandas as pd\n",
    "import numpy as np\n",
    "from sklearn.metrics import roc_auc_score\n",
    "from scipy.stats import uniform,randint\n",
    "from sklearn.model_selection import RandomizedSearchCV\n",
    "from sklearn.model_selection import StratifiedKFold"
   ]
  },
  {
   "cell_type": "code",
   "execution_count": 3,
   "metadata": {},
   "outputs": [],
   "source": [
    "from sklearn.model_selection import train_test_split\n",
    "import category_encoders"
   ]
  },
  {
   "cell_type": "code",
   "execution_count": 4,
   "metadata": {},
   "outputs": [],
   "source": [
    "features = pd.read_csv('features_13.csv')"
   ]
  },
  {
   "cell_type": "code",
   "execution_count": 5,
   "metadata": {},
   "outputs": [
    {
     "name": "stdout",
     "output_type": "stream",
     "text": [
      "<class 'pandas.core.frame.DataFrame'>\n",
      "RangeIndex: 38829 entries, 0 to 38828\n",
      "Columns: 119 entries, person to ultima_visita_seconds\n",
      "dtypes: bool(57), float64(10), int64(38), object(14)\n",
      "memory usage: 20.5+ MB\n"
     ]
    }
   ],
   "source": [
    "features.info()"
   ]
  },
  {
   "cell_type": "code",
   "execution_count": 6,
   "metadata": {},
   "outputs": [],
   "source": [
    "kaggle = pd.read_csv('trocafone_kaggle_test.csv')\n",
    "labels = pd.read_csv('labels_training_set.csv')"
   ]
  },
  {
   "cell_type": "code",
   "execution_count": 7,
   "metadata": {},
   "outputs": [],
   "source": [
    "training = labels.set_index('person').join(features.set_index('person'))\n",
    "train_labels = training['label']\n",
    "train_data = training.drop('label',axis=1)"
   ]
  },
  {
   "cell_type": "code",
   "execution_count": 8,
   "metadata": {},
   "outputs": [],
   "source": [
    "predict_data = kaggle.set_index('person').join(features.set_index('person'))"
   ]
  },
  {
   "cell_type": "code",
   "execution_count": 11,
   "metadata": {},
   "outputs": [],
   "source": [
    "encoder = category_encoders.TargetEncoder()\n",
    "train_data_enc = encoder.fit_transform(np.array(train_data),np.array(train_labels))\n",
    "predict_data_enc = encoder.transform(np.array(predict_data))"
   ]
  },
  {
   "cell_type": "markdown",
   "metadata": {},
   "source": [
    "## Random Search"
   ]
  },
  {
   "cell_type": "code",
   "execution_count": 12,
   "metadata": {},
   "outputs": [
    {
     "name": "stderr",
     "output_type": "stream",
     "text": [
      "C:\\Users\\javif\\Anaconda3\\lib\\site-packages\\sklearn\\model_selection\\_split.py:2026: FutureWarning: From version 0.21, test_size will always complement train_size unless both are specified.\n",
      "  FutureWarning)\n"
     ]
    }
   ],
   "source": [
    "xtrain,xtest,ytrain,ytest = train_test_split(train_data_enc,np.array(train_labels),train_size=0.75,stratify=np.array(train_labels))"
   ]
  },
  {
   "cell_type": "code",
   "execution_count": 42,
   "metadata": {},
   "outputs": [],
   "source": [
    "params={\n",
    "    'n_estimators':randint(150,500),\n",
    "    'learning_rate':uniform(0.01,0.3),\n",
    "    'subsample':uniform(0.3,0.7),\n",
    "    'min_child_weight':randint(2,20),\n",
    "    'max_depth':randint(3,15),\n",
    "    'gamma':randint(0,10),\n",
    "    'colsample_bytree':uniform(0.4,0.6),\n",
    "    'subsample':uniform(0,1),\n",
    "    'max_delta_step':randint(0,5),\n",
    "    'scale_pos_weight':uniform(0.1,2),\n",
    "    \n",
    "}\n",
    "grid = RandomizedSearchCV(xgb.XGBClassifier(n_jobs=-1,booster='dart'),\n",
    "                          param_distributions=params,\n",
    "                          scoring='roc_auc',\n",
    "                          cv=2,\n",
    "                          verbose=1,\n",
    "                          n_iter=25)"
   ]
  },
  {
   "cell_type": "code",
   "execution_count": 43,
   "metadata": {},
   "outputs": [
    {
     "name": "stdout",
     "output_type": "stream",
     "text": [
      "Fitting 2 folds for each of 25 candidates, totalling 50 fits\n"
     ]
    },
    {
     "name": "stderr",
     "output_type": "stream",
     "text": [
      "[Parallel(n_jobs=1)]: Done  50 out of  50 | elapsed:  7.2min finished\n"
     ]
    },
    {
     "data": {
      "text/plain": [
       "RandomizedSearchCV(cv=2, error_score='raise',\n",
       "          estimator=XGBClassifier(base_score=0.5, booster='dart', colsample_bylevel=1,\n",
       "       colsample_bytree=1, gamma=0, learning_rate=0.1, max_delta_step=0,\n",
       "       max_depth=3, min_child_weight=1, missing=None, n_estimators=100,\n",
       "       n_jobs=-1, nthread=None, objective='binary:logistic',\n",
       "       random_state=0, reg_alpha=0, reg_lambda=1, scale_pos_weight=1,\n",
       "       seed=None, silent=True, subsample=1),\n",
       "          fit_params=None, iid=True, n_iter=25, n_jobs=1,\n",
       "          param_distributions={'n_estimators': <scipy.stats._distn_infrastructure.rv_frozen object at 0x00000233E1C8E588>, 'learning_rate': <scipy.stats._distn_infrastructure.rv_frozen object at 0x00000233E1C8E6D8>, 'subsample': <scipy.stats._distn_infrastructure.rv_frozen object at 0x00000233E1C908D0>, 'min_...38>, 'scale_pos_weight': <scipy.stats._distn_infrastructure.rv_frozen object at 0x00000233E1C909E8>},\n",
       "          pre_dispatch='2*n_jobs', random_state=None, refit=True,\n",
       "          return_train_score='warn', scoring='roc_auc', verbose=1)"
      ]
     },
     "execution_count": 43,
     "metadata": {},
     "output_type": "execute_result"
    }
   ],
   "source": [
    "grid.fit(xtrain,ytrain)"
   ]
  },
  {
   "cell_type": "code",
   "execution_count": 44,
   "metadata": {},
   "outputs": [
    {
     "data": {
      "text/plain": [
       "0.8703804889280511"
      ]
     },
     "execution_count": 44,
     "metadata": {},
     "output_type": "execute_result"
    }
   ],
   "source": [
    "grid.score(xtest,ytest)"
   ]
  },
  {
   "cell_type": "code",
   "execution_count": 46,
   "metadata": {},
   "outputs": [
    {
     "data": {
      "text/plain": [
       "{'colsample_bytree': 0.6970524442540915,\n",
       " 'gamma': 9,\n",
       " 'learning_rate': 0.15247016289317203,\n",
       " 'max_delta_step': 1,\n",
       " 'max_depth': 5,\n",
       " 'min_child_weight': 3,\n",
       " 'n_estimators': 246,\n",
       " 'scale_pos_weight': 1.9522454207022248,\n",
       " 'subsample': 0.9182821643357728}"
      ]
     },
     "execution_count": 46,
     "metadata": {},
     "output_type": "execute_result"
    }
   ],
   "source": [
    "grid.best_params_"
   ]
  },
  {
   "cell_type": "markdown",
   "metadata": {},
   "source": [
    "## Pruebo con otro split"
   ]
  },
  {
   "cell_type": "code",
   "execution_count": 73,
   "metadata": {},
   "outputs": [],
   "source": [
    "xg_classifier = grid.best_estimator_"
   ]
  },
  {
   "cell_type": "code",
   "execution_count": 74,
   "metadata": {},
   "outputs": [
    {
     "name": "stderr",
     "output_type": "stream",
     "text": [
      "C:\\Users\\javif\\Anaconda3\\lib\\site-packages\\sklearn\\model_selection\\_split.py:2026: FutureWarning: From version 0.21, test_size will always complement train_size unless both are specified.\n",
      "  FutureWarning)\n"
     ]
    }
   ],
   "source": [
    "xtr,xte,ytr,yte = train_test_split(train_data_enc,np.array(train_labels),train_size=0.5,stratify=np.array(train_labels))"
   ]
  },
  {
   "cell_type": "code",
   "execution_count": 75,
   "metadata": {},
   "outputs": [
    {
     "data": {
      "text/plain": [
       "XGBClassifier(base_score=0.5, booster='dart', colsample_bylevel=1,\n",
       "       colsample_bytree=0.6970524442540915, gamma=9,\n",
       "       learning_rate=0.15247016289317203, max_delta_step=1, max_depth=5,\n",
       "       min_child_weight=3, missing=None, n_estimators=246, n_jobs=-1,\n",
       "       nthread=None, objective='binary:logistic', random_state=0,\n",
       "       reg_alpha=0, reg_lambda=1, scale_pos_weight=1.9522454207022248,\n",
       "       seed=None, silent=True, subsample=0.9182821643357728)"
      ]
     },
     "execution_count": 75,
     "metadata": {},
     "output_type": "execute_result"
    }
   ],
   "source": [
    "xg_classifier.fit(xtr,ytr)"
   ]
  },
  {
   "cell_type": "code",
   "execution_count": 76,
   "metadata": {},
   "outputs": [
    {
     "data": {
      "text/plain": [
       "0.97894020144675"
      ]
     },
     "execution_count": 76,
     "metadata": {},
     "output_type": "execute_result"
    }
   ],
   "source": [
    "roc_auc_score(ytr,xg_classifier.predict_proba(xtr)[:,1])"
   ]
  },
  {
   "cell_type": "code",
   "execution_count": 77,
   "metadata": {
    "scrolled": true
   },
   "outputs": [
    {
     "data": {
      "text/plain": [
       "0.8622861925501459"
      ]
     },
     "execution_count": 77,
     "metadata": {},
     "output_type": "execute_result"
    }
   ],
   "source": [
    "roc_auc_score(yte,xg_classifier.predict_proba(xte)[:,1])"
   ]
  },
  {
   "cell_type": "markdown",
   "metadata": {},
   "source": [
    "## Hay overfitting, necesito reducirlo"
   ]
  },
  {
   "cell_type": "code",
   "execution_count": 153,
   "metadata": {},
   "outputs": [],
   "source": [
    "params_ = {'colsample_bytree': 0.6,\n",
    " 'gamma': 7,\n",
    " 'learning_rate': 0.02,\n",
    " 'max_delta_step': 1,\n",
    " 'max_depth': 3,\n",
    " 'min_child_weight': 6,\n",
    " 'n_estimators': 246,\n",
    " 'scale_pos_weight': 1.9522454207022248,\n",
    " 'subsample': 0.4}\n",
    "xgb_classifier = xgb.XGBClassifier(**params_)"
   ]
  },
  {
   "cell_type": "code",
   "execution_count": 154,
   "metadata": {},
   "outputs": [],
   "source": [
    "skf = StratifiedKFold(n_splits=10,shuffle=True)"
   ]
  },
  {
   "cell_type": "code",
   "execution_count": 155,
   "metadata": {},
   "outputs": [
    {
     "name": "stdout",
     "output_type": "stream",
     "text": [
      "Train score: 0.8943488345709993\n",
      "Test score: 0.8568108371331178\n",
      " \n",
      "Train score: 0.8918027689275428\n",
      "Test score: 0.8816846695294169\n",
      " \n",
      "Train score: 0.8915488116082279\n",
      "Test score: 0.8842024879366063\n",
      " \n",
      "Train score: 0.8938464897713153\n",
      "Test score: 0.8544147593961663\n",
      " \n",
      "Train score: 0.892086227937421\n",
      "Test score: 0.8709734572070825\n",
      " \n",
      "Train score: 0.8928788058329031\n",
      "Test score: 0.8451006012822926\n",
      " \n",
      "Train score: 0.890118758209892\n",
      "Test score: 0.8819139158647724\n",
      " \n",
      "Train score: 0.8910396738608248\n",
      "Test score: 0.8755688927768611\n",
      " \n",
      "Train score: 0.8906629294274919\n",
      "Test score: 0.8817865724694652\n",
      " \n",
      "Train score: 0.8909757099954885\n",
      "Test score: 0.877047183496296\n",
      " \n"
     ]
    }
   ],
   "source": [
    "for tr,te in skf.split(train_data_enc,np.array(train_labels)):\n",
    "    xtr = train_data_enc.iloc[tr,:]\n",
    "    xte = train_data_enc.iloc[te,:]\n",
    "    ytr = train_labels[tr]\n",
    "    yte = train_labels[te]\n",
    "    xgb_classifier.fit(xtr,ytr)\n",
    "    print ('Train score: '+ str(roc_auc_score(ytr,xgb_classifier.predict_proba(xtr)[:,1])))\n",
    "    print ('Test score: '+ str(roc_auc_score(yte,xgb_classifier.predict_proba(xte)[:,1])))\n",
    "    print (' ')"
   ]
  },
  {
   "cell_type": "code",
   "execution_count": 157,
   "metadata": {},
   "outputs": [
    {
     "data": {
      "text/plain": [
       "XGBClassifier(base_score=0.5, booster='gbtree', colsample_bylevel=1,\n",
       "       colsample_bytree=0.6, gamma=7, learning_rate=0.02, max_delta_step=1,\n",
       "       max_depth=3, min_child_weight=6, missing=None, n_estimators=246,\n",
       "       n_jobs=1, nthread=None, objective='binary:logistic', random_state=0,\n",
       "       reg_alpha=0, reg_lambda=1, scale_pos_weight=1.9522454207022248,\n",
       "       seed=None, silent=True, subsample=0.4)"
      ]
     },
     "execution_count": 157,
     "metadata": {},
     "output_type": "execute_result"
    }
   ],
   "source": [
    "xgb_classifier.fit(train_data_enc,train_labels)"
   ]
  },
  {
   "cell_type": "code",
   "execution_count": 158,
   "metadata": {},
   "outputs": [
    {
     "data": {
      "text/plain": [
       "0.8907591174692726"
      ]
     },
     "execution_count": 158,
     "metadata": {},
     "output_type": "execute_result"
    }
   ],
   "source": [
    "roc_auc_score(train_labels,xgb_classifier.predict_proba(train_data_enc)[:,1])"
   ]
  },
  {
   "cell_type": "markdown",
   "metadata": {},
   "source": [
    "## Submit"
   ]
  },
  {
   "cell_type": "code",
   "execution_count": 168,
   "metadata": {},
   "outputs": [
    {
     "data": {
      "text/plain": [
       "XGBClassifier(base_score=0.5, booster='gbtree', colsample_bylevel=1,\n",
       "       colsample_bytree=0.7476502755257962, gamma=1,\n",
       "       learning_rate=0.015344184565596445, max_delta_step=0, max_depth=11,\n",
       "       min_child_weight=11, missing=None, n_estimators=324, n_jobs=-1,\n",
       "       nthread=None, objective='binary:logistic', random_state=0,\n",
       "       reg_alpha=0, reg_lambda=1, scale_pos_weight=1, seed=None,\n",
       "       silent=True, subsample=0.7718583635196341)"
      ]
     },
     "execution_count": 168,
     "metadata": {},
     "output_type": "execute_result"
    }
   ],
   "source": [
    "xgb_classifier.fit(train_data_enc,train_labels)"
   ]
  },
  {
   "cell_type": "code",
   "execution_count": 169,
   "metadata": {},
   "outputs": [],
   "source": [
    "proba_loco = xgb_classifier.predict_proba(predict_data_enc)[:,1]"
   ]
  },
  {
   "cell_type": "code",
   "execution_count": 170,
   "metadata": {},
   "outputs": [],
   "source": [
    "submit = kaggle.set_index('person')"
   ]
  },
  {
   "cell_type": "code",
   "execution_count": 171,
   "metadata": {},
   "outputs": [],
   "source": [
    "submit['label'] = proba_loco"
   ]
  },
  {
   "cell_type": "code",
   "execution_count": 172,
   "metadata": {},
   "outputs": [],
   "source": [
    "submit.to_csv('submit.csv')"
   ]
  },
  {
   "cell_type": "code",
   "execution_count": 173,
   "metadata": {},
   "outputs": [
    {
     "data": {
      "text/plain": [
       "0.053208914"
      ]
     },
     "execution_count": 173,
     "metadata": {},
     "output_type": "execute_result"
    }
   ],
   "source": [
    "proba_loco.mean()"
   ]
  },
  {
   "cell_type": "code",
   "execution_count": null,
   "metadata": {},
   "outputs": [],
   "source": []
  }
 ],
 "metadata": {
  "kernelspec": {
   "display_name": "Python 3",
   "language": "python",
   "name": "python3"
  },
  "language_info": {
   "codemirror_mode": {
    "name": "ipython",
    "version": 3
   },
   "file_extension": ".py",
   "mimetype": "text/x-python",
   "name": "python",
   "nbconvert_exporter": "python",
   "pygments_lexer": "ipython3",
   "version": "3.6.5"
  }
 },
 "nbformat": 4,
 "nbformat_minor": 2
}
